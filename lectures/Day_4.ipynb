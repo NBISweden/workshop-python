{
 "cells": [
  {
   "cell_type": "code",
   "execution_count": 1,
   "metadata": {
    "slideshow": {
     "slide_type": "skip"
    }
   },
   "outputs": [],
   "source": [
    "from IPython.display import Image\n",
    "from IPython.display import clear_output\n",
    "from IPython.display import FileLink, FileLinks"
   ]
  },
  {
   "cell_type": "markdown",
   "metadata": {
    "cell_marker": "'''",
    "slideshow": {
     "slide_type": "slide"
    }
   },
   "source": [
    "## Introduction to\n",
    "\n",
    "![title](img/python-logo-master-flat.png)\n",
    "\n",
    "### with Application to Bioinformatics\n",
    "\n",
    "#### - Day 4"
   ]
  },
  {
   "cell_type": "markdown",
   "metadata": {
    "cell_marker": "'''",
    "slideshow": {
     "slide_type": "slide"
    }
   },
   "source": [
    "### TODAY\n",
    "\n",
    "- Keyword arguments\n",
    "- Loops with break and continue\n",
    "- \"Code structure\": comments and documentation\n",
    "- Importing modules: using libraries\n",
    "- Pandas - explore your data!\n"
   ]
  },
  {
   "cell_type": "markdown",
   "metadata": {
    "cell_marker": "'''",
    "slideshow": {
     "slide_type": "slide"
    }
   },
   "source": [
    "#### Review\n",
    "- In what ways does the type of an object matter? Explain the output of:"
   ]
  },
  {
   "cell_type": "code",
   "execution_count": 2,
   "metadata": {},
   "outputs": [
    {
     "name": "stdout",
     "output_type": "stream",
     "text": [
      "The price is a string!\n"
     ]
    }
   ],
   "source": [
    "row = 'sofa|2000|buy|Uppsala'\n",
    "fields = row.split('|')\n",
    "price = fields[1]\n",
    "if price == 2000:\n",
    "    print('The price is a number!')\n",
    "if price == '2000':\n",
    "    print('The price is a string!')"
   ]
  },
  {
   "cell_type": "code",
   "execution_count": 3,
   "metadata": {},
   "outputs": [
    {
     "name": "stdout",
     "output_type": "stream",
     "text": [
      "[30, 100, 2000]\n",
      "['100', '2000', '30']\n"
     ]
    }
   ],
   "source": [
    "print(sorted([ 2000,   30,   100 ]))\n",
    "print(sorted(['2000', '30', '100']))\n",
    "# Hint: is `'30' > '2000'`?"
   ]
  },
  {
   "cell_type": "markdown",
   "metadata": {
    "cell_marker": "'''"
   },
   "source": [
    "- How can you convert an object to a different type?\n",
    "  - Convert to number: `'2000'` and `'0.5'` and `'1e9'`\n",
    "  - Convert to boolean: `1`, `0`, `'1'`, `'0'`, `''`, `{}`\n",
    "- We have seen these container types: **lists**, **sets**, **dictionaries**.\n",
    "  What is their difference and when should you use which?\n",
    "- What is a function?\n",
    "  Write a function that counts the number of occurrences of `'C'` in the argument string."
   ]
  },
  {
   "cell_type": "markdown",
   "metadata": {
    "cell_marker": "'''",
    "slideshow": {
     "slide_type": "slide"
    }
   },
   "source": [
    "#### In what ways does the type of an object matter?"
   ]
  },
  {
   "cell_type": "code",
   "execution_count": 4,
   "metadata": {},
   "outputs": [
    {
     "name": "stdout",
     "output_type": "stream",
     "text": [
      "The price is a number!\n"
     ]
    }
   ],
   "source": [
    "row = 'sofa|2000|buy|Uppsala'\n",
    "fields = row.split('|')\n",
    "price = int(fields[1])\n",
    "if price == 2000:\n",
    "    print('The price is a number!')\n",
    "if price == '2000':\n",
    "    print('The price is a string!')"
   ]
  },
  {
   "cell_type": "code",
   "execution_count": 5,
   "metadata": {},
   "outputs": [
    {
     "name": "stdout",
     "output_type": "stream",
     "text": [
      "[30, 100, 2000]\n",
      "['100', '2000', '30']\n"
     ]
    }
   ],
   "source": [
    "print(sorted([ 2000,   30,   100 ]))\n",
    "print(sorted(['2000', '30', '100']))\n",
    "# Hint: is `'30' > '2000'`?"
   ]
  },
  {
   "cell_type": "markdown",
   "metadata": {
    "cell_marker": "'''",
    "slideshow": {
     "slide_type": "slide"
    }
   },
   "source": [
    "#### In what ways does the type of an object matter?\n",
    "\n",
    "- Each type store a specific type of information\n",
    "    - `int` for integers,\n",
    "    - `float` for floating point values (decimals),\n",
    "    - `str` for strings,\n",
    "    - `list` for lists,\n",
    "    - `dict` for dictionaries.\n",
    "\n",
    "- Each type supports different operations, functions and methods."
   ]
  },
  {
   "cell_type": "markdown",
   "metadata": {
    "cell_marker": "'''",
    "lines_to_next_cell": 0,
    "slideshow": {
     "slide_type": "slide"
    }
   },
   "source": [
    "- Each type supports different **operations**, functions and methods"
   ]
  },
  {
   "cell_type": "code",
   "execution_count": 6,
   "metadata": {
    "lines_to_next_cell": 0
   },
   "outputs": [
    {
     "data": {
      "text/plain": [
       "False"
      ]
     },
     "execution_count": 6,
     "metadata": {},
     "output_type": "execute_result"
    }
   ],
   "source": [
    "30 > 2000"
   ]
  },
  {
   "cell_type": "code",
   "execution_count": 7,
   "metadata": {
    "lines_to_next_cell": 0
   },
   "outputs": [
    {
     "data": {
      "text/plain": [
       "True"
      ]
     },
     "execution_count": 7,
     "metadata": {},
     "output_type": "execute_result"
    }
   ],
   "source": [
    "'30' > '2000'"
   ]
  },
  {
   "cell_type": "code",
   "execution_count": 8,
   "metadata": {},
   "outputs": [
    {
     "data": {
      "text/plain": [
       "False"
      ]
     },
     "execution_count": 8,
     "metadata": {},
     "output_type": "execute_result"
    }
   ],
   "source": [
    "30 > int('2000')"
   ]
  },
  {
   "cell_type": "markdown",
   "metadata": {
    "cell_marker": "'''",
    "lines_to_next_cell": 0,
    "slideshow": {
     "slide_type": "slide"
    }
   },
   "source": [
    "- Each type supports different operations, functions and **methods**"
   ]
  },
  {
   "cell_type": "code",
   "execution_count": 9,
   "metadata": {
    "lines_to_next_cell": 0
   },
   "outputs": [
    {
     "data": {
      "text/plain": [
       "'actg'"
      ]
     },
     "execution_count": 9,
     "metadata": {},
     "output_type": "execute_result"
    }
   ],
   "source": [
    "'ACTG'.lower()"
   ]
  },
  {
   "cell_type": "code",
   "execution_count": 10,
   "metadata": {},
   "outputs": [
    {
     "ename": "AttributeError",
     "evalue": "'list' object has no attribute 'lower'",
     "output_type": "error",
     "traceback": [
      "\u001b[0;31m---------------------------------------------------------------------------\u001b[0m",
      "\u001b[0;31mAttributeError\u001b[0m                            Traceback (most recent call last)",
      "\u001b[0;32m<ipython-input-10-4e1a84c0439c>\u001b[0m in \u001b[0;36m<module>\u001b[0;34m\u001b[0m\n\u001b[0;32m----> 1\u001b[0;31m \u001b[0;34m[\u001b[0m\u001b[0;36m1\u001b[0m\u001b[0;34m,\u001b[0m \u001b[0;36m2\u001b[0m\u001b[0;34m,\u001b[0m \u001b[0;36m3\u001b[0m\u001b[0;34m]\u001b[0m\u001b[0;34m.\u001b[0m\u001b[0mlower\u001b[0m\u001b[0;34m(\u001b[0m\u001b[0;34m)\u001b[0m\u001b[0;34m\u001b[0m\u001b[0;34m\u001b[0m\u001b[0m\n\u001b[0m",
      "\u001b[0;31mAttributeError\u001b[0m: 'list' object has no attribute 'lower'"
     ]
    }
   ],
   "source": [
    "[1, 2, 3].lower()"
   ]
  },
  {
   "cell_type": "markdown",
   "metadata": {
    "cell_marker": "'''",
    "slideshow": {
     "slide_type": "slide"
    }
   },
   "source": [
    "- Convert to number: `'2000'` and `'0.5'` and `'1e9'`"
   ]
  },
  {
   "cell_type": "code",
   "execution_count": 11,
   "metadata": {},
   "outputs": [
    {
     "data": {
      "text/plain": [
       "2000"
      ]
     },
     "execution_count": 11,
     "metadata": {},
     "output_type": "execute_result"
    }
   ],
   "source": [
    "int('2000')"
   ]
  },
  {
   "cell_type": "code",
   "execution_count": 12,
   "metadata": {},
   "outputs": [
    {
     "ename": "ValueError",
     "evalue": "invalid literal for int() with base 10: '0.5'",
     "output_type": "error",
     "traceback": [
      "\u001b[0;31m---------------------------------------------------------------------------\u001b[0m",
      "\u001b[0;31mValueError\u001b[0m                                Traceback (most recent call last)",
      "\u001b[0;32m<ipython-input-12-6d0b04c882d1>\u001b[0m in \u001b[0;36m<module>\u001b[0;34m\u001b[0m\n\u001b[0;32m----> 1\u001b[0;31m \u001b[0mint\u001b[0m\u001b[0;34m(\u001b[0m\u001b[0;34m'0.5'\u001b[0m\u001b[0;34m)\u001b[0m\u001b[0;34m\u001b[0m\u001b[0;34m\u001b[0m\u001b[0m\n\u001b[0m",
      "\u001b[0;31mValueError\u001b[0m: invalid literal for int() with base 10: '0.5'"
     ]
    }
   ],
   "source": [
    "int('0.5')"
   ]
  },
  {
   "cell_type": "code",
   "execution_count": 13,
   "metadata": {},
   "outputs": [
    {
     "ename": "ValueError",
     "evalue": "invalid literal for int() with base 10: '1e9'",
     "output_type": "error",
     "traceback": [
      "\u001b[0;31m---------------------------------------------------------------------------\u001b[0m",
      "\u001b[0;31mValueError\u001b[0m                                Traceback (most recent call last)",
      "\u001b[0;32m<ipython-input-13-cb568d180cc9>\u001b[0m in \u001b[0;36m<module>\u001b[0;34m\u001b[0m\n\u001b[0;32m----> 1\u001b[0;31m \u001b[0mint\u001b[0m\u001b[0;34m(\u001b[0m\u001b[0;34m'1e9'\u001b[0m\u001b[0;34m)\u001b[0m\u001b[0;34m\u001b[0m\u001b[0;34m\u001b[0m\u001b[0m\n\u001b[0m",
      "\u001b[0;31mValueError\u001b[0m: invalid literal for int() with base 10: '1e9'"
     ]
    }
   ],
   "source": [
    "int('1e9')"
   ]
  },
  {
   "cell_type": "code",
   "execution_count": 14,
   "metadata": {},
   "outputs": [
    {
     "data": {
      "text/plain": [
       "2000.0"
      ]
     },
     "execution_count": 14,
     "metadata": {},
     "output_type": "execute_result"
    }
   ],
   "source": [
    "float('2000')"
   ]
  },
  {
   "cell_type": "code",
   "execution_count": 15,
   "metadata": {},
   "outputs": [
    {
     "data": {
      "text/plain": [
       "1"
      ]
     },
     "execution_count": 15,
     "metadata": {},
     "output_type": "execute_result"
    }
   ],
   "source": [
    "int(float('1.5'))"
   ]
  },
  {
   "cell_type": "code",
   "execution_count": 16,
   "metadata": {
    "lines_to_next_cell": 2
   },
   "outputs": [
    {
     "data": {
      "text/plain": [
       "1000000000"
      ]
     },
     "execution_count": 16,
     "metadata": {},
     "output_type": "execute_result"
    }
   ],
   "source": [
    "int(float('1e9'))"
   ]
  },
  {
   "cell_type": "markdown",
   "metadata": {
    "cell_marker": "'''",
    "slideshow": {
     "slide_type": "slide"
    }
   },
   "source": [
    "- Convert to boolean: `1`, `0`, `'1'`, `'0'`, `''`, `{}`"
   ]
  },
  {
   "cell_type": "code",
   "execution_count": 17,
   "metadata": {
    "lines_to_next_cell": 0
   },
   "outputs": [
    {
     "data": {
      "text/plain": [
       "True"
      ]
     },
     "execution_count": 17,
     "metadata": {},
     "output_type": "execute_result"
    }
   ],
   "source": [
    "bool(1)"
   ]
  },
  {
   "cell_type": "code",
   "execution_count": 18,
   "metadata": {
    "lines_to_next_cell": 0
   },
   "outputs": [
    {
     "data": {
      "text/plain": [
       "False"
      ]
     },
     "execution_count": 18,
     "metadata": {},
     "output_type": "execute_result"
    }
   ],
   "source": [
    "bool(0)"
   ]
  },
  {
   "cell_type": "code",
   "execution_count": 19,
   "metadata": {
    "lines_to_next_cell": 0
   },
   "outputs": [
    {
     "data": {
      "text/plain": [
       "True"
      ]
     },
     "execution_count": 19,
     "metadata": {},
     "output_type": "execute_result"
    }
   ],
   "source": [
    "bool('1')"
   ]
  },
  {
   "cell_type": "code",
   "execution_count": 20,
   "metadata": {
    "lines_to_next_cell": 0
   },
   "outputs": [
    {
     "data": {
      "text/plain": [
       "True"
      ]
     },
     "execution_count": 20,
     "metadata": {},
     "output_type": "execute_result"
    }
   ],
   "source": [
    "bool('0')"
   ]
  },
  {
   "cell_type": "code",
   "execution_count": 21,
   "metadata": {
    "lines_to_next_cell": 0
   },
   "outputs": [
    {
     "data": {
      "text/plain": [
       "False"
      ]
     },
     "execution_count": 21,
     "metadata": {},
     "output_type": "execute_result"
    }
   ],
   "source": [
    "bool('')"
   ]
  },
  {
   "cell_type": "code",
   "execution_count": 22,
   "metadata": {},
   "outputs": [
    {
     "data": {
      "text/plain": [
       "False"
      ]
     },
     "execution_count": 22,
     "metadata": {},
     "output_type": "execute_result"
    }
   ],
   "source": [
    "bool({})"
   ]
  },
  {
   "cell_type": "markdown",
   "metadata": {
    "cell_marker": "'''",
    "slideshow": {
     "slide_type": "slide"
    }
   },
   "source": [
    "- Python and the truth: true and false values"
   ]
  },
  {
   "cell_type": "code",
   "execution_count": 23,
   "metadata": {
    "lines_to_next_cell": 2
   },
   "outputs": [
    {
     "name": "stdout",
     "output_type": "stream",
     "text": [
      "1 is true!\n",
      "0 is false!\n",
      "'' is false!\n",
      "'0' is true!\n",
      "'1' is true!\n",
      "[] is false!\n",
      "[0] is true!\n"
     ]
    }
   ],
   "source": [
    "values = [1, 0, '', '0', '1', [], [0]]\n",
    "for x in values:\n",
    "    if x:\n",
    "        print(repr(x), 'is true!')\n",
    "    else:\n",
    "        print(repr(x), 'is false!')"
   ]
  },
  {
   "cell_type": "markdown",
   "metadata": {
    "cell_marker": "'''",
    "slideshow": {
     "slide_type": "slide"
    }
   },
   "source": [
    "- Converting between strings and lists"
   ]
  },
  {
   "cell_type": "code",
   "execution_count": 24,
   "metadata": {},
   "outputs": [
    {
     "data": {
      "text/plain": [
       "['h', 'e', 'l', 'l', 'o']"
      ]
     },
     "execution_count": 24,
     "metadata": {},
     "output_type": "execute_result"
    }
   ],
   "source": [
    "list(\"hello\")"
   ]
  },
  {
   "cell_type": "code",
   "execution_count": 25,
   "metadata": {},
   "outputs": [
    {
     "data": {
      "text/plain": [
       "\"['h', 'e', 'l', 'l', 'o']\""
      ]
     },
     "execution_count": 25,
     "metadata": {},
     "output_type": "execute_result"
    }
   ],
   "source": [
    "str(['h', 'e', 'l', 'l', 'o'])"
   ]
  },
  {
   "cell_type": "code",
   "execution_count": 26,
   "metadata": {},
   "outputs": [
    {
     "data": {
      "text/plain": [
       "'h_e_l_l_o'"
      ]
     },
     "execution_count": 26,
     "metadata": {},
     "output_type": "execute_result"
    }
   ],
   "source": [
    "'_'.join(['h', 'e', 'l', 'l', 'o'])"
   ]
  },
  {
   "cell_type": "markdown",
   "metadata": {
    "cell_marker": "'''",
    "slideshow": {
     "slide_type": "slide"
    }
   },
   "source": [
    "#### Container types, when should you use which?\n",
    "\n",
    "- **lists**: when order is important\n",
    "- **dictionaries**: to keep track of the relation between keys and values\n",
    "- **sets**: to check for membership. No order, no duplicates."
   ]
  },
  {
   "cell_type": "code",
   "execution_count": 27,
   "metadata": {
    "lines_to_next_cell": 0
   },
   "outputs": [
    {
     "data": {
      "text/plain": [
       "['comedy', 'drama', 'drama', 'sci-fi']"
      ]
     },
     "execution_count": 27,
     "metadata": {},
     "output_type": "execute_result"
    }
   ],
   "source": [
    "genre_list = [\"comedy\", \"drama\", \"drama\", \"sci-fi\"]\n",
    "genre_list"
   ]
  },
  {
   "cell_type": "code",
   "execution_count": 28,
   "metadata": {
    "lines_to_next_cell": 0
   },
   "outputs": [
    {
     "data": {
      "text/plain": [
       "True"
      ]
     },
     "execution_count": 28,
     "metadata": {},
     "output_type": "execute_result"
    }
   ],
   "source": [
    "genres = set(genre_list)\n",
    "'drama' in genres"
   ]
  },
  {
   "cell_type": "code",
   "execution_count": 29,
   "metadata": {
    "lines_to_next_cell": 0
   },
   "outputs": [
    {
     "data": {
      "text/plain": [
       "{'comedy': 1, 'drama': 2, 'sci-fi': 1}"
      ]
     },
     "execution_count": 29,
     "metadata": {},
     "output_type": "execute_result"
    }
   ],
   "source": [
    "genre_counts = {\"comedy\": 1, \"drama\": 2, \"sci-fi\": 1}\n",
    "genre_counts"
   ]
  },
  {
   "cell_type": "code",
   "execution_count": 30,
   "metadata": {},
   "outputs": [
    {
     "data": {
      "text/plain": [
       "{'rating': 10.0, 'title': 'Toy Story'}"
      ]
     },
     "execution_count": 30,
     "metadata": {},
     "output_type": "execute_result"
    }
   ],
   "source": [
    "movie = {\"rating\": 10.0, \"title\": \"Toy Story\"}\n",
    "movie \n"
   ]
  },
  {
   "cell_type": "markdown",
   "metadata": {
    "cell_marker": "'''",
    "slideshow": {
     "slide_type": "slide"
    }
   },
   "source": [
    "#### What is a function?\n",
    "\n",
    "- A named piece of code that performs a specific task\n",
    "- A relation (mapping) between inputs (arguments) and output (return value)\n",
    "\n",
    "- Write a function that counts the number of occurences of `'C'` in the argument string."
   ]
  },
  {
   "cell_type": "markdown",
   "metadata": {
    "cell_marker": "'''",
    "lines_to_next_cell": 1,
    "slideshow": {
     "slide_type": "slide"
    }
   },
   "source": [
    "- Function for counting the number of occurences of `'C'`"
   ]
  },
  {
   "cell_type": "code",
   "execution_count": 31,
   "metadata": {
    "lines_to_next_cell": 1
   },
   "outputs": [
    {
     "name": "stdout",
     "output_type": "stream",
     "text": [
      "2 0\n"
     ]
    }
   ],
   "source": [
    "def cytosine_count(nucleotides):\n",
    "    count = 0\n",
    "    for x in nucleotides:\n",
    "        if x == 'c' or x == 'C':\n",
    "            count += 1\n",
    "    return count\n",
    "\n",
    "count1 = cytosine_count('CATATTAC')\n",
    "count2 = cytosine_count('tagtag')\n",
    "print(count1, count2)"
   ]
  },
  {
   "cell_type": "markdown",
   "metadata": {
    "cell_marker": "'''",
    "slideshow": {
     "slide_type": "slide"
    }
   },
   "source": [
    "- Functions that `return` are easier to repurpose than those that `print` their result"
   ]
  },
  {
   "cell_type": "code",
   "execution_count": 32,
   "metadata": {
    "lines_to_next_cell": 1
   },
   "outputs": [
    {
     "data": {
      "text/plain": [
       "5"
      ]
     },
     "execution_count": 32,
     "metadata": {},
     "output_type": "execute_result"
    }
   ],
   "source": [
    "cytosine_count('catattac') + cytosine_count('tactactac')"
   ]
  },
  {
   "cell_type": "code",
   "execution_count": 33,
   "metadata": {
    "scrolled": true
   },
   "outputs": [
    {
     "name": "stdout",
     "output_type": "stream",
     "text": [
      "2\n",
      "3\n"
     ]
    },
    {
     "ename": "TypeError",
     "evalue": "unsupported operand type(s) for +: 'NoneType' and 'NoneType'",
     "output_type": "error",
     "traceback": [
      "\u001b[0;31m---------------------------------------------------------------------------\u001b[0m",
      "\u001b[0;31mTypeError\u001b[0m                                 Traceback (most recent call last)",
      "\u001b[0;32m<ipython-input-33-5bbd47c30b94>\u001b[0m in \u001b[0;36m<module>\u001b[0;34m\u001b[0m\n\u001b[1;32m      6\u001b[0m     \u001b[0mprint\u001b[0m\u001b[0;34m(\u001b[0m\u001b[0mcount\u001b[0m\u001b[0;34m)\u001b[0m\u001b[0;34m\u001b[0m\u001b[0;34m\u001b[0m\u001b[0m\n\u001b[1;32m      7\u001b[0m \u001b[0;34m\u001b[0m\u001b[0m\n\u001b[0;32m----> 8\u001b[0;31m \u001b[0mprint_cytosine_count\u001b[0m\u001b[0;34m(\u001b[0m\u001b[0;34m'catattac'\u001b[0m\u001b[0;34m)\u001b[0m \u001b[0;34m+\u001b[0m \u001b[0mprint_cytosine_count\u001b[0m\u001b[0;34m(\u001b[0m\u001b[0;34m'tactactac'\u001b[0m\u001b[0;34m)\u001b[0m\u001b[0;34m\u001b[0m\u001b[0;34m\u001b[0m\u001b[0m\n\u001b[0m",
      "\u001b[0;31mTypeError\u001b[0m: unsupported operand type(s) for +: 'NoneType' and 'NoneType'"
     ]
    }
   ],
   "source": [
    "def print_cytosine_count(nucleotides):\n",
    "    count = 0\n",
    "    for x in nucleotides:\n",
    "        if x == 'c' or x == 'C':\n",
    "            count += 1\n",
    "    print(count)\n",
    "\n",
    "print_cytosine_count('catattac') + print_cytosine_count('tactactac')"
   ]
  },
  {
   "cell_type": "markdown",
   "metadata": {
    "cell_marker": "'''",
    "slideshow": {
     "slide_type": "slide"
    }
   },
   "source": [
    "- Objects and references to objects"
   ]
  },
  {
   "cell_type": "code",
   "execution_count": 34,
   "metadata": {},
   "outputs": [
    {
     "name": "stdout",
     "output_type": "stream",
     "text": [
      "['red', 'green'] ['red', 'green', 'blue']\n"
     ]
    }
   ],
   "source": [
    "list_A = ['red', 'green']\n",
    "list_B = ['red', 'green']\n",
    "list_B.append('blue')\n",
    "print(list_A, list_B)"
   ]
  },
  {
   "cell_type": "code",
   "execution_count": 35,
   "metadata": {
    "scrolled": true
   },
   "outputs": [
    {
     "name": "stdout",
     "output_type": "stream",
     "text": [
      "['red', 'green', 'blue'] ['red', 'green', 'blue']\n"
     ]
    }
   ],
   "source": [
    "list_A = ['red', 'green']\n",
    "list_B = list_A            # another name to the SAME list. Aliasing\n",
    "list_B.append('blue')\n",
    "print(list_A, list_B)"
   ]
  },
  {
   "cell_type": "code",
   "execution_count": 36,
   "metadata": {},
   "outputs": [
    {
     "name": "stdout",
     "output_type": "stream",
     "text": [
      "[] ['red', 'green']\n"
     ]
    }
   ],
   "source": [
    "list_A = ['red', 'green']\n",
    "list_B = list_A\n",
    "list_A = []\n",
    "print(list_A, list_B)"
   ]
  },
  {
   "cell_type": "markdown",
   "metadata": {
    "cell_marker": "'''",
    "slideshow": {
     "slide_type": "slide"
    }
   },
   "source": [
    "- Objects and references to objects, cont."
   ]
  },
  {
   "cell_type": "code",
   "execution_count": 37,
   "metadata": {},
   "outputs": [
    {
     "name": "stdout",
     "output_type": "stream",
     "text": [
      "{'A': ['red', 'green'], 'B': ['red', 'green']}\n",
      "{'A': ['red', 'green', 'blue'], 'B': ['red', 'green', 'blue']}\n"
     ]
    }
   ],
   "source": [
    "list_A = ['red', 'green']\n",
    "lists = {'A': list_A, 'B': list_A}\n",
    "print(lists)\n",
    "lists['B'].append('blue')\n",
    "print(lists)"
   ]
  },
  {
   "cell_type": "code",
   "execution_count": 38,
   "metadata": {},
   "outputs": [
    {
     "name": "stdout",
     "output_type": "stream",
     "text": [
      "{'A': ['red', 'green'], 'B': ['red', 'green']}\n",
      "{'A': ['red', 'green'], 'B': ['red', 'green', 'yellow']}\n"
     ]
    }
   ],
   "source": [
    "list_A = ['red', 'green']\n",
    "lists = {'A': list_A, 'B': list_A}\n",
    "print(lists)\n",
    "lists['B'] = lists['B'] + ['yellow']\n",
    "print(lists)"
   ]
  },
  {
   "cell_type": "markdown",
   "metadata": {
    "cell_marker": "'''",
    "slideshow": {
     "slide_type": "slide"
    }
   },
   "source": [
    "#### Scope: global variables and local function variables"
   ]
  },
  {
   "cell_type": "code",
   "execution_count": 39,
   "metadata": {
    "lines_to_next_cell": 1
   },
   "outputs": [],
   "source": [
    "movies = ['Toy story', 'Home alone']"
   ]
  },
  {
   "cell_type": "code",
   "execution_count": 40,
   "metadata": {
    "lines_to_next_cell": 1
   },
   "outputs": [
    {
     "name": "stdout",
     "output_type": "stream",
     "text": [
      "['Fargo', 'The Usual Suspects']\n"
     ]
    }
   ],
   "source": [
    "def some_thriller_movies():\n",
    "    return ['Fargo', 'The Usual Suspects']\n",
    "\n",
    "movies = some_thriller_movies()\n",
    "print(movies)"
   ]
  },
  {
   "cell_type": "code",
   "execution_count": 41,
   "metadata": {
    "lines_to_next_cell": 1
   },
   "outputs": [
    {
     "name": "stdout",
     "output_type": "stream",
     "text": [
      "['Fargo', 'The Usual Suspects']\n"
     ]
    }
   ],
   "source": [
    "def change_to_drama(movies):\n",
    "    movies = ['Forrest Gump', 'Titanic']\n",
    "\n",
    "change_to_drama(movies)\n",
    "print(movies)"
   ]
  },
  {
   "cell_type": "code",
   "execution_count": 42,
   "metadata": {},
   "outputs": [
    {
     "name": "stdout",
     "output_type": "stream",
     "text": [
      "['Terminator II', 'The Matrix']\n"
     ]
    }
   ],
   "source": [
    "def change_to_scifi(movies):\n",
    "    movies.clear()\n",
    "    movies += ['Terminator II', 'The Matrix']\n",
    "\n",
    "change_to_scifi(movies)\n",
    "print(movies)"
   ]
  },
  {
   "cell_type": "markdown",
   "metadata": {
    "cell_marker": "'''",
    "slideshow": {
     "slide_type": "slide"
    }
   },
   "source": [
    "#### Keyword arguments\n",
    "- A way to give a name explicitly to a function for clarity"
   ]
  },
  {
   "cell_type": "code",
   "execution_count": 43,
   "metadata": {},
   "outputs": [
    {
     "data": {
      "text/plain": [
       "['l', 'i', 'f', 'e']"
      ]
     },
     "execution_count": 43,
     "metadata": {},
     "output_type": "execute_result"
    }
   ],
   "source": [
    "sorted(list('file'), reverse=True)"
   ]
  },
  {
   "cell_type": "code",
   "execution_count": 44,
   "metadata": {},
   "outputs": [
    {
     "data": {
      "text/plain": [
       "['gene_id', '\"unknown gene\"']"
      ]
     },
     "execution_count": 44,
     "metadata": {},
     "output_type": "execute_result"
    }
   ],
   "source": [
    "attribute = 'gene_id \"unknown gene\"'\n",
    "attribute.split(sep=' ', maxsplit=1)"
   ]
  },
  {
   "cell_type": "code",
   "execution_count": 45,
   "metadata": {},
   "outputs": [
    {
     "name": "stdout",
     "output_type": "stream",
     "text": [
      "x=1\n"
     ]
    }
   ],
   "source": [
    "# print(value, ..., sep=' ', end='\\n', file=sys.stdout, flush=False)\n",
    "print('x=', end='')\n",
    "print('1')"
   ]
  },
  {
   "cell_type": "markdown",
   "metadata": {
    "cell_marker": "'''",
    "slideshow": {
     "slide_type": "slide"
    }
   },
   "source": [
    "#### Keyword arguments\n",
    "- Order of keyword arguments do not matter\n",
    "\n",
    "```python\n",
    "open(file, mode='r', encoding=None) # some arguments omitted\n",
    "```\n",
    "\n",
    "- These mean the same:\n",
    "\n",
    "```python\n",
    "open('files/recipes.txt', 'w', encoding='utf-8')\n",
    "\n",
    "open('files/recipes.txt', mode='w', encoding='utf-8')\n",
    "\n",
    "open('files/recipes.txt', encoding='utf-8', mode='w')\n",
    "```"
   ]
  },
  {
   "cell_type": "markdown",
   "metadata": {
    "cell_marker": "'''",
    "lines_to_next_cell": 1,
    "slideshow": {
     "slide_type": "slide"
    }
   },
   "source": [
    "#### Defining functions taking keyword arguments\n",
    "\n",
    "- Just define them as usual:"
   ]
  },
  {
   "cell_type": "code",
   "execution_count": 46,
   "metadata": {},
   "outputs": [
    {
     "name": "stdout",
     "output_type": "stream",
     "text": [
      "The lecture is ongoing.\n",
      "The lecture is ongoing.\n",
      "The lecture is ongoing...\n"
     ]
    }
   ],
   "source": [
    "def format_sentence(subject, value, end):\n",
    "    return 'The ' + subject + ' is ' + value + end\n",
    "\n",
    "print(format_sentence('lecture', 'ongoing', '.'))\n",
    "\n",
    "print(format_sentence('lecture', 'ongoing', end='.'))\n",
    "\n",
    "print(format_sentence(subject='lecture', value='ongoing', end='...'))"
   ]
  },
  {
   "cell_type": "code",
   "execution_count": 47,
   "metadata": {},
   "outputs": [
    {
     "ename": "SyntaxError",
     "evalue": "positional argument follows keyword argument (<ipython-input-47-8916632389ec>, line 1)",
     "output_type": "error",
     "traceback": [
      "\u001b[0;36m  File \u001b[0;32m\"<ipython-input-47-8916632389ec>\"\u001b[0;36m, line \u001b[0;32m1\u001b[0m\n\u001b[0;31m    print(format_sentence(subject='lecture', 'ongoing', '.'))\u001b[0m\n\u001b[0m                                             ^\u001b[0m\n\u001b[0;31mSyntaxError\u001b[0m\u001b[0;31m:\u001b[0m positional argument follows keyword argument\n"
     ]
    }
   ],
   "source": [
    "print(format_sentence(subject='lecture', 'ongoing', '.'))"
   ]
  },
  {
   "cell_type": "markdown",
   "metadata": {
    "cell_marker": "'''"
   },
   "source": [
    "- Positional arguments comes first, keyword arguments after!"
   ]
  },
  {
   "cell_type": "markdown",
   "metadata": {
    "cell_marker": "'''",
    "lines_to_next_cell": 1,
    "slideshow": {
     "slide_type": "slide"
    }
   },
   "source": [
    "#### Defining functions with default arguments"
   ]
  },
  {
   "cell_type": "code",
   "execution_count": 48,
   "metadata": {},
   "outputs": [
    {
     "name": "stdout",
     "output_type": "stream",
     "text": [
      "The lecture is ongoing.\n",
      "The lecture is ongoing...\n"
     ]
    }
   ],
   "source": [
    "def format_sentence(subject, value, end='.'):\n",
    "    return 'The ' + subject + ' is ' + value + end\n",
    "\n",
    "print(format_sentence('lecture', 'ongoing'))\n",
    "\n",
    "print(format_sentence('lecture', 'ongoing', '...'))"
   ]
  },
  {
   "cell_type": "markdown",
   "metadata": {
    "cell_marker": "'''",
    "lines_to_next_cell": 1,
    "slideshow": {
     "slide_type": "slide"
    }
   },
   "source": [
    "#### Defining functions with optional arguments\n",
    "\n",
    "- Convention: use the object `None`"
   ]
  },
  {
   "cell_type": "code",
   "execution_count": 49,
   "metadata": {},
   "outputs": [
    {
     "name": "stdout",
     "output_type": "stream",
     "text": [
      "The lecture is ongoing.\n",
      "The lecture is ongoing and self-referential!\n"
     ]
    }
   ],
   "source": [
    "def format_sentence(subject, value, end='.', second_value=None):\n",
    "    if second_value is None:\n",
    "        return 'The ' + subject + ' is ' + value + end\n",
    "    else:\n",
    "        return 'The ' + subject + ' is ' + value + ' and ' + second_value + end\n",
    "\n",
    "print(format_sentence('lecture', 'ongoing'))\n",
    "\n",
    "print(format_sentence('lecture', 'ongoing',\n",
    "                      second_value='self-referential', end='!'))"
   ]
  },
  {
   "cell_type": "markdown",
   "metadata": {
    "cell_marker": "'''",
    "slideshow": {
     "slide_type": "slide"
    }
   },
   "source": [
    "#### Small detour: Python's value for missing values: `None`\n",
    "\n",
    "- Default value for optional arguments\n",
    "- Implicit return value of functions without a `return`\n",
    "- Something to initialize variable with no value yet\n",
    "- Argument to a function indicating use the default value"
   ]
  },
  {
   "cell_type": "code",
   "execution_count": 50,
   "metadata": {},
   "outputs": [
    {
     "data": {
      "text/plain": [
       "False"
      ]
     },
     "execution_count": 50,
     "metadata": {},
     "output_type": "execute_result"
    }
   ],
   "source": [
    "bool(None)"
   ]
  },
  {
   "cell_type": "code",
   "execution_count": 51,
   "metadata": {},
   "outputs": [
    {
     "data": {
      "text/plain": [
       "(False, False)"
      ]
     },
     "execution_count": 51,
     "metadata": {},
     "output_type": "execute_result"
    }
   ],
   "source": [
    "None == False, None == 0"
   ]
  },
  {
   "cell_type": "markdown",
   "metadata": {
    "cell_marker": "'''",
    "slideshow": {
     "slide_type": "slide"
    }
   },
   "source": [
    "#### Comparing `None`\n",
    "\n",
    "- To differentiate `None` to the other false values such as `0`, `False` and `''` use `is None`:"
   ]
  },
  {
   "cell_type": "code",
   "execution_count": 52,
   "metadata": {},
   "outputs": [
    {
     "data": {
      "text/plain": [
       "(0, None)"
      ]
     },
     "execution_count": 52,
     "metadata": {},
     "output_type": "execute_result"
    }
   ],
   "source": [
    "counts = {'drama': 2, 'romance': 0}\n",
    "\n",
    "counts.get('romance'), counts.get('thriller')"
   ]
  },
  {
   "cell_type": "code",
   "execution_count": 53,
   "metadata": {},
   "outputs": [
    {
     "data": {
      "text/plain": [
       "False"
      ]
     },
     "execution_count": 53,
     "metadata": {},
     "output_type": "execute_result"
    }
   ],
   "source": [
    "counts.get('romance') is None"
   ]
  },
  {
   "cell_type": "code",
   "execution_count": 54,
   "metadata": {},
   "outputs": [
    {
     "data": {
      "text/plain": [
       "True"
      ]
     },
     "execution_count": 54,
     "metadata": {},
     "output_type": "execute_result"
    }
   ],
   "source": [
    "counts.get('thriller') is None"
   ]
  },
  {
   "cell_type": "markdown",
   "metadata": {
    "cell_marker": "'''",
    "slideshow": {
     "slide_type": "slide"
    }
   },
   "source": [
    "- Python and the truth, take two"
   ]
  },
  {
   "cell_type": "code",
   "execution_count": 55,
   "metadata": {
    "lines_to_next_cell": 2
   },
   "outputs": [
    {
     "name": "stdout",
     "output_type": "stream",
     "text": [
      "None is None\n",
      "None is false\n",
      "1 is true\n",
      "0 is false\n",
      "'' is false\n",
      "'0' is true\n",
      "'1' is true\n",
      "[] is false\n",
      "[0] is true\n"
     ]
    }
   ],
   "source": [
    "values = [None, 1, 0, '', '0', '1', [], [0]]\n",
    "for x in values:\n",
    "    if x is None:\n",
    "        print(repr(x), 'is None')\n",
    "    if not x:\n",
    "        print(repr(x), 'is false')\n",
    "    if x:\n",
    "        print(repr(x), 'is true')"
   ]
  },
  {
   "cell_type": "markdown",
   "metadata": {
    "cell_marker": "'''",
    "slideshow": {
     "slide_type": "slide"
    }
   },
   "source": [
    "**Controlling loops - `break`**"
   ]
  },
  {
   "cell_type": "markdown",
   "metadata": {
    "cell_marker": "'''"
   },
   "source": [
    "```py\n",
    "for x in lines_in_a_big_file:\n",
    "    if x.startswith('>'):  # this is the only line I want!\n",
    "        do_something(x)\n",
    "```"
   ]
  },
  {
   "cell_type": "markdown",
   "metadata": {
    "cell_marker": "'''",
    "slideshow": {
     "slide_type": "fragment"
    }
   },
   "source": [
    "...waste of time!"
   ]
  },
  {
   "cell_type": "markdown",
   "metadata": {
    "cell_marker": "'''",
    "slideshow": {
     "slide_type": "fragment"
    }
   },
   "source": [
    "```py\n",
    "for x in lines_in_a_big_file:\n",
    "    if x.startswith('>'):  # this is the only line I want!\n",
    "        do_something(x)\n",
    "        break  # break the loop\n",
    "```"
   ]
  },
  {
   "cell_type": "markdown",
   "metadata": {
    "cell_marker": "'''",
    "slideshow": {
     "slide_type": "slide"
    }
   },
   "source": [
    "**<center>break</center>**\n",
    "<center>\n",
    "<img src=\"img/break.png\" alt=\"break\" width=\"50%\"/>\n",
    "</center>"
   ]
  },
  {
   "cell_type": "markdown",
   "metadata": {
    "cell_marker": "'''",
    "slideshow": {
     "slide_type": "slide"
    }
   },
   "source": [
    "**Controlling loops - `continue`**"
   ]
  },
  {
   "cell_type": "markdown",
   "metadata": {
    "cell_marker": "'''"
   },
   "source": [
    "```py\n",
    "for x in lines_in_a_big_file:\n",
    "    if x.startswith('>'):  # irrelevant line\n",
    "        # just skip this! don't do anything\n",
    "    do_something(x)\n",
    "```"
   ]
  },
  {
   "cell_type": "markdown",
   "metadata": {
    "cell_marker": "'''",
    "slideshow": {
     "slide_type": "fragment"
    }
   },
   "source": [
    "```py\n",
    "for x in lines_in_a_big_file:\n",
    "    if x.startswith('>'):  # irrelevant line\n",
    "        continue  # go on to the next iteration\n",
    "    do_something(x)\n",
    "```"
   ]
  },
  {
   "cell_type": "markdown",
   "metadata": {
    "cell_marker": "'''",
    "slideshow": {
     "slide_type": "fragment"
    }
   },
   "source": [
    "```py\n",
    "for x in lines_in_a_big_file:\n",
    "    if not x.startswith('>'):  # not irrelevant!\n",
    "        do_something(x)\n",
    "```"
   ]
  },
  {
   "cell_type": "markdown",
   "metadata": {
    "cell_marker": "'''",
    "slideshow": {
     "slide_type": "slide"
    }
   },
   "source": [
    "**<center>continue</center>**\n",
    "<center>\n",
    "<img src=\"img/continue.png\" alt=\"break\" width=\"50%\"/>\n",
    "</center>"
   ]
  },
  {
   "cell_type": "markdown",
   "metadata": {
    "cell_marker": "'''",
    "slideshow": {
     "slide_type": "slide"
    }
   },
   "source": [
    "**Another control statement: pass** - the placeholder"
   ]
  },
  {
   "cell_type": "code",
   "execution_count": 56,
   "metadata": {},
   "outputs": [
    {
     "ename": "SyntaxError",
     "evalue": "unexpected EOF while parsing (<ipython-input-56-a7f30ec71867>, line 2)",
     "output_type": "error",
     "traceback": [
      "\u001b[0;36m  File \u001b[0;32m\"<ipython-input-56-a7f30ec71867>\"\u001b[0;36m, line \u001b[0;32m2\u001b[0m\n\u001b[0;31m    # I have not implemented this just yet\u001b[0m\n\u001b[0m                                          ^\u001b[0m\n\u001b[0;31mSyntaxError\u001b[0m\u001b[0;31m:\u001b[0m unexpected EOF while parsing\n"
     ]
    }
   ],
   "source": [
    "def a_function():\n",
    "    # I have not implemented this just yet"
   ]
  },
  {
   "cell_type": "code",
   "execution_count": 57,
   "metadata": {},
   "outputs": [],
   "source": [
    "def a_function():\n",
    "    # I have not implemented this just yet\n",
    "    pass\n",
    "a_function()"
   ]
  },
  {
   "cell_type": "markdown",
   "metadata": {
    "cell_marker": "'''",
    "slideshow": {
     "slide_type": "slide"
    }
   },
   "source": [
    "#### Exercise 1\n",
    "\n",
    "- Notebook Day_4_Exercise_1  (~30 minutes)"
   ]
  },
  {
   "cell_type": "markdown",
   "metadata": {
    "cell_marker": "'''",
    "slideshow": {
     "slide_type": "slide"
    }
   },
   "source": [
    "### A short note on code structure\n",
    "\n",
    "- functions\n",
    "- modules (files)\n",
    "- documentation"
   ]
  },
  {
   "cell_type": "markdown",
   "metadata": {
    "cell_marker": "'''",
    "slideshow": {
     "slide_type": "slide"
    }
   },
   "source": [
    "#### Why functions?\n",
    "- Cleaner code\n",
    "- Better defined tasks in code\n",
    "- Re-usability\n",
    "- Better structure"
   ]
  },
  {
   "cell_type": "markdown",
   "metadata": {
    "cell_marker": "'''",
    "slideshow": {
     "slide_type": "slide"
    }
   },
   "source": [
    "#### Why modules?\n",
    "\n",
    "- Cleaner code\n",
    "- Better defined tasks in code\n",
    "- Re-usability\n",
    "- Better structure"
   ]
  },
  {
   "cell_type": "markdown",
   "metadata": {
    "cell_marker": "'''",
    "slideshow": {
     "slide_type": "fragment"
    }
   },
   "source": [
    "- Collect all related functions in one file\n",
    "- Import a module to use its functions\n",
    "- Only need to understand what the functions do, not how"
   ]
  },
  {
   "cell_type": "markdown",
   "metadata": {
    "cell_marker": "'''",
    "slideshow": {
     "slide_type": "slide"
    }
   },
   "source": [
    "#### Example: **sys**\n",
    "\n",
    "```py\n",
    "import sys\n",
    "\n",
    "sys.argv[1]\n",
    "```\n",
    "or\n",
    "\n",
    "```py\n",
    "import pprint\n",
    "pprint.pprint(a_big_dictionary)\n",
    "```"
   ]
  },
  {
   "cell_type": "markdown",
   "metadata": {
    "cell_marker": "'''",
    "slideshow": {
     "slide_type": "slide"
    }
   },
   "source": [
    "### Python standard modules\n",
    "\n",
    "Check out the [module index](https://docs.python.org/3.6/py-modindex.html)"
   ]
  },
  {
   "cell_type": "markdown",
   "metadata": {
    "cell_marker": "'''",
    "slideshow": {
     "slide_type": "slide"
    }
   },
   "source": [
    "How to find the right module?\n",
    "\n",
    "How to understand it?"
   ]
  },
  {
   "cell_type": "markdown",
   "metadata": {
    "cell_marker": "'''",
    "slideshow": {
     "slide_type": "slide"
    }
   },
   "source": [
    "How to find the right module?\n",
    "\n",
    "- look at the module index\n",
    "- search [PyPI](http://pypi.org)\n",
    "- ask your colleagues\n",
    "- search the web!"
   ]
  },
  {
   "cell_type": "markdown",
   "metadata": {
    "cell_marker": "'''",
    "slideshow": {
     "slide_type": "slide"
    }
   },
   "source": [
    "How to understand it?"
   ]
  },
  {
   "cell_type": "code",
   "execution_count": 58,
   "metadata": {
    "slideshow": {
     "slide_type": "fragment"
    }
   },
   "outputs": [
    {
     "name": "stdout",
     "output_type": "stream",
     "text": [
      "Help on built-in function acosh in module math:\n",
      "\n",
      "acosh(x, /)\n",
      "    Return the inverse hyperbolic cosine of x.\n",
      "\n"
     ]
    }
   ],
   "source": [
    "import math\n",
    "\n",
    "help(math.acosh)"
   ]
  },
  {
   "cell_type": "code",
   "execution_count": 59,
   "metadata": {
    "slideshow": {
     "slide_type": "slide"
    }
   },
   "outputs": [
    {
     "name": "stdout",
     "output_type": "stream",
     "text": [
      "Help on class str in module builtins:\n",
      "\n",
      "class str(object)\n",
      " |  str(object='') -> str\n",
      " |  str(bytes_or_buffer[, encoding[, errors]]) -> str\n",
      " |  \n",
      " |  Create a new string object from the given object. If encoding or\n",
      " |  errors is specified, then the object must expose a data buffer\n",
      " |  that will be decoded using the given encoding and error handler.\n",
      " |  Otherwise, returns the result of object.__str__() (if defined)\n",
      " |  or repr(object).\n",
      " |  encoding defaults to sys.getdefaultencoding().\n",
      " |  errors defaults to 'strict'.\n",
      " |  \n",
      " |  Methods defined here:\n",
      " |  \n",
      " |  __add__(self, value, /)\n",
      " |      Return self+value.\n",
      " |  \n",
      " |  __contains__(self, key, /)\n",
      " |      Return key in self.\n",
      " |  \n",
      " |  __eq__(self, value, /)\n",
      " |      Return self==value.\n",
      " |  \n",
      " |  __format__(self, format_spec, /)\n",
      " |      Return a formatted version of the string as described by format_spec.\n",
      " |  \n",
      " |  __ge__(self, value, /)\n",
      " |      Return self>=value.\n",
      " |  \n",
      " |  __getattribute__(self, name, /)\n",
      " |      Return getattr(self, name).\n",
      " |  \n",
      " |  __getitem__(self, key, /)\n",
      " |      Return self[key].\n",
      " |  \n",
      " |  __getnewargs__(...)\n",
      " |  \n",
      " |  __gt__(self, value, /)\n",
      " |      Return self>value.\n",
      " |  \n",
      " |  __hash__(self, /)\n",
      " |      Return hash(self).\n",
      " |  \n",
      " |  __iter__(self, /)\n",
      " |      Implement iter(self).\n",
      " |  \n",
      " |  __le__(self, value, /)\n",
      " |      Return self<=value.\n",
      " |  \n",
      " |  __len__(self, /)\n",
      " |      Return len(self).\n",
      " |  \n",
      " |  __lt__(self, value, /)\n",
      " |      Return self<value.\n",
      " |  \n",
      " |  __mod__(self, value, /)\n",
      " |      Return self%value.\n",
      " |  \n",
      " |  __mul__(self, value, /)\n",
      " |      Return self*value.\n",
      " |  \n",
      " |  __ne__(self, value, /)\n",
      " |      Return self!=value.\n",
      " |  \n",
      " |  __repr__(self, /)\n",
      " |      Return repr(self).\n",
      " |  \n",
      " |  __rmod__(self, value, /)\n",
      " |      Return value%self.\n",
      " |  \n",
      " |  __rmul__(self, value, /)\n",
      " |      Return value*self.\n",
      " |  \n",
      " |  __sizeof__(self, /)\n",
      " |      Return the size of the string in memory, in bytes.\n",
      " |  \n",
      " |  __str__(self, /)\n",
      " |      Return str(self).\n",
      " |  \n",
      " |  capitalize(self, /)\n",
      " |      Return a capitalized version of the string.\n",
      " |      \n",
      " |      More specifically, make the first character have upper case and the rest lower\n",
      " |      case.\n",
      " |  \n",
      " |  casefold(self, /)\n",
      " |      Return a version of the string suitable for caseless comparisons.\n",
      " |  \n",
      " |  center(self, width, fillchar=' ', /)\n",
      " |      Return a centered string of length width.\n",
      " |      \n",
      " |      Padding is done using the specified fill character (default is a space).\n",
      " |  \n",
      " |  count(...)\n",
      " |      S.count(sub[, start[, end]]) -> int\n",
      " |      \n",
      " |      Return the number of non-overlapping occurrences of substring sub in\n",
      " |      string S[start:end].  Optional arguments start and end are\n",
      " |      interpreted as in slice notation.\n",
      " |  \n",
      " |  encode(self, /, encoding='utf-8', errors='strict')\n",
      " |      Encode the string using the codec registered for encoding.\n",
      " |      \n",
      " |      encoding\n",
      " |        The encoding in which to encode the string.\n",
      " |      errors\n",
      " |        The error handling scheme to use for encoding errors.\n",
      " |        The default is 'strict' meaning that encoding errors raise a\n",
      " |        UnicodeEncodeError.  Other possible values are 'ignore', 'replace' and\n",
      " |        'xmlcharrefreplace' as well as any other name registered with\n",
      " |        codecs.register_error that can handle UnicodeEncodeErrors.\n",
      " |  \n",
      " |  endswith(...)\n",
      " |      S.endswith(suffix[, start[, end]]) -> bool\n",
      " |      \n",
      " |      Return True if S ends with the specified suffix, False otherwise.\n",
      " |      With optional start, test S beginning at that position.\n",
      " |      With optional end, stop comparing S at that position.\n",
      " |      suffix can also be a tuple of strings to try.\n",
      " |  \n",
      " |  expandtabs(self, /, tabsize=8)\n",
      " |      Return a copy where all tab characters are expanded using spaces.\n",
      " |      \n",
      " |      If tabsize is not given, a tab size of 8 characters is assumed.\n",
      " |  \n",
      " |  find(...)\n",
      " |      S.find(sub[, start[, end]]) -> int\n",
      " |      \n",
      " |      Return the lowest index in S where substring sub is found,\n",
      " |      such that sub is contained within S[start:end].  Optional\n",
      " |      arguments start and end are interpreted as in slice notation.\n",
      " |      \n",
      " |      Return -1 on failure.\n",
      " |  \n",
      " |  format(...)\n",
      " |      S.format(*args, **kwargs) -> str\n",
      " |      \n",
      " |      Return a formatted version of S, using substitutions from args and kwargs.\n",
      " |      The substitutions are identified by braces ('{' and '}').\n",
      " |  \n",
      " |  format_map(...)\n",
      " |      S.format_map(mapping) -> str\n",
      " |      \n",
      " |      Return a formatted version of S, using substitutions from mapping.\n",
      " |      The substitutions are identified by braces ('{' and '}').\n",
      " |  \n",
      " |  index(...)\n",
      " |      S.index(sub[, start[, end]]) -> int\n",
      " |      \n",
      " |      Return the lowest index in S where substring sub is found,\n",
      " |      such that sub is contained within S[start:end].  Optional\n",
      " |      arguments start and end are interpreted as in slice notation.\n",
      " |      \n",
      " |      Raises ValueError when the substring is not found.\n",
      " |  \n",
      " |  isalnum(self, /)\n",
      " |      Return True if the string is an alpha-numeric string, False otherwise.\n",
      " |      \n",
      " |      A string is alpha-numeric if all characters in the string are alpha-numeric and\n",
      " |      there is at least one character in the string.\n",
      " |  \n",
      " |  isalpha(self, /)\n",
      " |      Return True if the string is an alphabetic string, False otherwise.\n",
      " |      \n",
      " |      A string is alphabetic if all characters in the string are alphabetic and there\n",
      " |      is at least one character in the string.\n",
      " |  \n",
      " |  isascii(self, /)\n",
      " |      Return True if all characters in the string are ASCII, False otherwise.\n",
      " |      \n",
      " |      ASCII characters have code points in the range U+0000-U+007F.\n",
      " |      Empty string is ASCII too.\n",
      " |  \n",
      " |  isdecimal(self, /)\n",
      " |      Return True if the string is a decimal string, False otherwise.\n",
      " |      \n",
      " |      A string is a decimal string if all characters in the string are decimal and\n",
      " |      there is at least one character in the string.\n",
      " |  \n",
      " |  isdigit(self, /)\n",
      " |      Return True if the string is a digit string, False otherwise.\n",
      " |      \n",
      " |      A string is a digit string if all characters in the string are digits and there\n",
      " |      is at least one character in the string.\n",
      " |  \n",
      " |  isidentifier(self, /)\n",
      " |      Return True if the string is a valid Python identifier, False otherwise.\n",
      " |      \n",
      " |      Call keyword.iskeyword(s) to test whether string s is a reserved identifier,\n",
      " |      such as \"def\" or \"class\".\n",
      " |  \n",
      " |  islower(self, /)\n",
      " |      Return True if the string is a lowercase string, False otherwise.\n",
      " |      \n",
      " |      A string is lowercase if all cased characters in the string are lowercase and\n",
      " |      there is at least one cased character in the string.\n",
      " |  \n",
      " |  isnumeric(self, /)\n",
      " |      Return True if the string is a numeric string, False otherwise.\n",
      " |      \n",
      " |      A string is numeric if all characters in the string are numeric and there is at\n",
      " |      least one character in the string.\n",
      " |  \n",
      " |  isprintable(self, /)\n",
      " |      Return True if the string is printable, False otherwise.\n",
      " |      \n",
      " |      A string is printable if all of its characters are considered printable in\n",
      " |      repr() or if it is empty.\n",
      " |  \n",
      " |  isspace(self, /)\n",
      " |      Return True if the string is a whitespace string, False otherwise.\n",
      " |      \n",
      " |      A string is whitespace if all characters in the string are whitespace and there\n",
      " |      is at least one character in the string.\n",
      " |  \n",
      " |  istitle(self, /)\n",
      " |      Return True if the string is a title-cased string, False otherwise.\n",
      " |      \n",
      " |      In a title-cased string, upper- and title-case characters may only\n",
      " |      follow uncased characters and lowercase characters only cased ones.\n",
      " |  \n",
      " |  isupper(self, /)\n",
      " |      Return True if the string is an uppercase string, False otherwise.\n",
      " |      \n",
      " |      A string is uppercase if all cased characters in the string are uppercase and\n",
      " |      there is at least one cased character in the string.\n",
      " |  \n",
      " |  join(self, iterable, /)\n",
      " |      Concatenate any number of strings.\n",
      " |      \n",
      " |      The string whose method is called is inserted in between each given string.\n",
      " |      The result is returned as a new string.\n",
      " |      \n",
      " |      Example: '.'.join(['ab', 'pq', 'rs']) -> 'ab.pq.rs'\n",
      " |  \n",
      " |  ljust(self, width, fillchar=' ', /)\n",
      " |      Return a left-justified string of length width.\n",
      " |      \n",
      " |      Padding is done using the specified fill character (default is a space).\n",
      " |  \n",
      " |  lower(self, /)\n",
      " |      Return a copy of the string converted to lowercase.\n",
      " |  \n",
      " |  lstrip(self, chars=None, /)\n",
      " |      Return a copy of the string with leading whitespace removed.\n",
      " |      \n",
      " |      If chars is given and not None, remove characters in chars instead.\n",
      " |  \n",
      " |  partition(self, sep, /)\n",
      " |      Partition the string into three parts using the given separator.\n",
      " |      \n",
      " |      This will search for the separator in the string.  If the separator is found,\n",
      " |      returns a 3-tuple containing the part before the separator, the separator\n",
      " |      itself, and the part after it.\n",
      " |      \n",
      " |      If the separator is not found, returns a 3-tuple containing the original string\n",
      " |      and two empty strings.\n",
      " |  \n",
      " |  replace(self, old, new, count=-1, /)\n",
      " |      Return a copy with all occurrences of substring old replaced by new.\n",
      " |      \n",
      " |        count\n",
      " |          Maximum number of occurrences to replace.\n",
      " |          -1 (the default value) means replace all occurrences.\n",
      " |      \n",
      " |      If the optional argument count is given, only the first count occurrences are\n",
      " |      replaced.\n",
      " |  \n",
      " |  rfind(...)\n",
      " |      S.rfind(sub[, start[, end]]) -> int\n",
      " |      \n",
      " |      Return the highest index in S where substring sub is found,\n",
      " |      such that sub is contained within S[start:end].  Optional\n",
      " |      arguments start and end are interpreted as in slice notation.\n",
      " |      \n",
      " |      Return -1 on failure.\n",
      " |  \n",
      " |  rindex(...)\n",
      " |      S.rindex(sub[, start[, end]]) -> int\n",
      " |      \n",
      " |      Return the highest index in S where substring sub is found,\n",
      " |      such that sub is contained within S[start:end].  Optional\n",
      " |      arguments start and end are interpreted as in slice notation.\n",
      " |      \n",
      " |      Raises ValueError when the substring is not found.\n",
      " |  \n",
      " |  rjust(self, width, fillchar=' ', /)\n",
      " |      Return a right-justified string of length width.\n",
      " |      \n",
      " |      Padding is done using the specified fill character (default is a space).\n",
      " |  \n",
      " |  rpartition(self, sep, /)\n",
      " |      Partition the string into three parts using the given separator.\n",
      " |      \n",
      " |      This will search for the separator in the string, starting at the end. If\n",
      " |      the separator is found, returns a 3-tuple containing the part before the\n",
      " |      separator, the separator itself, and the part after it.\n",
      " |      \n",
      " |      If the separator is not found, returns a 3-tuple containing two empty strings\n",
      " |      and the original string.\n",
      " |  \n",
      " |  rsplit(self, /, sep=None, maxsplit=-1)\n",
      " |      Return a list of the words in the string, using sep as the delimiter string.\n",
      " |      \n",
      " |        sep\n",
      " |          The delimiter according which to split the string.\n",
      " |          None (the default value) means split according to any whitespace,\n",
      " |          and discard empty strings from the result.\n",
      " |        maxsplit\n",
      " |          Maximum number of splits to do.\n",
      " |          -1 (the default value) means no limit.\n",
      " |      \n",
      " |      Splits are done starting at the end of the string and working to the front.\n",
      " |  \n",
      " |  rstrip(self, chars=None, /)\n",
      " |      Return a copy of the string with trailing whitespace removed.\n",
      " |      \n",
      " |      If chars is given and not None, remove characters in chars instead.\n",
      " |  \n",
      " |  split(self, /, sep=None, maxsplit=-1)\n",
      " |      Return a list of the words in the string, using sep as the delimiter string.\n",
      " |      \n",
      " |      sep\n",
      " |        The delimiter according which to split the string.\n",
      " |        None (the default value) means split according to any whitespace,\n",
      " |        and discard empty strings from the result.\n",
      " |      maxsplit\n",
      " |        Maximum number of splits to do.\n",
      " |        -1 (the default value) means no limit.\n",
      " |  \n",
      " |  splitlines(self, /, keepends=False)\n",
      " |      Return a list of the lines in the string, breaking at line boundaries.\n",
      " |      \n",
      " |      Line breaks are not included in the resulting list unless keepends is given and\n",
      " |      true.\n",
      " |  \n",
      " |  startswith(...)\n",
      " |      S.startswith(prefix[, start[, end]]) -> bool\n",
      " |      \n",
      " |      Return True if S starts with the specified prefix, False otherwise.\n",
      " |      With optional start, test S beginning at that position.\n",
      " |      With optional end, stop comparing S at that position.\n",
      " |      prefix can also be a tuple of strings to try.\n",
      " |  \n",
      " |  strip(self, chars=None, /)\n",
      " |      Return a copy of the string with leading and trailing whitespace removed.\n",
      " |      \n",
      " |      If chars is given and not None, remove characters in chars instead.\n",
      " |  \n",
      " |  swapcase(self, /)\n",
      " |      Convert uppercase characters to lowercase and lowercase characters to uppercase.\n",
      " |  \n",
      " |  title(self, /)\n",
      " |      Return a version of the string where each word is titlecased.\n",
      " |      \n",
      " |      More specifically, words start with uppercased characters and all remaining\n",
      " |      cased characters have lower case.\n",
      " |  \n",
      " |  translate(self, table, /)\n",
      " |      Replace each character in the string using the given translation table.\n",
      " |      \n",
      " |        table\n",
      " |          Translation table, which must be a mapping of Unicode ordinals to\n",
      " |          Unicode ordinals, strings, or None.\n",
      " |      \n",
      " |      The table must implement lookup/indexing via __getitem__, for instance a\n",
      " |      dictionary or list.  If this operation raises LookupError, the character is\n",
      " |      left untouched.  Characters mapped to None are deleted.\n",
      " |  \n",
      " |  upper(self, /)\n",
      " |      Return a copy of the string converted to uppercase.\n",
      " |  \n",
      " |  zfill(self, width, /)\n",
      " |      Pad a numeric string with zeros on the left, to fill a field of the given width.\n",
      " |      \n",
      " |      The string is never truncated.\n",
      " |  \n",
      " |  ----------------------------------------------------------------------\n",
      " |  Static methods defined here:\n",
      " |  \n",
      " |  __new__(*args, **kwargs) from builtins.type\n",
      " |      Create and return a new object.  See help(type) for accurate signature.\n",
      " |  \n",
      " |  maketrans(...)\n",
      " |      Return a translation table usable for str.translate().\n",
      " |      \n",
      " |      If there is only one argument, it must be a dictionary mapping Unicode\n",
      " |      ordinals (integers) or characters to Unicode ordinals, strings or None.\n",
      " |      Character keys will be then converted to ordinals.\n",
      " |      If there are two arguments, they must be strings of equal length, and\n",
      " |      in the resulting dictionary, each character in x will be mapped to the\n",
      " |      character at the same position in y. If there is a third argument, it\n",
      " |      must be a string, whose characters will be mapped to None in the result.\n",
      "\n"
     ]
    }
   ],
   "source": [
    "help(str)"
   ]
  },
  {
   "cell_type": "code",
   "execution_count": 60,
   "metadata": {
    "slideshow": {
     "slide_type": "slide"
    }
   },
   "outputs": [
    {
     "name": "stdout",
     "output_type": "stream",
     "text": [
      "Help on built-in function sqrt in module math:\n",
      "\n",
      "sqrt(x, /)\n",
      "    Return the square root of x.\n",
      "\n"
     ]
    }
   ],
   "source": [
    "help(math.sqrt)\n",
    "\n",
    "# install packages using: pip\n",
    "# Dimitris' protip: install packages using conda"
   ]
  },
  {
   "cell_type": "code",
   "execution_count": 61,
   "metadata": {
    "slideshow": {
     "slide_type": "slide"
    }
   },
   "outputs": [
    {
     "data": {
      "text/plain": [
       "1.7320508075688772"
      ]
     },
     "execution_count": 61,
     "metadata": {},
     "output_type": "execute_result"
    }
   ],
   "source": [
    "math.sqrt(3)"
   ]
  },
  {
   "cell_type": "markdown",
   "metadata": {
    "cell_marker": "'''",
    "slideshow": {
     "slide_type": "slide"
    }
   },
   "source": [
    "#### Importing"
   ]
  },
  {
   "cell_type": "code",
   "execution_count": 62,
   "metadata": {
    "slideshow": {
     "slide_type": "-"
    }
   },
   "outputs": [
    {
     "data": {
      "text/plain": [
       "1.7320508075688772"
      ]
     },
     "execution_count": 62,
     "metadata": {},
     "output_type": "execute_result"
    }
   ],
   "source": [
    "import math\n",
    "\n",
    "math.sqrt(3)"
   ]
  },
  {
   "cell_type": "code",
   "execution_count": 63,
   "metadata": {
    "slideshow": {
     "slide_type": "fragment"
    }
   },
   "outputs": [
    {
     "data": {
      "text/plain": [
       "1.7320508075688772"
      ]
     },
     "execution_count": 63,
     "metadata": {},
     "output_type": "execute_result"
    }
   ],
   "source": [
    "import math as m\n",
    "m.sqrt(3)"
   ]
  },
  {
   "cell_type": "code",
   "execution_count": 64,
   "metadata": {
    "slideshow": {
     "slide_type": "fragment"
    }
   },
   "outputs": [],
   "source": [
    "from math import sqrt\n",
    "sqrt(3)"
   ]
  },
  {
   "cell_type": "code",
   "execution_count": null,
   "metadata": {
    "slideshow": {
     "slide_type": "skip"
    }
   },
   "outputs": [],
   "source": [
    "from pprint import pprint"
   ]
  },
  {
   "cell_type": "markdown",
   "metadata": {
    "cell_marker": "'''",
    "slideshow": {
     "slide_type": "slide"
    }
   },
   "source": [
    "### Documentation and commenting your code\n",
    "\n",
    "\n",
    "Remember `help()`?\n",
    "\n",
    "Works because somebody else has documented their code!"
   ]
  },
  {
   "cell_type": "code",
   "execution_count": 65,
   "metadata": {
    "slideshow": {
     "slide_type": "fragment"
    }
   },
   "outputs": [
    {
     "name": "stdout",
     "output_type": "stream",
     "text": [
      "Help on function process_file in module __main__:\n",
      "\n",
      "process_file(filename, chrom, pos)\n",
      "    Read a vcf file, search for lines matching\n",
      "    chromosome chrom and position pos.\n",
      "    \n",
      "    Print the genotypes of the matching lines.\n",
      "\n"
     ]
    }
   ],
   "source": [
    "def process_file(filename, chrom, pos):\n",
    "    \"\"\"\n",
    "    Read a vcf file, search for lines matching\n",
    "    chromosome chrom and position pos.\n",
    "\n",
    "    Print the genotypes of the matching lines.\n",
    "    \"\"\"\n",
    "    for line in open(filename):\n",
    "        if not line.startswith('#'):\n",
    "            col = line.split('\\t')\n",
    "            if col[0] == chrom and col[1] == pos:\n",
    "                print(col[9:])\n",
    "help(process_file)                "
   ]
  },
  {
   "cell_type": "code",
   "execution_count": 66,
   "metadata": {
    "slideshow": {
     "slide_type": "fragment"
    }
   },
   "outputs": [
    {
     "name": "stdout",
     "output_type": "stream",
     "text": [
      "Help on function process_file in module __main__:\n",
      "\n",
      "process_file(filename, chrom, pos)\n",
      "    Read a vcf file, search for lines matching\n",
      "    chromosome chrom and position pos.\n",
      "    \n",
      "    Print the genotypes of the matching lines.\n",
      "\n"
     ]
    }
   ],
   "source": [
    "help(process_file)"
   ]
  },
  {
   "cell_type": "markdown",
   "metadata": {
    "cell_marker": "'''",
    "slideshow": {
     "slide_type": "slide"
    }
   },
   "source": [
    "Your code may have two types of users:\n",
    "\n",
    "- library users\n",
    "- maintainers (maybe yourself!)"
   ]
  },
  {
   "cell_type": "markdown",
   "metadata": {
    "cell_marker": "'''",
    "slideshow": {
     "slide_type": "fragment"
    }
   },
   "source": [
    "Write documentation for both of them!\n",
    "\n",
    "- library users (docstrings):\n",
    "  ```python\n",
    "  \"\"\"\n",
    "  What does this function do?\n",
    "  \"\"\"\n",
    "  ```\n",
    "- maintainers (comments):\n",
    "  ```python\n",
    "  # implementation details\n",
    "  ```"
   ]
  },
  {
   "cell_type": "code",
   "execution_count": 67,
   "metadata": {
    "slideshow": {
     "slide_type": "skip"
    }
   },
   "outputs": [],
   "source": [
    "def process_file(filename, chrom, pos):\n",
    "    \"\"\"Read a vcf file, search for lines matching \n",
    "    chromosome chrom and position pos.\n",
    "\n",
    "    Print the genotypes of the matching lines.\n",
    "    \"\"\"\n",
    "    for line in open(filename):\n",
    "        if not line.startswith('#'):  # skip comments\n",
    "            col = line.split('\\t')  # file is tab separated\n",
    "            # Check if chrom and pos match\n",
    "            if col[0] == chrom and col[1] == pos:\n",
    "                # genotype starts at column index 9\n",
    "                print(col[9:])"
   ]
  },
  {
   "cell_type": "markdown",
   "metadata": {
    "cell_marker": "'''",
    "slideshow": {
     "slide_type": "slide"
    }
   },
   "source": [
    "#### Documentation:"
   ]
  },
  {
   "cell_type": "markdown",
   "metadata": {
    "cell_marker": "'''"
   },
   "source": [
    "- At the beginning of the file\n",
    "\n",
    "   ```python\n",
    "   \"\"\"\n",
    "   This module provides functions for...\n",
    "   \"\"\"\n",
    "   ````"
   ]
  },
  {
   "cell_type": "markdown",
   "metadata": {
    "cell_marker": "'''"
   },
   "source": [
    "- For every function\n",
    "\n",
    "    ```python\n",
    "    def make_list(x):\n",
    "        \"\"\"Returns a random list of length x.\"\"\"\n",
    "        pass\n",
    "    ```"
   ]
  },
  {
   "cell_type": "markdown",
   "metadata": {
    "cell_marker": "'''",
    "slideshow": {
     "slide_type": "slide"
    }
   },
   "source": [
    "#### Comments:"
   ]
  },
  {
   "cell_type": "markdown",
   "metadata": {
    "cell_marker": "'''"
   },
   "source": [
    " - Wherever the code is hard to understand\n"
   ]
  },
  {
   "cell_type": "markdown",
   "metadata": {
    "cell_marker": "'''"
   },
   "source": [
    "```py\n",
    "my_list[5] += other_list[3]  # explain why you do this!\n",
    "```"
   ]
  },
  {
   "cell_type": "markdown",
   "metadata": {
    "cell_marker": "'''",
    "slideshow": {
     "slide_type": "slide"
    }
   },
   "source": [
    "### Read more:\n",
    "\n",
    "https://realpython.com/documenting-python-code/\n",
    "\n",
    "https://www.python.org/dev/peps/pep-0008/?#comments"
   ]
  },
  {
   "cell_type": "markdown",
   "metadata": {
    "cell_marker": "'''",
    "slideshow": {
     "slide_type": "slide"
    }
   },
   "source": [
    "### Formatting"
   ]
  },
  {
   "cell_type": "code",
   "execution_count": 68,
   "metadata": {},
   "outputs": [
    {
     "name": "stdout",
     "output_type": "stream",
     "text": [
      "The result is: Toy Story with rating: 10\n"
     ]
    }
   ],
   "source": [
    "title = 'Toy Story'\n",
    "rating = 10\n",
    "print('The result is: ' + title + ' with rating: ' + str(rating))"
   ]
  },
  {
   "cell_type": "code",
   "execution_count": 69,
   "metadata": {},
   "outputs": [
    {
     "name": "stdout",
     "output_type": "stream",
     "text": [
      "The result is: Toy Story with rating: 10\n"
     ]
    }
   ],
   "source": [
    "# f-strings (since python 3.6)\n",
    "print(f'The result is: {title} with rating: {rating}')"
   ]
  },
  {
   "cell_type": "code",
   "execution_count": 70,
   "metadata": {},
   "outputs": [
    {
     "name": "stdout",
     "output_type": "stream",
     "text": [
      "The result is: Toy Story with rating: 10\n"
     ]
    }
   ],
   "source": [
    "# format method\n",
    "print('The result is: {} with rating: {}'.format(title, rating))"
   ]
  },
  {
   "cell_type": "code",
   "execution_count": 71,
   "metadata": {},
   "outputs": [
    {
     "name": "stdout",
     "output_type": "stream",
     "text": [
      "The result is: Toy Story with rating: 10\n"
     ]
    }
   ],
   "source": [
    "# the ancient way (python 2)\n",
    "print('The result is: %s with rating: %s' % (title, rating))"
   ]
  },
  {
   "cell_type": "markdown",
   "metadata": {
    "cell_marker": "'''"
   },
   "source": [
    "Learn more from the Python docs: https://docs.python.org/3.4/library/string.html#format-string-syntax"
   ]
  },
  {
   "cell_type": "markdown",
   "metadata": {
    "cell_marker": "'''",
    "slideshow": {
     "slide_type": "skip"
    }
   },
   "source": [
    "#### Exercise 2\n",
    "\n",
    "\n",
    "```py\n",
    "pick_movie(year=1996, rating_min=8.5)\n",
    "The Bandit\n",
    "pick_movie(rating_max=8.0, genre=\"Mystery\")\n",
    "Twelve Monkeys\n",
    "```\n",
    "\n",
    "- Notebook Day_4_Exercise_2"
   ]
  },
  {
   "cell_type": "markdown",
   "metadata": {
    "slideshow": {
     "slide_type": "slide"
    }
   },
   "source": [
    "### Pandas\n",
    "- Library for working with tabular data\n",
    "- Data analysis: \n",
    "   - filter\n",
    "   - transform\n",
    "   - aggregate\n",
    "   - plot\n",
    "- Main hero: the `DataFrame` type:"
   ]
  },
  {
   "attachments": {
    "01_table_dataframe1.svg": {
     "image/svg+xml": [
      "PD94bWwgdmVyc2lvbj0iMS4wIiBlbmNvZGluZz0iVVRGLTgiIHN0YW5kYWxvbmU9Im5vIj8+CjwhLS0gQ3JlYXRlZCB3aXRoIElua3NjYXBlIChodHRwOi8vd3d3Lmlua3NjYXBlLm9yZy8pIC0tPgoKPHN2ZwogICB4bWxuczpkYz0iaHR0cDovL3B1cmwub3JnL2RjL2VsZW1lbnRzLzEuMS8iCiAgIHhtbG5zOmNjPSJodHRwOi8vY3JlYXRpdmVjb21tb25zLm9yZy9ucyMiCiAgIHhtbG5zOnJkZj0iaHR0cDovL3d3dy53My5vcmcvMTk5OS8wMi8yMi1yZGYtc3ludGF4LW5zIyIKICAgeG1sbnM6c3ZnPSJodHRwOi8vd3d3LnczLm9yZy8yMDAwL3N2ZyIKICAgeG1sbnM9Imh0dHA6Ly93d3cudzMub3JnLzIwMDAvc3ZnIgogICB4bWxuczpzb2RpcG9kaT0iaHR0cDovL3NvZGlwb2RpLnNvdXJjZWZvcmdlLm5ldC9EVEQvc29kaXBvZGktMC5kdGQiCiAgIHhtbG5zOmlua3NjYXBlPSJodHRwOi8vd3d3Lmlua3NjYXBlLm9yZy9uYW1lc3BhY2VzL2lua3NjYXBlIgogICB3aWR0aD0iMTQzLjE5NDk2bW0iCiAgIGhlaWdodD0iMTA0LjMwNjE1bW0iCiAgIHZpZXdCb3g9IjAgMCAxNDMuMTk0OTYgMTA0LjMwNjE1IgogICB2ZXJzaW9uPSIxLjEiCiAgIGlkPSJzdmcxMDI4MCIKICAgaW5rc2NhcGU6dmVyc2lvbj0iMC45Mi40IChmOGRjZTkxLCAyMDE5LTA4LTAyKSIKICAgc29kaXBvZGk6ZG9jbmFtZT0iMDFfdGFibGVfZGF0YWZyYW1lLnN2ZyI+CiAgPGRlZnMKICAgICBpZD0iZGVmczEwMjc0IiAvPgogIDxzb2RpcG9kaTpuYW1lZHZpZXcKICAgICBpZD0iYmFzZSIKICAgICBwYWdlY29sb3I9IiNmZmZmZmYiCiAgICAgYm9yZGVyY29sb3I9IiM2NjY2NjYiCiAgICAgYm9yZGVyb3BhY2l0eT0iMS4wIgogICAgIGlua3NjYXBlOnBhZ2VvcGFjaXR5PSIwLjAiCiAgICAgaW5rc2NhcGU6cGFnZXNoYWRvdz0iMiIKICAgICBpbmtzY2FwZTp6b29tPSIwLjciCiAgICAgaW5rc2NhcGU6Y3g9IjM1NS42NTMxNyIKICAgICBpbmtzY2FwZTpjeT0iMTQyLjgwMjQ1IgogICAgIGlua3NjYXBlOmRvY3VtZW50LXVuaXRzPSJtbSIKICAgICBpbmtzY2FwZTpjdXJyZW50LWxheWVyPSJsYXllcjEiCiAgICAgc2hvd2dyaWQ9ImZhbHNlIgogICAgIGlua3NjYXBlOndpbmRvdy13aWR0aD0iMTU1MSIKICAgICBpbmtzY2FwZTp3aW5kb3ctaGVpZ2h0PSI4NDkiCiAgICAgaW5rc2NhcGU6d2luZG93LXg9IjQ5IgogICAgIGlua3NjYXBlOndpbmRvdy15PSIyNyIKICAgICBpbmtzY2FwZTp3aW5kb3ctbWF4aW1pemVkPSIxIgogICAgIGZpdC1tYXJnaW4tdG9wPSIwIgogICAgIGZpdC1tYXJnaW4tbGVmdD0iMCIKICAgICBmaXQtbWFyZ2luLXJpZ2h0PSIwIgogICAgIGZpdC1tYXJnaW4tYm90dG9tPSIwIiAvPgogIDxtZXRhZGF0YQogICAgIGlkPSJtZXRhZGF0YTEwMjc3Ij4KICAgIDxyZGY6UkRGPgogICAgICA8Y2M6V29yawogICAgICAgICByZGY6YWJvdXQ9IiI+CiAgICAgICAgPGRjOmZvcm1hdD5pbWFnZS9zdmcreG1sPC9kYzpmb3JtYXQ+CiAgICAgICAgPGRjOnR5cGUKICAgICAgICAgICByZGY6cmVzb3VyY2U9Imh0dHA6Ly9wdXJsLm9yZy9kYy9kY21pdHlwZS9TdGlsbEltYWdlIiAvPgogICAgICAgIDxkYzp0aXRsZSAvPgogICAgICA8L2NjOldvcms+CiAgICA8L3JkZjpSREY+CiAgPC9tZXRhZGF0YT4KICA8ZwogICAgIGlua3NjYXBlOmxhYmVsPSJMYXllciAxIgogICAgIGlua3NjYXBlOmdyb3VwbW9kZT0ibGF5ZXIiCiAgICAgaWQ9ImxheWVyMSIKICAgICB0cmFuc2Zvcm09InRyYW5zbGF0ZSgtMjIuNjEzNDE5LC05Ni4wOTc3ODkpIj4KICAgIDxnCiAgICAgICBpZD0iZzg4OCIKICAgICAgIHRyYW5zZm9ybT0ibWF0cml4KDAuODk5OTA3NTMsMCwwLDAuOSw5LjQzNjQxNjMsMTQuODI1MDg4KSIKICAgICAgIHN0eWxlPSJzdHJva2Utd2lkdGg6MS4xMTExNjgxNSI+CiAgICAgIDxwYXRoCiAgICAgICAgIGlua3NjYXBlOmNvbm5lY3Rvci1jdXJ2YXR1cmU9IjAiCiAgICAgICAgIGlkPSJwYXRoNDg5MS0xLTUwLTgtMi0xIgogICAgICAgICBzdHlsZT0iZmlsbDojYWZhYmFiO2ZpbGwtb3BhY2l0eToxO2ZpbGwtcnVsZTpldmVub2RkO3N0cm9rZTojZmZmZmZmO3N0cm9rZS13aWR0aDowLjU2ODk3MjA1O3N0cm9rZS1taXRlcmxpbWl0OjQ7c3Ryb2tlLWRhc2hhcnJheTpub25lO3N0cm9rZS1vcGFjaXR5OjEiCiAgICAgICAgIGQ9Ik0gMjMuNjQ3MzQ5LDE0MS4xNjI4MSBIIDQ4LjUzNTI5IFYgMTI4Ljk3NDg1IEggMjMuNjQ3MzQ5IFoiIC8+CiAgICAgIDxwYXRoCiAgICAgICAgIGlua3NjYXBlOmNvbm5lY3Rvci1jdXJ2YXR1cmU9IjAiCiAgICAgICAgIGlkPSJwYXRoNDg5MS0xLTUwLTgtMi03IgogICAgICAgICBzdHlsZT0iZmlsbDojYWZhYmFiO2ZpbGwtb3BhY2l0eToxO2ZpbGwtcnVsZTpldmVub2RkO3N0cm9rZTojZmZmZmZmO3N0cm9rZS13aWR0aDowLjU2ODk3MjA1O3N0cm9rZS1taXRlcmxpbWl0OjQ7c3Ryb2tlLWRhc2hhcnJheTpub25lO3N0cm9rZS1vcGFjaXR5OjEiCiAgICAgICAgIGQ9Ik0gNTAuMDYzMzM5LDEyNy40NDY4IEggNzQuOTUxMjkxIFYgMTE1LjI1ODg0IEggNTAuMDYzMzM5IFoiIC8+CiAgICAgIDxwYXRoCiAgICAgICAgIGlua3NjYXBlOmNvbm5lY3Rvci1jdXJ2YXR1cmU9IjAiCiAgICAgICAgIGlkPSJwYXRoNDg5MS0xLTUwLTgtMi0xLTkiCiAgICAgICAgIHN0eWxlPSJmaWxsOiNhZmFiYWI7ZmlsbC1vcGFjaXR5OjAuMzkyMTU2ODY7ZmlsbC1ydWxlOmV2ZW5vZGQ7c3Ryb2tlOiNmZmZmZmY7c3Ryb2tlLXdpZHRoOjAuNTY4OTcyMDU7c3Ryb2tlLW1pdGVybGltaXQ6NDtzdHJva2UtZGFzaGFycmF5Om5vbmU7c3Ryb2tlLW9wYWNpdHk6MSIKICAgICAgICAgZD0iTSA1MC4wNjMzMzksMTQxLjE2MjgxIEggNzQuOTUxMjkxIFYgMTI4Ljk3NDg1IEggNTAuMDYzMzM5IFoiIC8+CiAgICAgIDxwYXRoCiAgICAgICAgIGlua3NjYXBlOmNvbm5lY3Rvci1jdXJ2YXR1cmU9IjAiCiAgICAgICAgIGlkPSJwYXRoNDg5MS0xLTUwLTgtMi0yIgogICAgICAgICBzdHlsZT0iZmlsbDojYWZhYmFiO2ZpbGwtb3BhY2l0eToxO2ZpbGwtcnVsZTpldmVub2RkO3N0cm9rZTojZmZmZmZmO3N0cm9rZS13aWR0aDowLjU2ODk3MjA1O3N0cm9rZS1taXRlcmxpbWl0OjQ7c3Ryb2tlLWRhc2hhcnJheTpub25lO3N0cm9rZS1vcGFjaXR5OjEiCiAgICAgICAgIGQ9Ik0gMjMuNjQ3MzM5LDE1My44NjI4MSBIIDQ4LjUzNTI5IFYgMTQxLjY3NDg2IEggMjMuNjQ3MzM5IFoiIC8+CiAgICAgIDxwYXRoCiAgICAgICAgIGlua3NjYXBlOmNvbm5lY3Rvci1jdXJ2YXR1cmU9IjAiCiAgICAgICAgIGlkPSJwYXRoNDg5MS0xLTUwLTgtMi03LTUiCiAgICAgICAgIHN0eWxlPSJmaWxsOiNhZmFiYWI7ZmlsbC1vcGFjaXR5OjAuMzkyMTU2ODY7ZmlsbC1ydWxlOmV2ZW5vZGQ7c3Ryb2tlOiNmZmZmZmY7c3Ryb2tlLXdpZHRoOjAuNTY4OTcyMDU7c3Ryb2tlLW1pdGVybGltaXQ6NDtzdHJva2UtZGFzaGFycmF5Om5vbmU7c3Ryb2tlLW9wYWNpdHk6MSIKICAgICAgICAgZD0iTSA1MC4wNjMzMzksMTUzLjg2MjgxIEggNzQuOTUxMjkxIFYgMTQxLjY3NDg2IEggNTAuMDYzMzM5IFoiIC8+CiAgICAgIDxwYXRoCiAgICAgICAgIGlua3NjYXBlOmNvbm5lY3Rvci1jdXJ2YXR1cmU9IjAiCiAgICAgICAgIGlkPSJwYXRoNDg5MS0xLTUwLTgtMi02IgogICAgICAgICBzdHlsZT0iZmlsbDojYWZhYmFiO2ZpbGwtb3BhY2l0eToxO2ZpbGwtcnVsZTpldmVub2RkO3N0cm9rZTojZmZmZmZmO3N0cm9rZS13aWR0aDowLjU2ODk3MjA1O3N0cm9rZS1taXRlcmxpbWl0OjQ7c3Ryb2tlLWRhc2hhcnJheTpub25lO3N0cm9rZS1vcGFjaXR5OjEiCiAgICAgICAgIGQ9Ik0gNzUuNDYzMzQxLDEyNy40NDY4IEggMTAwLjM1MTMgViAxMTUuMjU4ODQgSCA3NS40NjMzNDEgWiIgLz4KICAgICAgPHBhdGgKICAgICAgICAgaW5rc2NhcGU6Y29ubmVjdG9yLWN1cnZhdHVyZT0iMCIKICAgICAgICAgaWQ9InBhdGg0ODkxLTEtNTAtOC0yLTEtNSIKICAgICAgICAgc3R5bGU9ImZpbGw6I2FmYWJhYjtmaWxsLW9wYWNpdHk6MC4zOTIxNTY4NjtmaWxsLXJ1bGU6ZXZlbm9kZDtzdHJva2U6I2ZmZmZmZjtzdHJva2Utd2lkdGg6MC41Njg5NzIwNTtzdHJva2UtbWl0ZXJsaW1pdDo0O3N0cm9rZS1kYXNoYXJyYXk6bm9uZTtzdHJva2Utb3BhY2l0eToxIgogICAgICAgICBkPSJNIDc1LjQ2MzM0MSwxNDEuMTYyODEgSCAxMDAuMzUxMyBWIDEyOC45NzQ4NSBIIDc1LjQ2MzM0MSBaIiAvPgogICAgICA8cGF0aAogICAgICAgICBpbmtzY2FwZTpjb25uZWN0b3ItY3VydmF0dXJlPSIwIgogICAgICAgICBpZD0icGF0aDQ4OTEtMS01MC04LTItMi0zIgogICAgICAgICBzdHlsZT0iZmlsbDojYWZhYmFiO2ZpbGwtb3BhY2l0eTowLjM5MjE1Njg2O2ZpbGwtcnVsZTpldmVub2RkO3N0cm9rZTojZmZmZmZmO3N0cm9rZS13aWR0aDowLjU2ODk3MjA1O3N0cm9rZS1taXRlcmxpbWl0OjQ7c3Ryb2tlLWRhc2hhcnJheTpub25lO3N0cm9rZS1vcGFjaXR5OjEiCiAgICAgICAgIGQ9Ik0gNzUuNDYzMzQxLDE1My44NjI4MSBIIDEwMC4zNTEzIFYgMTQxLjY3NDg2IEggNzUuNDYzMzQxIFoiIC8+CiAgICAgIDxwYXRoCiAgICAgICAgIGlua3NjYXBlOmNvbm5lY3Rvci1jdXJ2YXR1cmU9IjAiCiAgICAgICAgIGlkPSJwYXRoNDg5MS0xLTUwLTgtMi0xLTctNSIKICAgICAgICAgc3R5bGU9ImZpbGw6I2FmYWJhYjtmaWxsLW9wYWNpdHk6MTtmaWxsLXJ1bGU6ZXZlbm9kZDtzdHJva2U6I2ZmZmZmZjtzdHJva2Utd2lkdGg6MC41Njg5NzIwNTtzdHJva2UtbWl0ZXJsaW1pdDo0O3N0cm9rZS1kYXNoYXJyYXk6bm9uZTtzdHJva2Utb3BhY2l0eToxIgogICAgICAgICBkPSJNIDIzLjY0NzM0OSwxNzkuMjYyODQgSCA0OC41MzUyOSBWIDE2Ny4wNzQ4NyBIIDIzLjY0NzM0OSBaIiAvPgogICAgICA8cGF0aAogICAgICAgICBpbmtzY2FwZTpjb25uZWN0b3ItY3VydmF0dXJlPSIwIgogICAgICAgICBpZD0icGF0aDQ4OTEtMS01MC04LTItMS05LTgtMCIKICAgICAgICAgc3R5bGU9ImZpbGw6I2FmYWJhYjtmaWxsLW9wYWNpdHk6MC4zOTIxNTY4NjtmaWxsLXJ1bGU6ZXZlbm9kZDtzdHJva2U6I2ZmZmZmZjtzdHJva2Utd2lkdGg6MC41Njg5NzIwNTtzdHJva2UtbWl0ZXJsaW1pdDo0O3N0cm9rZS1kYXNoYXJyYXk6bm9uZTtzdHJva2Utb3BhY2l0eToxIgogICAgICAgICBkPSJNIDUwLjA2MzMzOSwxNzkuMjYyODQgSCA3NC45NTEyOTEgViAxNjcuMDc0ODcgSCA1MC4wNjMzMzkgWiIgLz4KICAgICAgPHBhdGgKICAgICAgICAgaW5rc2NhcGU6Y29ubmVjdG9yLWN1cnZhdHVyZT0iMCIKICAgICAgICAgaWQ9InBhdGg0ODkxLTEtNTAtOC0yLTEtNy04LTUiCiAgICAgICAgIHN0eWxlPSJmaWxsOiNhZmFiYWI7ZmlsbC1vcGFjaXR5OjAuMzkyMTU2ODY7ZmlsbC1ydWxlOmV2ZW5vZGQ7c3Ryb2tlOiNmZmZmZmY7c3Ryb2tlLXdpZHRoOjAuNTY4OTcyMDU7c3Ryb2tlLW1pdGVybGltaXQ6NDtzdHJva2UtZGFzaGFycmF5Om5vbmU7c3Ryb2tlLW9wYWNpdHk6MSIKICAgICAgICAgZD0iTSA3NS40NjMzNDEsMTc5LjI2Mjg0IEggMTAwLjM1MTMgViAxNjcuMDc0ODcgSCA3NS40NjMzNDEgWiIgLz4KICAgICAgPHBhdGgKICAgICAgICAgaW5rc2NhcGU6Y29ubmVjdG9yLWN1cnZhdHVyZT0iMCIKICAgICAgICAgaWQ9InBhdGg0ODkxLTEtNTAtOC0yLTEtNy01LTIiCiAgICAgICAgIHN0eWxlPSJmaWxsOiNhZmFiYWI7ZmlsbC1vcGFjaXR5OjE7ZmlsbC1ydWxlOmV2ZW5vZGQ7c3Ryb2tlOiNmZmZmZmY7c3Ryb2tlLXdpZHRoOjAuNTY4OTcyMDU7c3Ryb2tlLW1pdGVybGltaXQ6NDtzdHJva2UtZGFzaGFycmF5Om5vbmU7c3Ryb2tlLW9wYWNpdHk6MSIKICAgICAgICAgZD0iTSAyMy42NDczNDksMTkxLjk2Mjg0IEggNDguNTM1MjkgViAxNzkuNzc0ODggSCAyMy42NDczNDkgWiIgLz4KICAgICAgPHBhdGgKICAgICAgICAgaW5rc2NhcGU6Y29ubmVjdG9yLWN1cnZhdHVyZT0iMCIKICAgICAgICAgaWQ9InBhdGg0ODkxLTEtNTAtOC0yLTEtOS04LTAtNyIKICAgICAgICAgc3R5bGU9ImZpbGw6I2FmYWJhYjtmaWxsLW9wYWNpdHk6MC4zOTIxNTY4NjtmaWxsLXJ1bGU6ZXZlbm9kZDtzdHJva2U6I2ZmZmZmZjtzdHJva2Utd2lkdGg6MC41Njg5NzIwNTtzdHJva2UtbWl0ZXJsaW1pdDo0O3N0cm9rZS1kYXNoYXJyYXk6bm9uZTtzdHJva2Utb3BhY2l0eToxIgogICAgICAgICBkPSJNIDUwLjA2MzMzOSwxOTEuOTYyODQgSCA3NC45NTEyOTEgViAxNzkuNzc0ODggSCA1MC4wNjMzMzkgWiIgLz4KICAgICAgPHBhdGgKICAgICAgICAgaW5rc2NhcGU6Y29ubmVjdG9yLWN1cnZhdHVyZT0iMCIKICAgICAgICAgaWQ9InBhdGg0ODkxLTEtNTAtOC0yLTEtNy04LTUtMiIKICAgICAgICAgc3R5bGU9ImZpbGw6I2FmYWJhYjtmaWxsLW9wYWNpdHk6MC4zOTIxNTY4NjtmaWxsLXJ1bGU6ZXZlbm9kZDtzdHJva2U6I2ZmZmZmZjtzdHJva2Utd2lkdGg6MC41Njg5NzIwNTtzdHJva2UtbWl0ZXJsaW1pdDo0O3N0cm9rZS1kYXNoYXJyYXk6bm9uZTtzdHJva2Utb3BhY2l0eToxIgogICAgICAgICBkPSJNIDc1LjQ2MzM0MSwxOTEuOTYyODQgSCAxMDAuMzUxMyBWIDE3OS43NzQ4OCBIIDc1LjQ2MzM0MSBaIiAvPgogICAgICA8cGF0aAogICAgICAgICBpbmtzY2FwZTpjb25uZWN0b3ItY3VydmF0dXJlPSIwIgogICAgICAgICBpZD0icGF0aDQ4OTEtMS01MC04LTItNy04IgogICAgICAgICBzdHlsZT0iZmlsbDojYWZhYmFiO2ZpbGwtb3BhY2l0eToxO2ZpbGwtcnVsZTpldmVub2RkO3N0cm9rZTojZmZmZmZmO3N0cm9rZS13aWR0aDowLjU2ODk3MjA1O3N0cm9rZS1taXRlcmxpbWl0OjQ7c3Ryb2tlLWRhc2hhcnJheTpub25lO3N0cm9rZS1vcGFjaXR5OjEiCiAgICAgICAgIGQ9Im0gMTAwLjg2MzM0LDEyNy40NDY4IGggMjQuODg3OTQgdiAtMTIuMTg3OTYgaCAtMjQuODg3OTQgeiIgLz4KICAgICAgPHBhdGgKICAgICAgICAgaW5rc2NhcGU6Y29ubmVjdG9yLWN1cnZhdHVyZT0iMCIKICAgICAgICAgaWQ9InBhdGg0ODkxLTEtNTAtOC0yLTEtOS00IgogICAgICAgICBzdHlsZT0iZmlsbDojYWZhYmFiO2ZpbGwtb3BhY2l0eTowLjM5MjE1Njg2O2ZpbGwtcnVsZTpldmVub2RkO3N0cm9rZTojZmZmZmZmO3N0cm9rZS13aWR0aDowLjU2ODk3MjA1O3N0cm9rZS1taXRlcmxpbWl0OjQ7c3Ryb2tlLWRhc2hhcnJheTpub25lO3N0cm9rZS1vcGFjaXR5OjEiCiAgICAgICAgIGQ9Im0gMTAwLjg2MzM1LDE0MS4xNjI4MSBoIDI0Ljg4NzkzIHYgLTEyLjE4Nzk2IGggLTI0Ljg4NzkzIHoiIC8+CiAgICAgIDxwYXRoCiAgICAgICAgIGlua3NjYXBlOmNvbm5lY3Rvci1jdXJ2YXR1cmU9IjAiCiAgICAgICAgIGlkPSJwYXRoNDg5MS0xLTUwLTgtMi03LTUtNSIKICAgICAgICAgc3R5bGU9ImZpbGw6I2FmYWJhYjtmaWxsLW9wYWNpdHk6MC4zOTIxNTY4NjtmaWxsLXJ1bGU6ZXZlbm9kZDtzdHJva2U6I2ZmZmZmZjtzdHJva2Utd2lkdGg6MC41Njg5NzIwNTtzdHJva2UtbWl0ZXJsaW1pdDo0O3N0cm9rZS1kYXNoYXJyYXk6bm9uZTtzdHJva2Utb3BhY2l0eToxIgogICAgICAgICBkPSJtIDEwMC44NjMzNCwxNTMuODYyODEgaCAyNC44ODc5NCB2IC0xMi4xODc5NSBoIC0yNC44ODc5NCB6IiAvPgogICAgICA8cGF0aAogICAgICAgICBpbmtzY2FwZTpjb25uZWN0b3ItY3VydmF0dXJlPSIwIgogICAgICAgICBpZD0icGF0aDQ4OTEtMS01MC04LTItMS05LTgtMi03IgogICAgICAgICBzdHlsZT0iZmlsbDojYWZhYmFiO2ZpbGwtb3BhY2l0eTowLjM5MjE1Njg2O2ZpbGwtcnVsZTpldmVub2RkO3N0cm9rZTojZmZmZmZmO3N0cm9rZS13aWR0aDowLjU2ODk3MjA1O3N0cm9rZS1taXRlcmxpbWl0OjQ7c3Ryb2tlLWRhc2hhcnJheTpub25lO3N0cm9rZS1vcGFjaXR5OjEiCiAgICAgICAgIGQ9Im0gMTAwLjg2MzM1LDE3OS4yNjI4NCBoIDI0Ljg4NzkzIHYgLTEyLjE4Nzk3IGggLTI0Ljg4NzkzIHoiIC8+CiAgICAgIDxwYXRoCiAgICAgICAgIGlua3NjYXBlOmNvbm5lY3Rvci1jdXJ2YXR1cmU9IjAiCiAgICAgICAgIGlkPSJwYXRoNDg5MS0xLTUwLTgtMi0xLTktOC0yLTctMSIKICAgICAgICAgc3R5bGU9ImZpbGw6I2FmYWJhYjtmaWxsLW9wYWNpdHk6MC4zOTIxNTY4NjtmaWxsLXJ1bGU6ZXZlbm9kZDtzdHJva2U6I2ZmZmZmZjtzdHJva2Utd2lkdGg6MC41Njg5NzIwNTtzdHJva2UtbWl0ZXJsaW1pdDo0O3N0cm9rZS1kYXNoYXJyYXk6bm9uZTtzdHJva2Utb3BhY2l0eToxIgogICAgICAgICBkPSJtIDEwMC44NjMzNSwxOTEuOTYyODQgaCAyNC44ODc5MyB2IC0xMi4xODc5NiBoIC0yNC44ODc5MyB6IiAvPgogICAgICA8ZwogICAgICAgICBpZD0iZzkzNSIKICAgICAgICAgc3R5bGU9InN0cm9rZS13aWR0aDoxLjExMTE2ODE1Ij4KICAgICAgICA8cGF0aAogICAgICAgICAgIGQ9Ik0gMjMuNjQ3MzQ5LDE2Ni41NjI4MyBIIDQ4LjUzNTI5IFYgMTU0LjM3NDg3IEggMjMuNjQ3MzQ5IFoiCiAgICAgICAgICAgc3R5bGU9ImZpbGw6I2FmYWJhYjtmaWxsLW9wYWNpdHk6MTtmaWxsLXJ1bGU6ZXZlbm9kZDtzdHJva2U6I2ZmZmZmZjtzdHJva2Utd2lkdGg6MC41Njg5NzIwNTtzdHJva2UtbWl0ZXJsaW1pdDo0O3N0cm9rZS1kYXNoYXJyYXk6bm9uZTtzdHJva2Utb3BhY2l0eToxIgogICAgICAgICAgIGlkPSJwYXRoNDg5MS0xLTUwLTgtMi0xLTciCiAgICAgICAgICAgaW5rc2NhcGU6Y29ubmVjdG9yLWN1cnZhdHVyZT0iMCIgLz4KICAgICAgICA8cGF0aAogICAgICAgICAgIGQ9Ik0gNTAuMDYzMzM5LDE2Ni41NjI4MyBIIDc0Ljk1MTI5MSBWIDE1NC4zNzQ4NyBIIDUwLjA2MzMzOSBaIgogICAgICAgICAgIHN0eWxlPSJmaWxsOiNhZmFiYWI7ZmlsbC1vcGFjaXR5OjAuMzkyMTU2ODY7ZmlsbC1ydWxlOmV2ZW5vZGQ7c3Ryb2tlOiNmZmZmZmY7c3Ryb2tlLXdpZHRoOjAuNTY4OTcyMDU7c3Ryb2tlLW1pdGVybGltaXQ6NDtzdHJva2UtZGFzaGFycmF5Om5vbmU7c3Ryb2tlLW9wYWNpdHk6MSIKICAgICAgICAgICBpZD0icGF0aDQ4OTEtMS01MC04LTItMS05LTgiCiAgICAgICAgICAgaW5rc2NhcGU6Y29ubmVjdG9yLWN1cnZhdHVyZT0iMCIgLz4KICAgICAgICA8cGF0aAogICAgICAgICAgIGQ9Ik0gNzUuNDYzMzQxLDE2Ni41NjI4MyBIIDEwMC4zNTEzIFYgMTU0LjM3NDg3IEggNzUuNDYzMzQxIFoiCiAgICAgICAgICAgc3R5bGU9ImZpbGw6I2FmYWJhYjtmaWxsLW9wYWNpdHk6MC4zOTIxNTY4NjtmaWxsLXJ1bGU6ZXZlbm9kZDtzdHJva2U6I2ZmZmZmZjtzdHJva2Utd2lkdGg6MC41Njg5NzIwNTtzdHJva2UtbWl0ZXJsaW1pdDo0O3N0cm9rZS1kYXNoYXJyYXk6bm9uZTtzdHJva2Utb3BhY2l0eToxIgogICAgICAgICAgIGlkPSJwYXRoNDg5MS0xLTUwLTgtMi0xLTctOCIKICAgICAgICAgICBpbmtzY2FwZTpjb25uZWN0b3ItY3VydmF0dXJlPSIwIiAvPgogICAgICAgIDxwYXRoCiAgICAgICAgICAgZD0ibSAxMDAuODYzMzUsMTY2LjU2MjgzIGggMjQuODg3OTMgdiAtMTIuMTg3OTYgaCAtMjQuODg3OTMgeiIKICAgICAgICAgICBzdHlsZT0iZmlsbDojYWZhYmFiO2ZpbGwtb3BhY2l0eTowLjM5MjE1Njg2O2ZpbGwtcnVsZTpldmVub2RkO3N0cm9rZTojZmZmZmZmO3N0cm9rZS13aWR0aDowLjU2ODk3MjA1O3N0cm9rZS1taXRlcmxpbWl0OjQ7c3Ryb2tlLWRhc2hhcnJheTpub25lO3N0cm9rZS1vcGFjaXR5OjEiCiAgICAgICAgICAgaWQ9InBhdGg0ODkxLTEtNTAtOC0yLTEtOS04LTIiCiAgICAgICAgICAgaW5rc2NhcGU6Y29ubmVjdG9yLWN1cnZhdHVyZT0iMCIgLz4KICAgICAgICA8cGF0aAogICAgICAgICAgIGQ9Im0gMTI2LjI2MzM0LDE2Ni41NjI4MyBoIDI0Ljg4NzkyIHYgLTEyLjE4Nzk2IGggLTI0Ljg4NzkyIHoiCiAgICAgICAgICAgc3R5bGU9ImZpbGw6I2FmYWJhYjtmaWxsLW9wYWNpdHk6MC4zOTIxNTY4NjtmaWxsLXJ1bGU6ZXZlbm9kZDtzdHJva2U6I2ZmZmZmZjtzdHJva2Utd2lkdGg6MC41Njg5NzIwNTtzdHJva2UtbWl0ZXJsaW1pdDo0O3N0cm9rZS1kYXNoYXJyYXk6bm9uZTtzdHJva2Utb3BhY2l0eToxIgogICAgICAgICAgIGlkPSJwYXRoNDg5MS0xLTUwLTgtMi0xLTktOC0yLTQiCiAgICAgICAgICAgaW5rc2NhcGU6Y29ubmVjdG9yLWN1cnZhdHVyZT0iMCIgLz4KICAgICAgPC9nPgogICAgICA8cGF0aAogICAgICAgICBpbmtzY2FwZTpjb25uZWN0b3ItY3VydmF0dXJlPSIwIgogICAgICAgICBpZD0icGF0aDQ4OTEtMS01MC04LTItNy04LTIiCiAgICAgICAgIHN0eWxlPSJmaWxsOiNhZmFiYWI7ZmlsbC1vcGFjaXR5OjE7ZmlsbC1ydWxlOmV2ZW5vZGQ7c3Ryb2tlOiNmZmZmZmY7c3Ryb2tlLXdpZHRoOjAuNTY4OTcyMDU7c3Ryb2tlLW1pdGVybGltaXQ6NDtzdHJva2UtZGFzaGFycmF5Om5vbmU7c3Ryb2tlLW9wYWNpdHk6MSIKICAgICAgICAgZD0ibSAxMjYuMjYzMzMsMTI3LjQ0NjggaCAyNC44ODc5MyB2IC0xMi4xODc5NiBoIC0yNC44ODc5MyB6IiAvPgogICAgICA8cGF0aAogICAgICAgICBpbmtzY2FwZTpjb25uZWN0b3ItY3VydmF0dXJlPSIwIgogICAgICAgICBpZD0icGF0aDQ4OTEtMS01MC04LTItMS05LTQtMiIKICAgICAgICAgc3R5bGU9ImZpbGw6I2FmYWJhYjtmaWxsLW9wYWNpdHk6MC4zOTIxNTY4NjtmaWxsLXJ1bGU6ZXZlbm9kZDtzdHJva2U6I2ZmZmZmZjtzdHJva2Utd2lkdGg6MC41Njg5NzIwNTtzdHJva2UtbWl0ZXJsaW1pdDo0O3N0cm9rZS1kYXNoYXJyYXk6bm9uZTtzdHJva2Utb3BhY2l0eToxIgogICAgICAgICBkPSJtIDEyNi4yNjMzNCwxNDEuMTYyODEgaCAyNC44ODc5MiB2IC0xMi4xODc5NiBoIC0yNC44ODc5MiB6IiAvPgogICAgICA8cGF0aAogICAgICAgICBpbmtzY2FwZTpjb25uZWN0b3ItY3VydmF0dXJlPSIwIgogICAgICAgICBpZD0icGF0aDQ4OTEtMS01MC04LTItNy01LTUtMSIKICAgICAgICAgc3R5bGU9ImZpbGw6I2FmYWJhYjtmaWxsLW9wYWNpdHk6MC4zOTIxNTY4NjtmaWxsLXJ1bGU6ZXZlbm9kZDtzdHJva2U6I2ZmZmZmZjtzdHJva2Utd2lkdGg6MC41Njg5NzIwNTtzdHJva2UtbWl0ZXJsaW1pdDo0O3N0cm9rZS1kYXNoYXJyYXk6bm9uZTtzdHJva2Utb3BhY2l0eToxIgogICAgICAgICBkPSJtIDEyNi4yNjMzMywxNTMuODYyODEgaCAyNC44ODc5MyB2IC0xMi4xODc5NSBoIC0yNC44ODc5MyB6IiAvPgogICAgICA8cGF0aAogICAgICAgICBpbmtzY2FwZTpjb25uZWN0b3ItY3VydmF0dXJlPSIwIgogICAgICAgICBpZD0icGF0aDQ4OTEtMS01MC04LTItMS05LTgtMi03LTYiCiAgICAgICAgIHN0eWxlPSJmaWxsOiNhZmFiYWI7ZmlsbC1vcGFjaXR5OjAuMzkyMTU2ODY7ZmlsbC1ydWxlOmV2ZW5vZGQ7c3Ryb2tlOiNmZmZmZmY7c3Ryb2tlLXdpZHRoOjAuNTY4OTcyMDU7c3Ryb2tlLW1pdGVybGltaXQ6NDtzdHJva2UtZGFzaGFycmF5Om5vbmU7c3Ryb2tlLW9wYWNpdHk6MSIKICAgICAgICAgZD0ibSAxMjYuMjYzMzQsMTc5LjI2Mjg0IGggMjQuODg3OTIgdiAtMTIuMTg3OTcgaCAtMjQuODg3OTIgeiIgLz4KICAgICAgPHBhdGgKICAgICAgICAgaW5rc2NhcGU6Y29ubmVjdG9yLWN1cnZhdHVyZT0iMCIKICAgICAgICAgaWQ9InBhdGg0ODkxLTEtNTAtOC0yLTEtOS04LTItNy0xLTIiCiAgICAgICAgIHN0eWxlPSJmaWxsOiNhZmFiYWI7ZmlsbC1vcGFjaXR5OjAuMzkyMTU2ODY7ZmlsbC1ydWxlOmV2ZW5vZGQ7c3Ryb2tlOiNmZmZmZmY7c3Ryb2tlLXdpZHRoOjAuNTY4OTcyMDU7c3Ryb2tlLW1pdGVybGltaXQ6NDtzdHJva2UtZGFzaGFycmF5Om5vbmU7c3Ryb2tlLW9wYWNpdHk6MSIKICAgICAgICAgZD0ibSAxMjYuMjYzMzQsMTkxLjk2Mjg0IGggMjQuODg3OTIgdiAtMTIuMTg3OTYgaCAtMjQuODg3OTIgeiIgLz4KICAgICAgPHRleHQKICAgICAgICAgaWQ9InRleHQ0NzI0Ny05IgogICAgICAgICB5PSIyMDAuMzA0MDMiCiAgICAgICAgIHg9IjEwMC41NTAxMyIKICAgICAgICAgc3R5bGU9ImZvbnQtc3R5bGU6bm9ybWFsO2ZvbnQtd2VpZ2h0Om5vcm1hbDtmb250LXNpemU6MTAuNTgzMzMzMDJweDtsaW5lLWhlaWdodDoxLjI1O2ZvbnQtZmFtaWx5OnNhbnMtc2VyaWY7bGV0dGVyLXNwYWNpbmc6MHB4O3dvcmQtc3BhY2luZzowcHg7ZmlsbDojMDAwMDAwO2ZpbGwtb3BhY2l0eToxO3N0cm9rZTpub25lO3N0cm9rZS13aWR0aDowLjI5Mzk5NjU3IgogICAgICAgICB4bWw6c3BhY2U9InByZXNlcnZlIj48dHNwYW4KICAgICAgICAgICBzdHlsZT0iZm9udC1zdHlsZTpub3JtYWw7Zm9udC12YXJpYW50Om5vcm1hbDtmb250LXdlaWdodDpub3JtYWw7Zm9udC1zdHJldGNoOm5vcm1hbDtmb250LXNpemU6Ny4wNTU1NTUzNHB4O2ZvbnQtZmFtaWx5Om1vbm9zcGFjZTstaW5rc2NhcGUtZm9udC1zcGVjaWZpY2F0aW9uOm1vbm9zcGFjZTtzdHJva2Utd2lkdGg6MC4yOTM5OTY1NyIKICAgICAgICAgICB5PSIyMDAuMzA0MDMiCiAgICAgICAgICAgeD0iMTAwLjU1MDEzIgogICAgICAgICAgIGlkPSJ0c3BhbjQ3MjQ1LTciCiAgICAgICAgICAgc29kaXBvZGk6cm9sZT0ibGluZSI+Y29sdW1uPC90c3Bhbj48L3RleHQ+CiAgICAgIDx0ZXh0CiAgICAgICAgIGlkPSJ0ZXh0NDcyNDctMSIKICAgICAgICAgeT0iMTAzLjgxMzA4IgogICAgICAgICB4PSI3Ni4zMDY2NzEiCiAgICAgICAgIHN0eWxlPSJmb250LXN0eWxlOm5vcm1hbDtmb250LXdlaWdodDpub3JtYWw7Zm9udC1zaXplOjEwLjU4MzMzMzAycHg7bGluZS1oZWlnaHQ6MS4yNTtmb250LWZhbWlseTpzYW5zLXNlcmlmO2xldHRlci1zcGFjaW5nOjBweDt3b3JkLXNwYWNpbmc6MHB4O2ZpbGw6IzAwMDAwMDtmaWxsLW9wYWNpdHk6MTtzdHJva2U6bm9uZTtzdHJva2Utd2lkdGg6MC4yOTM5OTY1NyIKICAgICAgICAgeG1sOnNwYWNlPSJwcmVzZXJ2ZSI+PHRzcGFuCiAgICAgICAgICAgc3R5bGU9ImZvbnQtc3R5bGU6bm9ybWFsO2ZvbnQtdmFyaWFudDpub3JtYWw7Zm9udC13ZWlnaHQ6bm9ybWFsO2ZvbnQtc3RyZXRjaDpub3JtYWw7Zm9udC1zaXplOjEwLjU4MzMzMzAycHg7Zm9udC1mYW1pbHk6bW9ub3NwYWNlOy1pbmtzY2FwZS1mb250LXNwZWNpZmljYXRpb246bW9ub3NwYWNlO3N0cm9rZS13aWR0aDowLjI5Mzk5NjU3IgogICAgICAgICAgIHk9IjEwMy44MTMwOCIKICAgICAgICAgICB4PSI3Ni4zMDY2NzEiCiAgICAgICAgICAgaWQ9InRzcGFuNDcyNDUtMyIKICAgICAgICAgICBzb2RpcG9kaTpyb2xlPSJsaW5lIj5EYXRhRnJhbWU8L3RzcGFuPjwvdGV4dD4KICAgICAgPHJlY3QKICAgICAgICAgeT0iMTEzLjYxNjg5IgogICAgICAgICB4PSIxMDAuNTUwNzMiCiAgICAgICAgIGhlaWdodD0iNzkuOTg3OTA3IgogICAgICAgICB3aWR0aD0iMjUuNTEzMTY1IgogICAgICAgICBpZD0icmVjdDg1MCIKICAgICAgICAgc3R5bGU9ImZpbGw6bm9uZTtmaWxsLW9wYWNpdHk6MTtzdHJva2U6IzAwMDAwMDtzdHJva2Utd2lkdGg6MC4yOTM5OTY1NztzdHJva2Utb3BhY2l0eToxIiAvPgogICAgICA8cmVjdAogICAgICAgICB5PSIxNTQuMTA3MTUiCiAgICAgICAgIHg9IjIyLjc0NTcxIgogICAgICAgICBoZWlnaHQ9IjEyLjc3MTAyOSIKICAgICAgICAgd2lkdGg9IjEyOS4zMDcxOSIKICAgICAgICAgaWQ9InJlY3Q4NTAtMyIKICAgICAgICAgc3R5bGU9ImZpbGw6bm9uZTtmaWxsLW9wYWNpdHk6MTtzdHJva2U6IzAwMDAwMDtzdHJva2Utd2lkdGg6MC4yOTM5OTY1NztzdHJva2Utb3BhY2l0eToxIiAvPgogICAgICA8dGV4dAogICAgICAgICBpZD0idGV4dDQ3MjQ3LTktNiIKICAgICAgICAgeT0iMTYyLjQxODQ3IgogICAgICAgICB4PSIxNTMuMDcxODciCiAgICAgICAgIHN0eWxlPSJmb250LXN0eWxlOm5vcm1hbDtmb250LXdlaWdodDpub3JtYWw7Zm9udC1zaXplOjEwLjU4MzMzMzAycHg7bGluZS1oZWlnaHQ6MS4yNTtmb250LWZhbWlseTpzYW5zLXNlcmlmO2xldHRlci1zcGFjaW5nOjBweDt3b3JkLXNwYWNpbmc6MHB4O2ZpbGw6IzAwMDAwMDtmaWxsLW9wYWNpdHk6MTtzdHJva2U6bm9uZTtzdHJva2Utd2lkdGg6MC4yOTM5OTY1NyIKICAgICAgICAgeG1sOnNwYWNlPSJwcmVzZXJ2ZSI+PHRzcGFuCiAgICAgICAgICAgc3R5bGU9ImZvbnQtc3R5bGU6bm9ybWFsO2ZvbnQtdmFyaWFudDpub3JtYWw7Zm9udC13ZWlnaHQ6bm9ybWFsO2ZvbnQtc3RyZXRjaDpub3JtYWw7Zm9udC1zaXplOjcuMDU1NTU1MzRweDtmb250LWZhbWlseTptb25vc3BhY2U7LWlua3NjYXBlLWZvbnQtc3BlY2lmaWNhdGlvbjptb25vc3BhY2U7c3Ryb2tlLXdpZHRoOjAuMjkzOTk2NTciCiAgICAgICAgICAgeT0iMTYyLjQxODQ3IgogICAgICAgICAgIHg9IjE1My4wNzE4NyIKICAgICAgICAgICBpZD0idHNwYW40NzI0NS03LTciCiAgICAgICAgICAgc29kaXBvZGk6cm9sZT0ibGluZSI+cm93PC90c3Bhbj48L3RleHQ+CiAgICA8L2c+CiAgPC9nPgo8L3N2Zz4K"
     ]
    }
   },
   "cell_type": "markdown",
   "metadata": {},
   "source": [
    "\n",
    "![01_table_dataframe1.svg](attachment:01_table_dataframe1.svg)"
   ]
  },
  {
   "cell_type": "markdown",
   "metadata": {
    "slideshow": {
     "slide_type": "slide"
    }
   },
   "source": [
    "#### Creating a small DataFrame"
   ]
  },
  {
   "cell_type": "code",
   "execution_count": 72,
   "metadata": {},
   "outputs": [
    {
     "data": {
      "text/html": [
       "<div>\n",
       "<style scoped>\n",
       "    .dataframe tbody tr th:only-of-type {\n",
       "        vertical-align: middle;\n",
       "    }\n",
       "\n",
       "    .dataframe tbody tr th {\n",
       "        vertical-align: top;\n",
       "    }\n",
       "\n",
       "    .dataframe thead th {\n",
       "        text-align: right;\n",
       "    }\n",
       "</style>\n",
       "<table border=\"1\" class=\"dataframe\">\n",
       "  <thead>\n",
       "    <tr style=\"text-align: right;\">\n",
       "      <th></th>\n",
       "      <th>age</th>\n",
       "      <th>circumference</th>\n",
       "      <th>height</th>\n",
       "    </tr>\n",
       "  </thead>\n",
       "  <tbody>\n",
       "    <tr>\n",
       "      <th>0</th>\n",
       "      <td>1</td>\n",
       "      <td>2</td>\n",
       "      <td>30</td>\n",
       "    </tr>\n",
       "    <tr>\n",
       "      <th>1</th>\n",
       "      <td>2</td>\n",
       "      <td>3</td>\n",
       "      <td>35</td>\n",
       "    </tr>\n",
       "    <tr>\n",
       "      <th>2</th>\n",
       "      <td>3</td>\n",
       "      <td>5</td>\n",
       "      <td>40</td>\n",
       "    </tr>\n",
       "    <tr>\n",
       "      <th>3</th>\n",
       "      <td>4</td>\n",
       "      <td>10</td>\n",
       "      <td>50</td>\n",
       "    </tr>\n",
       "  </tbody>\n",
       "</table>\n",
       "</div>"
      ],
      "text/plain": [
       "   age  circumference  height\n",
       "0    1              2      30\n",
       "1    2              3      35\n",
       "2    3              5      40\n",
       "3    4             10      50"
      ]
     },
     "execution_count": 72,
     "metadata": {},
     "output_type": "execute_result"
    }
   ],
   "source": [
    "import pandas as pd\n",
    "df = pd.DataFrame({\n",
    "    'age': [1,2,3,4],\n",
    "    'circumference': [2,3,5,10],\n",
    "    'height': [30, 35, 40, 50]\n",
    "})\n",
    "df"
   ]
  },
  {
   "cell_type": "markdown",
   "metadata": {
    "slideshow": {
     "slide_type": "slide"
    }
   },
   "source": [
    "#### Pandas can import data from many formats\n",
    "\n",
    "- `pd.read_table`: tab separated values `.tsv`\n",
    "- `pd.read_csv`: comma separated values `.csv`\n",
    "- `pd.read_excel`: Excel spreadsheets `.xlsx`\n",
    "\n",
    "- For a data frame `df`: `df.write_table()`, `df.write_csv()`, `df.write_excel()`"
   ]
  },
  {
   "attachments": {
    "02_io_readwrite1.svg": {
     "image/svg+xml": [
      "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"
     ]
    }
   },
   "cell_type": "markdown",
   "metadata": {},
   "source": [
    "![02_io_readwrite1.svg](attachment:02_io_readwrite1.svg)"
   ]
  },
  {
   "cell_type": "markdown",
   "metadata": {
    "cell_marker": "'''",
    "slideshow": {
     "slide_type": "slide"
    }
   },
   "source": [
    "#### Orange tree data"
   ]
  },
  {
   "cell_type": "code",
   "execution_count": 73,
   "metadata": {},
   "outputs": [
    {
     "name": "stdout",
     "output_type": "stream",
     "text": [
      "age\tcircumference\theight\r\n",
      "1\t2\t30\r\n",
      "2\t3\t35\r\n",
      "3\t5\t40\r\n",
      "4\t10\t50\r\n"
     ]
    }
   ],
   "source": [
    "!cat ../downloads/Orange_1.tsv"
   ]
  },
  {
   "cell_type": "code",
   "execution_count": 74,
   "metadata": {
    "lines_to_next_cell": 2,
    "slideshow": {
     "slide_type": "-"
    }
   },
   "outputs": [
    {
     "data": {
      "text/html": [
       "<div>\n",
       "<style scoped>\n",
       "    .dataframe tbody tr th:only-of-type {\n",
       "        vertical-align: middle;\n",
       "    }\n",
       "\n",
       "    .dataframe tbody tr th {\n",
       "        vertical-align: top;\n",
       "    }\n",
       "\n",
       "    .dataframe thead th {\n",
       "        text-align: right;\n",
       "    }\n",
       "</style>\n",
       "<table border=\"1\" class=\"dataframe\">\n",
       "  <thead>\n",
       "    <tr style=\"text-align: right;\">\n",
       "      <th></th>\n",
       "      <th>age</th>\n",
       "      <th>circumference</th>\n",
       "      <th>height</th>\n",
       "    </tr>\n",
       "  </thead>\n",
       "  <tbody>\n",
       "    <tr>\n",
       "      <th>0</th>\n",
       "      <td>1</td>\n",
       "      <td>2</td>\n",
       "      <td>30</td>\n",
       "    </tr>\n",
       "    <tr>\n",
       "      <th>1</th>\n",
       "      <td>2</td>\n",
       "      <td>3</td>\n",
       "      <td>35</td>\n",
       "    </tr>\n",
       "    <tr>\n",
       "      <th>2</th>\n",
       "      <td>3</td>\n",
       "      <td>5</td>\n",
       "      <td>40</td>\n",
       "    </tr>\n",
       "    <tr>\n",
       "      <th>3</th>\n",
       "      <td>4</td>\n",
       "      <td>10</td>\n",
       "      <td>50</td>\n",
       "    </tr>\n",
       "  </tbody>\n",
       "</table>\n",
       "</div>"
      ],
      "text/plain": [
       "   age  circumference  height\n",
       "0    1              2      30\n",
       "1    2              3      35\n",
       "2    3              5      40\n",
       "3    4             10      50"
      ]
     },
     "execution_count": 74,
     "metadata": {},
     "output_type": "execute_result"
    }
   ],
   "source": [
    "df = pd.read_table('../downloads/Orange_1.tsv') \n",
    "df"
   ]
  },
  {
   "cell_type": "markdown",
   "metadata": {
    "cell_marker": "'''",
    "slideshow": {
     "slide_type": "fragment"
    }
   },
   "source": [
    "- One implict index (0, 1, 2, 3)\n",
    "- Columns: `age`, `circumference`, `height`\n",
    "- Rows: one per data point, identified by their index"
   ]
  },
  {
   "cell_type": "markdown",
   "metadata": {
    "slideshow": {
     "slide_type": "slide"
    }
   },
   "source": [
    "#### Selecting columns from a dataframe\n",
    "```py\n",
    "dataframe.columnname\n",
    "dataframe['columnname']\n",
    "```"
   ]
  },
  {
   "attachments": {
    "03_subset_columns.svg": {
     "image/svg+xml": [
      "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"
     ]
    }
   },
   "cell_type": "markdown",
   "metadata": {},
   "source": [
    "![03_subset_columns.svg](attachment:03_subset_columns.svg)"
   ]
  },
  {
   "cell_type": "code",
   "execution_count": 75,
   "metadata": {
    "slideshow": {
     "slide_type": "-"
    }
   },
   "outputs": [
    {
     "data": {
      "text/plain": [
       "Index(['age', 'circumference', 'height'], dtype='object')"
      ]
     },
     "execution_count": 75,
     "metadata": {},
     "output_type": "execute_result"
    }
   ],
   "source": [
    "df.columns"
   ]
  },
  {
   "cell_type": "code",
   "execution_count": 76,
   "metadata": {
    "slideshow": {
     "slide_type": "-"
    }
   },
   "outputs": [
    {
     "data": {
      "text/html": [
       "<div>\n",
       "<style scoped>\n",
       "    .dataframe tbody tr th:only-of-type {\n",
       "        vertical-align: middle;\n",
       "    }\n",
       "\n",
       "    .dataframe tbody tr th {\n",
       "        vertical-align: top;\n",
       "    }\n",
       "\n",
       "    .dataframe thead th {\n",
       "        text-align: right;\n",
       "    }\n",
       "</style>\n",
       "<table border=\"1\" class=\"dataframe\">\n",
       "  <thead>\n",
       "    <tr style=\"text-align: right;\">\n",
       "      <th></th>\n",
       "      <th>height</th>\n",
       "      <th>age</th>\n",
       "    </tr>\n",
       "  </thead>\n",
       "  <tbody>\n",
       "    <tr>\n",
       "      <th>0</th>\n",
       "      <td>30</td>\n",
       "      <td>1</td>\n",
       "    </tr>\n",
       "    <tr>\n",
       "      <th>1</th>\n",
       "      <td>35</td>\n",
       "      <td>2</td>\n",
       "    </tr>\n",
       "    <tr>\n",
       "      <th>2</th>\n",
       "      <td>40</td>\n",
       "      <td>3</td>\n",
       "    </tr>\n",
       "    <tr>\n",
       "      <th>3</th>\n",
       "      <td>50</td>\n",
       "      <td>4</td>\n",
       "    </tr>\n",
       "  </tbody>\n",
       "</table>\n",
       "</div>"
      ],
      "text/plain": [
       "   height  age\n",
       "0      30    1\n",
       "1      35    2\n",
       "2      40    3\n",
       "3      50    4"
      ]
     },
     "execution_count": 76,
     "metadata": {},
     "output_type": "execute_result"
    }
   ],
   "source": [
    "df[['height', 'age']]"
   ]
  },
  {
   "cell_type": "code",
   "execution_count": 77,
   "metadata": {
    "slideshow": {
     "slide_type": "-"
    }
   },
   "outputs": [
    {
     "data": {
      "text/plain": [
       "0    30\n",
       "1    35\n",
       "2    40\n",
       "3    50\n",
       "Name: height, dtype: int64"
      ]
     },
     "execution_count": 77,
     "metadata": {},
     "output_type": "execute_result"
    }
   ],
   "source": [
    "df.height"
   ]
  },
  {
   "cell_type": "markdown",
   "metadata": {
    "slideshow": {
     "slide_type": "slide"
    }
   },
   "source": [
    "#### Calculating aggregated summary statistics"
   ]
  },
  {
   "attachments": {
    "06_reduction.svg": {
     "image/svg+xml": [
      "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"
     ]
    }
   },
   "cell_type": "markdown",
   "metadata": {},
   "source": [
    "![06_reduction.svg](attachment:06_reduction.svg)"
   ]
  },
  {
   "cell_type": "code",
   "execution_count": 78,
   "metadata": {
    "collapsed": true
   },
   "outputs": [
    {
     "data": {
      "text/html": [
       "<div>\n",
       "<style scoped>\n",
       "    .dataframe tbody tr th:only-of-type {\n",
       "        vertical-align: middle;\n",
       "    }\n",
       "\n",
       "    .dataframe tbody tr th {\n",
       "        vertical-align: top;\n",
       "    }\n",
       "\n",
       "    .dataframe thead th {\n",
       "        text-align: right;\n",
       "    }\n",
       "</style>\n",
       "<table border=\"1\" class=\"dataframe\">\n",
       "  <thead>\n",
       "    <tr style=\"text-align: right;\">\n",
       "      <th></th>\n",
       "      <th>age</th>\n",
       "      <th>circumference</th>\n",
       "    </tr>\n",
       "  </thead>\n",
       "  <tbody>\n",
       "    <tr>\n",
       "      <th>count</th>\n",
       "      <td>4.000000</td>\n",
       "      <td>4.000000</td>\n",
       "    </tr>\n",
       "    <tr>\n",
       "      <th>mean</th>\n",
       "      <td>2.500000</td>\n",
       "      <td>5.000000</td>\n",
       "    </tr>\n",
       "    <tr>\n",
       "      <th>std</th>\n",
       "      <td>1.290994</td>\n",
       "      <td>3.559026</td>\n",
       "    </tr>\n",
       "    <tr>\n",
       "      <th>min</th>\n",
       "      <td>1.000000</td>\n",
       "      <td>2.000000</td>\n",
       "    </tr>\n",
       "    <tr>\n",
       "      <th>25%</th>\n",
       "      <td>1.750000</td>\n",
       "      <td>2.750000</td>\n",
       "    </tr>\n",
       "    <tr>\n",
       "      <th>50%</th>\n",
       "      <td>2.500000</td>\n",
       "      <td>4.000000</td>\n",
       "    </tr>\n",
       "    <tr>\n",
       "      <th>75%</th>\n",
       "      <td>3.250000</td>\n",
       "      <td>6.250000</td>\n",
       "    </tr>\n",
       "    <tr>\n",
       "      <th>max</th>\n",
       "      <td>4.000000</td>\n",
       "      <td>10.000000</td>\n",
       "    </tr>\n",
       "  </tbody>\n",
       "</table>\n",
       "</div>"
      ],
      "text/plain": [
       "            age  circumference\n",
       "count  4.000000       4.000000\n",
       "mean   2.500000       5.000000\n",
       "std    1.290994       3.559026\n",
       "min    1.000000       2.000000\n",
       "25%    1.750000       2.750000\n",
       "50%    2.500000       4.000000\n",
       "75%    3.250000       6.250000\n",
       "max    4.000000      10.000000"
      ]
     },
     "execution_count": 78,
     "metadata": {},
     "output_type": "execute_result"
    }
   ],
   "source": [
    "df[['age', 'circumference']].describe()"
   ]
  },
  {
   "cell_type": "code",
   "execution_count": 79,
   "metadata": {},
   "outputs": [
    {
     "data": {
      "text/plain": [
       "1.2909944487358056"
      ]
     },
     "execution_count": 79,
     "metadata": {},
     "output_type": "execute_result"
    }
   ],
   "source": [
    "df['age'].std()"
   ]
  },
  {
   "cell_type": "markdown",
   "metadata": {
    "slideshow": {
     "slide_type": "slide"
    }
   },
   "source": [
    "#### Creating new column derived from existing column"
   ]
  },
  {
   "attachments": {
    "05_newcolumn_1.svg": {
     "image/svg+xml": [
      "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"
     ]
    }
   },
   "cell_type": "markdown",
   "metadata": {},
   "source": [
    "![05_newcolumn_1.svg](attachment:05_newcolumn_1.svg)"
   ]
  },
  {
   "cell_type": "code",
   "execution_count": 80,
   "metadata": {},
   "outputs": [
    {
     "data": {
      "text/html": [
       "<div>\n",
       "<style scoped>\n",
       "    .dataframe tbody tr th:only-of-type {\n",
       "        vertical-align: middle;\n",
       "    }\n",
       "\n",
       "    .dataframe tbody tr th {\n",
       "        vertical-align: top;\n",
       "    }\n",
       "\n",
       "    .dataframe thead th {\n",
       "        text-align: right;\n",
       "    }\n",
       "</style>\n",
       "<table border=\"1\" class=\"dataframe\">\n",
       "  <thead>\n",
       "    <tr style=\"text-align: right;\">\n",
       "      <th></th>\n",
       "      <th>age</th>\n",
       "      <th>circumference</th>\n",
       "      <th>height</th>\n",
       "      <th>radius</th>\n",
       "    </tr>\n",
       "  </thead>\n",
       "  <tbody>\n",
       "    <tr>\n",
       "      <th>0</th>\n",
       "      <td>1</td>\n",
       "      <td>2</td>\n",
       "      <td>30</td>\n",
       "      <td>0.318310</td>\n",
       "    </tr>\n",
       "    <tr>\n",
       "      <th>1</th>\n",
       "      <td>2</td>\n",
       "      <td>3</td>\n",
       "      <td>35</td>\n",
       "      <td>0.477465</td>\n",
       "    </tr>\n",
       "    <tr>\n",
       "      <th>2</th>\n",
       "      <td>3</td>\n",
       "      <td>5</td>\n",
       "      <td>40</td>\n",
       "      <td>0.795775</td>\n",
       "    </tr>\n",
       "    <tr>\n",
       "      <th>3</th>\n",
       "      <td>4</td>\n",
       "      <td>10</td>\n",
       "      <td>50</td>\n",
       "      <td>1.591549</td>\n",
       "    </tr>\n",
       "  </tbody>\n",
       "</table>\n",
       "</div>"
      ],
      "text/plain": [
       "   age  circumference  height    radius\n",
       "0    1              2      30  0.318310\n",
       "1    2              3      35  0.477465\n",
       "2    3              5      40  0.795775\n",
       "3    4             10      50  1.591549"
      ]
     },
     "execution_count": 80,
     "metadata": {},
     "output_type": "execute_result"
    }
   ],
   "source": [
    "import math\n",
    "df['radius'] = df['circumference'] / 2.0 / math.pi\n",
    "df"
   ]
  },
  {
   "cell_type": "markdown",
   "metadata": {
    "cell_marker": "'''",
    "slideshow": {
     "slide_type": "slide"
    }
   },
   "source": [
    "#### Selecting rows from a dataframe by index\n",
    "```py\n",
    "dataframe.iloc[index]\n",
    "dataframe.iloc[start:stop]\n",
    "```"
   ]
  },
  {
   "attachments": {
    "03_subset_rows.svg": {
     "image/svg+xml": [
      "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"
     ]
    }
   },
   "cell_type": "markdown",
   "metadata": {},
   "source": [
    "![03_subset_rows.svg](attachment:03_subset_rows.svg)"
   ]
  },
  {
   "cell_type": "code",
   "execution_count": 81,
   "metadata": {
    "slideshow": {
     "slide_type": "-"
    }
   },
   "outputs": [
    {
     "data": {
      "text/html": [
       "<div>\n",
       "<style scoped>\n",
       "    .dataframe tbody tr th:only-of-type {\n",
       "        vertical-align: middle;\n",
       "    }\n",
       "\n",
       "    .dataframe tbody tr th {\n",
       "        vertical-align: top;\n",
       "    }\n",
       "\n",
       "    .dataframe thead th {\n",
       "        text-align: right;\n",
       "    }\n",
       "</style>\n",
       "<table border=\"1\" class=\"dataframe\">\n",
       "  <thead>\n",
       "    <tr style=\"text-align: right;\">\n",
       "      <th></th>\n",
       "      <th>age</th>\n",
       "      <th>circumference</th>\n",
       "      <th>height</th>\n",
       "      <th>radius</th>\n",
       "    </tr>\n",
       "  </thead>\n",
       "  <tbody>\n",
       "    <tr>\n",
       "      <th>1</th>\n",
       "      <td>2</td>\n",
       "      <td>3</td>\n",
       "      <td>35</td>\n",
       "      <td>0.477465</td>\n",
       "    </tr>\n",
       "    <tr>\n",
       "      <th>2</th>\n",
       "      <td>3</td>\n",
       "      <td>5</td>\n",
       "      <td>40</td>\n",
       "      <td>0.795775</td>\n",
       "    </tr>\n",
       "  </tbody>\n",
       "</table>\n",
       "</div>"
      ],
      "text/plain": [
       "   age  circumference  height    radius\n",
       "1    2              3      35  0.477465\n",
       "2    3              5      40  0.795775"
      ]
     },
     "execution_count": 81,
     "metadata": {},
     "output_type": "execute_result"
    }
   ],
   "source": [
    "df.iloc[1:3]"
   ]
  },
  {
   "cell_type": "markdown",
   "metadata": {
    "cell_marker": "'''",
    "slideshow": {
     "slide_type": "slide"
    }
   },
   "source": [
    "#### Slightly bigger data frame of orange trees "
   ]
  },
  {
   "cell_type": "code",
   "execution_count": 82,
   "metadata": {
    "collapsed": true
   },
   "outputs": [
    {
     "name": "stdout",
     "output_type": "stream",
     "text": [
      "Tree\tage\tcircumference\r\n",
      "1\t118\t30\r\n",
      "1\t484\t58\r\n",
      "1\t664\t87\r\n",
      "1\t1004\t115\r\n",
      "1\t1231\t120\r\n"
     ]
    }
   ],
   "source": [
    "!head -n 6 ../downloads/Orange.tsv"
   ]
  },
  {
   "cell_type": "code",
   "execution_count": 83,
   "metadata": {
    "collapsed": true,
    "slideshow": {
     "slide_type": "-"
    }
   },
   "outputs": [
    {
     "data": {
      "text/html": [
       "<div>\n",
       "<style scoped>\n",
       "    .dataframe tbody tr th:only-of-type {\n",
       "        vertical-align: middle;\n",
       "    }\n",
       "\n",
       "    .dataframe tbody tr th {\n",
       "        vertical-align: top;\n",
       "    }\n",
       "\n",
       "    .dataframe thead th {\n",
       "        text-align: right;\n",
       "    }\n",
       "</style>\n",
       "<table border=\"1\" class=\"dataframe\">\n",
       "  <thead>\n",
       "    <tr style=\"text-align: right;\">\n",
       "      <th></th>\n",
       "      <th>Tree</th>\n",
       "      <th>age</th>\n",
       "      <th>circumference</th>\n",
       "    </tr>\n",
       "  </thead>\n",
       "  <tbody>\n",
       "    <tr>\n",
       "      <th>0</th>\n",
       "      <td>1</td>\n",
       "      <td>118</td>\n",
       "      <td>30</td>\n",
       "    </tr>\n",
       "    <tr>\n",
       "      <th>1</th>\n",
       "      <td>1</td>\n",
       "      <td>484</td>\n",
       "      <td>58</td>\n",
       "    </tr>\n",
       "    <tr>\n",
       "      <th>2</th>\n",
       "      <td>1</td>\n",
       "      <td>664</td>\n",
       "      <td>87</td>\n",
       "    </tr>\n",
       "    <tr>\n",
       "      <th>3</th>\n",
       "      <td>1</td>\n",
       "      <td>1004</td>\n",
       "      <td>115</td>\n",
       "    </tr>\n",
       "    <tr>\n",
       "      <th>4</th>\n",
       "      <td>1</td>\n",
       "      <td>1231</td>\n",
       "      <td>120</td>\n",
       "    </tr>\n",
       "  </tbody>\n",
       "</table>\n",
       "</div>"
      ],
      "text/plain": [
       "   Tree   age  circumference\n",
       "0     1   118             30\n",
       "1     1   484             58\n",
       "2     1   664             87\n",
       "3     1  1004            115\n",
       "4     1  1231            120"
      ]
     },
     "execution_count": 83,
     "metadata": {},
     "output_type": "execute_result"
    }
   ],
   "source": [
    "df = pd.read_table('../downloads/Orange.tsv') # , index_col=0)\n",
    "df.iloc[0:5]  # can also use .head()"
   ]
  },
  {
   "cell_type": "code",
   "execution_count": 84,
   "metadata": {},
   "outputs": [
    {
     "data": {
      "text/plain": [
       "array([1, 2, 3])"
      ]
     },
     "execution_count": 84,
     "metadata": {},
     "output_type": "execute_result"
    }
   ],
   "source": [
    "df.Tree.unique()"
   ]
  },
  {
   "cell_type": "code",
   "execution_count": 85,
   "metadata": {},
   "outputs": [
    {
     "data": {
      "text/plain": [
       "numpy.int64"
      ]
     },
     "execution_count": 85,
     "metadata": {},
     "output_type": "execute_result"
    }
   ],
   "source": [
    "type(pd.DataFrame({\"genre\": ['Thriller', 'Drama'], \"rating\": [10, 9]}).rating.iloc[0])"
   ]
  },
  {
   "cell_type": "code",
   "execution_count": 86,
   "metadata": {
    "collapsed": true,
    "slideshow": {
     "slide_type": "subslide"
    }
   },
   "outputs": [
    {
     "data": {
      "text/html": [
       "<div>\n",
       "<style scoped>\n",
       "    .dataframe tbody tr th:only-of-type {\n",
       "        vertical-align: middle;\n",
       "    }\n",
       "\n",
       "    .dataframe tbody tr th {\n",
       "        vertical-align: top;\n",
       "    }\n",
       "\n",
       "    .dataframe thead th {\n",
       "        text-align: right;\n",
       "    }\n",
       "</style>\n",
       "<table border=\"1\" class=\"dataframe\">\n",
       "  <thead>\n",
       "    <tr style=\"text-align: right;\">\n",
       "      <th></th>\n",
       "      <th>Tree</th>\n",
       "      <th>age</th>\n",
       "      <th>circumference</th>\n",
       "    </tr>\n",
       "  </thead>\n",
       "  <tbody>\n",
       "    <tr>\n",
       "      <th>0</th>\n",
       "      <td>1</td>\n",
       "      <td>118</td>\n",
       "      <td>30</td>\n",
       "    </tr>\n",
       "    <tr>\n",
       "      <th>1</th>\n",
       "      <td>1</td>\n",
       "      <td>484</td>\n",
       "      <td>58</td>\n",
       "    </tr>\n",
       "    <tr>\n",
       "      <th>2</th>\n",
       "      <td>1</td>\n",
       "      <td>664</td>\n",
       "      <td>87</td>\n",
       "    </tr>\n",
       "    <tr>\n",
       "      <th>7</th>\n",
       "      <td>2</td>\n",
       "      <td>118</td>\n",
       "      <td>33</td>\n",
       "    </tr>\n",
       "    <tr>\n",
       "      <th>8</th>\n",
       "      <td>2</td>\n",
       "      <td>484</td>\n",
       "      <td>69</td>\n",
       "    </tr>\n",
       "    <tr>\n",
       "      <th>9</th>\n",
       "      <td>2</td>\n",
       "      <td>664</td>\n",
       "      <td>111</td>\n",
       "    </tr>\n",
       "    <tr>\n",
       "      <th>14</th>\n",
       "      <td>3</td>\n",
       "      <td>118</td>\n",
       "      <td>30</td>\n",
       "    </tr>\n",
       "    <tr>\n",
       "      <th>15</th>\n",
       "      <td>3</td>\n",
       "      <td>484</td>\n",
       "      <td>51</td>\n",
       "    </tr>\n",
       "    <tr>\n",
       "      <th>16</th>\n",
       "      <td>3</td>\n",
       "      <td>664</td>\n",
       "      <td>75</td>\n",
       "    </tr>\n",
       "  </tbody>\n",
       "</table>\n",
       "</div>"
      ],
      "text/plain": [
       "    Tree  age  circumference\n",
       "0      1  118             30\n",
       "1      1  484             58\n",
       "2      1  664             87\n",
       "7      2  118             33\n",
       "8      2  484             69\n",
       "9      2  664            111\n",
       "14     3  118             30\n",
       "15     3  484             51\n",
       "16     3  664             75"
      ]
     },
     "execution_count": 86,
     "metadata": {},
     "output_type": "execute_result"
    }
   ],
   "source": [
    "#young = df[df.age < 200]\n",
    "#young\n",
    "df[df.age < 1000]"
   ]
  },
  {
   "cell_type": "markdown",
   "metadata": {
    "cell_marker": "'''",
    "slideshow": {
     "slide_type": "slide"
    }
   },
   "source": [
    "#### Finding the maximum and then filter by it\n",
    "\n",
    "```py\n",
    "df.loc[ df.age < 200 ]\n",
    "```"
   ]
  },
  {
   "cell_type": "code",
   "execution_count": 87,
   "metadata": {},
   "outputs": [
    {
     "data": {
      "text/html": [
       "<div>\n",
       "<style scoped>\n",
       "    .dataframe tbody tr th:only-of-type {\n",
       "        vertical-align: middle;\n",
       "    }\n",
       "\n",
       "    .dataframe tbody tr th {\n",
       "        vertical-align: top;\n",
       "    }\n",
       "\n",
       "    .dataframe thead th {\n",
       "        text-align: right;\n",
       "    }\n",
       "</style>\n",
       "<table border=\"1\" class=\"dataframe\">\n",
       "  <thead>\n",
       "    <tr style=\"text-align: right;\">\n",
       "      <th></th>\n",
       "      <th>Tree</th>\n",
       "      <th>age</th>\n",
       "      <th>circumference</th>\n",
       "    </tr>\n",
       "  </thead>\n",
       "  <tbody>\n",
       "    <tr>\n",
       "      <th>0</th>\n",
       "      <td>1</td>\n",
       "      <td>118</td>\n",
       "      <td>30</td>\n",
       "    </tr>\n",
       "    <tr>\n",
       "      <th>1</th>\n",
       "      <td>1</td>\n",
       "      <td>484</td>\n",
       "      <td>58</td>\n",
       "    </tr>\n",
       "    <tr>\n",
       "      <th>2</th>\n",
       "      <td>1</td>\n",
       "      <td>664</td>\n",
       "      <td>87</td>\n",
       "    </tr>\n",
       "    <tr>\n",
       "      <th>3</th>\n",
       "      <td>1</td>\n",
       "      <td>1004</td>\n",
       "      <td>115</td>\n",
       "    </tr>\n",
       "    <tr>\n",
       "      <th>4</th>\n",
       "      <td>1</td>\n",
       "      <td>1231</td>\n",
       "      <td>120</td>\n",
       "    </tr>\n",
       "  </tbody>\n",
       "</table>\n",
       "</div>"
      ],
      "text/plain": [
       "   Tree   age  circumference\n",
       "0     1   118             30\n",
       "1     1   484             58\n",
       "2     1   664             87\n",
       "3     1  1004            115\n",
       "4     1  1231            120"
      ]
     },
     "execution_count": 87,
     "metadata": {},
     "output_type": "execute_result"
    }
   ],
   "source": [
    "df.head()"
   ]
  },
  {
   "cell_type": "code",
   "execution_count": 88,
   "metadata": {
    "slideshow": {
     "slide_type": "-"
    }
   },
   "outputs": [
    {
     "name": "stdout",
     "output_type": "stream",
     "text": [
      "203\n"
     ]
    }
   ],
   "source": [
    "max_c = df.circumference.max()\n",
    "print(max_c)"
   ]
  },
  {
   "cell_type": "code",
   "execution_count": 89,
   "metadata": {
    "slideshow": {
     "slide_type": "-"
    }
   },
   "outputs": [
    {
     "data": {
      "text/html": [
       "<div>\n",
       "<style scoped>\n",
       "    .dataframe tbody tr th:only-of-type {\n",
       "        vertical-align: middle;\n",
       "    }\n",
       "\n",
       "    .dataframe tbody tr th {\n",
       "        vertical-align: top;\n",
       "    }\n",
       "\n",
       "    .dataframe thead th {\n",
       "        text-align: right;\n",
       "    }\n",
       "</style>\n",
       "<table border=\"1\" class=\"dataframe\">\n",
       "  <thead>\n",
       "    <tr style=\"text-align: right;\">\n",
       "      <th></th>\n",
       "      <th>Tree</th>\n",
       "      <th>age</th>\n",
       "      <th>circumference</th>\n",
       "    </tr>\n",
       "  </thead>\n",
       "  <tbody>\n",
       "    <tr>\n",
       "      <th>12</th>\n",
       "      <td>2</td>\n",
       "      <td>1372</td>\n",
       "      <td>203</td>\n",
       "    </tr>\n",
       "    <tr>\n",
       "      <th>13</th>\n",
       "      <td>2</td>\n",
       "      <td>1582</td>\n",
       "      <td>203</td>\n",
       "    </tr>\n",
       "  </tbody>\n",
       "</table>\n",
       "</div>"
      ],
      "text/plain": [
       "    Tree   age  circumference\n",
       "12     2  1372            203\n",
       "13     2  1582            203"
      ]
     },
     "execution_count": 89,
     "metadata": {},
     "output_type": "execute_result"
    }
   ],
   "source": [
    "df[df.circumference == max_c]"
   ]
  },
  {
   "cell_type": "markdown",
   "metadata": {
    "cell_marker": "'''",
    "slideshow": {
     "slide_type": "slide"
    }
   },
   "source": [
    "### Plotting\n",
    "```py\n",
    "df.columnname.plot()\n",
    "```"
   ]
  },
  {
   "cell_type": "code",
   "execution_count": 90,
   "metadata": {
    "slideshow": {
     "slide_type": "fragment"
    }
   },
   "outputs": [
    {
     "data": {
      "text/plain": [
       "<matplotlib.axes._subplots.AxesSubplot at 0x7f3f43b912e0>"
      ]
     },
     "execution_count": 90,
     "metadata": {},
     "output_type": "execute_result"
    },
    {
     "data": {
      "image/png": "[encoded data removed]",
      "text/plain": [
       "<Figure size 432x288 with 1 Axes>"
      ]
     },
     "metadata": {
      "needs_background": "light"
     },
     "output_type": "display_data"
    }
   ],
   "source": [
    "small_df = pd.read_table('../downloads/Orange_1.tsv')\n",
    "small_df.plot(x='age', y='height')"
   ]
  },
  {
   "cell_type": "markdown",
   "metadata": {
    "cell_marker": "'''",
    "slideshow": {
     "slide_type": "slide"
    }
   },
   "source": [
    "#### Plotting\n",
    "\n",
    "What if no plot shows up?\n",
    "\n",
    "```py\n",
    "%pylab inline   # jupyter notebooks\n",
    "```\n",
    "or\n",
    "```py\n",
    "import matplotlib.plot as plt\n",
    "\n",
    "plt.show()\n",
    "```"
   ]
  },
  {
   "cell_type": "markdown",
   "metadata": {
    "cell_marker": "'''",
    "slideshow": {
     "slide_type": "slide"
    }
   },
   "source": [
    "#### Plotting - many trees"
   ]
  },
  {
   "cell_type": "markdown",
   "metadata": {
    "cell_marker": "'''",
    "slideshow": {
     "slide_type": "-"
    }
   },
   "source": [
    "- Plot a bar chart"
   ]
  },
  {
   "cell_type": "code",
   "execution_count": 91,
   "metadata": {
    "slideshow": {
     "slide_type": "-"
    }
   },
   "outputs": [
    {
     "data": {
      "text/plain": [
       "<matplotlib.axes._subplots.AxesSubplot at 0x7f3f4348c820>"
      ]
     },
     "execution_count": 91,
     "metadata": {},
     "output_type": "execute_result"
    },
    {
     "data": {
      "image/png": "[encoded data removed]",
      "text/plain": [
       "<Figure size 432x288 with 1 Axes>"
      ]
     },
     "metadata": {
      "needs_background": "light"
     },
     "output_type": "display_data"
    }
   ],
   "source": [
    "df[['circumference', 'age']].plot(kind='bar')"
   ]
  },
  {
   "cell_type": "code",
   "execution_count": 92,
   "metadata": {
    "slideshow": {
     "slide_type": "slide"
    }
   },
   "outputs": [
    {
     "data": {
      "text/plain": [
       "<matplotlib.axes._subplots.AxesSubplot at 0x7f3f433e1ee0>"
      ]
     },
     "execution_count": 92,
     "metadata": {},
     "output_type": "execute_result"
    },
    {
     "data": {
      "image/png": "[encoded data removed]",
      "text/plain": [
       "<Figure size 864x576 with 1 Axes>"
      ]
     },
     "metadata": {
      "needs_background": "light"
     },
     "output_type": "display_data"
    }
   ],
   "source": [
    "df[['circumference', 'age']].plot(kind='bar', figsize=(12, 8), fontsize=16)"
   ]
  },
  {
   "cell_type": "markdown",
   "metadata": {
    "cell_marker": "'''",
    "slideshow": {
     "slide_type": "slide"
    }
   },
   "source": [
    "#### Scatterplot\n",
    "\n",
    "```py\n",
    "df.plot(kind=\"scatter\", x=\"column_name\", y=\"other_column_name\")\n",
    "```"
   ]
  },
  {
   "cell_type": "code",
   "execution_count": 93,
   "metadata": {},
   "outputs": [
    {
     "data": {
      "text/plain": [
       "<matplotlib.axes._subplots.AxesSubplot at 0x7f3f43419a90>"
      ]
     },
     "execution_count": 93,
     "metadata": {},
     "output_type": "execute_result"
    },
    {
     "data": {
      "image/png": "[encoded data removed]",
      "text/plain": [
       "<Figure size 864x576 with 1 Axes>"
      ]
     },
     "metadata": {
      "needs_background": "light"
     },
     "output_type": "display_data"
    }
   ],
   "source": [
    "df.plot(kind='scatter', x='age', y='circumference',\n",
    "        figsize=(12, 8), fontsize=14)"
   ]
  },
  {
   "cell_type": "markdown",
   "metadata": {
    "cell_marker": "'''",
    "slideshow": {
     "slide_type": "slide"
    }
   },
   "source": [
    "#### Line plot\n",
    "```py\n",
    "dataframe.plot(kind=\"line\", x=..., y=...)\n",
    "```"
   ]
  },
  {
   "cell_type": "code",
   "execution_count": 94,
   "metadata": {
    "slideshow": {
     "slide_type": "-"
    }
   },
   "outputs": [
    {
     "data": {
      "text/plain": [
       "<matplotlib.axes._subplots.AxesSubplot at 0x7f3f43295a00>"
      ]
     },
     "execution_count": 94,
     "metadata": {},
     "output_type": "execute_result"
    },
    {
     "data": {
      "image/png": "[encoded data removed]",
      "text/plain": [
       "<Figure size 864x576 with 1 Axes>"
      ]
     },
     "metadata": {
      "needs_background": "light"
     },
     "output_type": "display_data"
    }
   ],
   "source": [
    "tree1 = df[df['Tree'] == 1]\n",
    "tree1.plot(x='age', y='circumference',\n",
    "           fontsize=14, figsize=(12,8))"
   ]
  },
  {
   "cell_type": "markdown",
   "metadata": {
    "cell_marker": "'''",
    "slideshow": {
     "slide_type": "slide"
    }
   },
   "source": [
    "#### Line plot of all trees\n",
    "- Let's plot all the trees\n",
    "```py\n",
    "dataframe.plot(kind=\"line\", x=\"..\", y=\"...\")\n",
    "```"
   ]
  },
  {
   "cell_type": "code",
   "execution_count": 95,
   "metadata": {
    "slideshow": {
     "slide_type": "-"
    }
   },
   "outputs": [
    {
     "data": {
      "text/plain": [
       "<matplotlib.axes._subplots.AxesSubplot at 0x7f3f431f2c40>"
      ]
     },
     "execution_count": 95,
     "metadata": {},
     "output_type": "execute_result"
    },
    {
     "data": {
      "image/png": "[encoded data removed]",
      "text/plain": [
       "<Figure size 864x576 with 1 Axes>"
      ]
     },
     "metadata": {
      "needs_background": "light"
     },
     "output_type": "display_data"
    }
   ],
   "source": [
    "df.plot(kind='line', x='age', y='circumference',\n",
    "        figsize=(12, 8), fontsize=14)"
   ]
  },
  {
   "cell_type": "markdown",
   "metadata": {
    "cell_marker": "'''",
    "slideshow": {
     "slide_type": "-"
    }
   },
   "source": [
    ":("
   ]
  },
  {
   "cell_type": "code",
   "execution_count": 96,
   "metadata": {
    "lines_to_next_cell": 2,
    "slideshow": {
     "slide_type": "-"
    }
   },
   "outputs": [
    {
     "name": "stdout",
     "output_type": "stream",
     "text": [
      "tree_names: [1 2 3]\n"
     ]
    },
    {
     "data": {
      "image/png": "[encoded data removed]",
      "text/plain": [
       "<Figure size 576x432 with 1 Axes>"
      ]
     },
     "metadata": {
      "needs_background": "light"
     },
     "output_type": "display_data"
    }
   ],
   "source": [
    "import matplotlib.pyplot as plt\n",
    "fig, ax = plt.subplots()\n",
    "\n",
    "tree_names = df['Tree'].unique()\n",
    "print('tree_names:', tree_names)\n",
    "\n",
    "for tree_name in tree_names:\n",
    "    sub_df = df[df['Tree'] == tree_name]\n",
    "    sub_df.plot(x='age', y='circumference', kind='line',\n",
    "                ax=ax, fontsize=14, figsize=(8,6))"
   ]
  },
  {
   "cell_type": "markdown",
   "metadata": {
    "cell_marker": "'''",
    "lines_to_next_cell": 2,
    "slideshow": {
     "slide_type": "slide"
    }
   },
   "source": [
    "### Exercise 5\n",
    "\n",
    "- Read the `Orange_1.tsv`\n",
    "    - Print the height column\n",
    "    - Print the data for the tree at age 2\n",
    "    - Find the maximum circumference\n",
    "    - What tree reached that circumference, and how old was it at that time?\n",
    "\n",
    "- Use Pandas to read IMDB\n",
    "    - Explore it by making graphs\n",
    "    \n",
    "- Extra exercises:\n",
    "    - Read the pandas documentation :)\n",
    "    - Look at seaborn for a more feature-rich plotting lib"
   ]
  }
 ],
 "metadata": {
  "celltoolbar": "Slideshow",
  "jupytext": {
   "cell_markers": "'''"
  },
  "kernelspec": {
   "display_name": "Python 3",
   "language": "python",
   "name": "python3"
  },
  "language_info": {
   "codemirror_mode": {
    "name": "ipython",
    "version": 3
   },
   "file_extension": ".py",
   "mimetype": "text/x-python",
   "name": "python",
   "nbconvert_exporter": "python",
   "pygments_lexer": "ipython3",
   "version": "3.8.6"
  }
 },
 "nbformat": 4,
 "nbformat_minor": 4
}
