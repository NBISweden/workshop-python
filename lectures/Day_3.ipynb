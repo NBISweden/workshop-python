{
 "cells": [
  {
   "cell_type": "code",
   "execution_count": 1,
   "metadata": {
    "slideshow": {
     "slide_type": "skip"
    }
   },
   "outputs": [],
   "source": [
    "from IPython.display import Image\n",
    "from IPython.display import clear_output\n",
    "from IPython.display import FileLink, FileLinks"
   ]
  },
  {
   "cell_type": "markdown",
   "metadata": {
    "slideshow": {
     "slide_type": "slide"
    }
   },
   "source": [
    "## Introduction to\n",
    "\n",
    "![title](img/python-logo-master-flat.png)\n",
    "\n",
    "### with Application to Bioinformatics\n",
    "\n",
    "#### - Day 3"
   ]
  },
  {
   "cell_type": "markdown",
   "metadata": {
    "slideshow": {
     "slide_type": "slide"
    }
   },
   "source": [
    "## Review Day 2\n",
    "\n",
    "Go to Canvas, `Modules -> Day 3 -> Review Day 2`\n",
    " \n",
    "~20 minutes\n"
   ]
  },
  {
   "cell_type": "markdown",
   "metadata": {
    "slideshow": {
     "slide_type": "slide"
    }
   },
   "source": [
    "## Tuples\n",
    "\n",
    "__1. Which of the following variables are of the type tuple?__  \n",
    "`a = (1, 2, 3, 4)`  \n",
    "`a = ([1, 2], 'a', 'b')`"
   ]
  },
  {
   "cell_type": "markdown",
   "metadata": {
    "slideshow": {
     "slide_type": "fragment"
    }
   },
   "source": [
    "__2. What is the difference between a tuple and a list?__  \n",
    "A tuple is immutable while a list is mutable"
   ]
  },
  {
   "cell_type": "code",
   "execution_count": 3,
   "metadata": {
    "slideshow": {
     "slide_type": "-"
    }
   },
   "outputs": [
    {
     "ename": "TypeError",
     "evalue": "'tuple' object does not support item assignment",
     "output_type": "error",
     "traceback": [
      "\u001b[1;31m---------------------------------------------------------------------------\u001b[0m",
      "\u001b[1;31mTypeError\u001b[0m                                 Traceback (most recent call last)",
      "\u001b[1;32m~\\AppData\\Local\\Temp/ipykernel_19628/3983319060.py\u001b[0m in \u001b[0;36m<module>\u001b[1;34m\u001b[0m\n\u001b[0;32m      2\u001b[0m \u001b[0mmyList\u001b[0m     \u001b[1;33m=\u001b[0m \u001b[1;33m[\u001b[0m\u001b[1;36m1\u001b[0m\u001b[1;33m,\u001b[0m \u001b[1;36m2\u001b[0m \u001b[1;33m,\u001b[0m\u001b[1;36m3\u001b[0m\u001b[1;33m]\u001b[0m\u001b[1;33m\u001b[0m\u001b[1;33m\u001b[0m\u001b[0m\n\u001b[0;32m      3\u001b[0m \u001b[0mmyList\u001b[0m\u001b[1;33m[\u001b[0m\u001b[1;36m2\u001b[0m\u001b[1;33m]\u001b[0m  \u001b[1;33m=\u001b[0m \u001b[1;36m4\u001b[0m\u001b[1;33m\u001b[0m\u001b[1;33m\u001b[0m\u001b[0m\n\u001b[1;32m----> 4\u001b[1;33m \u001b[0mmyTuple\u001b[0m\u001b[1;33m[\u001b[0m\u001b[1;36m2\u001b[0m\u001b[1;33m]\u001b[0m \u001b[1;33m=\u001b[0m \u001b[1;36m4\u001b[0m\u001b[1;33m\u001b[0m\u001b[1;33m\u001b[0m\u001b[0m\n\u001b[0m\u001b[0;32m      5\u001b[0m \u001b[0mmyList\u001b[0m\u001b[1;33m\u001b[0m\u001b[1;33m\u001b[0m\u001b[0m\n",
      "\u001b[1;31mTypeError\u001b[0m: 'tuple' object does not support item assignment"
     ]
    }
   ],
   "source": [
    "myTuple    = (1, 2, 3, 'a', 'b', [4,5,6])\n",
    "myList     = [1, 2 ,3]\n",
    "myList[2]  = 4\n",
    "myTuple[2] = 4\n",
    "myList"
   ]
  },
  {
   "cell_type": "markdown",
   "metadata": {
    "slideshow": {
     "slide_type": "slide"
    }
   },
   "source": [
    "## How to structure code\n",
    "\n",
    "__3. What does pseudocode mean?__  \n",
    "Writing down the steps you intend to include in your code in more general language"
   ]
  },
  {
   "cell_type": "markdown",
   "metadata": {
    "slideshow": {
     "slide_type": "slide"
    }
   },
   "source": [
    "- Decide on what output you want\n",
    "- What input files do you have?\n",
    "- How is the input structured, can you iterate over it?\n",
    "- Where is the information you need located?\n",
    "- Do you need to save a lot of information while iterating?\n",
    "  - Lists are good for ordered data\n",
    "  - Sets are good for non-duplicate single entry information\n",
    "  - Dictionaries are good for a lot of structured information\n",
    "- When you have collected the data needed, decide on how to process it\n",
    "- Are you writing your results to a file?\n",
    "\n",
    "__Always start with writing pseudocode!__"
   ]
  },
  {
   "cell_type": "markdown",
   "metadata": {
    "slideshow": {
     "slide_type": "slide"
    }
   },
   "source": [
    "## Functions and methods\n",
    "\n",
    "__4. What are the following examples of?__  \n",
    "`len([1, 2, 3, 4])`  \n",
    "`print(\"my text\")`\n",
    "\n",
    "Functions"
   ]
  },
  {
   "cell_type": "markdown",
   "metadata": {
    "slideshow": {
     "slide_type": "fragment"
    }
   },
   "source": [
    "__5. What are the following examples of?__  \n",
    "`\"my\\ttext\".split(\"\\t\")`  \n",
    "`[1, 2, 3].pop()`\n",
    "\n",
    "Methods"
   ]
  },
  {
   "cell_type": "markdown",
   "metadata": {
    "slideshow": {
     "slide_type": "slide"
    }
   },
   "source": [
    "General syntax of Functions and Methods\n",
    "\n",
    "`functionName()`  &emsp; &emsp;  `<object>.methodName()`\n",
    "\n",
    "<br>\n",
    "A method always belongs to an object of a specific class, a function does not have to."
   ]
  },
  {
   "cell_type": "markdown",
   "metadata": {
    "slideshow": {
     "slide_type": "slide"
    }
   },
   "source": [
    "__6. Calculate the average of the list `[1,2,3.5,5,6.2]` to one decimal, using Python__"
   ]
  },
  {
   "cell_type": "code",
   "execution_count": 4,
   "metadata": {
    "slideshow": {
     "slide_type": "-"
    }
   },
   "outputs": [
    {
     "data": {
      "text/plain": [
       "3.5"
      ]
     },
     "execution_count": 4,
     "metadata": {},
     "output_type": "execute_result"
    }
   ],
   "source": [
    "myList = [1, 2, 3.5, 5 ,6.2]\n",
    "round(sum(myList)/len(myList),1)"
   ]
  },
  {
   "cell_type": "markdown",
   "metadata": {
    "slideshow": {
     "slide_type": "slide"
    }
   },
   "source": [
    "__7. Take the list `['I','know','Python']` as input and output the string 'I KNOW PYTHON'__"
   ]
  },
  {
   "cell_type": "code",
   "execution_count": 10,
   "metadata": {
    "slideshow": {
     "slide_type": "-"
    }
   },
   "outputs": [
    {
     "name": "stdout",
     "output_type": "stream",
     "text": [
      "I KNOW PYTHON\n"
     ]
    }
   ],
   "source": [
    "my_list   = ['I','know','Python']\n",
    "my_string =' '.join(my_list).upper()\n",
    "print(my_string)"
   ]
  },
  {
   "cell_type": "markdown",
   "metadata": {
    "slideshow": {
     "slide_type": "slide"
    }
   },
   "source": [
    "## Day 3\n",
    "\n",
    "- Sets\n",
    "- Dictionaries\n",
    "- Functions\n",
    "- sys.argv\n",
    "- Formatting"
   ]
  },
  {
   "cell_type": "markdown",
   "metadata": {
    "slideshow": {
     "slide_type": "slide"
    }
   },
   "source": [
    "## IMDb\n",
    "\n",
    "### Find the movie with the highest rating\n",
    "\n",
    "<img src=\"img/header_imdb.png\" alt=\"Drawing\" style=\"width: 1000px;\"/> "
   ]
  },
  {
   "cell_type": "markdown",
   "metadata": {
    "slideshow": {
     "slide_type": "slide"
    }
   },
   "source": [
    "<img src=\"img/header_imdb.png\" alt=\"Drawing\" style=\"width: 1000px;\"/> "
   ]
  },
  {
   "cell_type": "code",
   "execution_count": 15,
   "metadata": {
    "slideshow": {
     "slide_type": "-"
    }
   },
   "outputs": [
    {
     "name": "stdout",
     "output_type": "stream",
     "text": [
      "[9.3, 'The Shawshank Redemption']\n"
     ]
    }
   ],
   "source": [
    "fh   = open('../downloads/250.imdb', 'r', encoding = 'utf-8')\n",
    "best = [0,'']           # here we save the rating and which movie\n",
    "for line in fh:\n",
    "    if not line.startswith('#'):\n",
    "        cols   = line.strip().split('|')\n",
    "        rating = float(cols[1].strip())\n",
    "        if rating > best[0]:           # if the rating is higher than previous highest, update best\n",
    "            best = [rating,cols[6]]\n",
    "fh.close()\n",
    "print(best)"
   ]
  },
  {
   "cell_type": "markdown",
   "metadata": {
    "slideshow": {
     "slide_type": "slide"
    }
   },
   "source": [
    "## IMDb\n",
    "### Find the number of unique genres\n",
    "\n",
    "<img src=\"img/header_imdb.png\" alt=\"Drawing\" style=\"width: 1000px;\"/> "
   ]
  },
  {
   "cell_type": "markdown",
   "metadata": {
    "slideshow": {
     "slide_type": "subslide"
    }
   },
   "source": [
    "### Answer\n",
    "\n",
    "Watch out for the upper/lower cases!\n",
    "\n",
    "The correct answer is 22"
   ]
  },
  {
   "cell_type": "code",
   "execution_count": 16,
   "metadata": {
    "slideshow": {
     "slide_type": "subslide"
    }
   },
   "outputs": [
    {
     "name": "stdout",
     "output_type": "stream",
     "text": [
      "# Votes | Rating | Year | Runtime | URL | Genres | Title\n",
      "    126807|   8.5|1957|5280|https://images-na.ssl-images-amazon.com/images/M/MV5BOTI5Nzc0OTMtYzBkMS00NjkxLThmM2UtNjM2ODgxN2M5NjNkXkEyXkFqcGdeQXVyNjQ2MjQ5NzM@._V1_.jpg|Drama,War|Paths of Glory\n"
     ]
    }
   ],
   "source": [
    "%%bash\n",
    "head -2 ../downloads/250.imdb"
   ]
  },
  {
   "cell_type": "code",
   "execution_count": 25,
   "metadata": {
    "slideshow": {
     "slide_type": "-"
    }
   },
   "outputs": [
    {
     "name": "stdout",
     "output_type": "stream",
     "text": [
      "['drama', 'war', 'adventure', 'comedy', 'family', 'animation', 'biography', 'history', 'action', 'crime', 'mystery', 'thriller', 'fantasy', 'romance', 'sci-fi', 'western', 'musical', 'music', 'historical', 'sport', 'film-noir', 'horror']\n",
      "22\n"
     ]
    }
   ],
   "source": [
    "fh = open('../downloads/250.imdb', 'r', encoding = 'utf-8')\n",
    "\n",
    "genres = []\n",
    "\n",
    "for line in fh:\n",
    "    if not line.startswith('#'):\n",
    "        cols = line.strip().split('|')\n",
    "        genre = cols[5].strip()\n",
    "        genrelist = genre.split(',')\n",
    "        for entry in genrelist:\n",
    "            if entry.lower() not in genres:\n",
    "                genres.append(entry.lower())\n",
    "        \n",
    "fh.close()\n",
    "print(genres)\n",
    "print(len(genres))"
   ]
  },
  {
   "cell_type": "markdown",
   "metadata": {
    "slideshow": {
     "slide_type": "slide"
    }
   },
   "source": [
    "## New data type: `set`\n",
    "\n",
    "- A set contains an unordered collection of unique and immutable objects\n",
    "\n",
    "Syntax:  \n",
    "_For empty set:_  \n",
    "`setName = set()`  \n",
    "\n",
    "_For populated sets:_  \n",
    "`setName = {1,2,3,4,5}`"
   ]
  },
  {
   "cell_type": "markdown",
   "metadata": {
    "slideshow": {
     "slide_type": "slide"
    }
   },
   "source": [
    "### Common operations on `sets`\n",
    "\n",
    "`set.add(a)`  \n",
    "`len(set)`  \n",
    "`a in set` "
   ]
  },
  {
   "cell_type": "code",
   "execution_count": 33,
   "metadata": {
    "slideshow": {
     "slide_type": "-"
    }
   },
   "outputs": [
    {
     "name": "stdout",
     "output_type": "stream",
     "text": [
      "25\n",
      "3\n",
      "100\n",
      "3.0\n"
     ]
    },
    {
     "data": {
      "text/plain": [
       "True"
      ]
     },
     "execution_count": 33,
     "metadata": {},
     "output_type": "execute_result"
    }
   ],
   "source": [
    "x = set()\n",
    "x.add(100)\n",
    "x.add(25)\n",
    "x.add(3)\n",
    "x.add('3.0')\n",
    "for i in x:\n",
    "    print(i)\n",
    "type(x) \n",
    "mySet = {2,5,1,3}\n",
    "mySet.add(5)\n",
    "mySet.add(4)\n",
    "#print(mySet)\n",
    "x.add(100)\n",
    "25 in x"
   ]
  },
  {
   "cell_type": "markdown",
   "metadata": {
    "slideshow": {
     "slide_type": "slide"
    }
   },
   "source": [
    "### Find the number of unique genres\n",
    "\n",
    "<img src=\"img/header_imdb.png\" alt=\"Drawing\" style=\"width: 1000px;\"/>  \n",
    "\n",
    "Modify your code to use sets"
   ]
  },
  {
   "cell_type": "code",
   "execution_count": 34,
   "metadata": {
    "slideshow": {
     "slide_type": "subslide"
    }
   },
   "outputs": [
    {
     "name": "stdout",
     "output_type": "stream",
     "text": [
      "22\n"
     ]
    },
    {
     "data": {
      "text/plain": [
       "['action',\n",
       " 'adventure',\n",
       " 'animation',\n",
       " 'biography',\n",
       " 'comedy',\n",
       " 'crime',\n",
       " 'drama',\n",
       " 'family',\n",
       " 'fantasy',\n",
       " 'film-noir',\n",
       " 'historical',\n",
       " 'history',\n",
       " 'horror',\n",
       " 'music',\n",
       " 'musical',\n",
       " 'mystery',\n",
       " 'romance',\n",
       " 'sci-fi',\n",
       " 'sport',\n",
       " 'thriller',\n",
       " 'war',\n",
       " 'western']"
      ]
     },
     "execution_count": 34,
     "metadata": {},
     "output_type": "execute_result"
    }
   ],
   "source": [
    "fh     = open('../downloads/250.imdb', 'r', encoding = 'utf-8')\n",
    "genres = set()\n",
    "\n",
    "for line in fh:\n",
    "    if not line.startswith('#'):\n",
    "        cols  = line.strip().split('|')\n",
    "        genre = cols[5].strip()\n",
    "        glist = genre.split(',')\n",
    "        for entry in glist:\n",
    "            genres.add(entry.lower())\n",
    "print(len(genres))\n",
    "sorted(list(genres))"
   ]
  },
  {
   "cell_type": "markdown",
   "metadata": {
    "slideshow": {
     "slide_type": "slide"
    }
   },
   "source": [
    "## IMDb\n",
    "\n",
    "### Find the number of movies per genre\n",
    "\n",
    "<img src=\"img/header_imdb.png\" alt=\"Drawing\" style=\"width: 1000px;\"/>  "
   ]
  },
  {
   "cell_type": "markdown",
   "metadata": {
    "slideshow": {
     "slide_type": "fragment"
    }
   },
   "source": [
    "... Hm, starting to be difficult now..."
   ]
  },
  {
   "cell_type": "markdown",
   "metadata": {
    "slideshow": {
     "slide_type": "slide"
    }
   },
   "source": [
    "## New data type: `dictionary`\n",
    "\n",
    "- A dictionary is a mapping of unique keys to values\n",
    "- Dictionaries are mutable\n",
    "\n",
    "Syntax:  \n",
    "`a = {}` (create empty dictionary)  \n",
    "`d = {'key1':1, 'key2':2, 'key3':3}`"
   ]
  },
  {
   "cell_type": "code",
   "execution_count": 35,
   "metadata": {
    "slideshow": {
     "slide_type": "-"
    }
   },
   "outputs": [
    {
     "data": {
      "text/plain": [
       "{'drama': 4, 'thriller': 2, 'romance': 5}"
      ]
     },
     "execution_count": 35,
     "metadata": {},
     "output_type": "execute_result"
    }
   ],
   "source": [
    "myDict = {'drama': 4,\n",
    "          'thriller': 2,\n",
    "          'romance': 5}\n",
    "myDict\n"
   ]
  },
  {
   "cell_type": "markdown",
   "metadata": {
    "slideshow": {
     "slide_type": "slide"
    }
   },
   "source": [
    "### Operations on Dictionaries"
   ]
  },
  {
   "cell_type": "markdown",
   "metadata": {
    "slideshow": {
     "slide_type": "-"
    }
   },
   "source": [
    "<img src=\"img/dictionary.png\" alt=\"Drawing\" style=\"width: 600px;\"/>  "
   ]
  },
  {
   "cell_type": "code",
   "execution_count": 52,
   "metadata": {
    "slideshow": {
     "slide_type": "-"
    }
   },
   "outputs": [
    {
     "name": "stdout",
     "output_type": "stream",
     "text": [
      "my key is: drama\n",
      "my value is: 4\n",
      "my key is: thriller\n",
      "my value is: 2\n",
      "my key is: romance\n",
      "my value is: 5\n"
     ]
    }
   ],
   "source": [
    "myDict = {'drama': 4, \n",
    "          'thriller': 2, \n",
    "          'romance': 5}\n",
    "len(myDict)\n",
    "myDict['drama']\n",
    "myDict['horror'] = 2\n",
    "myDict\n",
    "del myDict['horror']\n",
    "myDict\n",
    "'drama' in myDict\n",
    "myDict.keys()\n",
    "#myDict.items()\n",
    "list(myDict.values())\n",
    "for i in myDict:\n",
    "    print('my key is: ' + str(i))\n",
    "    print('my value is: ' + str(myDict[i]))"
   ]
  },
  {
   "cell_type": "markdown",
   "metadata": {
    "slideshow": {
     "slide_type": "slide"
    }
   },
   "source": [
    "### Exercise"
   ]
  },
  {
   "cell_type": "code",
   "execution_count": 54,
   "metadata": {
    "slideshow": {
     "slide_type": "-"
    }
   },
   "outputs": [],
   "source": [
    "myDict = {'drama': 182, \n",
    "          'war': 30, \n",
    "          'adventure': 55, \n",
    "          'comedy': 46, \n",
    "          'family': 24, \n",
    "          'animation': 17, \n",
    "          'biography': 25}"
   ]
  },
  {
   "cell_type": "markdown",
   "metadata": {
    "slideshow": {
     "slide_type": "-"
    }
   },
   "source": [
    "- How many entries are there in this dictionary?\n",
    "- How do you find out how many movies are in the genre 'comedy'?\n",
    "- You're not interested in biographies, delete this entry\n",
    "- You are however interested in fantasy, add that we have 29 movies of the genre fantasy to the list\n",
    "- What genres are listed in this dictionary?\n",
    "- You remembered another comedy movie, increase the number of comedies by one"
   ]
  },
  {
   "cell_type": "code",
   "execution_count": 60,
   "metadata": {
    "slideshow": {
     "slide_type": "-"
    }
   },
   "outputs": [
    {
     "data": {
      "text/plain": [
       "{'drama': 182,\n",
       " 'war': 30,\n",
       " 'adventure': 55,\n",
       " 'comedy': 47,\n",
       " 'family': 24,\n",
       " 'animation': 17,\n",
       " 'fantasy': 29}"
      ]
     },
     "execution_count": 60,
     "metadata": {},
     "output_type": "execute_result"
    }
   ],
   "source": [
    "myDict['comedy'] += 1\n",
    "myDict"
   ]
  },
  {
   "cell_type": "markdown",
   "metadata": {
    "slideshow": {
     "slide_type": "slide"
    }
   },
   "source": [
    "### Find the number of movies per genre\n",
    "\n",
    "<img src=\"img/header_imdb.png\" alt=\"Drawing\" style=\"width: 1000px;\"/>  \n",
    "\n",
    "\n",
    "Hint! If the genre is not already in the dictionary, you have to add it first"
   ]
  },
  {
   "cell_type": "markdown",
   "metadata": {
    "slideshow": {
     "slide_type": "subslide"
    }
   },
   "source": [
    "### Answer\n",
    "\n",
    "<img src=\"img/movie_dict.png\" alt=\"Drawing\" style=\"width: 500px;\"/>  "
   ]
  },
  {
   "cell_type": "code",
   "execution_count": 67,
   "metadata": {
    "slideshow": {
     "slide_type": "subslide"
    }
   },
   "outputs": [
    {
     "name": "stdout",
     "output_type": "stream",
     "text": [
      "{}\n",
      "\n",
      "\n",
      "Paths of Glory\n",
      "Drama\n",
      "War\n",
      "{'drama': 1, 'war': 1}\n",
      "\n",
      "\n",
      "The Gold Rush\n",
      "Adventure\n",
      "Comedy\n",
      "Drama\n",
      "Family\n",
      "{'drama': 2, 'war': 1, 'adventure': 1, 'comedy': 1, 'family': 1}\n",
      "\n",
      "\n",
      "Up\n",
      "Animation\n",
      "Adventure\n",
      "Comedy\n",
      "Family\n",
      "{'drama': 2, 'war': 1, 'adventure': 2, 'comedy': 2, 'family': 2, 'animation': 1}\n",
      "\n",
      "\n",
      "The Passion of Joan of Arc\n",
      "Biography\n",
      "Drama\n",
      "History\n",
      "{'drama': 3, 'war': 1, 'adventure': 2, 'comedy': 2, 'family': 2, 'animation': 1, 'biography': 1, 'history': 1}\n",
      "\n",
      "\n",
      "North by Northwest\n",
      "Action\n",
      "Adventure\n",
      "Crime\n",
      "Mystery\n",
      "Thriller\n",
      "{'drama': 3, 'war': 1, 'adventure': 3, 'comedy': 2, 'family': 2, 'animation': 1, 'biography': 1, 'history': 1, 'action': 1, 'crime': 1, 'mystery': 1, 'thriller': 1}\n",
      "\n",
      "\n",
      "On the Waterfront\n",
      "Crime\n",
      "Drama\n",
      "Thriller\n",
      "{'drama': 4, 'war': 1, 'adventure': 3, 'comedy': 2, 'family': 2, 'animation': 1, 'biography': 1, 'history': 1, 'action': 1, 'crime': 2, 'mystery': 1, 'thriller': 2}\n",
      "\n",
      "\n",
      "In the Name of the Father\n",
      "Biography\n",
      "Drama\n",
      "{'drama': 5, 'war': 1, 'adventure': 3, 'comedy': 2, 'family': 2, 'animation': 1, 'biography': 2, 'history': 1, 'action': 1, 'crime': 2, 'mystery': 1, 'thriller': 2}\n",
      "\n",
      "\n",
      "To Kill a Mockingbird\n",
      "Crime\n",
      "Drama\n",
      "{'drama': 6, 'war': 1, 'adventure': 3, 'comedy': 2, 'family': 2, 'animation': 1, 'biography': 2, 'history': 1, 'action': 1, 'crime': 3, 'mystery': 1, 'thriller': 2}\n",
      "\n",
      "\n",
      "The Elephant Man\n",
      "Biography\n",
      "Drama\n",
      "{'drama': 7, 'war': 1, 'adventure': 3, 'comedy': 2, 'family': 2, 'animation': 1, 'biography': 3, 'history': 1, 'action': 1, 'crime': 3, 'mystery': 1, 'thriller': 2}\n",
      "\n",
      "\n",
      "Toy Story\n",
      "Animation\n",
      "Adventure\n",
      "Comedy\n",
      "Family\n",
      "Fantasy\n",
      "{'drama': 7, 'war': 1, 'adventure': 4, 'comedy': 3, 'family': 3, 'animation': 2, 'biography': 3, 'history': 1, 'action': 1, 'crime': 3, 'mystery': 1, 'thriller': 2, 'fantasy': 1}\n",
      "\n",
      "\n",
      "Before Sunrise\n",
      "Drama\n",
      "Romance\n",
      "{'drama': 8, 'war': 1, 'adventure': 4, 'comedy': 3, 'family': 3, 'animation': 2, 'biography': 3, 'history': 1, 'action': 1, 'crime': 3, 'mystery': 1, 'thriller': 2, 'fantasy': 1, 'romance': 1}\n",
      "\n",
      "\n",
      "La Haine\n",
      "Crime\n",
      "Drama\n",
      "{'drama': 9, 'war': 1, 'adventure': 4, 'comedy': 3, 'family': 3, 'animation': 2, 'biography': 3, 'history': 1, 'action': 1, 'crime': 4, 'mystery': 1, 'thriller': 2, 'fantasy': 1, 'romance': 1}\n",
      "\n",
      "\n",
      "Full Metal Jacket\n",
      "Drama\n",
      "War\n",
      "{'drama': 10, 'war': 2, 'adventure': 4, 'comedy': 3, 'family': 3, 'animation': 2, 'biography': 3, 'history': 1, 'action': 1, 'crime': 4, 'mystery': 1, 'thriller': 2, 'fantasy': 1, 'romance': 1}\n",
      "\n",
      "\n",
      "Nausicaä of the Valley of the Wind\n",
      "Animation\n",
      "Adventure\n",
      "Fantasy\n",
      "Sci-Fi\n",
      "{'drama': 10, 'war': 2, 'adventure': 5, 'comedy': 3, 'family': 3, 'animation': 3, 'biography': 3, 'history': 1, 'action': 1, 'crime': 4, 'mystery': 1, 'thriller': 2, 'fantasy': 2, 'romance': 1, 'sci-fi': 1}\n",
      "\n",
      "\n",
      "Aliens\n",
      "Action\n",
      "Adventure\n",
      "Sci-Fi\n",
      "Thriller\n",
      "{'drama': 10, 'war': 2, 'adventure': 6, 'comedy': 3, 'family': 3, 'animation': 3, 'biography': 3, 'history': 1, 'action': 2, 'crime': 4, 'mystery': 1, 'thriller': 3, 'fantasy': 2, 'romance': 1, 'sci-fi': 2}\n",
      "\n",
      "\n",
      "Léon: The Professional\n",
      "Crime\n",
      "Drama\n",
      "Thriller\n",
      "{'drama': 11, 'war': 2, 'adventure': 6, 'comedy': 3, 'family': 3, 'animation': 3, 'biography': 3, 'history': 1, 'action': 2, 'crime': 5, 'mystery': 1, 'thriller': 4, 'fantasy': 2, 'romance': 1, 'sci-fi': 2}\n",
      "\n",
      "\n",
      "The Nights of Cabiria\n",
      "Drama\n",
      "{'drama': 12, 'war': 2, 'adventure': 6, 'comedy': 3, 'family': 3, 'animation': 3, 'biography': 3, 'history': 1, 'action': 2, 'crime': 5, 'mystery': 1, 'thriller': 4, 'fantasy': 2, 'romance': 1, 'sci-fi': 2}\n",
      "\n",
      "\n",
      "Citizen Kane\n",
      "drama\n",
      "Mystery\n",
      "{'drama': 13, 'war': 2, 'adventure': 6, 'comedy': 3, 'family': 3, 'animation': 3, 'biography': 3, 'history': 1, 'action': 2, 'crime': 5, 'mystery': 2, 'thriller': 4, 'fantasy': 2, 'romance': 1, 'sci-fi': 2}\n",
      "\n",
      "\n",
      "For a Few Dollars More\n",
      "Western\n",
      "{'drama': 13, 'war': 2, 'adventure': 6, 'comedy': 3, 'family': 3, 'animation': 3, 'biography': 3, 'history': 1, 'action': 2, 'crime': 5, 'mystery': 2, 'thriller': 4, 'fantasy': 2, 'romance': 1, 'sci-fi': 2, 'western': 1}\n",
      "\n",
      "\n",
      "The Green Mile\n",
      "Crime\n",
      "Drama\n",
      "Fantasy\n",
      "Mystery\n",
      "{'drama': 14, 'war': 2, 'adventure': 6, 'comedy': 3, 'family': 3, 'animation': 3, 'biography': 3, 'history': 1, 'action': 2, 'crime': 6, 'mystery': 3, 'thriller': 4, 'fantasy': 3, 'romance': 1, 'sci-fi': 2, 'western': 1}\n",
      "\n",
      "\n",
      "La La Land\n",
      "Comedy\n",
      "Drama\n",
      "Musical\n",
      "Romance\n",
      "{'drama': 15, 'war': 2, 'adventure': 6, 'comedy': 4, 'family': 3, 'animation': 3, 'biography': 3, 'history': 1, 'action': 2, 'crime': 6, 'mystery': 3, 'thriller': 4, 'fantasy': 3, 'romance': 2, 'sci-fi': 2, 'western': 1, 'musical': 1}\n",
      "\n",
      "\n",
      "Unforgiven\n",
      "Drama\n",
      "Western\n",
      "{'drama': 16, 'war': 2, 'adventure': 6, 'comedy': 4, 'family': 3, 'animation': 3, 'biography': 3, 'history': 1, 'action': 2, 'crime': 6, 'mystery': 3, 'thriller': 4, 'fantasy': 3, 'romance': 2, 'sci-fi': 2, 'western': 2, 'musical': 1}\n",
      "\n",
      "\n",
      "Taxi Driver\n",
      "Crime\n",
      "Drama\n",
      "{'drama': 17, 'war': 2, 'adventure': 6, 'comedy': 4, 'family': 3, 'animation': 3, 'biography': 3, 'history': 1, 'action': 2, 'crime': 7, 'mystery': 3, 'thriller': 4, 'fantasy': 3, 'romance': 2, 'sci-fi': 2, 'western': 2, 'musical': 1}\n",
      "\n",
      "\n",
      "Inception\n",
      "Action\n",
      "Adventure\n",
      "Sci-Fi\n",
      "thriller\n",
      "{'drama': 17, 'war': 2, 'adventure': 7, 'comedy': 4, 'family': 3, 'animation': 3, 'biography': 3, 'history': 1, 'action': 3, 'crime': 7, 'mystery': 3, 'thriller': 5, 'fantasy': 3, 'romance': 2, 'sci-fi': 3, 'western': 2, 'musical': 1}\n",
      "\n",
      "\n",
      "Se7en\n",
      "Crime\n",
      "Drama\n",
      "Mystery\n",
      "Thriller\n",
      "{'drama': 18, 'war': 2, 'adventure': 7, 'comedy': 4, 'family': 3, 'animation': 3, 'biography': 3, 'history': 1, 'action': 3, 'crime': 8, 'mystery': 4, 'thriller': 6, 'fantasy': 3, 'romance': 2, 'sci-fi': 3, 'western': 2, 'musical': 1}\n",
      "\n",
      "\n",
      "Rebecca\n",
      "Drama\n",
      "Mystery\n",
      "Romance\n",
      "Thriller\n",
      "{'drama': 19, 'war': 2, 'adventure': 7, 'comedy': 4, 'family': 3, 'animation': 3, 'biography': 3, 'history': 1, 'action': 3, 'crime': 8, 'mystery': 5, 'thriller': 7, 'fantasy': 3, 'romance': 3, 'sci-fi': 3, 'western': 2, 'musical': 1}\n",
      "\n",
      "\n",
      "Manchester by the Sea\n",
      "Drama\n",
      "{'drama': 20, 'war': 2, 'adventure': 7, 'comedy': 4, 'family': 3, 'animation': 3, 'biography': 3, 'history': 1, 'action': 3, 'crime': 8, 'mystery': 5, 'thriller': 7, 'fantasy': 3, 'romance': 3, 'sci-fi': 3, 'western': 2, 'musical': 1}\n",
      "\n",
      "\n",
      "The Secret in Their Eyes\n",
      "Drama\n",
      "Mystery\n",
      "Thriller\n",
      "{'drama': 21, 'war': 2, 'adventure': 7, 'comedy': 4, 'family': 3, 'animation': 3, 'biography': 3, 'history': 1, 'action': 3, 'crime': 8, 'mystery': 6, 'thriller': 8, 'fantasy': 3, 'romance': 3, 'sci-fi': 3, 'western': 2, 'musical': 1}\n",
      "\n",
      "\n",
      "Blade Runner\n",
      "Sci-Fi\n",
      "Thriller\n",
      "{'drama': 21, 'war': 2, 'adventure': 7, 'comedy': 4, 'family': 3, 'animation': 3, 'biography': 3, 'history': 1, 'action': 3, 'crime': 8, 'mystery': 6, 'thriller': 9, 'fantasy': 3, 'romance': 3, 'sci-fi': 4, 'western': 2, 'musical': 1}\n",
      "\n",
      "\n",
      "Like Stars on Earth\n",
      "Drama\n",
      "Family\n",
      "Music\n",
      "{'drama': 22, 'war': 2, 'adventure': 7, 'comedy': 4, 'family': 4, 'animation': 3, 'biography': 3, 'history': 1, 'action': 3, 'crime': 8, 'mystery': 6, 'thriller': 9, 'fantasy': 3, 'romance': 3, 'sci-fi': 4, 'western': 2, 'musical': 1, 'music': 1}\n",
      "\n",
      "\n",
      "There Will Be Blood\n",
      "Drama\n",
      "Historical\n",
      "{'drama': 23, 'war': 2, 'adventure': 7, 'comedy': 4, 'family': 4, 'animation': 3, 'biography': 3, 'history': 1, 'action': 3, 'crime': 8, 'mystery': 6, 'thriller': 9, 'fantasy': 3, 'romance': 3, 'sci-fi': 4, 'western': 2, 'musical': 1, 'music': 1, 'historical': 1}\n",
      "\n",
      "\n",
      "The Treasure of the Sierra Madre\n",
      "Adventure\n",
      "Drama\n",
      "Western\n",
      "{'drama': 24, 'war': 2, 'adventure': 8, 'comedy': 4, 'family': 4, 'animation': 3, 'biography': 3, 'history': 1, 'action': 3, 'crime': 8, 'mystery': 6, 'thriller': 9, 'fantasy': 3, 'romance': 3, 'sci-fi': 4, 'western': 3, 'musical': 1, 'music': 1, 'historical': 1}\n",
      "\n",
      "\n",
      "Whiplash\n",
      "Drama\n",
      "Music\n",
      "{'drama': 25, 'war': 2, 'adventure': 8, 'comedy': 4, 'family': 4, 'animation': 3, 'biography': 3, 'history': 1, 'action': 3, 'crime': 8, 'mystery': 6, 'thriller': 9, 'fantasy': 3, 'romance': 3, 'sci-fi': 4, 'western': 3, 'musical': 1, 'music': 2, 'historical': 1}\n",
      "\n",
      "\n",
      "The Princess Bride\n",
      "Adventure\n",
      "Family\n",
      "Fantasy\n",
      "Romance\n",
      "{'drama': 25, 'war': 2, 'adventure': 9, 'comedy': 4, 'family': 5, 'animation': 3, 'biography': 3, 'history': 1, 'action': 3, 'crime': 8, 'mystery': 6, 'thriller': 9, 'fantasy': 4, 'romance': 4, 'sci-fi': 4, 'western': 3, 'musical': 1, 'music': 2, 'historical': 1}\n",
      "\n",
      "\n",
      "Rang De Basanti\n",
      "Comedy\n",
      "Drama\n",
      "History\n",
      "Romance\n",
      "{'drama': 26, 'war': 2, 'adventure': 9, 'comedy': 5, 'family': 5, 'animation': 3, 'biography': 3, 'history': 2, 'action': 3, 'crime': 8, 'mystery': 6, 'thriller': 9, 'fantasy': 4, 'romance': 5, 'sci-fi': 4, 'western': 3, 'musical': 1, 'music': 2, 'historical': 1}\n",
      "\n",
      "\n",
      "Hotel Rwanda\n",
      "Biography\n",
      "Drama\n",
      "History\n",
      "War\n",
      "{'drama': 27, 'war': 3, 'adventure': 9, 'comedy': 5, 'family': 5, 'animation': 3, 'biography': 4, 'history': 3, 'action': 3, 'crime': 8, 'mystery': 6, 'thriller': 9, 'fantasy': 4, 'romance': 5, 'sci-fi': 4, 'western': 3, 'musical': 1, 'music': 2, 'historical': 1}\n",
      "\n",
      "\n",
      "City Lights\n",
      "Comedy\n",
      "Drama\n",
      "Romance\n",
      "{'drama': 28, 'war': 3, 'adventure': 9, 'comedy': 6, 'family': 5, 'animation': 3, 'biography': 4, 'history': 3, 'action': 3, 'crime': 8, 'mystery': 6, 'thriller': 9, 'fantasy': 4, 'romance': 6, 'sci-fi': 4, 'western': 3, 'musical': 1, 'music': 2, 'historical': 1}\n",
      "\n",
      "\n",
      "The Wizard of Oz\n",
      "Adventure\n",
      "Family\n",
      "Fantasy\n",
      "Musical\n",
      "{'drama': 28, 'war': 3, 'adventure': 10, 'comedy': 6, 'family': 6, 'animation': 3, 'biography': 4, 'history': 3, 'action': 3, 'crime': 8, 'mystery': 6, 'thriller': 9, 'fantasy': 5, 'romance': 6, 'sci-fi': 4, 'western': 3, 'musical': 2, 'music': 2, 'historical': 1}\n",
      "\n",
      "\n",
      "Heat\n",
      "Action\n",
      "Crime\n",
      "Drama\n",
      "Thriller\n",
      "{'drama': 29, 'war': 3, 'adventure': 10, 'comedy': 6, 'family': 6, 'animation': 3, 'biography': 4, 'history': 3, 'action': 4, 'crime': 9, 'mystery': 6, 'thriller': 10, 'fantasy': 5, 'romance': 6, 'sci-fi': 4, 'western': 3, 'musical': 2, 'music': 2, 'historical': 1}\n",
      "\n",
      "\n",
      "Die Hard\n",
      "Action\n",
      "Thriller\n",
      "{'drama': 29, 'war': 3, 'adventure': 10, 'comedy': 6, 'family': 6, 'animation': 3, 'biography': 4, 'history': 3, 'action': 5, 'crime': 9, 'mystery': 6, 'thriller': 11, 'fantasy': 5, 'romance': 6, 'sci-fi': 4, 'western': 3, 'musical': 2, 'music': 2, 'historical': 1}\n",
      "\n",
      "\n",
      "Monty Python and the Holy Grail\n",
      "Adventure\n",
      "Comedy\n",
      "Fantasy\n",
      "{'drama': 29, 'war': 3, 'adventure': 11, 'comedy': 7, 'family': 6, 'animation': 3, 'biography': 4, 'history': 3, 'action': 5, 'crime': 9, 'mystery': 6, 'thriller': 11, 'fantasy': 6, 'romance': 6, 'sci-fi': 4, 'western': 3, 'musical': 2, 'music': 2, 'historical': 1}\n",
      "\n",
      "\n",
      "Tokyo Story\n",
      "Drama\n",
      "{'drama': 30, 'war': 3, 'adventure': 11, 'comedy': 7, 'family': 6, 'animation': 3, 'biography': 4, 'history': 3, 'action': 5, 'crime': 9, 'mystery': 6, 'thriller': 11, 'fantasy': 6, 'romance': 6, 'sci-fi': 4, 'western': 3, 'musical': 2, 'music': 2, 'historical': 1}\n",
      "\n",
      "\n",
      "Sunrise\n",
      "Drama\n",
      "Romance\n",
      "{'drama': 31, 'war': 3, 'adventure': 11, 'comedy': 7, 'family': 6, 'animation': 3, 'biography': 4, 'history': 3, 'action': 5, 'crime': 9, 'mystery': 6, 'thriller': 11, 'fantasy': 6, 'romance': 7, 'sci-fi': 4, 'western': 3, 'musical': 2, 'music': 2, 'historical': 1}\n",
      "\n",
      "\n",
      "Eternal Sunshine of the Spotless Mind\n",
      "Drama\n",
      "Fantasy\n",
      "Romance\n",
      "Sci-Fi\n",
      "{'drama': 32, 'war': 3, 'adventure': 11, 'comedy': 7, 'family': 6, 'animation': 3, 'biography': 4, 'history': 3, 'action': 5, 'crime': 9, 'mystery': 6, 'thriller': 11, 'fantasy': 7, 'romance': 8, 'sci-fi': 5, 'western': 3, 'musical': 2, 'music': 2, 'historical': 1}\n",
      "\n",
      "\n",
      "The Departed\n",
      "Crime\n",
      "Drama\n",
      "Thriller\n",
      "{'drama': 33, 'war': 3, 'adventure': 11, 'comedy': 7, 'family': 6, 'animation': 3, 'biography': 4, 'history': 3, 'action': 5, 'crime': 10, 'mystery': 6, 'thriller': 12, 'fantasy': 7, 'romance': 8, 'sci-fi': 5, 'western': 3, 'musical': 2, 'music': 2, 'historical': 1}\n",
      "\n",
      "\n",
      "Dangal\n",
      "Biography\n",
      "Drama\n",
      "Sport\n",
      "{'drama': 34, 'war': 3, 'adventure': 11, 'comedy': 7, 'family': 6, 'animation': 3, 'biography': 5, 'history': 3, 'action': 5, 'crime': 10, 'mystery': 6, 'thriller': 12, 'fantasy': 7, 'romance': 8, 'sci-fi': 5, 'western': 3, 'musical': 2, 'music': 2, 'historical': 1, 'sport': 1}\n",
      "\n",
      "\n",
      "A Clockwork Orange\n",
      "Crime\n",
      "Drama\n",
      "Sci-Fi\n",
      "{'drama': 35, 'war': 3, 'adventure': 11, 'comedy': 7, 'family': 6, 'animation': 3, 'biography': 5, 'history': 3, 'action': 5, 'crime': 11, 'mystery': 6, 'thriller': 12, 'fantasy': 7, 'romance': 8, 'sci-fi': 6, 'western': 3, 'musical': 2, 'music': 2, 'historical': 1, 'sport': 1}\n",
      "\n",
      "\n",
      "Goodfellas\n",
      "Biography\n",
      "Crime\n",
      "Drama\n",
      "{'drama': 36, 'war': 3, 'adventure': 11, 'comedy': 7, 'family': 6, 'animation': 3, 'biography': 6, 'history': 3, 'action': 5, 'crime': 12, 'mystery': 6, 'thriller': 12, 'fantasy': 7, 'romance': 8, 'sci-fi': 6, 'western': 3, 'musical': 2, 'music': 2, 'historical': 1, 'sport': 1}\n",
      "\n",
      "\n",
      "Pulp Fiction\n",
      "Crime\n",
      "Drama\n",
      "{'drama': 37, 'war': 3, 'adventure': 11, 'comedy': 7, 'family': 6, 'animation': 3, 'biography': 6, 'history': 3, 'action': 5, 'crime': 13, 'mystery': 6, 'thriller': 12, 'fantasy': 7, 'romance': 8, 'sci-fi': 6, 'western': 3, 'musical': 2, 'music': 2, 'historical': 1, 'sport': 1}\n",
      "\n",
      "\n",
      "Reservoir Dogs\n",
      "Crime\n",
      "Drama\n",
      "Thriller\n",
      "{'drama': 38, 'war': 3, 'adventure': 11, 'comedy': 7, 'family': 6, 'animation': 3, 'biography': 6, 'history': 3, 'action': 5, 'crime': 14, 'mystery': 6, 'thriller': 13, 'fantasy': 7, 'romance': 8, 'sci-fi': 6, 'western': 3, 'musical': 2, 'music': 2, 'historical': 1, 'sport': 1}\n",
      "\n",
      "\n",
      "Warrior\n",
      "Action\n",
      "Drama\n",
      "Sport\n",
      "{'drama': 39, 'war': 3, 'adventure': 11, 'comedy': 7, 'family': 6, 'animation': 3, 'biography': 6, 'history': 3, 'action': 6, 'crime': 14, 'mystery': 6, 'thriller': 13, 'fantasy': 7, 'romance': 8, 'sci-fi': 6, 'western': 3, 'musical': 2, 'music': 2, 'historical': 1, 'sport': 2}\n",
      "\n",
      "\n",
      "A Separation\n",
      "Drama\n",
      "Mystery\n",
      "{'drama': 40, 'war': 3, 'adventure': 11, 'comedy': 7, 'family': 6, 'animation': 3, 'biography': 6, 'history': 3, 'action': 6, 'crime': 14, 'mystery': 7, 'thriller': 13, 'fantasy': 7, 'romance': 8, 'sci-fi': 6, 'western': 3, 'musical': 2, 'music': 2, 'historical': 1, 'sport': 2}\n",
      "\n",
      "\n",
      "Gran Torino\n",
      "Drama\n",
      "{'drama': 41, 'war': 3, 'adventure': 11, 'comedy': 7, 'family': 6, 'animation': 3, 'biography': 6, 'history': 3, 'action': 6, 'crime': 14, 'mystery': 7, 'thriller': 13, 'fantasy': 7, 'romance': 8, 'sci-fi': 6, 'western': 3, 'musical': 2, 'music': 2, 'historical': 1, 'sport': 2}\n",
      "\n",
      "\n",
      "American Beauty\n",
      "Drama\n",
      "Romance\n",
      "{'drama': 42, 'war': 3, 'adventure': 11, 'comedy': 7, 'family': 6, 'animation': 3, 'biography': 6, 'history': 3, 'action': 6, 'crime': 14, 'mystery': 7, 'thriller': 13, 'fantasy': 7, 'romance': 9, 'sci-fi': 6, 'western': 3, 'musical': 2, 'music': 2, 'historical': 1, 'sport': 2}\n",
      "\n",
      "\n",
      "Downfall\n",
      "Biography\n",
      "Drama\n",
      "History\n",
      "War\n",
      "{'drama': 43, 'war': 4, 'adventure': 11, 'comedy': 7, 'family': 6, 'animation': 3, 'biography': 7, 'history': 4, 'action': 6, 'crime': 14, 'mystery': 7, 'thriller': 13, 'fantasy': 7, 'romance': 9, 'sci-fi': 6, 'western': 3, 'musical': 2, 'music': 2, 'historical': 1, 'sport': 2}\n",
      "\n",
      "\n",
      "Donnie Darko\n",
      "Drama\n",
      "Sci-Fi\n",
      "Thriller\n",
      "{'drama': 44, 'war': 4, 'adventure': 11, 'comedy': 7, 'family': 6, 'animation': 3, 'biography': 7, 'history': 4, 'action': 6, 'crime': 14, 'mystery': 7, 'thriller': 14, 'fantasy': 7, 'romance': 9, 'sci-fi': 7, 'western': 3, 'musical': 2, 'music': 2, 'historical': 1, 'sport': 2}\n",
      "\n",
      "\n",
      "Gone with the Wind\n",
      "Drama\n",
      "History\n",
      "Romance\n",
      "War\n",
      "{'drama': 45, 'war': 5, 'adventure': 11, 'comedy': 7, 'family': 6, 'animation': 3, 'biography': 7, 'history': 5, 'action': 6, 'crime': 14, 'mystery': 7, 'thriller': 14, 'fantasy': 7, 'romance': 10, 'sci-fi': 7, 'western': 3, 'musical': 2, 'music': 2, 'historical': 1, 'sport': 2}\n",
      "\n",
      "\n",
      "The Great Escape\n",
      "Adventure\n",
      "Drama\n",
      "History\n",
      "Thriller\n",
      "War\n",
      "{'drama': 46, 'war': 6, 'adventure': 12, 'comedy': 7, 'family': 6, 'animation': 3, 'biography': 7, 'history': 6, 'action': 6, 'crime': 14, 'mystery': 7, 'thriller': 15, 'fantasy': 7, 'romance': 10, 'sci-fi': 7, 'western': 3, 'musical': 2, 'music': 2, 'historical': 1, 'sport': 2}\n",
      "\n",
      "\n",
      "Braveheart\n",
      "Biography\n",
      "Drama\n",
      "History\n",
      "War\n",
      "{'drama': 47, 'war': 7, 'adventure': 12, 'comedy': 7, 'family': 6, 'animation': 3, 'biography': 8, 'history': 7, 'action': 6, 'crime': 14, 'mystery': 7, 'thriller': 15, 'fantasy': 7, 'romance': 10, 'sci-fi': 7, 'western': 3, 'musical': 2, 'music': 2, 'historical': 1, 'sport': 2}\n",
      "\n",
      "\n",
      "Into the Wild\n",
      "Adventure\n",
      "Biography\n",
      "Drama\n",
      "{'drama': 48, 'war': 7, 'adventure': 13, 'comedy': 7, 'family': 6, 'animation': 3, 'biography': 9, 'history': 7, 'action': 6, 'crime': 14, 'mystery': 7, 'thriller': 15, 'fantasy': 7, 'romance': 10, 'sci-fi': 7, 'western': 3, 'musical': 2, 'music': 2, 'historical': 1, 'sport': 2}\n",
      "\n",
      "\n",
      "Groundhog Day\n",
      "Comedy\n",
      "Fantasy\n",
      "Romance\n",
      "{'drama': 48, 'war': 7, 'adventure': 13, 'comedy': 8, 'family': 6, 'animation': 3, 'biography': 9, 'history': 7, 'action': 6, 'crime': 14, 'mystery': 7, 'thriller': 15, 'fantasy': 8, 'romance': 11, 'sci-fi': 7, 'western': 3, 'musical': 2, 'music': 2, 'historical': 1, 'sport': 2}\n",
      "\n",
      "\n",
      "The Lord of the Rings: The Two Towers\n",
      "Adventure\n",
      "Drama\n",
      "Fantasy\n",
      "{'drama': 49, 'war': 7, 'adventure': 14, 'comedy': 8, 'family': 6, 'animation': 3, 'biography': 9, 'history': 7, 'action': 6, 'crime': 14, 'mystery': 7, 'thriller': 15, 'fantasy': 9, 'romance': 11, 'sci-fi': 7, 'western': 3, 'musical': 2, 'music': 2, 'historical': 1, 'sport': 2}\n",
      "\n",
      "\n",
      "Infernal Affairs\n",
      "Crime\n",
      "Drama\n",
      "Mystery\n",
      "Thriller\n",
      "{'drama': 50, 'war': 7, 'adventure': 14, 'comedy': 8, 'family': 6, 'animation': 3, 'biography': 9, 'history': 7, 'action': 6, 'crime': 15, 'mystery': 8, 'thriller': 16, 'fantasy': 9, 'romance': 11, 'sci-fi': 7, 'western': 3, 'musical': 2, 'music': 2, 'historical': 1, 'sport': 2}\n",
      "\n",
      "\n",
      "Incendies\n",
      "Drama\n",
      "Mystery\n",
      "War\n",
      "{'drama': 51, 'war': 8, 'adventure': 14, 'comedy': 8, 'family': 6, 'animation': 3, 'biography': 9, 'history': 7, 'action': 6, 'crime': 15, 'mystery': 9, 'thriller': 16, 'fantasy': 9, 'romance': 11, 'sci-fi': 7, 'western': 3, 'musical': 2, 'music': 2, 'historical': 1, 'sport': 2}\n",
      "\n",
      "\n",
      "The Hunt\n",
      "Drama\n",
      "{'drama': 52, 'war': 8, 'adventure': 14, 'comedy': 8, 'family': 6, 'animation': 3, 'biography': 9, 'history': 7, 'action': 6, 'crime': 15, 'mystery': 9, 'thriller': 16, 'fantasy': 9, 'romance': 11, 'sci-fi': 7, 'western': 3, 'musical': 2, 'music': 2, 'historical': 1, 'sport': 2}\n",
      "\n",
      "\n",
      "Vertigo\n",
      "Mystery\n",
      "Romance\n",
      "Thriller\n",
      "{'drama': 52, 'war': 8, 'adventure': 14, 'comedy': 8, 'family': 6, 'animation': 3, 'biography': 9, 'history': 7, 'action': 6, 'crime': 15, 'mystery': 10, 'thriller': 17, 'fantasy': 9, 'romance': 12, 'sci-fi': 7, 'western': 3, 'musical': 2, 'music': 2, 'historical': 1, 'sport': 2}\n",
      "\n",
      "\n",
      "Batman Begins\n",
      "Action\n",
      "Adventure\n",
      "{'drama': 52, 'war': 8, 'adventure': 15, 'comedy': 8, 'family': 6, 'animation': 3, 'biography': 9, 'history': 7, 'action': 7, 'crime': 15, 'mystery': 10, 'thriller': 17, 'fantasy': 9, 'romance': 12, 'sci-fi': 7, 'western': 3, 'musical': 2, 'music': 2, 'historical': 1, 'sport': 2}\n",
      "\n",
      "\n",
      "Judgment at Nuremberg\n",
      "Drama\n",
      "War\n",
      "{'drama': 53, 'war': 9, 'adventure': 15, 'comedy': 8, 'family': 6, 'animation': 3, 'biography': 9, 'history': 7, 'action': 7, 'crime': 15, 'mystery': 10, 'thriller': 17, 'fantasy': 9, 'romance': 12, 'sci-fi': 7, 'western': 3, 'musical': 2, 'music': 2, 'historical': 1, 'sport': 2}\n",
      "\n",
      "\n",
      "Once Upon a Time in America\n",
      "Crime\n",
      "Drama\n",
      "{'drama': 54, 'war': 9, 'adventure': 15, 'comedy': 8, 'family': 6, 'animation': 3, 'biography': 9, 'history': 7, 'action': 7, 'crime': 16, 'mystery': 10, 'thriller': 17, 'fantasy': 9, 'romance': 12, 'sci-fi': 7, 'western': 3, 'musical': 2, 'music': 2, 'historical': 1, 'sport': 2}\n",
      "\n",
      "\n",
      "Once Upon a Time in the West\n",
      "Western\n",
      "{'drama': 54, 'war': 9, 'adventure': 15, 'comedy': 8, 'family': 6, 'animation': 3, 'biography': 9, 'history': 7, 'action': 7, 'crime': 16, 'mystery': 10, 'thriller': 17, 'fantasy': 9, 'romance': 12, 'sci-fi': 7, 'western': 4, 'musical': 2, 'music': 2, 'historical': 1, 'sport': 2}\n",
      "\n",
      "\n",
      "The Sting\n",
      "Comedy\n",
      "Crime\n",
      "Drama\n",
      "{'drama': 55, 'war': 9, 'adventure': 15, 'comedy': 9, 'family': 6, 'animation': 3, 'biography': 9, 'history': 7, 'action': 7, 'crime': 17, 'mystery': 10, 'thriller': 17, 'fantasy': 9, 'romance': 12, 'sci-fi': 7, 'western': 4, 'musical': 2, 'music': 2, 'historical': 1, 'sport': 2}\n",
      "\n",
      "\n",
      "The Silence of the Lambs\n",
      "Crime\n",
      "Drama\n",
      "Thriller\n",
      "{'drama': 56, 'war': 9, 'adventure': 15, 'comedy': 9, 'family': 6, 'animation': 3, 'biography': 9, 'history': 7, 'action': 7, 'crime': 18, 'mystery': 10, 'thriller': 18, 'fantasy': 9, 'romance': 12, 'sci-fi': 7, 'western': 4, 'musical': 2, 'music': 2, 'historical': 1, 'sport': 2}\n",
      "\n",
      "\n",
      "Dog Day Afternoon\n",
      "Action\n",
      "Biography\n",
      "Crime\n",
      "Drama\n",
      "{'drama': 57, 'war': 9, 'adventure': 15, 'comedy': 9, 'family': 6, 'animation': 3, 'biography': 10, 'history': 7, 'action': 8, 'crime': 19, 'mystery': 10, 'thriller': 18, 'fantasy': 9, 'romance': 12, 'sci-fi': 7, 'western': 4, 'musical': 2, 'music': 2, 'historical': 1, 'sport': 2}\n",
      "\n",
      "\n",
      "The 400 Blows\n",
      "Crime\n",
      "Drama\n",
      "{'drama': 58, 'war': 9, 'adventure': 15, 'comedy': 9, 'family': 6, 'animation': 3, 'biography': 10, 'history': 7, 'action': 8, 'crime': 20, 'mystery': 10, 'thriller': 18, 'fantasy': 9, 'romance': 12, 'sci-fi': 7, 'western': 4, 'musical': 2, 'music': 2, 'historical': 1, 'sport': 2}\n",
      "\n",
      "\n",
      "Kind Hearts and Coronets\n",
      "Comedy\n",
      "Crime\n",
      "{'drama': 58, 'war': 9, 'adventure': 15, 'comedy': 10, 'family': 6, 'animation': 3, 'biography': 10, 'history': 7, 'action': 8, 'crime': 21, 'mystery': 10, 'thriller': 18, 'fantasy': 9, 'romance': 12, 'sci-fi': 7, 'western': 4, 'musical': 2, 'music': 2, 'historical': 1, 'sport': 2}\n",
      "\n",
      "\n",
      "Andaz Apna Apna\n",
      "Comedy\n",
      "Family\n",
      "Romance\n",
      "{'drama': 58, 'war': 9, 'adventure': 15, 'comedy': 11, 'family': 7, 'animation': 3, 'biography': 10, 'history': 7, 'action': 8, 'crime': 21, 'mystery': 10, 'thriller': 18, 'fantasy': 9, 'romance': 13, 'sci-fi': 7, 'western': 4, 'musical': 2, 'music': 2, 'historical': 1, 'sport': 2}\n",
      "\n",
      "\n",
      "Trainspotting\n",
      "Drama\n",
      "{'drama': 59, 'war': 9, 'adventure': 15, 'comedy': 11, 'family': 7, 'animation': 3, 'biography': 10, 'history': 7, 'action': 8, 'crime': 21, 'mystery': 10, 'thriller': 18, 'fantasy': 9, 'romance': 13, 'sci-fi': 7, 'western': 4, 'musical': 2, 'music': 2, 'historical': 1, 'sport': 2}\n",
      "\n",
      "\n",
      "Finding Nemo\n",
      "Animation\n",
      "Adventure\n",
      "Comedy\n",
      "Family\n",
      "{'drama': 59, 'war': 9, 'adventure': 16, 'comedy': 12, 'family': 8, 'animation': 4, 'biography': 10, 'history': 7, 'action': 8, 'crime': 21, 'mystery': 10, 'thriller': 18, 'fantasy': 9, 'romance': 13, 'sci-fi': 7, 'western': 4, 'musical': 2, 'music': 2, 'historical': 1, 'sport': 2}\n",
      "\n",
      "\n",
      "Platoon\n",
      "Drama\n",
      "War\n",
      "{'drama': 60, 'war': 10, 'adventure': 16, 'comedy': 12, 'family': 8, 'animation': 4, 'biography': 10, 'history': 7, 'action': 8, 'crime': 21, 'mystery': 10, 'thriller': 18, 'fantasy': 9, 'romance': 13, 'sci-fi': 7, 'western': 4, 'musical': 2, 'music': 2, 'historical': 1, 'sport': 2}\n",
      "\n",
      "\n",
      "L.A. Confidential\n",
      "Crime\n",
      "Drama\n",
      "Mystery\n",
      "Thriller\n",
      "{'drama': 61, 'war': 10, 'adventure': 16, 'comedy': 12, 'family': 8, 'animation': 4, 'biography': 10, 'history': 7, 'action': 8, 'crime': 22, 'mystery': 11, 'thriller': 19, 'fantasy': 9, 'romance': 13, 'sci-fi': 7, 'western': 4, 'musical': 2, 'music': 2, 'historical': 1, 'sport': 2}\n",
      "\n",
      "\n",
      "Cinema Paradiso\n",
      "Drama\n",
      "{'drama': 62, 'war': 10, 'adventure': 16, 'comedy': 12, 'family': 8, 'animation': 4, 'biography': 10, 'history': 7, 'action': 8, 'crime': 22, 'mystery': 11, 'thriller': 19, 'fantasy': 9, 'romance': 13, 'sci-fi': 7, 'western': 4, 'musical': 2, 'music': 2, 'historical': 1, 'sport': 2}\n",
      "\n",
      "\n",
      "Wild Strawberries\n",
      "Drama\n",
      "Romance\n",
      "{'drama': 63, 'war': 10, 'adventure': 16, 'comedy': 12, 'family': 8, 'animation': 4, 'biography': 10, 'history': 7, 'action': 8, 'crime': 22, 'mystery': 11, 'thriller': 19, 'fantasy': 9, 'romance': 14, 'sci-fi': 7, 'western': 4, 'musical': 2, 'music': 2, 'historical': 1, 'sport': 2}\n",
      "\n",
      "\n",
      "The Godfather: Part II\n",
      "Crime\n",
      "Drama\n",
      "{'drama': 64, 'war': 10, 'adventure': 16, 'comedy': 12, 'family': 8, 'animation': 4, 'biography': 10, 'history': 7, 'action': 8, 'crime': 23, 'mystery': 11, 'thriller': 19, 'fantasy': 9, 'romance': 14, 'sci-fi': 7, 'western': 4, 'musical': 2, 'music': 2, 'historical': 1, 'sport': 2}\n",
      "\n",
      "\n",
      "The Great Dictator\n",
      "Comedy\n",
      "Drama\n",
      "War\n",
      "{'drama': 65, 'war': 11, 'adventure': 16, 'comedy': 13, 'family': 8, 'animation': 4, 'biography': 10, 'history': 7, 'action': 8, 'crime': 23, 'mystery': 11, 'thriller': 19, 'fantasy': 9, 'romance': 14, 'sci-fi': 7, 'western': 4, 'musical': 2, 'music': 2, 'historical': 1, 'sport': 2}\n",
      "\n",
      "\n",
      "The Good, the Bad and the Ugly\n",
      "Western\n",
      "{'drama': 65, 'war': 11, 'adventure': 16, 'comedy': 13, 'family': 8, 'animation': 4, 'biography': 10, 'history': 7, 'action': 8, 'crime': 23, 'mystery': 11, 'thriller': 19, 'fantasy': 9, 'romance': 14, 'sci-fi': 7, 'western': 5, 'musical': 2, 'music': 2, 'historical': 1, 'sport': 2}\n",
      "\n",
      "\n",
      "Touch of Evil\n",
      "Crime\n",
      "Drama\n",
      "Film-Noir\n",
      "Thriller\n",
      "{'drama': 66, 'war': 11, 'adventure': 16, 'comedy': 13, 'family': 8, 'animation': 4, 'biography': 10, 'history': 7, 'action': 8, 'crime': 24, 'mystery': 11, 'thriller': 20, 'fantasy': 9, 'romance': 14, 'sci-fi': 7, 'western': 5, 'musical': 2, 'music': 2, 'historical': 1, 'sport': 2, 'film-noir': 1}\n",
      "\n",
      "\n",
      "Rear Window\n",
      "Mystery\n",
      "Thriller\n",
      "{'drama': 66, 'war': 11, 'adventure': 16, 'comedy': 13, 'family': 8, 'animation': 4, 'biography': 10, 'history': 7, 'action': 8, 'crime': 24, 'mystery': 12, 'thriller': 21, 'fantasy': 9, 'romance': 14, 'sci-fi': 7, 'western': 5, 'musical': 2, 'music': 2, 'historical': 1, 'sport': 2, 'film-noir': 1}\n",
      "\n",
      "\n",
      "Good Will Hunting\n",
      "Drama\n",
      "{'drama': 67, 'war': 11, 'adventure': 16, 'comedy': 13, 'family': 8, 'animation': 4, 'biography': 10, 'history': 7, 'action': 8, 'crime': 24, 'mystery': 12, 'thriller': 21, 'fantasy': 9, 'romance': 14, 'sci-fi': 7, 'western': 5, 'musical': 2, 'music': 2, 'historical': 1, 'sport': 2, 'film-noir': 1}\n",
      "\n",
      "\n",
      "Mary and Max\n",
      "Animation\n",
      "Comedy\n",
      "Drama\n",
      "{'drama': 68, 'war': 11, 'adventure': 16, 'comedy': 14, 'family': 8, 'animation': 5, 'biography': 10, 'history': 7, 'action': 8, 'crime': 24, 'mystery': 12, 'thriller': 21, 'fantasy': 9, 'romance': 14, 'sci-fi': 7, 'western': 5, 'musical': 2, 'music': 2, 'historical': 1, 'sport': 2, 'film-noir': 1}\n",
      "\n",
      "\n",
      "Rush\n",
      "Action\n",
      "Biography\n",
      "Drama\n",
      "Sport\n",
      "{'drama': 69, 'war': 11, 'adventure': 16, 'comedy': 14, 'family': 8, 'animation': 5, 'biography': 11, 'history': 7, 'action': 9, 'crime': 24, 'mystery': 12, 'thriller': 21, 'fantasy': 9, 'romance': 14, 'sci-fi': 7, 'western': 5, 'musical': 2, 'music': 2, 'historical': 1, 'sport': 3, 'film-noir': 1}\n",
      "\n",
      "\n",
      "Raging Bull\n",
      "Biography\n",
      "Drama\n",
      "Sport\n",
      "{'drama': 70, 'war': 11, 'adventure': 16, 'comedy': 14, 'family': 8, 'animation': 5, 'biography': 12, 'history': 7, 'action': 9, 'crime': 24, 'mystery': 12, 'thriller': 21, 'fantasy': 9, 'romance': 14, 'sci-fi': 7, 'western': 5, 'musical': 2, 'music': 2, 'historical': 1, 'sport': 4, 'film-noir': 1}\n",
      "\n",
      "\n",
      "Star Wars: Episode V - The Empire Strikes Back\n",
      "Action\n",
      "Adventure\n",
      "Fantasy\n",
      "Sci-Fi\n",
      "{'drama': 70, 'war': 11, 'adventure': 17, 'comedy': 14, 'family': 8, 'animation': 5, 'biography': 12, 'history': 7, 'action': 10, 'crime': 24, 'mystery': 12, 'thriller': 21, 'fantasy': 10, 'romance': 14, 'sci-fi': 8, 'western': 5, 'musical': 2, 'music': 2, 'historical': 1, 'sport': 4, 'film-noir': 1}\n",
      "\n",
      "\n",
      "Ikiru\n",
      "Drama\n",
      "{'drama': 71, 'war': 11, 'adventure': 17, 'comedy': 14, 'family': 8, 'animation': 5, 'biography': 12, 'history': 7, 'action': 10, 'crime': 24, 'mystery': 12, 'thriller': 21, 'fantasy': 10, 'romance': 14, 'sci-fi': 8, 'western': 5, 'musical': 2, 'music': 2, 'historical': 1, 'sport': 4, 'film-noir': 1}\n",
      "\n",
      "\n",
      "The Grand Budapest Hotel\n",
      "Adventure\n",
      "Comedy\n",
      "Drama\n",
      "{'drama': 72, 'war': 11, 'adventure': 18, 'comedy': 15, 'family': 8, 'animation': 5, 'biography': 12, 'history': 7, 'action': 10, 'crime': 24, 'mystery': 12, 'thriller': 21, 'fantasy': 10, 'romance': 14, 'sci-fi': 8, 'western': 5, 'musical': 2, 'music': 2, 'historical': 1, 'sport': 4, 'film-noir': 1}\n",
      "\n",
      "\n",
      "Schindler's List\n",
      "Biography\n",
      "Drama\n",
      "History\n",
      "{'drama': 73, 'war': 11, 'adventure': 18, 'comedy': 15, 'family': 8, 'animation': 5, 'biography': 13, 'history': 8, 'action': 10, 'crime': 24, 'mystery': 12, 'thriller': 21, 'fantasy': 10, 'romance': 14, 'sci-fi': 8, 'western': 5, 'musical': 2, 'music': 2, 'historical': 1, 'sport': 4, 'film-noir': 1}\n",
      "\n",
      "\n",
      "Rashomon\n",
      "Crime\n",
      "Drama\n",
      "Mystery\n",
      "{'drama': 74, 'war': 11, 'adventure': 18, 'comedy': 15, 'family': 8, 'animation': 5, 'biography': 13, 'history': 8, 'action': 10, 'crime': 25, 'mystery': 13, 'thriller': 21, 'fantasy': 10, 'romance': 14, 'sci-fi': 8, 'western': 5, 'musical': 2, 'music': 2, 'historical': 1, 'sport': 4, 'film-noir': 1}\n",
      "\n",
      "\n",
      "Amélie\n",
      "Comedy\n",
      "Romance\n",
      "{'drama': 74, 'war': 11, 'adventure': 18, 'comedy': 16, 'family': 8, 'animation': 5, 'biography': 13, 'history': 8, 'action': 10, 'crime': 25, 'mystery': 13, 'thriller': 21, 'fantasy': 10, 'romance': 15, 'sci-fi': 8, 'western': 5, 'musical': 2, 'music': 2, 'historical': 1, 'sport': 4, 'film-noir': 1}\n",
      "\n",
      "\n",
      "Yojimbo\n",
      "Action\n",
      "Drama\n",
      "Thriller\n",
      "{'drama': 75, 'war': 11, 'adventure': 18, 'comedy': 16, 'family': 8, 'animation': 5, 'biography': 13, 'history': 8, 'action': 11, 'crime': 25, 'mystery': 13, 'thriller': 22, 'fantasy': 10, 'romance': 15, 'sci-fi': 8, 'western': 5, 'musical': 2, 'music': 2, 'historical': 1, 'sport': 4, 'film-noir': 1}\n",
      "\n",
      "\n",
      "One Flew Over the Cuckoo's Nest\n",
      "Drama\n",
      "{'drama': 76, 'war': 11, 'adventure': 18, 'comedy': 16, 'family': 8, 'animation': 5, 'biography': 13, 'history': 8, 'action': 11, 'crime': 25, 'mystery': 13, 'thriller': 22, 'fantasy': 10, 'romance': 15, 'sci-fi': 8, 'western': 5, 'musical': 2, 'music': 2, 'historical': 1, 'sport': 4, 'film-noir': 1}\n",
      "\n",
      "\n",
      "My Father and My Son\n",
      "Drama\n",
      "{'drama': 77, 'war': 11, 'adventure': 18, 'comedy': 16, 'family': 8, 'animation': 5, 'biography': 13, 'history': 8, 'action': 11, 'crime': 25, 'mystery': 13, 'thriller': 22, 'fantasy': 10, 'romance': 15, 'sci-fi': 8, 'western': 5, 'musical': 2, 'music': 2, 'historical': 1, 'sport': 4, 'film-noir': 1}\n",
      "\n",
      "\n",
      "8½\n",
      "Drama\n",
      "Fantasy\n",
      "{'drama': 78, 'war': 11, 'adventure': 18, 'comedy': 16, 'family': 8, 'animation': 5, 'biography': 13, 'history': 8, 'action': 11, 'crime': 25, 'mystery': 13, 'thriller': 22, 'fantasy': 11, 'romance': 15, 'sci-fi': 8, 'western': 5, 'musical': 2, 'music': 2, 'historical': 1, 'sport': 4, 'film-noir': 1}\n",
      "\n",
      "\n",
      "The Lord of the Rings: The Fellowship of the Ring\n",
      "Adventure\n",
      "Drama\n",
      "Fantasy\n",
      "{'drama': 79, 'war': 11, 'adventure': 19, 'comedy': 16, 'family': 8, 'animation': 5, 'biography': 13, 'history': 8, 'action': 11, 'crime': 25, 'mystery': 13, 'thriller': 22, 'fantasy': 12, 'romance': 15, 'sci-fi': 8, 'western': 5, 'musical': 2, 'music': 2, 'historical': 1, 'sport': 4, 'film-noir': 1}\n",
      "\n",
      "\n",
      "Amores Perros\n",
      "Drama\n",
      "Thriller\n",
      "{'drama': 80, 'war': 11, 'adventure': 19, 'comedy': 16, 'family': 8, 'animation': 5, 'biography': 13, 'history': 8, 'action': 11, 'crime': 25, 'mystery': 13, 'thriller': 23, 'fantasy': 12, 'romance': 15, 'sci-fi': 8, 'western': 5, 'musical': 2, 'music': 2, 'historical': 1, 'sport': 4, 'film-noir': 1}\n",
      "\n",
      "\n",
      "Indiana Jones and the Last Crusade\n",
      "Action\n",
      "Adventure\n",
      "Fantasy\n",
      "{'drama': 80, 'war': 11, 'adventure': 20, 'comedy': 16, 'family': 8, 'animation': 5, 'biography': 13, 'history': 8, 'action': 12, 'crime': 25, 'mystery': 13, 'thriller': 23, 'fantasy': 13, 'romance': 15, 'sci-fi': 8, 'western': 5, 'musical': 2, 'music': 2, 'historical': 1, 'sport': 4, 'film-noir': 1}\n",
      "\n",
      "\n",
      "Apocalypse Now\n",
      "Drama\n",
      "War\n",
      "{'drama': 81, 'war': 12, 'adventure': 20, 'comedy': 16, 'family': 8, 'animation': 5, 'biography': 13, 'history': 8, 'action': 12, 'crime': 25, 'mystery': 13, 'thriller': 23, 'fantasy': 13, 'romance': 15, 'sci-fi': 8, 'western': 5, 'musical': 2, 'music': 2, 'historical': 1, 'sport': 4, 'film-noir': 1}\n",
      "\n",
      "\n",
      "Toy Story 3\n",
      "Animation\n",
      "Adventure\n",
      "Comedy\n",
      "Family\n",
      "Fantasy\n",
      "{'drama': 81, 'war': 12, 'adventure': 21, 'comedy': 17, 'family': 9, 'animation': 6, 'biography': 13, 'history': 8, 'action': 12, 'crime': 25, 'mystery': 13, 'thriller': 23, 'fantasy': 14, 'romance': 15, 'sci-fi': 8, 'western': 5, 'musical': 2, 'music': 2, 'historical': 1, 'sport': 4, 'film-noir': 1}\n",
      "\n",
      "\n",
      "Star Wars: Episode VII - The Force Awakens\n",
      "Action\n",
      "Adventure\n",
      "Fantasy\n",
      "Sci-Fi\n",
      "{'drama': 81, 'war': 12, 'adventure': 22, 'comedy': 17, 'family': 9, 'animation': 6, 'biography': 13, 'history': 8, 'action': 13, 'crime': 25, 'mystery': 13, 'thriller': 23, 'fantasy': 15, 'romance': 15, 'sci-fi': 9, 'western': 5, 'musical': 2, 'music': 2, 'historical': 1, 'sport': 4, 'film-noir': 1}\n",
      "\n",
      "\n",
      "Fight Club\n",
      "Drama\n",
      "{'drama': 82, 'war': 12, 'adventure': 22, 'comedy': 17, 'family': 9, 'animation': 6, 'biography': 13, 'history': 8, 'action': 13, 'crime': 25, 'mystery': 13, 'thriller': 23, 'fantasy': 15, 'romance': 15, 'sci-fi': 9, 'western': 5, 'musical': 2, 'music': 2, 'historical': 1, 'sport': 4, 'film-noir': 1}\n",
      "\n",
      "\n",
      "Strangers on a Train\n",
      "Crime\n",
      "Film-Noir\n",
      "Thriller\n",
      "{'drama': 82, 'war': 12, 'adventure': 22, 'comedy': 17, 'family': 9, 'animation': 6, 'biography': 13, 'history': 8, 'action': 13, 'crime': 26, 'mystery': 13, 'thriller': 24, 'fantasy': 15, 'romance': 15, 'sci-fi': 9, 'western': 5, 'musical': 2, 'music': 2, 'historical': 1, 'sport': 4, 'film-noir': 2}\n",
      "\n",
      "\n",
      "The Message\n",
      "Adventure\n",
      "Biography\n",
      "Drama\n",
      "History\n",
      "War\n",
      "{'drama': 83, 'war': 13, 'adventure': 23, 'comedy': 17, 'family': 9, 'animation': 6, 'biography': 14, 'history': 9, 'action': 13, 'crime': 26, 'mystery': 13, 'thriller': 24, 'fantasy': 15, 'romance': 15, 'sci-fi': 9, 'western': 5, 'musical': 2, 'music': 2, 'historical': 1, 'sport': 4, 'film-noir': 2}\n",
      "\n",
      "\n",
      "The Lord of the Rings: The Return of the King\n",
      "Adventure\n",
      "Drama\n",
      "Fantasy\n",
      "{'drama': 84, 'war': 13, 'adventure': 24, 'comedy': 17, 'family': 9, 'animation': 6, 'biography': 14, 'history': 9, 'action': 13, 'crime': 26, 'mystery': 13, 'thriller': 24, 'fantasy': 16, 'romance': 15, 'sci-fi': 9, 'western': 5, 'musical': 2, 'music': 2, 'historical': 1, 'sport': 4, 'film-noir': 2}\n",
      "\n",
      "\n",
      "Fargo\n",
      "Crime\n",
      "Drama\n",
      "Thriller\n",
      "{'drama': 85, 'war': 13, 'adventure': 24, 'comedy': 17, 'family': 9, 'animation': 6, 'biography': 14, 'history': 9, 'action': 13, 'crime': 27, 'mystery': 13, 'thriller': 25, 'fantasy': 16, 'romance': 15, 'sci-fi': 9, 'western': 5, 'musical': 2, 'music': 2, 'historical': 1, 'sport': 4, 'film-noir': 2}\n",
      "\n",
      "\n",
      "The Seventh Seal\n",
      "Drama\n",
      "Fantasy\n",
      "{'drama': 86, 'war': 13, 'adventure': 24, 'comedy': 17, 'family': 9, 'animation': 6, 'biography': 14, 'history': 9, 'action': 13, 'crime': 27, 'mystery': 13, 'thriller': 25, 'fantasy': 17, 'romance': 15, 'sci-fi': 9, 'western': 5, 'musical': 2, 'music': 2, 'historical': 1, 'sport': 4, 'film-noir': 2}\n",
      "\n",
      "\n",
      "The Battle of Algiers\n",
      "Drama\n",
      "War\n",
      "{'drama': 87, 'war': 14, 'adventure': 24, 'comedy': 17, 'family': 9, 'animation': 6, 'biography': 14, 'history': 9, 'action': 13, 'crime': 27, 'mystery': 13, 'thriller': 25, 'fantasy': 17, 'romance': 15, 'sci-fi': 9, 'western': 5, 'musical': 2, 'music': 2, 'historical': 1, 'sport': 4, 'film-noir': 2}\n",
      "\n",
      "\n",
      "2001: A Space Odyssey\n",
      "Adventure\n",
      "Mystery\n",
      "Sci-Fi\n",
      "{'drama': 87, 'war': 14, 'adventure': 25, 'comedy': 17, 'family': 9, 'animation': 6, 'biography': 14, 'history': 9, 'action': 13, 'crime': 27, 'mystery': 14, 'thriller': 25, 'fantasy': 17, 'romance': 15, 'sci-fi': 10, 'western': 5, 'musical': 2, 'music': 2, 'historical': 1, 'sport': 4, 'film-noir': 2}\n",
      "\n",
      "\n",
      "Hera Pheri\n",
      "Comedy\n",
      "Crime\n",
      "Thriller\n",
      "{'drama': 87, 'war': 14, 'adventure': 25, 'comedy': 18, 'family': 9, 'animation': 6, 'biography': 14, 'history': 9, 'action': 13, 'crime': 28, 'mystery': 14, 'thriller': 26, 'fantasy': 17, 'romance': 15, 'sci-fi': 10, 'western': 5, 'musical': 2, 'music': 2, 'historical': 1, 'sport': 4, 'film-noir': 2}\n",
      "\n",
      "\n",
      "Back to the Future\n",
      "Adventure\n",
      "Comedy\n",
      "Sci-Fi\n",
      "{'drama': 87, 'war': 14, 'adventure': 26, 'comedy': 19, 'family': 9, 'animation': 6, 'biography': 14, 'history': 9, 'action': 13, 'crime': 28, 'mystery': 14, 'thriller': 26, 'fantasy': 17, 'romance': 15, 'sci-fi': 11, 'western': 5, 'musical': 2, 'music': 2, 'historical': 1, 'sport': 4, 'film-noir': 2}\n",
      "\n",
      "\n",
      "It Happened One Night\n",
      "Comedy\n",
      "Romance\n",
      "{'drama': 87, 'war': 14, 'adventure': 26, 'comedy': 20, 'family': 9, 'animation': 6, 'biography': 14, 'history': 9, 'action': 13, 'crime': 28, 'mystery': 14, 'thriller': 26, 'fantasy': 17, 'romance': 16, 'sci-fi': 11, 'western': 5, 'musical': 2, 'music': 2, 'historical': 1, 'sport': 4, 'film-noir': 2}\n",
      "\n",
      "\n",
      "Gangs of Wasseypur\n",
      "Action\n",
      "Crime\n",
      "Drama\n",
      "Thriller\n",
      "{'drama': 88, 'war': 14, 'adventure': 26, 'comedy': 20, 'family': 9, 'animation': 6, 'biography': 14, 'history': 9, 'action': 14, 'crime': 29, 'mystery': 14, 'thriller': 27, 'fantasy': 17, 'romance': 16, 'sci-fi': 11, 'western': 5, 'musical': 2, 'music': 2, 'historical': 1, 'sport': 4, 'film-noir': 2}\n",
      "\n",
      "\n",
      "Ran\n",
      "Action\n",
      "Drama\n",
      "{'drama': 89, 'war': 14, 'adventure': 26, 'comedy': 20, 'family': 9, 'animation': 6, 'biography': 14, 'history': 9, 'action': 15, 'crime': 29, 'mystery': 14, 'thriller': 27, 'fantasy': 17, 'romance': 16, 'sci-fi': 11, 'western': 5, 'musical': 2, 'music': 2, 'historical': 1, 'sport': 4, 'film-noir': 2}\n",
      "\n",
      "\n",
      "The Terminator\n",
      "Action\n",
      "Sci-Fi\n",
      "{'drama': 89, 'war': 14, 'adventure': 26, 'comedy': 20, 'family': 9, 'animation': 6, 'biography': 14, 'history': 9, 'action': 16, 'crime': 29, 'mystery': 14, 'thriller': 27, 'fantasy': 17, 'romance': 16, 'sci-fi': 12, 'western': 5, 'musical': 2, 'music': 2, 'historical': 1, 'sport': 4, 'film-noir': 2}\n",
      "\n",
      "\n",
      "Star Wars: Episode VI - Return of the Jedi\n",
      "Action\n",
      "Adventure\n",
      "Fantasy\n",
      "Sci-Fi\n",
      "{'drama': 89, 'war': 14, 'adventure': 27, 'comedy': 20, 'family': 9, 'animation': 6, 'biography': 14, 'history': 9, 'action': 17, 'crime': 29, 'mystery': 14, 'thriller': 27, 'fantasy': 18, 'romance': 16, 'sci-fi': 13, 'western': 5, 'musical': 2, 'music': 2, 'historical': 1, 'sport': 4, 'film-noir': 2}\n",
      "\n",
      "\n",
      "Sin City\n",
      "Crime\n",
      "Thriller\n",
      "{'drama': 89, 'war': 14, 'adventure': 27, 'comedy': 20, 'family': 9, 'animation': 6, 'biography': 14, 'history': 9, 'action': 17, 'crime': 30, 'mystery': 14, 'thriller': 28, 'fantasy': 18, 'romance': 16, 'sci-fi': 13, 'western': 5, 'musical': 2, 'music': 2, 'historical': 1, 'sport': 4, 'film-noir': 2}\n",
      "\n",
      "\n",
      "Seven Samurai\n",
      "Adventure\n",
      "Drama\n",
      "{'drama': 90, 'war': 14, 'adventure': 28, 'comedy': 20, 'family': 9, 'animation': 6, 'biography': 14, 'history': 9, 'action': 17, 'crime': 30, 'mystery': 14, 'thriller': 28, 'fantasy': 18, 'romance': 16, 'sci-fi': 13, 'western': 5, 'musical': 2, 'music': 2, 'historical': 1, 'sport': 4, 'film-noir': 2}\n",
      "\n",
      "\n",
      "Raiders of the Lost Ark\n",
      "Action\n",
      "Adventure\n",
      "{'drama': 90, 'war': 14, 'adventure': 29, 'comedy': 20, 'family': 9, 'animation': 6, 'biography': 14, 'history': 9, 'action': 18, 'crime': 30, 'mystery': 14, 'thriller': 28, 'fantasy': 18, 'romance': 16, 'sci-fi': 13, 'western': 5, 'musical': 2, 'music': 2, 'historical': 1, 'sport': 4, 'film-noir': 2}\n",
      "\n",
      "\n",
      "Princess Mononoke\n",
      "Animation\n",
      "Adventure\n",
      "Fantasy\n",
      "{'drama': 90, 'war': 14, 'adventure': 30, 'comedy': 20, 'family': 9, 'animation': 7, 'biography': 14, 'history': 9, 'action': 18, 'crime': 30, 'mystery': 14, 'thriller': 28, 'fantasy': 19, 'romance': 16, 'sci-fi': 13, 'western': 5, 'musical': 2, 'music': 2, 'historical': 1, 'sport': 4, 'film-noir': 2}\n",
      "\n",
      "\n",
      "Lock, Stock and Two Smoking Barrels\n",
      "Comedy\n",
      "Crime\n",
      "{'drama': 90, 'war': 14, 'adventure': 30, 'comedy': 21, 'family': 9, 'animation': 7, 'biography': 14, 'history': 9, 'action': 18, 'crime': 31, 'mystery': 14, 'thriller': 28, 'fantasy': 19, 'romance': 16, 'sci-fi': 13, 'western': 5, 'musical': 2, 'music': 2, 'historical': 1, 'sport': 4, 'film-noir': 2}\n",
      "\n",
      "\n",
      "Room\n",
      "Drama\n",
      "{'drama': 91, 'war': 14, 'adventure': 30, 'comedy': 21, 'family': 9, 'animation': 7, 'biography': 14, 'history': 9, 'action': 18, 'crime': 31, 'mystery': 14, 'thriller': 28, 'fantasy': 19, 'romance': 16, 'sci-fi': 13, 'western': 5, 'musical': 2, 'music': 2, 'historical': 1, 'sport': 4, 'film-noir': 2}\n",
      "\n",
      "\n",
      "Scarface\n",
      "Crime\n",
      "Drama\n",
      "{'drama': 92, 'war': 14, 'adventure': 30, 'comedy': 21, 'family': 9, 'animation': 7, 'biography': 14, 'history': 9, 'action': 18, 'crime': 32, 'mystery': 14, 'thriller': 28, 'fantasy': 19, 'romance': 16, 'sci-fi': 13, 'western': 5, 'musical': 2, 'music': 2, 'historical': 1, 'sport': 4, 'film-noir': 2}\n",
      "\n",
      "\n",
      "The Bridge on the River Kwai\n",
      "Adventure\n",
      "Drama\n",
      "War\n",
      "{'drama': 93, 'war': 15, 'adventure': 31, 'comedy': 21, 'family': 9, 'animation': 7, 'biography': 14, 'history': 9, 'action': 18, 'crime': 32, 'mystery': 14, 'thriller': 28, 'fantasy': 19, 'romance': 16, 'sci-fi': 13, 'western': 5, 'musical': 2, 'music': 2, 'historical': 1, 'sport': 4, 'film-noir': 2}\n",
      "\n",
      "\n",
      "The Grapes of Wrath\n",
      "Drama\n",
      "History\n",
      "{'drama': 94, 'war': 15, 'adventure': 31, 'comedy': 21, 'family': 9, 'animation': 7, 'biography': 14, 'history': 10, 'action': 18, 'crime': 32, 'mystery': 14, 'thriller': 28, 'fantasy': 19, 'romance': 16, 'sci-fi': 13, 'western': 5, 'musical': 2, 'music': 2, 'historical': 1, 'sport': 4, 'film-noir': 2}\n",
      "\n",
      "\n",
      "Gandhi\n",
      "Biography\n",
      "Drama\n",
      "History\n",
      "{'drama': 95, 'war': 15, 'adventure': 31, 'comedy': 21, 'family': 9, 'animation': 7, 'biography': 15, 'history': 11, 'action': 18, 'crime': 32, 'mystery': 14, 'thriller': 28, 'fantasy': 19, 'romance': 16, 'sci-fi': 13, 'western': 5, 'musical': 2, 'music': 2, 'historical': 1, 'sport': 4, 'film-noir': 2}\n",
      "\n",
      "\n",
      "Gladiator\n",
      "Action\n",
      "Adventure\n",
      "Drama\n",
      "{'drama': 96, 'war': 15, 'adventure': 32, 'comedy': 21, 'family': 9, 'animation': 7, 'biography': 15, 'history': 11, 'action': 19, 'crime': 32, 'mystery': 14, 'thriller': 28, 'fantasy': 19, 'romance': 16, 'sci-fi': 13, 'western': 5, 'musical': 2, 'music': 2, 'historical': 1, 'sport': 4, 'film-noir': 2}\n",
      "\n",
      "\n",
      "Howl's Moving Castle\n",
      "Animation\n",
      "Adventure\n",
      "Family\n",
      "Fantasy\n",
      "{'drama': 96, 'war': 15, 'adventure': 33, 'comedy': 21, 'family': 10, 'animation': 8, 'biography': 15, 'history': 11, 'action': 19, 'crime': 32, 'mystery': 14, 'thriller': 28, 'fantasy': 20, 'romance': 16, 'sci-fi': 13, 'western': 5, 'musical': 2, 'music': 2, 'historical': 1, 'sport': 4, 'film-noir': 2}\n",
      "\n",
      "\n",
      "Jaws\n",
      "Adventure\n",
      "Drama\n",
      "Thriller\n",
      "{'drama': 97, 'war': 15, 'adventure': 34, 'comedy': 21, 'family': 10, 'animation': 8, 'biography': 15, 'history': 11, 'action': 19, 'crime': 32, 'mystery': 14, 'thriller': 29, 'fantasy': 20, 'romance': 16, 'sci-fi': 13, 'western': 5, 'musical': 2, 'music': 2, 'historical': 1, 'sport': 4, 'film-noir': 2}\n",
      "\n",
      "\n",
      "The Thing\n",
      "Horror\n",
      "Mystery\n",
      "Sci-Fi\n",
      "{'drama': 97, 'war': 15, 'adventure': 34, 'comedy': 21, 'family': 10, 'animation': 8, 'biography': 15, 'history': 11, 'action': 19, 'crime': 32, 'mystery': 15, 'thriller': 29, 'fantasy': 20, 'romance': 16, 'sci-fi': 14, 'western': 5, 'musical': 2, 'music': 2, 'historical': 1, 'sport': 4, 'film-noir': 2, 'horror': 1}\n",
      "\n",
      "\n",
      "Requiem for a Dream\n",
      "Drama\n",
      "{'drama': 98, 'war': 15, 'adventure': 34, 'comedy': 21, 'family': 10, 'animation': 8, 'biography': 15, 'history': 11, 'action': 19, 'crime': 32, 'mystery': 15, 'thriller': 29, 'fantasy': 20, 'romance': 16, 'sci-fi': 14, 'western': 5, 'musical': 2, 'music': 2, 'historical': 1, 'sport': 4, 'film-noir': 2, 'horror': 1}\n",
      "\n",
      "\n",
      "Harry Potter and the Deathly Hallows: Part 2\n",
      "Adventure\n",
      "Drama\n",
      "Fantasy\n",
      "Mystery\n",
      "{'drama': 99, 'war': 15, 'adventure': 35, 'comedy': 21, 'family': 10, 'animation': 8, 'biography': 15, 'history': 11, 'action': 19, 'crime': 32, 'mystery': 16, 'thriller': 29, 'fantasy': 21, 'romance': 16, 'sci-fi': 14, 'western': 5, 'musical': 2, 'music': 2, 'historical': 1, 'sport': 4, 'film-noir': 2, 'horror': 1}\n",
      "\n",
      "\n",
      "Memento\n",
      "Mystery\n",
      "Thriller\n",
      "{'drama': 99, 'war': 15, 'adventure': 35, 'comedy': 21, 'family': 10, 'animation': 8, 'biography': 15, 'history': 11, 'action': 19, 'crime': 32, 'mystery': 17, 'thriller': 30, 'fantasy': 21, 'romance': 16, 'sci-fi': 14, 'western': 5, 'musical': 2, 'music': 2, 'historical': 1, 'sport': 4, 'film-noir': 2, 'horror': 1}\n",
      "\n",
      "\n",
      "3 Idiots\n",
      "Comedy\n",
      "Drama\n",
      "{'drama': 100, 'war': 15, 'adventure': 35, 'comedy': 22, 'family': 10, 'animation': 8, 'biography': 15, 'history': 11, 'action': 19, 'crime': 32, 'mystery': 17, 'thriller': 30, 'fantasy': 21, 'romance': 16, 'sci-fi': 14, 'western': 5, 'musical': 2, 'music': 2, 'historical': 1, 'sport': 4, 'film-noir': 2, 'horror': 1}\n",
      "\n",
      "\n",
      "Munna Bhai M.B.B.S.\n",
      "Comedy\n",
      "Drama\n",
      "Romance\n",
      "{'drama': 101, 'war': 15, 'adventure': 35, 'comedy': 23, 'family': 10, 'animation': 8, 'biography': 15, 'history': 11, 'action': 19, 'crime': 32, 'mystery': 17, 'thriller': 30, 'fantasy': 21, 'romance': 17, 'sci-fi': 14, 'western': 5, 'musical': 2, 'music': 2, 'historical': 1, 'sport': 4, 'film-noir': 2, 'horror': 1}\n",
      "\n",
      "\n",
      "Twelve Monkeys\n",
      "Mystery\n",
      "Sci-Fi\n",
      "Thriller\n",
      "{'drama': 101, 'war': 15, 'adventure': 35, 'comedy': 23, 'family': 10, 'animation': 8, 'biography': 15, 'history': 11, 'action': 19, 'crime': 32, 'mystery': 18, 'thriller': 31, 'fantasy': 21, 'romance': 17, 'sci-fi': 15, 'western': 5, 'musical': 2, 'music': 2, 'historical': 1, 'sport': 4, 'film-noir': 2, 'horror': 1}\n",
      "\n",
      "\n",
      "Lawrence of Arabia\n",
      "Adventure\n",
      "Biography\n",
      "Drama\n",
      "History\n",
      "War\n",
      "{'drama': 102, 'war': 16, 'adventure': 36, 'comedy': 23, 'family': 10, 'animation': 8, 'biography': 16, 'history': 12, 'action': 19, 'crime': 32, 'mystery': 18, 'thriller': 31, 'fantasy': 21, 'romance': 17, 'sci-fi': 15, 'western': 5, 'musical': 2, 'music': 2, 'historical': 1, 'sport': 4, 'film-noir': 2, 'horror': 1}\n",
      "\n",
      "\n",
      "Persona\n",
      "Drama\n",
      "Thriller\n",
      "{'drama': 103, 'war': 16, 'adventure': 36, 'comedy': 23, 'family': 10, 'animation': 8, 'biography': 16, 'history': 12, 'action': 19, 'crime': 32, 'mystery': 18, 'thriller': 32, 'fantasy': 21, 'romance': 17, 'sci-fi': 15, 'western': 5, 'musical': 2, 'music': 2, 'historical': 1, 'sport': 4, 'film-noir': 2, 'horror': 1}\n",
      "\n",
      "\n",
      "Life Is Beautiful\n",
      "Comedy\n",
      "Drama\n",
      "War\n",
      "{'drama': 104, 'war': 17, 'adventure': 36, 'comedy': 24, 'family': 10, 'animation': 8, 'biography': 16, 'history': 12, 'action': 19, 'crime': 32, 'mystery': 18, 'thriller': 32, 'fantasy': 21, 'romance': 17, 'sci-fi': 15, 'western': 5, 'musical': 2, 'music': 2, 'historical': 1, 'sport': 4, 'film-noir': 2, 'horror': 1}\n",
      "\n",
      "\n",
      "My Neighbor Totoro\n",
      "Animation\n",
      "Family\n",
      "Fantasy\n",
      "{'drama': 104, 'war': 17, 'adventure': 36, 'comedy': 24, 'family': 11, 'animation': 9, 'biography': 16, 'history': 12, 'action': 19, 'crime': 32, 'mystery': 18, 'thriller': 32, 'fantasy': 22, 'romance': 17, 'sci-fi': 15, 'western': 5, 'musical': 2, 'music': 2, 'historical': 1, 'sport': 4, 'film-noir': 2, 'horror': 1}\n",
      "\n",
      "\n",
      "Oldboy\n",
      "Drama\n",
      "Mystery\n",
      "Thriller\n",
      "{'drama': 105, 'war': 17, 'adventure': 36, 'comedy': 24, 'family': 11, 'animation': 9, 'biography': 16, 'history': 12, 'action': 19, 'crime': 32, 'mystery': 19, 'thriller': 33, 'fantasy': 22, 'romance': 17, 'sci-fi': 15, 'western': 5, 'musical': 2, 'music': 2, 'historical': 1, 'sport': 4, 'film-noir': 2, 'horror': 1}\n",
      "\n",
      "\n",
      "Memories of Murder\n",
      "Crime\n",
      "Drama\n",
      "Mystery\n",
      "Thriller\n",
      "{'drama': 106, 'war': 17, 'adventure': 36, 'comedy': 24, 'family': 11, 'animation': 9, 'biography': 16, 'history': 12, 'action': 19, 'crime': 33, 'mystery': 20, 'thriller': 34, 'fantasy': 22, 'romance': 17, 'sci-fi': 15, 'western': 5, 'musical': 2, 'music': 2, 'historical': 1, 'sport': 4, 'film-noir': 2, 'horror': 1}\n",
      "\n",
      "\n",
      "The Help\n",
      "Drama\n",
      "{'drama': 107, 'war': 17, 'adventure': 36, 'comedy': 24, 'family': 11, 'animation': 9, 'biography': 16, 'history': 12, 'action': 19, 'crime': 33, 'mystery': 20, 'thriller': 34, 'fantasy': 22, 'romance': 17, 'sci-fi': 15, 'western': 5, 'musical': 2, 'music': 2, 'historical': 1, 'sport': 4, 'film-noir': 2, 'horror': 1}\n",
      "\n",
      "\n",
      "The Wages of Fear\n",
      "Adventure\n",
      "Drama\n",
      "Thriller\n",
      "{'drama': 108, 'war': 17, 'adventure': 37, 'comedy': 24, 'family': 11, 'animation': 9, 'biography': 16, 'history': 12, 'action': 19, 'crime': 33, 'mystery': 20, 'thriller': 35, 'fantasy': 22, 'romance': 17, 'sci-fi': 15, 'western': 5, 'musical': 2, 'music': 2, 'historical': 1, 'sport': 4, 'film-noir': 2, 'horror': 1}\n",
      "\n",
      "\n",
      "Jurassic Park\n",
      "Adventure\n",
      "Sci-Fi\n",
      "Thriller\n",
      "{'drama': 108, 'war': 17, 'adventure': 38, 'comedy': 24, 'family': 11, 'animation': 9, 'biography': 16, 'history': 12, 'action': 19, 'crime': 33, 'mystery': 20, 'thriller': 36, 'fantasy': 22, 'romance': 17, 'sci-fi': 16, 'western': 5, 'musical': 2, 'music': 2, 'historical': 1, 'sport': 4, 'film-noir': 2, 'horror': 1}\n",
      "\n",
      "\n",
      "Chak de! India\n",
      "Drama\n",
      "Family\n",
      "Sport\n",
      "{'drama': 109, 'war': 17, 'adventure': 38, 'comedy': 24, 'family': 12, 'animation': 9, 'biography': 16, 'history': 12, 'action': 19, 'crime': 33, 'mystery': 20, 'thriller': 36, 'fantasy': 22, 'romance': 17, 'sci-fi': 16, 'western': 5, 'musical': 2, 'music': 2, 'historical': 1, 'sport': 5, 'film-noir': 2, 'horror': 1}\n",
      "\n",
      "\n",
      "Casino\n",
      "Biography\n",
      "Crime\n",
      "Drama\n",
      "{'drama': 110, 'war': 17, 'adventure': 38, 'comedy': 24, 'family': 12, 'animation': 9, 'biography': 17, 'history': 12, 'action': 19, 'crime': 34, 'mystery': 20, 'thriller': 36, 'fantasy': 22, 'romance': 17, 'sci-fi': 16, 'western': 5, 'musical': 2, 'music': 2, 'historical': 1, 'sport': 5, 'film-noir': 2, 'horror': 1}\n",
      "\n",
      "\n",
      "Hacksaw Ridge\n",
      "Drama\n",
      "History\n",
      "War\n",
      "{'drama': 111, 'war': 18, 'adventure': 38, 'comedy': 24, 'family': 12, 'animation': 9, 'biography': 17, 'history': 13, 'action': 19, 'crime': 34, 'mystery': 20, 'thriller': 36, 'fantasy': 22, 'romance': 17, 'sci-fi': 16, 'western': 5, 'musical': 2, 'music': 2, 'historical': 1, 'sport': 5, 'film-noir': 2, 'horror': 1}\n",
      "\n",
      "\n",
      "Children of Heaven\n",
      "Drama\n",
      "Family\n",
      "{'drama': 112, 'war': 18, 'adventure': 38, 'comedy': 24, 'family': 13, 'animation': 9, 'biography': 17, 'history': 13, 'action': 19, 'crime': 34, 'mystery': 20, 'thriller': 36, 'fantasy': 22, 'romance': 17, 'sci-fi': 16, 'western': 5, 'musical': 2, 'music': 2, 'historical': 1, 'sport': 5, 'film-noir': 2, 'horror': 1}\n",
      "\n",
      "\n",
      "Stand by Me\n",
      "Adventure\n",
      "Drama\n",
      "{'drama': 113, 'war': 18, 'adventure': 39, 'comedy': 24, 'family': 13, 'animation': 9, 'biography': 17, 'history': 13, 'action': 19, 'crime': 34, 'mystery': 20, 'thriller': 36, 'fantasy': 22, 'romance': 17, 'sci-fi': 16, 'western': 5, 'musical': 2, 'music': 2, 'historical': 1, 'sport': 5, 'film-noir': 2, 'horror': 1}\n",
      "\n",
      "\n",
      "Zootopia\n",
      "Animation\n",
      "Adventure\n",
      "Comedy\n",
      "Crime\n",
      "Family\n",
      "Mystery\n",
      "{'drama': 113, 'war': 18, 'adventure': 40, 'comedy': 25, 'family': 14, 'animation': 10, 'biography': 17, 'history': 13, 'action': 19, 'crime': 35, 'mystery': 21, 'thriller': 36, 'fantasy': 22, 'romance': 17, 'sci-fi': 16, 'western': 5, 'musical': 2, 'music': 2, 'historical': 1, 'sport': 5, 'film-noir': 2, 'horror': 1}\n",
      "\n",
      "\n",
      "How to Train Your Dragon\n",
      "Animation\n",
      "Action\n",
      "Adventure\n",
      "Comedy\n",
      "Family\n",
      "Fantasy\n",
      "{'drama': 113, 'war': 18, 'adventure': 41, 'comedy': 26, 'family': 15, 'animation': 11, 'biography': 17, 'history': 13, 'action': 20, 'crime': 35, 'mystery': 21, 'thriller': 36, 'fantasy': 23, 'romance': 17, 'sci-fi': 16, 'western': 5, 'musical': 2, 'music': 2, 'historical': 1, 'sport': 5, 'film-noir': 2, 'horror': 1}\n",
      "\n",
      "\n",
      "Some Like It Hot\n",
      "Comedy\n",
      "Romance\n",
      "{'drama': 113, 'war': 18, 'adventure': 41, 'comedy': 27, 'family': 15, 'animation': 11, 'biography': 17, 'history': 13, 'action': 20, 'crime': 35, 'mystery': 21, 'thriller': 36, 'fantasy': 23, 'romance': 18, 'sci-fi': 16, 'western': 5, 'musical': 2, 'music': 2, 'historical': 1, 'sport': 5, 'film-noir': 2, 'horror': 1}\n",
      "\n",
      "\n",
      "The Pianist\n",
      "Biography\n",
      "Drama\n",
      "War\n",
      "{'drama': 114, 'war': 19, 'adventure': 41, 'comedy': 27, 'family': 15, 'animation': 11, 'biography': 18, 'history': 13, 'action': 20, 'crime': 35, 'mystery': 21, 'thriller': 36, 'fantasy': 23, 'romance': 18, 'sci-fi': 16, 'western': 5, 'musical': 2, 'music': 2, 'historical': 1, 'sport': 5, 'film-noir': 2, 'horror': 1}\n",
      "\n",
      "\n",
      "Das Boot\n",
      "Adventure\n",
      "Drama\n",
      "Thriller\n",
      "War\n",
      "{'drama': 115, 'war': 20, 'adventure': 42, 'comedy': 27, 'family': 15, 'animation': 11, 'biography': 18, 'history': 13, 'action': 20, 'crime': 35, 'mystery': 21, 'thriller': 37, 'fantasy': 23, 'romance': 18, 'sci-fi': 16, 'western': 5, 'musical': 2, 'music': 2, 'historical': 1, 'sport': 5, 'film-noir': 2, 'horror': 1}\n",
      "\n",
      "\n",
      "Barry Lyndon\n",
      "Adventure\n",
      "Drama\n",
      "History\n",
      "War\n",
      "{'drama': 116, 'war': 21, 'adventure': 43, 'comedy': 27, 'family': 15, 'animation': 11, 'biography': 18, 'history': 14, 'action': 20, 'crime': 35, 'mystery': 21, 'thriller': 37, 'fantasy': 23, 'romance': 18, 'sci-fi': 16, 'western': 5, 'musical': 2, 'music': 2, 'historical': 1, 'sport': 5, 'film-noir': 2, 'horror': 1}\n",
      "\n",
      "\n",
      "Metropolis\n",
      "Drama\n",
      "Sci-Fi\n",
      "{'drama': 117, 'war': 21, 'adventure': 43, 'comedy': 27, 'family': 15, 'animation': 11, 'biography': 18, 'history': 14, 'action': 20, 'crime': 35, 'mystery': 21, 'thriller': 37, 'fantasy': 23, 'romance': 18, 'sci-fi': 17, 'western': 5, 'musical': 2, 'music': 2, 'historical': 1, 'sport': 5, 'film-noir': 2, 'horror': 1}\n",
      "\n",
      "\n",
      "V for Vendetta\n",
      "Action\n",
      "Drama\n",
      "Thriller\n",
      "{'drama': 118, 'war': 21, 'adventure': 43, 'comedy': 27, 'family': 15, 'animation': 11, 'biography': 18, 'history': 14, 'action': 21, 'crime': 35, 'mystery': 21, 'thriller': 38, 'fantasy': 23, 'romance': 18, 'sci-fi': 17, 'western': 5, 'musical': 2, 'music': 2, 'historical': 1, 'sport': 5, 'film-noir': 2, 'horror': 1}\n",
      "\n",
      "\n",
      "The Bourne Ultimatum\n",
      "Action\n",
      "Mystery\n",
      "Thriller\n",
      "{'drama': 118, 'war': 21, 'adventure': 43, 'comedy': 27, 'family': 15, 'animation': 11, 'biography': 18, 'history': 14, 'action': 22, 'crime': 35, 'mystery': 22, 'thriller': 39, 'fantasy': 23, 'romance': 18, 'sci-fi': 17, 'western': 5, 'musical': 2, 'music': 2, 'historical': 1, 'sport': 5, 'film-noir': 2, 'horror': 1}\n",
      "\n",
      "\n",
      "The Intouchables\n",
      "Biography\n",
      "Comedy\n",
      "Drama\n",
      "{'drama': 119, 'war': 21, 'adventure': 43, 'comedy': 28, 'family': 15, 'animation': 11, 'biography': 19, 'history': 14, 'action': 22, 'crime': 35, 'mystery': 22, 'thriller': 39, 'fantasy': 23, 'romance': 18, 'sci-fi': 17, 'western': 5, 'musical': 2, 'music': 2, 'historical': 1, 'sport': 5, 'film-noir': 2, 'horror': 1}\n",
      "\n",
      "\n",
      "Grave of the Fireflies\n",
      "Animation\n",
      "Drama\n",
      "War\n",
      "{'drama': 120, 'war': 22, 'adventure': 43, 'comedy': 28, 'family': 15, 'animation': 12, 'biography': 19, 'history': 14, 'action': 22, 'crime': 35, 'mystery': 22, 'thriller': 39, 'fantasy': 23, 'romance': 18, 'sci-fi': 17, 'western': 5, 'musical': 2, 'music': 2, 'historical': 1, 'sport': 5, 'film-noir': 2, 'horror': 1}\n",
      "\n",
      "\n",
      "Annie Hall\n",
      "Comedy\n",
      "Romance\n",
      "{'drama': 120, 'war': 22, 'adventure': 43, 'comedy': 29, 'family': 15, 'animation': 12, 'biography': 19, 'history': 14, 'action': 22, 'crime': 35, 'mystery': 22, 'thriller': 39, 'fantasy': 23, 'romance': 19, 'sci-fi': 17, 'western': 5, 'musical': 2, 'music': 2, 'historical': 1, 'sport': 5, 'film-noir': 2, 'horror': 1}\n",
      "\n",
      "\n",
      "Gone Girl\n",
      "Crime\n",
      "Drama\n",
      "Mystery\n",
      "Thriller\n",
      "{'drama': 121, 'war': 22, 'adventure': 43, 'comedy': 29, 'family': 15, 'animation': 12, 'biography': 19, 'history': 14, 'action': 22, 'crime': 36, 'mystery': 23, 'thriller': 40, 'fantasy': 23, 'romance': 19, 'sci-fi': 17, 'western': 5, 'musical': 2, 'music': 2, 'historical': 1, 'sport': 5, 'film-noir': 2, 'horror': 1}\n",
      "\n",
      "\n",
      "WALL·E\n",
      "Animation\n",
      "Adventure\n",
      "Family\n",
      "Sci-Fi\n",
      "{'drama': 121, 'war': 22, 'adventure': 44, 'comedy': 29, 'family': 16, 'animation': 13, 'biography': 19, 'history': 14, 'action': 22, 'crime': 36, 'mystery': 23, 'thriller': 40, 'fantasy': 23, 'romance': 19, 'sci-fi': 18, 'western': 5, 'musical': 2, 'music': 2, 'historical': 1, 'sport': 5, 'film-noir': 2, 'horror': 1}\n",
      "\n",
      "\n",
      "Kill Bill: Vol. 1\n",
      "Action\n",
      "Crime\n",
      "Thriller\n",
      "{'drama': 121, 'war': 22, 'adventure': 44, 'comedy': 29, 'family': 16, 'animation': 13, 'biography': 19, 'history': 14, 'action': 23, 'crime': 37, 'mystery': 23, 'thriller': 41, 'fantasy': 23, 'romance': 19, 'sci-fi': 18, 'western': 5, 'musical': 2, 'music': 2, 'historical': 1, 'sport': 5, 'film-noir': 2, 'horror': 1}\n",
      "\n",
      "\n",
      "The Godfather\n",
      "Crime\n",
      "Drama\n",
      "{'drama': 122, 'war': 22, 'adventure': 44, 'comedy': 29, 'family': 16, 'animation': 13, 'biography': 19, 'history': 14, 'action': 23, 'crime': 38, 'mystery': 23, 'thriller': 41, 'fantasy': 23, 'romance': 19, 'sci-fi': 18, 'western': 5, 'musical': 2, 'music': 2, 'historical': 1, 'sport': 5, 'film-noir': 2, 'horror': 1}\n",
      "\n",
      "\n",
      "Drishyam\n",
      "Crime\n",
      "Drama\n",
      "Mystery\n",
      "Thriller\n",
      "{'drama': 123, 'war': 22, 'adventure': 44, 'comedy': 29, 'family': 16, 'animation': 13, 'biography': 19, 'history': 14, 'action': 23, 'crime': 39, 'mystery': 24, 'thriller': 42, 'fantasy': 23, 'romance': 19, 'sci-fi': 18, 'western': 5, 'musical': 2, 'music': 2, 'historical': 1, 'sport': 5, 'film-noir': 2, 'horror': 1}\n",
      "\n",
      "\n",
      "Casablanca\n",
      "Drama\n",
      "Romance\n",
      "War\n",
      "{'drama': 124, 'war': 23, 'adventure': 44, 'comedy': 29, 'family': 16, 'animation': 13, 'biography': 19, 'history': 14, 'action': 23, 'crime': 39, 'mystery': 24, 'thriller': 42, 'fantasy': 23, 'romance': 20, 'sci-fi': 18, 'western': 5, 'musical': 2, 'music': 2, 'historical': 1, 'sport': 5, 'film-noir': 2, 'horror': 1}\n",
      "\n",
      "\n",
      "Butch Cassidy and the Sundance Kid\n",
      "Biography\n",
      "Crime\n",
      "Drama\n",
      "Western\n",
      "{'drama': 125, 'war': 23, 'adventure': 44, 'comedy': 29, 'family': 16, 'animation': 13, 'biography': 20, 'history': 14, 'action': 23, 'crime': 40, 'mystery': 24, 'thriller': 42, 'fantasy': 23, 'romance': 20, 'sci-fi': 18, 'western': 6, 'musical': 2, 'music': 2, 'historical': 1, 'sport': 5, 'film-noir': 2, 'horror': 1}\n",
      "\n",
      "\n",
      "Life of Brian\n",
      "Comedy\n",
      "{'drama': 125, 'war': 23, 'adventure': 44, 'comedy': 30, 'family': 16, 'animation': 13, 'biography': 20, 'history': 14, 'action': 23, 'crime': 40, 'mystery': 24, 'thriller': 42, 'fantasy': 23, 'romance': 20, 'sci-fi': 18, 'western': 6, 'musical': 2, 'music': 2, 'historical': 1, 'sport': 5, 'film-noir': 2, 'horror': 1}\n",
      "\n",
      "\n",
      "A Beautiful Mind\n",
      "Biography\n",
      "Drama\n",
      "{'drama': 126, 'war': 23, 'adventure': 44, 'comedy': 30, 'family': 16, 'animation': 13, 'biography': 21, 'history': 14, 'action': 23, 'crime': 40, 'mystery': 24, 'thriller': 42, 'fantasy': 23, 'romance': 20, 'sci-fi': 18, 'western': 6, 'musical': 2, 'music': 2, 'historical': 1, 'sport': 5, 'film-noir': 2, 'horror': 1}\n",
      "\n",
      "\n",
      "The Usual Suspects\n",
      "Crime\n",
      "Drama\n",
      "Mystery\n",
      "Thriller\n",
      "{'drama': 127, 'war': 23, 'adventure': 44, 'comedy': 30, 'family': 16, 'animation': 13, 'biography': 21, 'history': 14, 'action': 23, 'crime': 41, 'mystery': 25, 'thriller': 43, 'fantasy': 23, 'romance': 20, 'sci-fi': 18, 'western': 6, 'musical': 2, 'music': 2, 'historical': 1, 'sport': 5, 'film-noir': 2, 'horror': 1}\n",
      "\n",
      "\n",
      "The Dark Knight\n",
      "Action\n",
      "Crime\n",
      "Drama\n",
      "Thriller\n",
      "{'drama': 128, 'war': 23, 'adventure': 44, 'comedy': 30, 'family': 16, 'animation': 13, 'biography': 21, 'history': 14, 'action': 24, 'crime': 42, 'mystery': 25, 'thriller': 44, 'fantasy': 23, 'romance': 20, 'sci-fi': 18, 'western': 6, 'musical': 2, 'music': 2, 'historical': 1, 'sport': 5, 'film-noir': 2, 'horror': 1}\n",
      "\n",
      "\n",
      "The Lives of Others\n",
      "Drama\n",
      "Thriller\n",
      "{'drama': 129, 'war': 23, 'adventure': 44, 'comedy': 30, 'family': 16, 'animation': 13, 'biography': 21, 'history': 14, 'action': 24, 'crime': 42, 'mystery': 25, 'thriller': 45, 'fantasy': 23, 'romance': 20, 'sci-fi': 18, 'western': 6, 'musical': 2, 'music': 2, 'historical': 1, 'sport': 5, 'film-noir': 2, 'horror': 1}\n",
      "\n",
      "\n",
      "Shutter Island\n",
      "Mystery\n",
      "Thriller\n",
      "{'drama': 129, 'war': 23, 'adventure': 44, 'comedy': 30, 'family': 16, 'animation': 13, 'biography': 21, 'history': 14, 'action': 24, 'crime': 42, 'mystery': 26, 'thriller': 46, 'fantasy': 23, 'romance': 20, 'sci-fi': 18, 'western': 6, 'musical': 2, 'music': 2, 'historical': 1, 'sport': 5, 'film-noir': 2, 'horror': 1}\n",
      "\n",
      "\n",
      "12 Years a Slave\n",
      "Biography\n",
      "Drama\n",
      "History\n",
      "{'drama': 130, 'war': 23, 'adventure': 44, 'comedy': 30, 'family': 16, 'animation': 13, 'biography': 22, 'history': 15, 'action': 24, 'crime': 42, 'mystery': 26, 'thriller': 46, 'fantasy': 23, 'romance': 20, 'sci-fi': 18, 'western': 6, 'musical': 2, 'music': 2, 'historical': 1, 'sport': 5, 'film-noir': 2, 'horror': 1}\n",
      "\n",
      "\n",
      "Alien\n",
      "Horror\n",
      "Sci-Fi\n",
      "{'drama': 130, 'war': 23, 'adventure': 44, 'comedy': 30, 'family': 16, 'animation': 13, 'biography': 22, 'history': 15, 'action': 24, 'crime': 42, 'mystery': 26, 'thriller': 46, 'fantasy': 23, 'romance': 20, 'sci-fi': 19, 'western': 6, 'musical': 2, 'music': 2, 'historical': 1, 'sport': 5, 'film-noir': 2, 'horror': 2}\n",
      "\n",
      "\n",
      "The Sixth Sense\n",
      "Drama\n",
      "Mystery\n",
      "Thriller\n",
      "{'drama': 131, 'war': 23, 'adventure': 44, 'comedy': 30, 'family': 16, 'animation': 13, 'biography': 22, 'history': 15, 'action': 24, 'crime': 42, 'mystery': 27, 'thriller': 47, 'fantasy': 23, 'romance': 20, 'sci-fi': 19, 'western': 6, 'musical': 2, 'music': 2, 'historical': 1, 'sport': 5, 'film-noir': 2, 'horror': 2}\n",
      "\n",
      "\n",
      "The Matrix\n",
      "Action\n",
      "Sci-Fi\n",
      "{'drama': 131, 'war': 23, 'adventure': 44, 'comedy': 30, 'family': 16, 'animation': 13, 'biography': 22, 'history': 15, 'action': 25, 'crime': 42, 'mystery': 27, 'thriller': 47, 'fantasy': 23, 'romance': 20, 'sci-fi': 20, 'western': 6, 'musical': 2, 'music': 2, 'historical': 1, 'sport': 5, 'film-noir': 2, 'horror': 2}\n",
      "\n",
      "\n",
      "The Shawshank Redemption\n",
      "Crime\n",
      "Drama\n",
      "{'drama': 132, 'war': 23, 'adventure': 44, 'comedy': 30, 'family': 16, 'animation': 13, 'biography': 22, 'history': 15, 'action': 25, 'crime': 43, 'mystery': 27, 'thriller': 47, 'fantasy': 23, 'romance': 20, 'sci-fi': 20, 'western': 6, 'musical': 2, 'music': 2, 'historical': 1, 'sport': 5, 'film-noir': 2, 'horror': 2}\n",
      "\n",
      "\n",
      "Modern Times\n",
      "Comedy\n",
      "Drama\n",
      "Family\n",
      "Romance\n",
      "{'drama': 133, 'war': 23, 'adventure': 44, 'comedy': 31, 'family': 17, 'animation': 13, 'biography': 22, 'history': 15, 'action': 25, 'crime': 43, 'mystery': 27, 'thriller': 47, 'fantasy': 23, 'romance': 21, 'sci-fi': 20, 'western': 6, 'musical': 2, 'music': 2, 'historical': 1, 'sport': 5, 'film-noir': 2, 'horror': 2}\n",
      "\n",
      "\n",
      "The Prestige\n",
      "Drama\n",
      "Mystery\n",
      "Sci-Fi\n",
      "Thriller\n",
      "{'drama': 134, 'war': 23, 'adventure': 44, 'comedy': 31, 'family': 17, 'animation': 13, 'biography': 22, 'history': 15, 'action': 25, 'crime': 43, 'mystery': 28, 'thriller': 48, 'fantasy': 23, 'romance': 21, 'sci-fi': 21, 'western': 6, 'musical': 2, 'music': 2, 'historical': 1, 'sport': 5, 'film-noir': 2, 'horror': 2}\n",
      "\n",
      "\n",
      "Dial M for Murder\n",
      "Crime\n",
      "Film-Noir\n",
      "Thriller\n",
      "{'drama': 134, 'war': 23, 'adventure': 44, 'comedy': 31, 'family': 17, 'animation': 13, 'biography': 22, 'history': 15, 'action': 25, 'crime': 44, 'mystery': 28, 'thriller': 49, 'fantasy': 23, 'romance': 21, 'sci-fi': 21, 'western': 6, 'musical': 2, 'music': 2, 'historical': 1, 'sport': 5, 'film-noir': 3, 'horror': 2}\n",
      "\n",
      "\n",
      "The Kid\n",
      "Comedy\n",
      "Drama\n",
      "Family\n",
      "{'drama': 135, 'war': 23, 'adventure': 44, 'comedy': 32, 'family': 18, 'animation': 13, 'biography': 22, 'history': 15, 'action': 25, 'crime': 44, 'mystery': 28, 'thriller': 49, 'fantasy': 23, 'romance': 21, 'sci-fi': 21, 'western': 6, 'musical': 2, 'music': 2, 'historical': 1, 'sport': 5, 'film-noir': 3, 'horror': 2}\n",
      "\n",
      "\n",
      "Come and See\n",
      "Drama\n",
      "War\n",
      "{'drama': 136, 'war': 24, 'adventure': 44, 'comedy': 32, 'family': 18, 'animation': 13, 'biography': 22, 'history': 15, 'action': 25, 'crime': 44, 'mystery': 28, 'thriller': 49, 'fantasy': 23, 'romance': 21, 'sci-fi': 21, 'western': 6, 'musical': 2, 'music': 2, 'historical': 1, 'sport': 5, 'film-noir': 3, 'horror': 2}\n",
      "\n",
      "\n",
      "Dr. Strangelove or: How I Learned to Stop Worrying and Love the Bomb\n",
      "Comedy\n",
      "{'drama': 136, 'war': 24, 'adventure': 44, 'comedy': 33, 'family': 18, 'animation': 13, 'biography': 22, 'history': 15, 'action': 25, 'crime': 44, 'mystery': 28, 'thriller': 49, 'fantasy': 23, 'romance': 21, 'sci-fi': 21, 'western': 6, 'musical': 2, 'music': 2, 'historical': 1, 'sport': 5, 'film-noir': 3, 'horror': 2}\n",
      "\n",
      "\n",
      "Ben-Hur\n",
      "Adventure\n",
      "Drama\n",
      "History\n",
      "{'drama': 137, 'war': 24, 'adventure': 45, 'comedy': 33, 'family': 18, 'animation': 13, 'biography': 22, 'history': 16, 'action': 25, 'crime': 44, 'mystery': 28, 'thriller': 49, 'fantasy': 23, 'romance': 21, 'sci-fi': 21, 'western': 6, 'musical': 2, 'music': 2, 'historical': 1, 'sport': 5, 'film-noir': 3, 'horror': 2}\n",
      "\n",
      "\n",
      "Diabolique\n",
      "Crime\n",
      "Drama\n",
      "Horror\n",
      "Mystery\n",
      "Thriller\n",
      "{'drama': 138, 'war': 24, 'adventure': 45, 'comedy': 33, 'family': 18, 'animation': 13, 'biography': 22, 'history': 16, 'action': 25, 'crime': 45, 'mystery': 29, 'thriller': 50, 'fantasy': 23, 'romance': 21, 'sci-fi': 21, 'western': 6, 'musical': 2, 'music': 2, 'historical': 1, 'sport': 5, 'film-noir': 3, 'horror': 3}\n",
      "\n",
      "\n",
      "Rocky\n",
      "Drama\n",
      "Sport\n",
      "{'drama': 139, 'war': 24, 'adventure': 45, 'comedy': 33, 'family': 18, 'animation': 13, 'biography': 22, 'history': 16, 'action': 25, 'crime': 45, 'mystery': 29, 'thriller': 50, 'fantasy': 23, 'romance': 21, 'sci-fi': 21, 'western': 6, 'musical': 2, 'music': 2, 'historical': 1, 'sport': 6, 'film-noir': 3, 'horror': 3}\n",
      "\n",
      "\n",
      "The Lion King\n",
      "Animation\n",
      "Adventure\n",
      "Drama\n",
      "Family\n",
      "Musical\n",
      "{'drama': 140, 'war': 24, 'adventure': 46, 'comedy': 33, 'family': 19, 'animation': 14, 'biography': 22, 'history': 16, 'action': 25, 'crime': 45, 'mystery': 29, 'thriller': 50, 'fantasy': 23, 'romance': 21, 'sci-fi': 21, 'western': 6, 'musical': 3, 'music': 2, 'historical': 1, 'sport': 6, 'film-noir': 3, 'horror': 3}\n",
      "\n",
      "\n",
      "The Third Man\n",
      "Film-Noir\n",
      "Mystery\n",
      "Thriller\n",
      "{'drama': 140, 'war': 24, 'adventure': 46, 'comedy': 33, 'family': 19, 'animation': 14, 'biography': 22, 'history': 16, 'action': 25, 'crime': 45, 'mystery': 30, 'thriller': 51, 'fantasy': 23, 'romance': 21, 'sci-fi': 21, 'western': 6, 'musical': 3, 'music': 2, 'historical': 1, 'sport': 6, 'film-noir': 4, 'horror': 3}\n",
      "\n",
      "\n",
      "Pan's Labyrinth\n",
      "Drama\n",
      "Fantasy\n",
      "War\n",
      "{'drama': 141, 'war': 25, 'adventure': 46, 'comedy': 33, 'family': 19, 'animation': 14, 'biography': 22, 'history': 16, 'action': 25, 'crime': 45, 'mystery': 30, 'thriller': 51, 'fantasy': 24, 'romance': 21, 'sci-fi': 21, 'western': 6, 'musical': 3, 'music': 2, 'historical': 1, 'sport': 6, 'film-noir': 4, 'horror': 3}\n",
      "\n",
      "\n",
      "No Country for Old Men\n",
      "Crime\n",
      "Drama\n",
      "Thriller\n",
      "{'drama': 142, 'war': 25, 'adventure': 46, 'comedy': 33, 'family': 19, 'animation': 14, 'biography': 22, 'history': 16, 'action': 25, 'crime': 46, 'mystery': 30, 'thriller': 52, 'fantasy': 24, 'romance': 21, 'sci-fi': 21, 'western': 6, 'musical': 3, 'music': 2, 'historical': 1, 'sport': 6, 'film-noir': 4, 'horror': 3}\n",
      "\n",
      "\n",
      "Mr. Smith Goes to Washington\n",
      "Comedy\n",
      "Drama\n",
      "{'drama': 143, 'war': 25, 'adventure': 46, 'comedy': 34, 'family': 19, 'animation': 14, 'biography': 22, 'history': 16, 'action': 25, 'crime': 46, 'mystery': 30, 'thriller': 52, 'fantasy': 24, 'romance': 21, 'sci-fi': 21, 'western': 6, 'musical': 3, 'music': 2, 'historical': 1, 'sport': 6, 'film-noir': 4, 'horror': 3}\n",
      "\n",
      "\n",
      "Cool Hand Luke\n",
      "Crime\n",
      "Drama\n",
      "{'drama': 144, 'war': 25, 'adventure': 46, 'comedy': 34, 'family': 19, 'animation': 14, 'biography': 22, 'history': 16, 'action': 25, 'crime': 47, 'mystery': 30, 'thriller': 52, 'fantasy': 24, 'romance': 21, 'sci-fi': 21, 'western': 6, 'musical': 3, 'music': 2, 'historical': 1, 'sport': 6, 'film-noir': 4, 'horror': 3}\n",
      "\n",
      "\n",
      "Wild Tales\n",
      "Comedy\n",
      "Drama\n",
      "Thriller\n",
      "{'drama': 145, 'war': 25, 'adventure': 46, 'comedy': 35, 'family': 19, 'animation': 14, 'biography': 22, 'history': 16, 'action': 25, 'crime': 47, 'mystery': 30, 'thriller': 53, 'fantasy': 24, 'romance': 21, 'sci-fi': 21, 'western': 6, 'musical': 3, 'music': 2, 'historical': 1, 'sport': 6, 'film-noir': 4, 'horror': 3}\n",
      "\n",
      "\n",
      "Terminator 2: Judgment Day\n",
      "Action\n",
      "Sci-Fi\n",
      "{'drama': 145, 'war': 25, 'adventure': 46, 'comedy': 35, 'family': 19, 'animation': 14, 'biography': 22, 'history': 16, 'action': 26, 'crime': 47, 'mystery': 30, 'thriller': 53, 'fantasy': 24, 'romance': 21, 'sci-fi': 22, 'western': 6, 'musical': 3, 'music': 2, 'historical': 1, 'sport': 6, 'film-noir': 4, 'horror': 3}\n",
      "\n",
      "\n",
      "Million Dollar Baby\n",
      "Drama\n",
      "Sport\n",
      "{'drama': 146, 'war': 25, 'adventure': 46, 'comedy': 35, 'family': 19, 'animation': 14, 'biography': 22, 'history': 16, 'action': 26, 'crime': 47, 'mystery': 30, 'thriller': 53, 'fantasy': 24, 'romance': 21, 'sci-fi': 22, 'western': 6, 'musical': 3, 'music': 2, 'historical': 1, 'sport': 7, 'film-noir': 4, 'horror': 3}\n",
      "\n",
      "\n",
      "Monsters, Inc.\n",
      "Animation\n",
      "Adventure\n",
      "Comedy\n",
      "Family\n",
      "Fantasy\n",
      "{'drama': 146, 'war': 25, 'adventure': 47, 'comedy': 36, 'family': 20, 'animation': 15, 'biography': 22, 'history': 16, 'action': 26, 'crime': 47, 'mystery': 30, 'thriller': 53, 'fantasy': 25, 'romance': 21, 'sci-fi': 22, 'western': 6, 'musical': 3, 'music': 2, 'historical': 1, 'sport': 7, 'film-noir': 4, 'horror': 3}\n",
      "\n",
      "\n",
      "Snatch\n",
      "Comedy\n",
      "Crime\n",
      "{'drama': 146, 'war': 25, 'adventure': 47, 'comedy': 37, 'family': 20, 'animation': 15, 'biography': 22, 'history': 16, 'action': 26, 'crime': 48, 'mystery': 30, 'thriller': 53, 'fantasy': 25, 'romance': 21, 'sci-fi': 22, 'western': 6, 'musical': 3, 'music': 2, 'historical': 1, 'sport': 7, 'film-noir': 4, 'horror': 3}\n",
      "\n",
      "\n",
      "Forrest Gump\n",
      "Comedy\n",
      "Drama\n",
      "{'drama': 147, 'war': 25, 'adventure': 47, 'comedy': 38, 'family': 20, 'animation': 15, 'biography': 22, 'history': 16, 'action': 26, 'crime': 48, 'mystery': 30, 'thriller': 53, 'fantasy': 25, 'romance': 21, 'sci-fi': 22, 'western': 6, 'musical': 3, 'music': 2, 'historical': 1, 'sport': 7, 'film-noir': 4, 'horror': 3}\n",
      "\n",
      "\n",
      "Inside Out\n",
      "Animation\n",
      "Adventure\n",
      "Comedy\n",
      "Drama\n",
      "Family\n",
      "Fantasy\n",
      "{'drama': 148, 'war': 25, 'adventure': 48, 'comedy': 39, 'family': 21, 'animation': 16, 'biography': 22, 'history': 16, 'action': 26, 'crime': 48, 'mystery': 30, 'thriller': 53, 'fantasy': 26, 'romance': 21, 'sci-fi': 22, 'western': 6, 'musical': 3, 'music': 2, 'historical': 1, 'sport': 7, 'film-noir': 4, 'horror': 3}\n",
      "\n",
      "\n",
      "Saving Private Ryan\n",
      "Drama\n",
      "War\n",
      "{'drama': 149, 'war': 26, 'adventure': 48, 'comedy': 39, 'family': 21, 'animation': 16, 'biography': 22, 'history': 16, 'action': 26, 'crime': 48, 'mystery': 30, 'thriller': 53, 'fantasy': 26, 'romance': 21, 'sci-fi': 22, 'western': 6, 'musical': 3, 'music': 2, 'historical': 1, 'sport': 7, 'film-noir': 4, 'horror': 3}\n",
      "\n",
      "\n",
      "Psycho\n",
      "Horror\n",
      "Mystery\n",
      "Thriller\n",
      "{'drama': 149, 'war': 26, 'adventure': 48, 'comedy': 39, 'family': 21, 'animation': 16, 'biography': 22, 'history': 16, 'action': 26, 'crime': 48, 'mystery': 31, 'thriller': 54, 'fantasy': 26, 'romance': 21, 'sci-fi': 22, 'western': 6, 'musical': 3, 'music': 2, 'historical': 1, 'sport': 7, 'film-noir': 4, 'horror': 4}\n",
      "\n",
      "\n",
      "The Big Lebowski\n",
      "Comedy\n",
      "Crime\n",
      "Mystery\n",
      "{'drama': 149, 'war': 26, 'adventure': 48, 'comedy': 40, 'family': 21, 'animation': 16, 'biography': 22, 'history': 16, 'action': 26, 'crime': 49, 'mystery': 32, 'thriller': 54, 'fantasy': 26, 'romance': 21, 'sci-fi': 22, 'western': 6, 'musical': 3, 'music': 2, 'historical': 1, 'sport': 7, 'film-noir': 4, 'horror': 4}\n",
      "\n",
      "\n",
      "Chinatown\n",
      "Drama\n",
      "Mystery\n",
      "Thriller\n",
      "{'drama': 150, 'war': 26, 'adventure': 48, 'comedy': 40, 'family': 21, 'animation': 16, 'biography': 22, 'history': 16, 'action': 26, 'crime': 49, 'mystery': 33, 'thriller': 55, 'fantasy': 26, 'romance': 21, 'sci-fi': 22, 'western': 6, 'musical': 3, 'music': 2, 'historical': 1, 'sport': 7, 'film-noir': 4, 'horror': 4}\n",
      "\n",
      "\n",
      "Django Unchained\n",
      "Drama\n",
      "Western\n",
      "{'drama': 151, 'war': 26, 'adventure': 48, 'comedy': 40, 'family': 21, 'animation': 16, 'biography': 22, 'history': 16, 'action': 26, 'crime': 49, 'mystery': 33, 'thriller': 55, 'fantasy': 26, 'romance': 21, 'sci-fi': 22, 'western': 7, 'musical': 3, 'music': 2, 'historical': 1, 'sport': 7, 'film-noir': 4, 'horror': 4}\n",
      "\n",
      "\n",
      "It's a Wonderful Life\n",
      "Drama\n",
      "Family\n",
      "Fantasy\n",
      "{'drama': 152, 'war': 26, 'adventure': 48, 'comedy': 40, 'family': 22, 'animation': 16, 'biography': 22, 'history': 16, 'action': 26, 'crime': 49, 'mystery': 33, 'thriller': 55, 'fantasy': 27, 'romance': 21, 'sci-fi': 22, 'western': 7, 'musical': 3, 'music': 2, 'historical': 1, 'sport': 7, 'film-noir': 4, 'horror': 4}\n",
      "\n",
      "\n",
      "Singin' in the Rain\n",
      "Comedy\n",
      "Musical\n",
      "Romance\n",
      "{'drama': 152, 'war': 26, 'adventure': 48, 'comedy': 41, 'family': 22, 'animation': 16, 'biography': 22, 'history': 16, 'action': 26, 'crime': 49, 'mystery': 33, 'thriller': 55, 'fantasy': 27, 'romance': 22, 'sci-fi': 22, 'western': 7, 'musical': 4, 'music': 2, 'historical': 1, 'sport': 7, 'film-noir': 4, 'horror': 4}\n",
      "\n",
      "\n",
      "The Maltese Falcon\n",
      "Crime\n",
      "Film-Noir\n",
      "Mystery\n",
      "{'drama': 152, 'war': 26, 'adventure': 48, 'comedy': 41, 'family': 22, 'animation': 16, 'biography': 22, 'history': 16, 'action': 26, 'crime': 50, 'mystery': 34, 'thriller': 55, 'fantasy': 27, 'romance': 22, 'sci-fi': 22, 'western': 7, 'musical': 4, 'music': 2, 'historical': 1, 'sport': 7, 'film-noir': 5, 'horror': 4}\n",
      "\n",
      "\n",
      "Sholay\n",
      "Action\n",
      "Adventure\n",
      "Comedy\n",
      "Drama\n",
      "Musical\n",
      "Thriller\n",
      "{'drama': 153, 'war': 26, 'adventure': 49, 'comedy': 42, 'family': 22, 'animation': 16, 'biography': 22, 'history': 16, 'action': 27, 'crime': 50, 'mystery': 34, 'thriller': 56, 'fantasy': 27, 'romance': 22, 'sci-fi': 22, 'western': 7, 'musical': 5, 'music': 2, 'historical': 1, 'sport': 7, 'film-noir': 5, 'horror': 4}\n"
     ]
    },
    {
     "name": "stdout",
     "output_type": "stream",
     "text": [
      "\n",
      "\n",
      "The Truman Show\n",
      "Comedy\n",
      "Drama\n",
      "Sci-Fi\n",
      "{'drama': 154, 'war': 26, 'adventure': 49, 'comedy': 43, 'family': 22, 'animation': 16, 'biography': 22, 'history': 16, 'action': 27, 'crime': 50, 'mystery': 34, 'thriller': 56, 'fantasy': 27, 'romance': 22, 'sci-fi': 23, 'western': 7, 'musical': 5, 'music': 2, 'historical': 1, 'sport': 7, 'film-noir': 5, 'horror': 4}\n",
      "\n",
      "\n",
      "The General\n",
      "Action\n",
      "Adventure\n",
      "Comedy\n",
      "Drama\n",
      "War\n",
      "Western\n",
      "{'drama': 155, 'war': 27, 'adventure': 50, 'comedy': 44, 'family': 22, 'animation': 16, 'biography': 22, 'history': 16, 'action': 28, 'crime': 50, 'mystery': 34, 'thriller': 56, 'fantasy': 27, 'romance': 22, 'sci-fi': 23, 'western': 8, 'musical': 5, 'music': 2, 'historical': 1, 'sport': 7, 'film-noir': 5, 'horror': 4}\n",
      "\n",
      "\n",
      "The Best Years of Our Lives\n",
      "Drama\n",
      "Romance\n",
      "War\n",
      "{'drama': 156, 'war': 28, 'adventure': 50, 'comedy': 44, 'family': 22, 'animation': 16, 'biography': 22, 'history': 16, 'action': 28, 'crime': 50, 'mystery': 34, 'thriller': 56, 'fantasy': 27, 'romance': 23, 'sci-fi': 23, 'western': 8, 'musical': 5, 'music': 2, 'historical': 1, 'sport': 7, 'film-noir': 5, 'horror': 4}\n",
      "\n",
      "\n",
      "Udaan\n",
      "Drama\n",
      "{'drama': 157, 'war': 28, 'adventure': 50, 'comedy': 44, 'family': 22, 'animation': 16, 'biography': 22, 'history': 16, 'action': 28, 'crime': 50, 'mystery': 34, 'thriller': 56, 'fantasy': 27, 'romance': 23, 'sci-fi': 23, 'western': 8, 'musical': 5, 'music': 2, 'historical': 1, 'sport': 7, 'film-noir': 5, 'horror': 4}\n",
      "\n",
      "\n",
      "Hachi: A Dog's Tale\n",
      "Drama\n",
      "Family\n",
      "{'drama': 158, 'war': 28, 'adventure': 50, 'comedy': 44, 'family': 23, 'animation': 16, 'biography': 22, 'history': 16, 'action': 28, 'crime': 50, 'mystery': 34, 'thriller': 56, 'fantasy': 27, 'romance': 23, 'sci-fi': 23, 'western': 8, 'musical': 5, 'music': 2, 'historical': 1, 'sport': 7, 'film-noir': 5, 'horror': 4}\n",
      "\n",
      "\n",
      "The Wolf of Wall Street\n",
      "Biography\n",
      "Comedy\n",
      "Crime\n",
      "Drama\n",
      "{'drama': 159, 'war': 28, 'adventure': 50, 'comedy': 45, 'family': 23, 'animation': 16, 'biography': 23, 'history': 16, 'action': 28, 'crime': 51, 'mystery': 34, 'thriller': 56, 'fantasy': 27, 'romance': 23, 'sci-fi': 23, 'western': 8, 'musical': 5, 'music': 2, 'historical': 1, 'sport': 7, 'film-noir': 5, 'horror': 4}\n",
      "\n",
      "\n",
      "Prisoners\n",
      "Crime\n",
      "Drama\n",
      "Mystery\n",
      "Thriller\n",
      "{'drama': 160, 'war': 28, 'adventure': 50, 'comedy': 45, 'family': 23, 'animation': 16, 'biography': 23, 'history': 16, 'action': 28, 'crime': 52, 'mystery': 35, 'thriller': 57, 'fantasy': 27, 'romance': 23, 'sci-fi': 23, 'western': 8, 'musical': 5, 'music': 2, 'historical': 1, 'sport': 7, 'film-noir': 5, 'horror': 4}\n",
      "\n",
      "\n",
      "12 Angry Men\n",
      "Crime\n",
      "Drama\n",
      "{'drama': 161, 'war': 28, 'adventure': 50, 'comedy': 45, 'family': 23, 'animation': 16, 'biography': 23, 'history': 16, 'action': 28, 'crime': 53, 'mystery': 35, 'thriller': 57, 'fantasy': 27, 'romance': 23, 'sci-fi': 23, 'western': 8, 'musical': 5, 'music': 2, 'historical': 1, 'sport': 7, 'film-noir': 5, 'horror': 4}\n",
      "\n",
      "\n",
      "Double Indemnity\n",
      "Crime\n",
      "Drama\n",
      "Film-Noir\n",
      "Mystery\n",
      "Thriller\n",
      "{'drama': 162, 'war': 28, 'adventure': 50, 'comedy': 45, 'family': 23, 'animation': 16, 'biography': 23, 'history': 16, 'action': 28, 'crime': 54, 'mystery': 36, 'thriller': 58, 'fantasy': 27, 'romance': 23, 'sci-fi': 23, 'western': 8, 'musical': 5, 'music': 2, 'historical': 1, 'sport': 7, 'film-noir': 6, 'horror': 4}\n",
      "\n",
      "\n",
      "City of God\n",
      "Crime\n",
      "Drama\n",
      "{'drama': 163, 'war': 28, 'adventure': 50, 'comedy': 45, 'family': 23, 'animation': 16, 'biography': 23, 'history': 16, 'action': 28, 'crime': 55, 'mystery': 36, 'thriller': 58, 'fantasy': 27, 'romance': 23, 'sci-fi': 23, 'western': 8, 'musical': 5, 'music': 2, 'historical': 1, 'sport': 7, 'film-noir': 6, 'horror': 4}\n",
      "\n",
      "\n",
      "The Dark Knight Rises\n",
      "Action\n",
      "Thriller\n",
      "{'drama': 163, 'war': 28, 'adventure': 50, 'comedy': 45, 'family': 23, 'animation': 16, 'biography': 23, 'history': 16, 'action': 29, 'crime': 55, 'mystery': 36, 'thriller': 59, 'fantasy': 27, 'romance': 23, 'sci-fi': 23, 'western': 8, 'musical': 5, 'music': 2, 'historical': 1, 'sport': 7, 'film-noir': 6, 'horror': 4}\n",
      "\n",
      "\n",
      "Stalker\n",
      "Drama\n",
      "Sci-Fi\n",
      "{'drama': 164, 'war': 28, 'adventure': 50, 'comedy': 45, 'family': 23, 'animation': 16, 'biography': 23, 'history': 16, 'action': 29, 'crime': 55, 'mystery': 36, 'thriller': 59, 'fantasy': 27, 'romance': 23, 'sci-fi': 24, 'western': 8, 'musical': 5, 'music': 2, 'historical': 1, 'sport': 7, 'film-noir': 6, 'horror': 4}\n",
      "\n",
      "\n",
      "All About Eve\n",
      "Drama\n",
      "{'drama': 165, 'war': 28, 'adventure': 50, 'comedy': 45, 'family': 23, 'animation': 16, 'biography': 23, 'history': 16, 'action': 29, 'crime': 55, 'mystery': 36, 'thriller': 59, 'fantasy': 27, 'romance': 23, 'sci-fi': 24, 'western': 8, 'musical': 5, 'music': 2, 'historical': 1, 'sport': 7, 'film-noir': 6, 'horror': 4}\n",
      "\n",
      "\n",
      "Sunset Blvd.\n",
      "Drama\n",
      "Film-Noir\n",
      "{'drama': 166, 'war': 28, 'adventure': 50, 'comedy': 45, 'family': 23, 'animation': 16, 'biography': 23, 'history': 16, 'action': 29, 'crime': 55, 'mystery': 36, 'thriller': 59, 'fantasy': 27, 'romance': 23, 'sci-fi': 24, 'western': 8, 'musical': 5, 'music': 2, 'historical': 1, 'sport': 7, 'film-noir': 7, 'horror': 4}\n",
      "\n",
      "\n",
      "Star Wars: Episode IV - A New Hope\n",
      "Action\n",
      "Adventure\n",
      "Fantasy\n",
      "Sci-Fi\n",
      "{'drama': 166, 'war': 28, 'adventure': 51, 'comedy': 45, 'family': 23, 'animation': 16, 'biography': 23, 'history': 16, 'action': 30, 'crime': 55, 'mystery': 36, 'thriller': 59, 'fantasy': 28, 'romance': 23, 'sci-fi': 25, 'western': 8, 'musical': 5, 'music': 2, 'historical': 1, 'sport': 7, 'film-noir': 7, 'horror': 4}\n",
      "\n",
      "\n",
      "Mad Max: Fury Road\n",
      "Action\n",
      "Adventure\n",
      "Sci-Fi\n",
      "Thriller\n",
      "{'drama': 166, 'war': 28, 'adventure': 52, 'comedy': 45, 'family': 23, 'animation': 16, 'biography': 23, 'history': 16, 'action': 31, 'crime': 55, 'mystery': 36, 'thriller': 60, 'fantasy': 28, 'romance': 23, 'sci-fi': 26, 'western': 8, 'musical': 5, 'music': 2, 'historical': 1, 'sport': 7, 'film-noir': 7, 'horror': 4}\n",
      "\n",
      "\n",
      "Inglourious Basterds\n",
      "Adventure\n",
      "Drama\n",
      "War\n",
      "{'drama': 167, 'war': 29, 'adventure': 53, 'comedy': 45, 'family': 23, 'animation': 16, 'biography': 23, 'history': 16, 'action': 31, 'crime': 55, 'mystery': 36, 'thriller': 60, 'fantasy': 28, 'romance': 23, 'sci-fi': 26, 'western': 8, 'musical': 5, 'music': 2, 'historical': 1, 'sport': 7, 'film-noir': 7, 'horror': 4}\n",
      "\n",
      "\n",
      "The Deer Hunter\n",
      "Drama\n",
      "War\n",
      "{'drama': 168, 'war': 30, 'adventure': 53, 'comedy': 45, 'family': 23, 'animation': 16, 'biography': 23, 'history': 16, 'action': 31, 'crime': 55, 'mystery': 36, 'thriller': 60, 'fantasy': 28, 'romance': 23, 'sci-fi': 26, 'western': 8, 'musical': 5, 'music': 2, 'historical': 1, 'sport': 7, 'film-noir': 7, 'horror': 4}\n",
      "\n",
      "\n",
      "The Apartment\n",
      "Comedy\n",
      "Drama\n",
      "Romance\n",
      "{'drama': 169, 'war': 30, 'adventure': 53, 'comedy': 46, 'family': 23, 'animation': 16, 'biography': 23, 'history': 16, 'action': 31, 'crime': 55, 'mystery': 36, 'thriller': 60, 'fantasy': 28, 'romance': 24, 'sci-fi': 26, 'western': 8, 'musical': 5, 'music': 2, 'historical': 1, 'sport': 7, 'film-noir': 7, 'horror': 4}\n",
      "\n",
      "\n",
      "Bicycle Thieves\n",
      "Drama\n",
      "{'drama': 170, 'war': 30, 'adventure': 53, 'comedy': 46, 'family': 23, 'animation': 16, 'biography': 23, 'history': 16, 'action': 31, 'crime': 55, 'mystery': 36, 'thriller': 60, 'fantasy': 28, 'romance': 24, 'sci-fi': 26, 'western': 8, 'musical': 5, 'music': 2, 'historical': 1, 'sport': 7, 'film-noir': 7, 'horror': 4}\n",
      "\n",
      "\n",
      "Witness for the Prosecution\n",
      "Crime\n",
      "Drama\n",
      "Mystery\n",
      "Thriller\n",
      "{'drama': 171, 'war': 30, 'adventure': 53, 'comedy': 46, 'family': 23, 'animation': 16, 'biography': 23, 'history': 16, 'action': 31, 'crime': 56, 'mystery': 37, 'thriller': 61, 'fantasy': 28, 'romance': 24, 'sci-fi': 26, 'western': 8, 'musical': 5, 'music': 2, 'historical': 1, 'sport': 7, 'film-noir': 7, 'horror': 4}\n",
      "\n",
      "\n",
      "Catch Me If You Can\n",
      "Biography\n",
      "Crime\n",
      "Drama\n",
      "{'drama': 172, 'war': 30, 'adventure': 53, 'comedy': 46, 'family': 23, 'animation': 16, 'biography': 24, 'history': 16, 'action': 31, 'crime': 57, 'mystery': 37, 'thriller': 61, 'fantasy': 28, 'romance': 24, 'sci-fi': 26, 'western': 8, 'musical': 5, 'music': 2, 'historical': 1, 'sport': 7, 'film-noir': 7, 'horror': 4}\n",
      "\n",
      "\n",
      "Network\n",
      "Drama\n",
      "{'drama': 173, 'war': 30, 'adventure': 53, 'comedy': 46, 'family': 23, 'animation': 16, 'biography': 24, 'history': 16, 'action': 31, 'crime': 57, 'mystery': 37, 'thriller': 61, 'fantasy': 28, 'romance': 24, 'sci-fi': 26, 'western': 8, 'musical': 5, 'music': 2, 'historical': 1, 'sport': 7, 'film-noir': 7, 'horror': 4}\n",
      "\n",
      "\n",
      "Spirited Away\n",
      "Animation\n",
      "Adventure\n",
      "Family\n",
      "Fantasy\n",
      "Mystery\n",
      "{'drama': 173, 'war': 30, 'adventure': 54, 'comedy': 46, 'family': 24, 'animation': 17, 'biography': 24, 'history': 16, 'action': 31, 'crime': 57, 'mystery': 38, 'thriller': 61, 'fantasy': 29, 'romance': 24, 'sci-fi': 26, 'western': 8, 'musical': 5, 'music': 2, 'historical': 1, 'sport': 7, 'film-noir': 7, 'horror': 4}\n",
      "\n",
      "\n",
      "Spotlight\n",
      "Crime\n",
      "Drama\n",
      "History\n",
      "{'drama': 174, 'war': 30, 'adventure': 54, 'comedy': 46, 'family': 24, 'animation': 17, 'biography': 24, 'history': 17, 'action': 31, 'crime': 58, 'mystery': 38, 'thriller': 61, 'fantasy': 29, 'romance': 24, 'sci-fi': 26, 'western': 8, 'musical': 5, 'music': 2, 'historical': 1, 'sport': 7, 'film-noir': 7, 'horror': 4}\n",
      "\n",
      "\n",
      "American History X\n",
      "Crime\n",
      "Drama\n",
      "{'drama': 175, 'war': 30, 'adventure': 54, 'comedy': 46, 'family': 24, 'animation': 17, 'biography': 24, 'history': 17, 'action': 31, 'crime': 59, 'mystery': 38, 'thriller': 61, 'fantasy': 29, 'romance': 24, 'sci-fi': 26, 'western': 8, 'musical': 5, 'music': 2, 'historical': 1, 'sport': 7, 'film-noir': 7, 'horror': 4}\n",
      "\n",
      "\n",
      "Amadeus\n",
      "Biography\n",
      "Drama\n",
      "History\n",
      "Music\n",
      "{'drama': 176, 'war': 30, 'adventure': 54, 'comedy': 46, 'family': 24, 'animation': 17, 'biography': 25, 'history': 18, 'action': 31, 'crime': 59, 'mystery': 38, 'thriller': 61, 'fantasy': 29, 'romance': 24, 'sci-fi': 26, 'western': 8, 'musical': 5, 'music': 3, 'historical': 1, 'sport': 7, 'film-noir': 7, 'horror': 4}\n",
      "\n",
      "\n",
      "A Wednesday\n",
      "Crime\n",
      "Drama\n",
      "Mystery\n",
      "Thriller\n",
      "{'drama': 177, 'war': 30, 'adventure': 54, 'comedy': 46, 'family': 24, 'animation': 17, 'biography': 25, 'history': 18, 'action': 31, 'crime': 60, 'mystery': 39, 'thriller': 62, 'fantasy': 29, 'romance': 24, 'sci-fi': 26, 'western': 8, 'musical': 5, 'music': 3, 'historical': 1, 'sport': 7, 'film-noir': 7, 'horror': 4}\n",
      "\n",
      "\n",
      "M\n",
      "Crime\n",
      "Drama\n",
      "Mystery\n",
      "Thriller\n",
      "{'drama': 178, 'war': 30, 'adventure': 54, 'comedy': 46, 'family': 24, 'animation': 17, 'biography': 25, 'history': 18, 'action': 31, 'crime': 61, 'mystery': 40, 'thriller': 63, 'fantasy': 29, 'romance': 24, 'sci-fi': 26, 'western': 8, 'musical': 5, 'music': 3, 'historical': 1, 'sport': 7, 'film-noir': 7, 'horror': 4}\n",
      "\n",
      "\n",
      "Arrival\n",
      "Drama\n",
      "Mystery\n",
      "Sci-Fi\n",
      "Thriller\n",
      "{'drama': 179, 'war': 30, 'adventure': 54, 'comedy': 46, 'family': 24, 'animation': 17, 'biography': 25, 'history': 18, 'action': 31, 'crime': 61, 'mystery': 41, 'thriller': 64, 'fantasy': 29, 'romance': 24, 'sci-fi': 27, 'western': 8, 'musical': 5, 'music': 3, 'historical': 1, 'sport': 7, 'film-noir': 7, 'horror': 4}\n",
      "\n",
      "\n",
      "The Bandit\n",
      "Crime\n",
      "Drama\n",
      "Thriller\n",
      "{'drama': 180, 'war': 30, 'adventure': 54, 'comedy': 46, 'family': 24, 'animation': 17, 'biography': 25, 'history': 18, 'action': 31, 'crime': 62, 'mystery': 41, 'thriller': 65, 'fantasy': 29, 'romance': 24, 'sci-fi': 27, 'western': 8, 'musical': 5, 'music': 3, 'historical': 1, 'sport': 7, 'film-noir': 7, 'horror': 4}\n",
      "\n",
      "\n",
      "Interstellar\n",
      "Adventure\n",
      "Drama\n",
      "Sci-Fi\n",
      "{'drama': 181, 'war': 30, 'adventure': 55, 'comedy': 46, 'family': 24, 'animation': 17, 'biography': 25, 'history': 18, 'action': 31, 'crime': 62, 'mystery': 41, 'thriller': 65, 'fantasy': 29, 'romance': 24, 'sci-fi': 28, 'western': 8, 'musical': 5, 'music': 3, 'historical': 1, 'sport': 7, 'film-noir': 7, 'horror': 4}\n",
      "\n",
      "\n",
      "The Shining\n",
      "Drama\n",
      "Horror\n",
      "{'drama': 182, 'war': 30, 'adventure': 55, 'comedy': 46, 'family': 24, 'animation': 17, 'biography': 25, 'history': 18, 'action': 31, 'crime': 62, 'mystery': 41, 'thriller': 65, 'fantasy': 29, 'romance': 24, 'sci-fi': 28, 'western': 8, 'musical': 5, 'music': 3, 'historical': 1, 'sport': 7, 'film-noir': 7, 'horror': 5}\n",
      "\n",
      "\n",
      "{'drama': 182, 'war': 30, 'adventure': 55, 'comedy': 46, 'family': 24, 'animation': 17, 'biography': 25, 'history': 18, 'action': 31, 'crime': 62, 'mystery': 41, 'thriller': 65, 'fantasy': 29, 'romance': 24, 'sci-fi': 28, 'western': 8, 'musical': 5, 'music': 3, 'historical': 1, 'sport': 7, 'film-noir': 7, 'horror': 5}\n"
     ]
    }
   ],
   "source": [
    "fh        = open('../downloads/250.imdb', 'r', encoding = 'utf-8')\n",
    "genreDict = {}     # create empty dictionary\n",
    "\n",
    "for line in fh:\n",
    "    if not line.startswith('#'):\n",
    "        cols  = line.strip().split('|')\n",
    "        genre = cols[5].strip()\n",
    "        glist = genre.split(',')\n",
    "        print(cols[6])\n",
    "        for entry in glist:\n",
    "            print(entry)\n",
    "            if not entry.lower() in genreDict: # check if genre is not in dictionary, add 1\n",
    "                genreDict[entry.lower()] = 1\n",
    "            else:\n",
    "                genreDict[entry.lower()] += 1   # if genre is in dictionary, increase count with 1\n",
    "    print(genreDict)\n",
    "    print('\\n')\n",
    "fh.close()\n",
    "print(genreDict)\n"
   ]
  },
  {
   "cell_type": "markdown",
   "metadata": {
    "slideshow": {
     "slide_type": "slide"
    }
   },
   "source": [
    "### (Extra) What is the average length of the movies (hours and minutes) in each genre?\n",
    "\n",
    "<img src=\"img/header_imdb.png\" alt=\"Drawing\" style=\"width: 1000px;\"/>  "
   ]
  },
  {
   "cell_type": "markdown",
   "metadata": {
    "slideshow": {
     "slide_type": "subslide"
    }
   },
   "source": [
    "### Answer\n",
    "\n",
    "<img src=\"img/average_length.png\" alt=\"Drawing\" style=\"width: 500px;\"/>  \n",
    "\n",
    "\n",
    "__Tip!__  \n",
    "Here you have to loop twice"
   ]
  },
  {
   "cell_type": "code",
   "execution_count": null,
   "metadata": {
    "slideshow": {
     "slide_type": "subslide"
    }
   },
   "outputs": [],
   "source": [
    "fh        = open('../downloads/250.imdb', 'r', encoding = 'utf-8')\n",
    "genreDict = {}\n",
    "\n",
    "for line in fh:\n",
    "    if not line.startswith('#'):\n",
    "        cols    = line.strip().split('|')\n",
    "        genre   = cols[5].strip()\n",
    "        glist   = genre.split(',')\n",
    "        runtime = cols[3]      # length of movie in seconds\n",
    "        for entry in glist:\n",
    "            if not entry.lower() in genreDict:\n",
    "                genreDict[entry.lower()] = [int(runtime)]   # add a list with the runtime\n",
    "            else:\n",
    "                genreDict[entry.lower()].append(int(runtime))   # append runtime to existing list\n",
    "fh.close()\n",
    "                \n",
    "for genre in genreDict:      # loop over the genres in the dictionaries\n",
    "    average = sum(genreDict[genre])/len(genreDict[genre])  # calculate average length per genre\n",
    "    hours   = int(average/3600)                                 # format seconds to hours\n",
    "    minutes = (average - (3600*hours))/60             # format seconds to minutes\n",
    "    print('The average length for movies in genre '+genre\\\n",
    "          +' is '+str(hours)+'h'+str(round(minutes))+'min')"
   ]
  },
  {
   "cell_type": "markdown",
   "metadata": {
    "slideshow": {
     "slide_type": "slide"
    }
   },
   "source": [
    "## NEW TOPIC: Functions"
   ]
  },
  {
   "cell_type": "markdown",
   "metadata": {
    "slideshow": {
     "slide_type": "fragment"
    }
   },
   "source": [
    "<img src=\"img/for_function.png\" alt=\"Drawing\" style=\"width: 900px;\"/>  "
   ]
  },
  {
   "cell_type": "markdown",
   "metadata": {
    "slideshow": {
     "slide_type": "-"
    }
   },
   "source": [
    "A lot of ugly formatting for calculating hours and minutes from seconds..."
   ]
  },
  {
   "cell_type": "code",
   "execution_count": null,
   "metadata": {
    "slideshow": {
     "slide_type": "slide"
    }
   },
   "outputs": [],
   "source": [
    "def FormatSec(genre):   # input a list of seconds\n",
    "    average   = sum(genreDict[genre])/len(genreDict[genre])\n",
    "    hours     = int(average/3600)\n",
    "    minutes   = (average - (3600*hours))/60   \n",
    "    return str(hours)+'h'+str(round(minutes))+'min'\n",
    "\n",
    "\n",
    "fh        = open('../downloads/250.imdb', 'r', encoding = 'utf-8')\n",
    "genreDict = {}\n",
    "\n",
    "for line in fh:\n",
    "    if not line.startswith('#'):\n",
    "        cols    = line.strip().split('|')\n",
    "        genre   = cols[5].strip()\n",
    "        glist   = genre.split(',')\n",
    "        runtime = cols[3]      # length of movie in seconds\n",
    "        for entry in glist:\n",
    "            if not entry.lower() in genreDict:\n",
    "                genreDict[entry.lower()] = [int(runtime)]   # add a list with the runtime\n",
    "            else:\n",
    "                genreDict[entry.lower()].append(int(runtime))   # append runtime to existing list\n",
    "fh.close()\n",
    "                \n",
    "for genre in genreDict:\n",
    "    print('The average length for movies in genre '+genre\\\n",
    "          +' is '+FormatSec(genre))"
   ]
  },
  {
   "cell_type": "markdown",
   "metadata": {
    "slideshow": {
     "slide_type": "slide"
    }
   },
   "source": [
    "### Function structure\n",
    "\n",
    "<img src=\"img/function_structure.png\" alt=\"Drawing\" style=\"width: 800px;\"/>  "
   ]
  },
  {
   "cell_type": "markdown",
   "metadata": {
    "slideshow": {
     "slide_type": "slide"
    }
   },
   "source": [
    "### Function structure\n",
    "\n",
    "<img src=\"img/function_structure_explained.png\" alt=\"Drawing\" style=\"width: 800px;\"/>  "
   ]
  },
  {
   "cell_type": "code",
   "execution_count": 78,
   "metadata": {
    "slideshow": {
     "slide_type": "slide"
    }
   },
   "outputs": [
    {
     "name": "stdout",
     "output_type": "stream",
     "text": [
      "<class 'int'>\n"
     ]
    },
    {
     "data": {
      "text/plain": [
       "9"
      ]
     },
     "execution_count": 78,
     "metadata": {},
     "output_type": "execute_result"
    }
   ],
   "source": [
    "def addFive(number):\n",
    "    print(type(number))\n",
    "    final = number + 5\n",
    "    return final\n",
    "\n",
    "my_result = addFive(4)\n",
    "my_result"
   ]
  },
  {
   "cell_type": "code",
   "execution_count": 72,
   "metadata": {
    "slideshow": {
     "slide_type": "fragment"
    }
   },
   "outputs": [
    {
     "data": {
      "text/plain": [
       "'The time is: 13:11:29.504169'"
      ]
     },
     "execution_count": 72,
     "metadata": {},
     "output_type": "execute_result"
    }
   ],
   "source": [
    "from datetime import datetime\n",
    "\n",
    "def whatTimeIsIt():\n",
    "    time = 'The time is: ' + str(datetime.now().time())\n",
    "    return time\n",
    "\n",
    "whatTimeIsIt()\n"
   ]
  },
  {
   "cell_type": "code",
   "execution_count": 75,
   "metadata": {
    "slideshow": {
     "slide_type": "fragment"
    }
   },
   "outputs": [
    {
     "data": {
      "text/plain": [
       "9"
      ]
     },
     "execution_count": 75,
     "metadata": {},
     "output_type": "execute_result"
    }
   ],
   "source": [
    "def addFive(number):\n",
    "    final = number + 5\n",
    "    return final\n",
    "\n",
    "addFive(4)\n",
    "\n",
    "final = addFive(4)\n",
    "final\n"
   ]
  },
  {
   "cell_type": "markdown",
   "metadata": {
    "slideshow": {
     "slide_type": "slide"
    }
   },
   "source": [
    "### Scope \n",
    "\n",
    "- Variables within functions\n",
    "- Global variables"
   ]
  },
  {
   "cell_type": "code",
   "execution_count": 81,
   "metadata": {
    "slideshow": {
     "slide_type": "fragment"
    }
   },
   "outputs": [
    {
     "name": "stdout",
     "output_type": "stream",
     "text": [
      "a string\n",
      "a string\n"
     ]
    }
   ],
   "source": [
    "def someFunction():\n",
    "    s = 'a string'\n",
    "    print(s)\n",
    "    return s\n",
    "    \n",
    "s = 'another string'\n",
    "s = someFunction()\n",
    "print(s)"
   ]
  },
  {
   "cell_type": "markdown",
   "metadata": {
    "slideshow": {
     "slide_type": "slide"
    }
   },
   "source": [
    "## Why use functions?\n",
    "\n",
    "- Cleaner code\n",
    "- Better defined tasks in code\n",
    "- Re-usability\n",
    "- Better structure"
   ]
  },
  {
   "cell_type": "markdown",
   "metadata": {
    "slideshow": {
     "slide_type": "slide"
    }
   },
   "source": [
    "## Importing functions\n",
    "\n",
    "- Collect all your functions in another file\n",
    "- Keeps main code cleaner\n",
    "- Easy to use across different code"
   ]
  },
  {
   "cell_type": "markdown",
   "metadata": {
    "slideshow": {
     "slide_type": "slide"
    }
   },
   "source": [
    "Example:\n",
    "1. Create a file called myFunctions.py, located in the same folder as your script\n",
    "2. Put a function called `formatSec()` in the file\n",
    "3. Start writing your code in a separate file and `import` the function"
   ]
  },
  {
   "cell_type": "code",
   "execution_count": 82,
   "metadata": {
    "slideshow": {
     "slide_type": "fragment"
    }
   },
   "outputs": [
    {
     "data": {
      "text/plain": [
       "'8h56min'"
      ]
     },
     "execution_count": 82,
     "metadata": {},
     "output_type": "execute_result"
    }
   ],
   "source": [
    "from myFunctions import formatSec\n",
    "\n",
    "seconds = 32154\n",
    "\n",
    "formatSec(seconds)\n"
   ]
  },
  {
   "cell_type": "code",
   "execution_count": 84,
   "metadata": {
    "slideshow": {
     "slide_type": "slide"
    }
   },
   "outputs": [
    {
     "name": "stdout",
     "output_type": "stream",
     "text": [
      "5h53min\n",
      "79005s\n",
      "Help on function toSec in module myFunctions:\n",
      "\n",
      "toSec(days, hours, minutes, seconds)\n",
      "\n"
     ]
    }
   ],
   "source": [
    "from myFunctions import  formatSec, toSec\n",
    "\n",
    "seconds = 21154\n",
    "print(formatSec(seconds))\n",
    "\n",
    "days    = 0\n",
    "hours   = 21\n",
    "minutes = 56\n",
    "seconds = 45\n",
    "\n",
    "print(toSec(days, hours, minutes, seconds))\n",
    "\n",
    "help(toSec)"
   ]
  },
  {
   "cell_type": "markdown",
   "metadata": {
    "slideshow": {
     "slide_type": "slide"
    }
   },
   "source": [
    "### myFunctions.py\n",
    "\n",
    "<img src=\"img/myFunctions.png\" alt=\"Drawing\" style=\"width: 600px;\"/>  "
   ]
  },
  {
   "cell_type": "markdown",
   "metadata": {
    "slideshow": {
     "slide_type": "slide"
    }
   },
   "source": [
    "## Summary\n",
    "\n",
    "- A function is a block of organized, reusable code that is used to perform a single, related action\n",
    "- Variables within a function are local variables\n",
    "- Functions can be organized in separate files and imported to the main code"
   ]
  },
  {
   "cell_type": "markdown",
   "metadata": {
    "slideshow": {
     "slide_type": "slide"
    }
   },
   "source": [
    "__&rarr; Notebook Day_3_Exercise_1  (~30 minutes)__"
   ]
  },
  {
   "cell_type": "markdown",
   "metadata": {
    "slideshow": {
     "slide_type": "slide"
    }
   },
   "source": [
    "## NEW TOPIC: `sys.argv`\n",
    "\n",
    "- Avoid hardcoding the filename in the code\n",
    "- Easier to re-use code for different input files\n",
    "- Uses command-line arguments\n",
    "- Input is list of strings:\n",
    "    - Position 0: the program name\n",
    "    - Position 1: the first argument"
   ]
  },
  {
   "cell_type": "markdown",
   "metadata": {
    "slideshow": {
     "slide_type": "slide"
    }
   },
   "source": [
    "<b>The `sys.argv` function</b>\n",
    "\n",
    "Python script called `print_argv.py`:"
   ]
  },
  {
   "cell_type": "markdown",
   "metadata": {
    "slideshow": {
     "slide_type": "-"
    }
   },
   "source": [
    "<img src=\"img/argv_print.png\" alt=\"Drawing\" style=\"width: 300px;\"/> "
   ]
  },
  {
   "cell_type": "markdown",
   "metadata": {
    "slideshow": {
     "slide_type": "fragment"
    }
   },
   "source": [
    "Running the script with command line arguments as input:"
   ]
  },
  {
   "cell_type": "markdown",
   "metadata": {
    "slideshow": {
     "slide_type": "-"
    }
   },
   "source": [
    "<img src=\"img/argv_print_output.png\" alt=\"Drawing\" style=\"width: 800px;\"/> "
   ]
  },
  {
   "cell_type": "markdown",
   "metadata": {
    "slideshow": {
     "slide_type": "slide"
    }
   },
   "source": [
    "Instead of:"
   ]
  },
  {
   "cell_type": "markdown",
   "metadata": {
    "slideshow": {
     "slide_type": "-"
    }
   },
   "source": [
    "<img src=\"img/non-sysargv.png\" alt=\"Drawing\" style=\"width: 700px;\"/>  "
   ]
  },
  {
   "cell_type": "markdown",
   "metadata": {
    "slideshow": {
     "slide_type": "slide"
    }
   },
   "source": [
    "do:"
   ]
  },
  {
   "cell_type": "markdown",
   "metadata": {
    "slideshow": {
     "slide_type": "-"
    }
   },
   "source": [
    "<img src=\"img/sysargv.png\" alt=\"Drawing\" style=\"width: 800px;\"/>  "
   ]
  },
  {
   "cell_type": "markdown",
   "metadata": {
    "slideshow": {
     "slide_type": "-"
    }
   },
   "source": [
    "Run with:"
   ]
  },
  {
   "cell_type": "markdown",
   "metadata": {
    "slideshow": {
     "slide_type": "-"
    }
   },
   "source": [
    "<img src=\"img/sysargv_run.png\" alt=\"Drawing\" style=\"width: 900px;\"/>  "
   ]
  },
  {
   "cell_type": "markdown",
   "metadata": {
    "slideshow": {
     "slide_type": "slide"
    }
   },
   "source": [
    "## Formatting\n",
    "\n",
    "Format text for printing or for writing to file.\n",
    "\n",
    "What we have been doing so far:"
   ]
  },
  {
   "cell_type": "code",
   "execution_count": null,
   "metadata": {
    "slideshow": {
     "slide_type": "fragment"
    }
   },
   "outputs": [],
   "source": [
    "title  = 'Toy Story'\n",
    "rating = 10\n",
    "print('The result is: ' + title + ' with rating: ' + str(rating))"
   ]
  },
  {
   "cell_type": "markdown",
   "metadata": {
    "slideshow": {
     "slide_type": "slide"
    }
   },
   "source": [
    "Other (better) ways of formatting strings:\n",
    "\n",
    "<br>\n",
    "\n",
    "__f-strings (since python 3.6)__"
   ]
  },
  {
   "cell_type": "code",
   "execution_count": 85,
   "metadata": {
    "slideshow": {
     "slide_type": "-"
    }
   },
   "outputs": [
    {
     "name": "stdout",
     "output_type": "stream",
     "text": [
      "The result is: Toy Story with rating: 10\n"
     ]
    }
   ],
   "source": [
    "title  = 'Toy Story'\n",
    "rating = 10\n",
    "print(f'The result is: {title} with rating: {rating}')"
   ]
  },
  {
   "cell_type": "markdown",
   "metadata": {
    "slideshow": {
     "slide_type": "slide"
    }
   },
   "source": [
    "__format method__"
   ]
  },
  {
   "cell_type": "code",
   "execution_count": 86,
   "metadata": {
    "slideshow": {
     "slide_type": "-"
    }
   },
   "outputs": [
    {
     "name": "stdout",
     "output_type": "stream",
     "text": [
      "The result is: Toy Story with rating: 10\n"
     ]
    }
   ],
   "source": [
    "title  = 'Toy Story'\n",
    "rating = 10\n",
    "print('The result is: {} with rating: {}'.format(title, rating))"
   ]
  },
  {
   "cell_type": "markdown",
   "metadata": {
    "slideshow": {
     "slide_type": "slide"
    }
   },
   "source": [
    "__The ancient way (python 2)__"
   ]
  },
  {
   "cell_type": "code",
   "execution_count": 87,
   "metadata": {
    "slideshow": {
     "slide_type": "-"
    }
   },
   "outputs": [
    {
     "name": "stdout",
     "output_type": "stream",
     "text": [
      "The result is: Toy Story with rating: 10\n"
     ]
    }
   ],
   "source": [
    "title  = 'Toy Story'\n",
    "rating = 10\n",
    "print('The result is: %s with rating: %s' % (title, rating))"
   ]
  },
  {
   "cell_type": "markdown",
   "metadata": {
    "slideshow": {
     "slide_type": "slide"
    }
   },
   "source": [
    "### IMDb - Pair-programming exercise\n",
    "\n",
    "__Re-structure and write the output to a new file as below__\n",
    "\n",
    "<img src=\"img/re-structured.png\" alt=\"Drawing\" style=\"width: 400px;\"/>  \n",
    "\n",
    "Note:\n",
    "- Plan your code!\n",
    "- Use a text editor, not notebooks for this\n",
    "- Use functions as much as possible\n",
    "- Use `sys.argv` for input/output"
   ]
  },
  {
   "cell_type": "markdown",
   "metadata": {
    "slideshow": {
     "slide_type": "subslide"
    }
   },
   "source": [
    "### Answer -  Example\n",
    "<img src=\"img/reformat_imdb.png\" alt=\"Drawing\" style=\"width: 1000px;\"/>  \n",
    "\n",
    "Run with:\n",
    "<img src=\"img/run_reformat.png\" alt=\"Drawing\" style=\"width: 700px;\"/>  "
   ]
  }
 ],
 "metadata": {
  "celltoolbar": "Slideshow",
  "kernelspec": {
   "display_name": "Python 3 (ipykernel)",
   "language": "python",
   "name": "python3"
  },
  "language_info": {
   "codemirror_mode": {
    "name": "ipython",
    "version": 3
   },
   "file_extension": ".py",
   "mimetype": "text/x-python",
   "name": "python",
   "nbconvert_exporter": "python",
   "pygments_lexer": "ipython3",
   "version": "3.9.4"
  },
  "livereveal": {
   "height": 768,
   "scroll": true,
   "width": 1024
  }
 },
 "nbformat": 4,
 "nbformat_minor": 2
}
