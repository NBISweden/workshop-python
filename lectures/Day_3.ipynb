{
 "cells": [
  {
   "cell_type": "code",
   "execution_count": null,
   "metadata": {
    "slideshow": {
     "slide_type": "skip"
    }
   },
   "outputs": [],
   "source": [
    "from IPython.display import Image\n",
    "from IPython.display import clear_output\n",
    "from IPython.display import FileLink, FileLinks"
   ]
  },
  {
   "cell_type": "markdown",
   "metadata": {
    "slideshow": {
     "slide_type": "slide"
    }
   },
   "source": [
    "## Introduction to\n",
    "\n",
    "![title](img/python-logo-master-flat.png)\n",
    "\n",
    "### with Application to Bioinformatics\n",
    "\n",
    "#### - Day 3"
   ]
  },
  {
   "cell_type": "markdown",
   "metadata": {
    "slideshow": {
     "slide_type": "slide"
    }
   },
   "source": [
    "## Day 3\n",
    "- __Session 1__\n",
    "    - Quiz: Review of Day 2\n",
    "    - Lecture: Go through questions, data type `set`\n",
    "    - Ex1: IMDb exercise - Find the number of unique genres\n",
    "- __Session 2__    \n",
    "    - Lecture: Data type `dict`\n",
    "    - Ex2: IMDb exercise - Find the number of movies per genre\n",
    "    - PyQuiz 3.1\n",
    "- __Session 3__  \n",
    "    - Lecture: Write you own functions\n",
    "    - Ex3: Day 3, Exercise 3, Functions \n",
    "- __Session 4__\n",
    "    - Lecture: Pass arguments from command line using `sys.argv` and string formatting\n",
    "    - Ex4: IMDb exercise - functions and `sys.argv`\n",
    "    - PyQuiz 3.2\n",
    "- __Project time__"
   ]
  },
  {
   "cell_type": "markdown",
   "metadata": {
    "slideshow": {
     "slide_type": "slide"
    }
   },
   "source": [
    "## Quiz: Review Day 2\n",
    "\n",
    "Go to Canvas, `Modules -> Day 3 -> Review Day 2`\n",
    " \n",
    "~20 minutes\n"
   ]
  },
  {
   "cell_type": "markdown",
   "metadata": {
    "slideshow": {
     "slide_type": "slide"
    }
   },
   "source": [
    "## Tuples (Q 1&2)\n",
    "\n",
    "__1. Which of the following variables are of the type tuple?__  \n",
    "`a = (1, 2, 3, 4)`  \n",
    "`a = ([1, 2], 'a', 'b')`"
   ]
  },
  {
   "cell_type": "markdown",
   "metadata": {
    "slideshow": {
     "slide_type": "skip"
    }
   },
   "source": [
    "Note: tuple is a data structure in Python that can store multiple items in ordered and immutable items. "
   ]
  },
  {
   "cell_type": "markdown",
   "metadata": {
    "slideshow": {
     "slide_type": "fragment"
    }
   },
   "source": [
    "__2. What is the difference between a tuple and a list?__  \n",
    "A tuple is immutable while a list is mutable"
   ]
  },
  {
   "cell_type": "code",
   "execution_count": null,
   "metadata": {
    "slideshow": {
     "slide_type": "-"
    }
   },
   "outputs": [],
   "source": [
    "myTuple    = (1, 2, 3)\n",
    "myList     = [1, 2 ,3]"
   ]
  },
  {
   "cell_type": "code",
   "execution_count": null,
   "metadata": {},
   "outputs": [],
   "source": [
    "myList[2]  = 4\n",
    "myList"
   ]
  },
  {
   "cell_type": "code",
   "execution_count": null,
   "metadata": {},
   "outputs": [],
   "source": [
    "myTuple[2] = 4"
   ]
  },
  {
   "cell_type": "markdown",
   "metadata": {
    "slideshow": {
     "slide_type": "slide"
    }
   },
   "source": [
    "### Is it true that we can never modify the content of a tuple?"
   ]
  },
  {
   "cell_type": "code",
   "execution_count": null,
   "metadata": {
    "slideshow": {
     "slide_type": "fragment"
    }
   },
   "outputs": [],
   "source": [
    "myTuple = (1, 2, [1,2,3])\n",
    "print(myTuple)\n",
    "myTuple[2][2] = 4\n",
    "print(myTuple)"
   ]
  },
  {
   "cell_type": "markdown",
   "metadata": {
    "slideshow": {
     "slide_type": "fragment"
    }
   },
   "source": [
    "- The immutability of tuples in Python means that __the structure of the tuple itself cannot be changed__, you cannot add, remove, or replace elements in the tuple. \n",
    "- However, if a tuple contains mutable objects like lists, dictionaries, or other objects, the contents of those mutable objects can still be changed."
   ]
  },
  {
   "cell_type": "markdown",
   "metadata": {
    "slideshow": {
     "slide_type": "slide"
    }
   },
   "source": [
    "## How to structure the code (Q 3)\n",
    "\n",
    "__3. What does pseudocode mean?__  \n",
    "Writing down the steps you intend to include in your code in more general language"
   ]
  },
  {
   "cell_type": "markdown",
   "metadata": {
    "slideshow": {
     "slide_type": "slide"
    }
   },
   "source": [
    "### Things to Consider When Writing Pseudocode\n",
    "- Decide on the desired output.\n",
    "- Identify the input files you have.\n",
    "- Examine the structure of the input – can it be iterated over?\n",
    "- Determine where the necessary information is located.\n",
    "- Assess if you need to store information while iterating:\n",
    "    - Use lists for ordered data.\n",
    "    - Use sets for unique, non-duplicate entries.\n",
    "    - Use dictionaries for structured, key-value information.\n",
    "- After collecting the required data, decide how to process it.\n",
    "- Determine if you’ll need to write your results to a file.\n",
    "\n",
    "__Writing pseudocode before actual coding is a good habit.__"
   ]
  },
  {
   "cell_type": "markdown",
   "metadata": {
    "slideshow": {
     "slide_type": "slide"
    }
   },
   "source": [
    "## Functions and methods (Q 4&5)\n",
    "\n",
    "__4. What are the following examples of?__  \n",
    "`len([1, 2, 3, 4])`  \n",
    "`print(\"my text\")`\n",
    "\n",
    "Functions"
   ]
  },
  {
   "cell_type": "markdown",
   "metadata": {
    "slideshow": {
     "slide_type": "fragment"
    }
   },
   "source": [
    "__5. What are the following examples of?__  \n",
    "`\"my\\ttext\".split(\"\\t\")`  \n",
    "`[1, 2, 3].pop()`\n",
    "\n",
    "Methods"
   ]
  },
  {
   "cell_type": "markdown",
   "metadata": {
    "slideshow": {
     "slide_type": "slide"
    }
   },
   "source": [
    "### What are the differences between a `function` and a `method`?\n",
    "| __Function__                      | __Method__                                                |\n",
    "|-------------------------------|-------------------------------------------------------|\n",
    "| Standalone block of code      | Function associated with an object                    |\n",
    "| Called independently, e.g. `functionName()`         | Called on an instance of a class, e.g. `obj.methodName()`   |\n",
    "| Not tied to any object or class | Tied to the objects they are called on                |\n",
    "| Defined outside of a class    | Defined within a class                                |\n",
    "|\n"
   ]
  },
  {
   "cell_type": "markdown",
   "metadata": {
    "slideshow": {
     "slide_type": "slide"
    }
   },
   "source": [
    "__6. Calculate the average of the list `[1,2,3.5,5,6.2]` to one decimal, using Python__"
   ]
  },
  {
   "cell_type": "code",
   "execution_count": null,
   "metadata": {
    "slideshow": {
     "slide_type": "-"
    }
   },
   "outputs": [],
   "source": [
    "myList = [1, 2, 3.5, 5 ,6.2]\n",
    "round(sum(myList)/len(myList),1)"
   ]
  },
  {
   "cell_type": "markdown",
   "metadata": {
    "slideshow": {
     "slide_type": "slide"
    }
   },
   "source": [
    "__7. Take the list `['I','know','Python']` as input and output the string 'I KNOW PYTHON'__"
   ]
  },
  {
   "cell_type": "code",
   "execution_count": null,
   "metadata": {
    "slideshow": {
     "slide_type": "-"
    }
   },
   "outputs": [],
   "source": [
    "my_list   = ['I','know','Python']\n",
    "my_string =' '.join(my_list).upper()\n",
    "print(my_string)"
   ]
  },
  {
   "cell_type": "markdown",
   "metadata": {
    "slideshow": {
     "slide_type": "slide"
    }
   },
   "source": [
    "## Exerciese from yesterday\n",
    "\n",
    "### Find the movie with the highest rating in the file `250.imdb`\n",
    "\n",
    "<img src=\"img/header_imdb.png\" alt=\"Drawing\" style=\"width: 1000px;\"/> "
   ]
  },
  {
   "cell_type": "code",
   "execution_count": null,
   "metadata": {
    "slideshow": {
     "slide_type": "skip"
    }
   },
   "outputs": [],
   "source": [
    "IMDb: internet movie database"
   ]
  },
  {
   "cell_type": "markdown",
   "metadata": {
    "slideshow": {
     "slide_type": "slide"
    }
   },
   "source": [
    "<img src=\"img/header_imdb.png\" alt=\"Drawing\" style=\"width: 1000px;\"/> "
   ]
  },
  {
   "cell_type": "code",
   "execution_count": null,
   "metadata": {
    "slideshow": {
     "slide_type": "-"
    }
   },
   "outputs": [],
   "source": [
    "# Code Snippet for Finding the Movie with the Highest Rating\n",
    "# Note that this is just one of the solutions\n",
    "with open('../downloads/250.imdb', 'r') as fh:  \n",
    "    movieList = [] \n",
    "    highestRating = -1.0  \n",
    "                         \n",
    "    for line in fh:     \n",
    "        if not line.startswith('#'):    \n",
    "            cols = line.strip().split('|')\n",
    "            rating = float(cols[1].strip())\n",
    "            title = cols[6].strip()\n",
    "            movieList.append((rating, title))\n",
    "            if rating > highestRating:\n",
    "                highestRating = rating\n",
    "    print(\"Movie(s) with highest rating \" + str(highestRating) + \":\" )\n",
    "    for i in range(len(movieList)):\n",
    "        if movieList[i][0] == highestRating:\n",
    "            print(movieList[i][1])"
   ]
  },
  {
   "cell_type": "markdown",
   "metadata": {
    "slideshow": {
     "slide_type": "slide"
    }
   },
   "source": [
    "### The `with` key word \n",
    "- Use the `with` keyword to ensure the file handle be closed automatically\n",
    "```python\n",
    "file = open(\"filename.txt\", \"r\")\n",
    "content = file.read()\n",
    "file.close()\n",
    "```\n",
    "---\n",
    "```python\n",
    "with open(\"filename.txt\", \"r\") as file:\n",
    "    content = file.read()\n",
    "```\n",
    "---\n",
    "```python\n",
    "with open (\"filename.txt\", \"r\", encoding='utf-8') as file\n",
    "    content = file.read()\n",
    "```\n",
    "\n",
    "#### However, for Python 3, the default encoding is usually 'utf-8', so it's not needed."
   ]
  },
  {
   "cell_type": "markdown",
   "metadata": {
    "slideshow": {
     "slide_type": "skip"
    }
   },
   "source": [
    "There are other encodings such as `latin-1` and `ascii`"
   ]
  },
  {
   "cell_type": "code",
   "execution_count": null,
   "metadata": {
    "slideshow": {
     "slide_type": "skip"
    }
   },
   "outputs": [],
   "source": [
    "# Alternative solution, using sorting\n",
    "# Note that this is just one of the solutions\n",
    "with open('../downloads/250.imdb', 'r') as fh:  # open the file   \n",
    "    movieList = [] # create an empty list to start with\n",
    "    for line in fh:     # iterate over the file\n",
    "        if not line.startswith('#'):\n",
    "            # split the line separated by '|' into a list \n",
    "            cols = line.strip().split('|')\n",
    "            # extract rating and movie title from cols\n",
    "            rating = float(cols[1].strip())\n",
    "            title = cols[6].strip()\n",
    "            # votes = int(cols[0].strip())\n",
    "            # year = int(cols[2])\n",
    "            movieList.append((rating, title))\n",
    "    sortedMovieList = sorted(movieList, key = lambda x:x[0], reverse=True)\n",
    "    highestRating = sortedMovieList[0][0]\n",
    "    print(\"Movie(s) with highest rating \" + str(highestRating) + \":\" )\n",
    "    for i in range(len(sortedMovieList)):\n",
    "        if sortedMovieList[i][0] == highestRating:\n",
    "            print(sortedMovieList[i][1])\n",
    "        else:\n",
    "            break"
   ]
  },
  {
   "cell_type": "markdown",
   "metadata": {
    "slideshow": {
     "slide_type": "slide"
    }
   },
   "source": [
    "## New data type: `set`\n",
    "- A set contains an unordered collection of unique and hashable objects\n",
    "    - __Unordered__: Items have no defined order\n",
    "    - __Unique__: Duplicate items are not allowed\n",
    "    - __Hashable__: Each item must be hashable\n",
    "\n",
    "### Syntax:  \n",
    "\n",
    "```python\n",
    "setName = set() # Create an empty set\n",
    "```  \n",
    "___\n",
    "```python\n",
    "setName = {1,2,3,4,5} # Create a populated set\n",
    "setName = set([1,2,3,4,5]) # Alternative way\n",
    "```"
   ]
  },
  {
   "cell_type": "markdown",
   "metadata": {
    "slideshow": {
     "slide_type": "slide"
    }
   },
   "source": [
    "### Set is unordered"
   ]
  },
  {
   "cell_type": "code",
   "execution_count": null,
   "metadata": {
    "slideshow": {
     "slide_type": "-"
    }
   },
   "outputs": [],
   "source": [
    "mySet = {\"1\", \"2\", \"3\", \"4\", \"5\"}\n",
    "for e in mySet:\n",
    "    print(e)"
   ]
  },
  {
   "cell_type": "markdown",
   "metadata": {
    "slideshow": {
     "slide_type": "slide"
    }
   },
   "source": [
    "### Set has unique elements"
   ]
  },
  {
   "cell_type": "code",
   "execution_count": null,
   "metadata": {
    "slideshow": {
     "slide_type": "-"
    }
   },
   "outputs": [],
   "source": [
    "mySet = {\"1\", \"1\", \"2\", \"2\", \"3\"}\n",
    "print(mySet)"
   ]
  },
  {
   "cell_type": "markdown",
   "metadata": {
    "slideshow": {
     "slide_type": "slide"
    }
   },
   "source": [
    "### Set can only have hashable elements"
   ]
  },
  {
   "cell_type": "code",
   "execution_count": null,
   "metadata": {
    "slideshow": {
     "slide_type": "-"
    }
   },
   "outputs": [],
   "source": [
    "mySet = {1, \"tga\", (3, 4), 5.6, False}\n",
    "print(mySet)"
   ]
  },
  {
   "cell_type": "code",
   "execution_count": null,
   "metadata": {
    "slideshow": {
     "slide_type": "fragment"
    }
   },
   "outputs": [],
   "source": [
    "mySet = {1, \"tga\", [3, 4], 5.6, False}"
   ]
  },
  {
   "cell_type": "code",
   "execution_count": null,
   "metadata": {
    "slideshow": {
     "slide_type": "fragment"
    }
   },
   "outputs": [],
   "source": [
    "mySet = {1, \"tga\", (3, 4, [1, 2]), 5.6, False}"
   ]
  },
  {
   "cell_type": "markdown",
   "metadata": {
    "slideshow": {
     "slide_type": "fragment"
    }
   },
   "source": [
    "#### Although tuples are immutable, but when it contains mutable items, it becomes non hashable. Be careful!"
   ]
  },
  {
   "cell_type": "markdown",
   "metadata": {
    "slideshow": {
     "slide_type": "slide"
    }
   },
   "source": [
    "### Basic operations on `set`"
   ]
  },
  {
   "cell_type": "code",
   "execution_count": null,
   "metadata": {
    "slideshow": {
     "slide_type": "-"
    }
   },
   "outputs": [],
   "source": [
    "# Add elements to a set\n",
    "myset = set()\n",
    "myset.add(1)\n",
    "myset.add(100)\n",
    "myset.add(100)\n",
    "print(myset)"
   ]
  },
  {
   "cell_type": "code",
   "execution_count": null,
   "metadata": {
    "slideshow": {
     "slide_type": "fragment"
    }
   },
   "outputs": [],
   "source": [
    "# get the number of elements of a set\n",
    "len(myset)"
   ]
  },
  {
   "cell_type": "code",
   "execution_count": null,
   "metadata": {
    "slideshow": {
     "slide_type": "fragment"
    }
   },
   "outputs": [],
   "source": [
    "# membership checking\n",
    "1 in myset"
   ]
  },
  {
   "cell_type": "markdown",
   "metadata": {
    "slideshow": {
     "slide_type": "fragment"
    }
   },
   "source": [
    "#### Learn more on https://www.w3schools.com/python/python_sets.asp"
   ]
  },
  {
   "cell_type": "markdown",
   "metadata": {
    "slideshow": {
     "slide_type": "slide"
    }
   },
   "source": [
    "#### When the size of list is large, membership checking with `set` tends to be much faster than with `list`"
   ]
  },
  {
   "cell_type": "code",
   "execution_count": null,
   "metadata": {},
   "outputs": [],
   "source": [
    "import time, random\n",
    "\n",
    "# Create a large list and set\n",
    "large_list = list(range(10000000))\n",
    "large_set = set(large_list)\n",
    "elements_to_find = random.sample(range(10000001), 10)\n",
    "\n",
    "# Measure time for list membership check\n",
    "list_time = time.time()\n",
    "for e in elements_to_find:\n",
    "    e in large_list\n",
    "list_time = time.time() - list_time\n",
    "\n",
    "# Measure time for set membership check\n",
    "set_time = time.time()\n",
    "for e in elements_to_find:\n",
    "    e in large_set\n",
    "set_time = time.time() - set_time\n",
    "\n",
    "print(f\"List check: {list_time:.6f} seconds\")\n",
    "print(f\"Set check: {set_time:.6f} seconds\")\n",
    "print(f\"Set is approximately {list_time / set_time:.2f} times faster.\")"
   ]
  },
  {
   "cell_type": "markdown",
   "metadata": {
    "slideshow": {
     "slide_type": "slide"
    }
   },
   "source": [
    "## Day 3, Exercise 1 (~20 min)\n",
    "### Find the number of unique genres in the file `250.imdb`\n",
    "\n",
    "<img src=\"img/header_imdb.png\" alt=\"Drawing\" style=\"width: 1000px;\"/> \n",
    "\n",
    "- Canvas -> Modules -> Day 3 -> IMDb exercise -> 1 \n",
    "\n",
    "\n",
    "\n",
    "- Take a break after the exercise (~10 min)"
   ]
  },
  {
   "cell_type": "code",
   "execution_count": null,
   "metadata": {
    "slideshow": {
     "slide_type": "skip"
    }
   },
   "outputs": [],
   "source": [
    "# Find the number of unique genres\n",
    "# open the file\n",
    "fh = open('../downloads/250.imdb', 'r', encoding = 'utf-8')\n",
    "# empty list to start with\n",
    "genres_res = []\n",
    "# iterate over the file\n",
    "for line in fh:\n",
    "    if not line.startswith('#'):\n",
    "        # split the line into a list, del |\n",
    "        cols = line.strip().split('|')\n",
    "        # extract genres from list, split genres into list\n",
    "        genres = cols[5].strip().split(',')\n",
    "        # loop over genre list and add to empty start list if genre not already in list\n",
    "        for genre in genres:\n",
    "            if genre.lower() not in genres_res:\n",
    "                genres_res.append(genre.lower())\n",
    "fh.close()\n",
    "print(genres_res)\n",
    "print(len(genres_res))"
   ]
  },
  {
   "cell_type": "code",
   "execution_count": null,
   "metadata": {
    "slideshow": {
     "slide_type": "skip"
    }
   },
   "outputs": [],
   "source": [
    "# Find the number of unique genres using set\n",
    "with open('../downloads/250.imdb', 'r', encoding = 'utf-8') as fh:\n",
    "    uniqueGenres = set() # create an empty set\n",
    "\n",
    "    for line in fh:\n",
    "        if not line.startswith('#'):\n",
    "            cols  = line.strip().split('|')\n",
    "            genre = cols[5].strip()\n",
    "            glist = genre.split(',')\n",
    "            for entry in glist:\n",
    "                uniqueGenres.add(entry.strip().lower())\n",
    "    print(\"Number of unique generes:\", len(uniqueGenres))\n",
    "    print(sorted(list(uniqueGenres)))"
   ]
  },
  {
   "cell_type": "markdown",
   "metadata": {
    "slideshow": {
     "slide_type": "slide"
    }
   },
   "source": [
    "## Session 2     \n",
    "   - Lecture: Data type `dictionary`\n",
    "   - Ex2: IMDb exercise - Find the number of movies per genre + Extra\n",
    "   - PyQuiz 3.1"
   ]
  },
  {
   "cell_type": "markdown",
   "metadata": {
    "slideshow": {
     "slide_type": "slide"
    }
   },
   "source": [
    "## New data type: `dictionary`\n",
    "\n",
    "- A dictionary is an unordered, mutable collection of key-value pairs. \n",
    "- Dictionaries are mutable\n",
    "- Each key in a dictionary must be unique and immutable, while the values associated with keys can be of any data type and can be duplicated\n",
    "\n",
    "<br>\n",
    "<img src=\"img/key_values.png\" alt=\"Drawing\" style=\"width: 1000px;\"/>  "
   ]
  },
  {
   "cell_type": "markdown",
   "metadata": {
    "slideshow": {
     "slide_type": "slide"
    }
   },
   "source": [
    "## Syntax:  \n",
    "```python\n",
    "d = {} # Create an empty dictionary\n",
    "```  \n",
    "---\n",
    "```python\n",
    "d = {'key1':1, 'key2':2, 'key3':3} # create a populated dictionary\n",
    "```"
   ]
  },
  {
   "cell_type": "code",
   "execution_count": null,
   "metadata": {
    "slideshow": {
     "slide_type": "-"
    }
   },
   "outputs": [],
   "source": [
    "myDict = {'drama': 4,\n",
    "          'thriller': 2,\n",
    "          'romance': 5}\n",
    "myDict"
   ]
  },
  {
   "cell_type": "markdown",
   "metadata": {
    "slideshow": {
     "slide_type": "slide"
    }
   },
   "source": [
    "### Basic operations on Dictionaries\n",
    "<img src=\"img/dictionary.png\" alt=\"Drawing\" style=\"width: 600px;\"/>  "
   ]
  },
  {
   "cell_type": "code",
   "execution_count": null,
   "metadata": {
    "slideshow": {
     "slide_type": "-"
    }
   },
   "outputs": [],
   "source": [
    "myDict = {'drama': 4, \n",
    "          'thriller': 2, \n",
    "          'romance': 5}\n",
    "myDict"
   ]
  },
  {
   "cell_type": "code",
   "execution_count": null,
   "metadata": {},
   "outputs": [],
   "source": [
    "len(myDict)"
   ]
  },
  {
   "cell_type": "code",
   "execution_count": null,
   "metadata": {
    "slideshow": {
     "slide_type": "skip"
    }
   },
   "outputs": [],
   "source": [
    "# Get the value of a certain key\n",
    "myDict['drama']\n",
    "# Get the length\n",
    "len(myDict)\n",
    "myDict['horror'] = 2\n",
    "myDict\n",
    "del myDict['horror']\n",
    "myDict\n",
    "'drama' in myDict\n",
    "myDict.keys()\n",
    "list(myDict.items())\n",
    "list(myDict.values())"
   ]
  },
  {
   "cell_type": "markdown",
   "metadata": {
    "slideshow": {
     "slide_type": "slide"
    }
   },
   "source": [
    "### Live Exercise"
   ]
  },
  {
   "cell_type": "code",
   "execution_count": null,
   "metadata": {
    "slideshow": {
     "slide_type": "-"
    }
   },
   "outputs": [],
   "source": [
    "myDict = {'drama': 182, \n",
    "          'war': 30, \n",
    "          'adventure': 55, \n",
    "          'comedy': 46, \n",
    "          'family': 24, \n",
    "          'animation': 17, \n",
    "          'biography': 25}"
   ]
  },
  {
   "cell_type": "markdown",
   "metadata": {
    "slideshow": {
     "slide_type": "-"
    }
   },
   "source": [
    "- How many genres are in this dictionary?\n",
    "- How many movies are in the `comedy` genre?\n",
    "- You're not interested in biographies, delete this entry\n",
    "- You're interested in fantasy; add that we have `29` movies in the `fantasy` genre to this dictionary.\n",
    "- Which genres are listed in this dictionary after the change?\n",
    "- You remembered another comedy movie; increase the number of movies in the `comedy` genre by one."
   ]
  },
  {
   "cell_type": "code",
   "execution_count": null,
   "metadata": {
    "slideshow": {
     "slide_type": "skip"
    }
   },
   "outputs": [],
   "source": [
    "myDict = {'drama': 182, \n",
    "          'war': 30, \n",
    "          'adventure': 55, \n",
    "          'comedy': 46, \n",
    "          'family': 24, \n",
    "          'animation': 17, \n",
    "          'biography': 25}\n",
    "print(len(myDict))\n",
    "print(myDict['comedy'])\n",
    "del myDict['biography']\n",
    "print(myDict)\n",
    "myDict['fantasy'] = 29\n",
    "print(myDict)\n",
    "print(myDict.keys())\n",
    "myDict['comedy'] += 1\n",
    "print(myDict)"
   ]
  },
  {
   "cell_type": "markdown",
   "metadata": {
    "slideshow": {
     "slide_type": "slide"
    }
   },
   "source": [
    "### Day 3, Exercise 2 (~50 min)\n",
    "- #### Find the number of movies per genre\n",
    "- #### (Extra) What is the average length of the movies (in hours and minutes) in each genre?\n",
    "\n",
    "\n",
    "- Canvas -> Modules -> Day 3 -> IMDb exercise -> 2&3 \n",
    "___\n",
    "#### Take a break after the exercise (~10 min)\n",
    "\n",
    "#### PyQuiz 3.1 - set, list and dictionary (before lunch)\n",
    "___\n",
    "### Lunch"
   ]
  },
  {
   "cell_type": "markdown",
   "metadata": {
    "slideshow": {
     "slide_type": "skip"
    }
   },
   "source": [
    "### Find the number of movies per genre\n",
    "\n",
    "<img src=\"img/header_imdb.png\" alt=\"Drawing\" style=\"width: 1000px;\"/>  \n",
    "\n",
    "\n",
    "Hint! If the genre is not already in the dictionary, you have to add it first"
   ]
  },
  {
   "cell_type": "markdown",
   "metadata": {
    "slideshow": {
     "slide_type": "skip"
    }
   },
   "source": [
    "### (Extra) What is the average length of the movies (hours and minutes) in each genre?\n",
    "\n",
    "<img src=\"img/header_imdb.png\" alt=\"Drawing\" style=\"width: 1000px;\"/>  "
   ]
  },
  {
   "cell_type": "markdown",
   "metadata": {
    "slideshow": {
     "slide_type": "skip"
    }
   },
   "source": [
    "### Answer\n",
    "\n",
    "<img src=\"img/movie_dict.png\" alt=\"Drawing\" style=\"width: 500px;\"/>  "
   ]
  },
  {
   "cell_type": "code",
   "execution_count": null,
   "metadata": {
    "slideshow": {
     "slide_type": "skip"
    }
   },
   "outputs": [],
   "source": [
    "# Find the number of movies per genre\n",
    "fh        = open('../downloads/250.imdb', 'r', encoding = 'utf-8')\n",
    "genreDict = {}     # create empty dictionary\n",
    "\n",
    "for line in fh:\n",
    "    if not line.startswith('#'):\n",
    "        cols  = line.strip().split('|')\n",
    "        genre = cols[5].strip()\n",
    "        glist = genre.split(',')\n",
    "        for entry in glist:\n",
    "            if not entry.lower() in genreDict: # check if genre is not in dictionary, add 1\n",
    "                genreDict[entry.lower()] = 1\n",
    "            else:\n",
    "                genreDict[entry.lower()] += 1   # if genre is in dictionary, increase count with 1\n",
    "fh.close()\n",
    "print(genreDict)\n"
   ]
  },
  {
   "cell_type": "markdown",
   "metadata": {
    "slideshow": {
     "slide_type": "skip"
    }
   },
   "source": [
    "### (Extra) What is the average length of the movies (in hours and minutes) fore each genre?\n",
    "\n",
    "<img src=\"img/header_imdb.png\" alt=\"Drawing\" style=\"width: 1000px;\"/>  "
   ]
  },
  {
   "cell_type": "markdown",
   "metadata": {
    "slideshow": {
     "slide_type": "skip"
    }
   },
   "source": [
    "### Answer\n",
    "\n",
    "<img src=\"img/average_length.png\" alt=\"Drawing\" style=\"width: 500px;\"/>  \n",
    "\n",
    "\n",
    "__Tip!__  \n",
    "Here you have to loop twice"
   ]
  },
  {
   "cell_type": "code",
   "execution_count": null,
   "metadata": {
    "scrolled": true,
    "slideshow": {
     "slide_type": "skip"
    }
   },
   "outputs": [],
   "source": [
    "# Calculate the average length of the movies (in hours and minutes) for each genre\n",
    "fh        = open('../downloads/250.imdb', 'r', encoding = 'utf-8')\n",
    "genreDict = {}\n",
    "\n",
    "for line in fh:\n",
    "    if not line.startswith('#'):\n",
    "        cols    = line.strip().split('|')\n",
    "        genre   = cols[5].strip()\n",
    "        glist   = genre.split(',')\n",
    "        runtime = cols[3]      # length of movie in seconds\n",
    "        for entry in glist:\n",
    "            if not entry.lower() in genreDict:\n",
    "                genreDict[entry.lower()] = []   # add a list with the runtime\n",
    "            genreDict[entry.lower()].append(int(runtime))   # append runtime to existing list\n",
    "fh.close()\n",
    "                \n",
    "for genre in genreDict:      # loop over the genres in the dictionaries\n",
    "    average = sum(genreDict[genre])/len(genreDict[genre])  # calculate average length per genre\n",
    "    hours   = int(average/3600)                                 # format seconds to hours\n",
    "    minutes = (average - (3600*hours))/60             # format seconds to minutes\n",
    "    print('The average length for movies in genre '+genre\\\n",
    "          +' is '+str(hours)+'h'+str(round(minutes))+'min')"
   ]
  },
  {
   "cell_type": "markdown",
   "metadata": {
    "slideshow": {
     "slide_type": "slide"
    }
   },
   "source": [
    "## Session 3    \n",
    "   - Lecture: Write you own functions\n",
    "   - Exercise 3: Functions "
   ]
  },
  {
   "cell_type": "markdown",
   "metadata": {
    "slideshow": {
     "slide_type": "skip"
    }
   },
   "source": [
    "Note: we have used a lot of functions in the past two days, and these functions are written by others so that we can use, how do we write our own functions"
   ]
  },
  {
   "cell_type": "markdown",
   "metadata": {
    "slideshow": {
     "slide_type": "slide"
    }
   },
   "source": [
    "### We have used many built-in functions"
   ]
  },
  {
   "cell_type": "code",
   "execution_count": null,
   "metadata": {
    "slideshow": {
     "slide_type": "-"
    }
   },
   "outputs": [],
   "source": [
    "print(\"Hello Python\")"
   ]
  },
  {
   "cell_type": "code",
   "execution_count": null,
   "metadata": {},
   "outputs": [],
   "source": [
    "len(\"ACCCCTTGAACCCC\")"
   ]
  },
  {
   "cell_type": "code",
   "execution_count": null,
   "metadata": {},
   "outputs": [],
   "source": [
    "max([87, 131, 69, 112, 147, 55, 68, 130, 119, 50])"
   ]
  },
  {
   "cell_type": "markdown",
   "metadata": {
    "slideshow": {
     "slide_type": "fragment"
    }
   },
   "source": [
    "### How to write your own functions?"
   ]
  },
  {
   "cell_type": "markdown",
   "metadata": {
    "slideshow": {
     "slide_type": "slide"
    }
   },
   "source": [
    "### Syntax of function\n",
    "```python\n",
    "def function_name(arg1, arg2, ...):\n",
    "    # Block of code\n",
    "    return result\n",
    "```"
   ]
  },
  {
   "cell_type": "code",
   "execution_count": null,
   "metadata": {
    "slideshow": {
     "slide_type": "-"
    }
   },
   "outputs": [],
   "source": [
    "def SayHi(name):\n",
    "    print(\"Hi\", name)\n",
    "\n",
    "SayHi('Mike')\n",
    "SayHi('Anna')"
   ]
  },
  {
   "cell_type": "markdown",
   "metadata": {
    "slideshow": {
     "slide_type": "skip"
    }
   },
   "source": [
    "Note: let take a look at the following code, it calculate the average duration of movies in the genre 'drama',\n",
    "How if we also want to calculate the average duration of the genre 'horror', we would need to either copy the code or using a loop.\n",
    "\n",
    "and add the complicated code under the loop.\n",
    "\n",
    "Is there any better solutions? This is how functions are introduced"
   ]
  },
  {
   "cell_type": "code",
   "execution_count": null,
   "metadata": {
    "slideshow": {
     "slide_type": "slide"
    }
   },
   "outputs": [],
   "source": [
    "# Calculate the average duration of movies in the genre 'drama'\n",
    "genre = \"drama\"\n",
    "average = sum(genreDict[genre])/len(genreDict[genre])  # calculate average length per genre\n",
    "hours   = int(average/3600)                                 # format seconds to hours\n",
    "minutes = (average - (3600*hours))/60             # format seconds to minutes\n",
    "reformattedTime = str(hours)+'h'+str(round(minutes))+'min'\n",
    "print('The average length for movies in genre '+ genre +\\\n",
    "      ' is '+ reformattedTime)"
   ]
  },
  {
   "cell_type": "markdown",
   "metadata": {
    "slideshow": {
     "slide_type": "skip"
    }
   },
   "source": [
    "Live coding, write a function based on the previous code"
   ]
  },
  {
   "cell_type": "code",
   "execution_count": null,
   "metadata": {
    "slideshow": {
     "slide_type": "skip"
    }
   },
   "outputs": [],
   "source": [
    "def formatSec(genre, genreDict):\n",
    "    average   = sum(genreDict[genre])/len(genreDict[genre])\n",
    "    hours     = int(average/3600)\n",
    "    minutes   = (average - (3600*hours))/60   \n",
    "    reformattedTime = str(hours)+'h'+str(round(minutes))+'min'\n",
    "    return reformattedTime\n",
    "genre = 'drama'\n",
    "print('The average length for movies in genre '+ genre +\\\n",
    "        ' is '+ formatSec(genre, genreDict))"
   ]
  },
  {
   "cell_type": "code",
   "execution_count": null,
   "metadata": {
    "slideshow": {
     "slide_type": "slide"
    }
   },
   "outputs": [],
   "source": [
    "for genre in ['drama', 'horror', 'comedy']:\n",
    "    average = sum(genreDict[genre])/len(genreDict[genre])  # calculate average length per genre\n",
    "    hours   = int(average/3600)                                 # format seconds to hours\n",
    "    minutes = (average - (3600*hours))/60             # format seconds to minutes\n",
    "    reformattedTime = str(hours)+'h'+str(round(minutes))+'min'\n",
    "    print('The average length for movies in genre '+ genre +\\\n",
    "          ' is '+ reformattedTime)"
   ]
  },
  {
   "cell_type": "code",
   "execution_count": null,
   "metadata": {
    "slideshow": {
     "slide_type": "fragment"
    }
   },
   "outputs": [],
   "source": [
    "for genre in ['drama', 'horror', 'comedy']:\n",
    "    print('The average length for movies in genre '+ genre +\\\n",
    "          ' is '+ formatSec(genre, genreDict))"
   ]
  },
  {
   "cell_type": "markdown",
   "metadata": {
    "slideshow": {
     "slide_type": "slide"
    }
   },
   "source": [
    "## Why use functions?\n",
    "```python\n",
    "for genre in ['drama', 'horror', 'comedy']:\n",
    "    print('The average length for movies in genre '+ genre +\\\n",
    "          ' is '+ formatSec(genre, genreDict))\n",
    "```\n",
    "\n",
    "- Cleaner code\n",
    "- Better defined tasks in code\n",
    "- Re-usability\n",
    "- Better structure"
   ]
  },
  {
   "cell_type": "markdown",
   "metadata": {
    "slideshow": {
     "slide_type": "slide"
    }
   },
   "source": [
    "### Scope \n",
    "\n",
    "- Local variables - Variables within functions\n",
    "- Global variables - Variables outside of functions"
   ]
  },
  {
   "cell_type": "code",
   "execution_count": null,
   "metadata": {
    "slideshow": {
     "slide_type": "fragment"
    }
   },
   "outputs": [],
   "source": [
    "WEIGHT = 5\n",
    "def addWeight(value):\n",
    "    return value * WEIGHT\n",
    "print(addWeight(4))"
   ]
  },
  {
   "cell_type": "code",
   "execution_count": null,
   "metadata": {
    "slideshow": {
     "slide_type": "fragment"
    }
   },
   "outputs": [],
   "source": [
    "WEIGHT = 5\n",
    "def changeWeight():\n",
    "    WEIGHT = 10\n",
    "    return None\n",
    "print(WEIGHT)"
   ]
  },
  {
   "cell_type": "markdown",
   "metadata": {
    "slideshow": {
     "slide_type": "fragment"
    }
   },
   "source": [
    "#### We will talk more about the scope of variables tomorrow"
   ]
  },
  {
   "cell_type": "markdown",
   "metadata": {
    "slideshow": {
     "slide_type": "slide"
    }
   },
   "source": [
    "## Use external libraries in Python"
   ]
  },
  {
   "cell_type": "code",
   "execution_count": null,
   "metadata": {},
   "outputs": [],
   "source": [
    "math.sqrt(5)"
   ]
  },
  {
   "cell_type": "code",
   "execution_count": null,
   "metadata": {
    "slideshow": {
     "slide_type": "fragment"
    }
   },
   "outputs": [],
   "source": [
    "import math\n",
    "math.sqrt(5)"
   ]
  },
  {
   "cell_type": "code",
   "execution_count": null,
   "metadata": {
    "slideshow": {
     "slide_type": "fragment"
    }
   },
   "outputs": [],
   "source": [
    "sqrt(5)"
   ]
  },
  {
   "cell_type": "code",
   "execution_count": null,
   "metadata": {
    "slideshow": {
     "slide_type": "fragment"
    }
   },
   "outputs": [],
   "source": [
    "from math import sqrt\n",
    "sqrt(5)"
   ]
  },
  {
   "cell_type": "code",
   "execution_count": null,
   "metadata": {
    "slideshow": {
     "slide_type": "skip"
    }
   },
   "outputs": [],
   "source": [
    "del sys.modules['math'] "
   ]
  },
  {
   "cell_type": "markdown",
   "metadata": {
    "slideshow": {
     "slide_type": "slide"
    }
   },
   "source": [
    "## Why use libraries\n",
    "   - Cleaner code\n",
    "   - Better defined tasks in code\n",
    "   - Re-usability\n",
    "   - Better structure\n"
   ]
  },
  {
   "cell_type": "markdown",
   "metadata": {
    "slideshow": {
     "slide_type": "slide"
    }
   },
   "source": [
    "### How to define your own libraries\n",
    "####  A simple library is just file with some python functions"
   ]
  },
  {
   "cell_type": "code",
   "execution_count": null,
   "metadata": {},
   "outputs": [],
   "source": [
    "def formatSec(seconds):\n",
    "    hours     = seconds/3600\n",
    "    minutes   = (seconds - (3600*int(hours)))/60   \n",
    "    return str(int(hours))+'h'+str(round(minutes))+'min'\n",
    "\n",
    "\n",
    "def toSec(days, hours, minutes, seconds):\n",
    "    total = 0\n",
    "    total += days*60*60*24\n",
    "    total += hours*60*60\n",
    "    total += minutes*60\n",
    "    total += seconds\n",
    " \n",
    "    return str(total)+'s'"
   ]
  },
  {
   "cell_type": "markdown",
   "metadata": {
    "slideshow": {
     "slide_type": "skip"
    }
   },
   "source": [
    "Example:\n",
    "1. Create a file called myFunctions.py, located in the same folder as your script\n",
    "2. Put a function called `formatSec()` in the file\n",
    "3. Start writing your code in a separate file and `import` the function"
   ]
  },
  {
   "cell_type": "code",
   "execution_count": null,
   "metadata": {
    "slideshow": {
     "slide_type": "slide"
    }
   },
   "outputs": [],
   "source": [
    "from myutils import formatSec, toSec\n",
    "\n",
    "formatSec(3601)"
   ]
  },
  {
   "cell_type": "code",
   "execution_count": null,
   "metadata": {
    "slideshow": {
     "slide_type": "-"
    }
   },
   "outputs": [],
   "source": [
    "toSec(days=0, hours=1, minutes=0, seconds=1)"
   ]
  },
  {
   "cell_type": "code",
   "execution_count": null,
   "metadata": {
    "slideshow": {
     "slide_type": "skip"
    }
   },
   "outputs": [],
   "source": [
    "from myFunctions import  formatSec, toSec\n",
    "\n",
    "seconds = 21154\n",
    "print(formatSec(seconds))\n",
    "\n",
    "days    = 0\n",
    "hours   = 21\n",
    "minutes = 56\n",
    "seconds = 45\n",
    "\n",
    "print(toSec(days, hours, minutes, seconds))"
   ]
  },
  {
   "cell_type": "markdown",
   "metadata": {
    "slideshow": {
     "slide_type": "skip"
    }
   },
   "source": [
    "### myFunctions.py\n",
    "\n",
    "<img src=\"img/myFunctions.png\" alt=\"Drawing\" style=\"width: 600px;\"/>  "
   ]
  },
  {
   "cell_type": "markdown",
   "metadata": {
    "slideshow": {
     "slide_type": "slide"
    }
   },
   "source": [
    "## Summary\n",
    "\n",
    "- A function is a block of organized, reusable code that is used to perform a single, related action\n",
    "- Variables within a function are local variables\n",
    "- Variables outside of functions are global variables\n",
    "- Functions can be organized in separate files as libraries and be imported to the main code"
   ]
  },
  {
   "cell_type": "markdown",
   "metadata": {
    "slideshow": {
     "slide_type": "slide"
    }
   },
   "source": [
    "## Day 3, Exercise 3 (~30 min)\n",
    "\n",
    "\n",
    "- Canvas -> Modules -> Exercise 3 - functions \n",
    "___\n",
    "\n",
    "#### Take a break after the exercise (~10 min)"
   ]
  },
  {
   "cell_type": "markdown",
   "metadata": {
    "slideshow": {
     "slide_type": "slide"
    }
   },
   "source": [
    "## Session 4    \n",
    "   - Lecture: Pass arguments from command line using `sys.argv` and string formatting\n",
    "   - Ex4: IMDb exercise - functions and `sys.argv`\n",
    "   - PyQuiz 3.2"
   ]
  },
  {
   "cell_type": "markdown",
   "metadata": {
    "slideshow": {
     "slide_type": "slide"
    }
   },
   "source": [
    "### How to pass arguments to Python script from the command line?\n",
    "\n",
    "#### Not just \n",
    "```bash\n",
    "    python myscript.py\n",
    "```\n",
    "\n",
    "#### But also\n",
    "\n",
    "```bash\n",
    "    python myscript.py arg1 arg2\n",
    "```"
   ]
  },
  {
   "cell_type": "markdown",
   "metadata": {
    "slideshow": {
     "slide_type": "slide"
    }
   },
   "source": [
    "## `sys.argv`\n",
    "\n",
    "- Avoid hardcoding the filename in the code\n",
    "- Easier to re-use code for different input files\n",
    "- Uses command-line arguments\n",
    "- Input is list of strings:\n",
    "    - Position 0: the program name\n",
    "    - Position 1: the first argument\n",
    "    - Position 2: the second argument\n",
    "    - etc"
   ]
  },
  {
   "cell_type": "markdown",
   "metadata": {
    "slideshow": {
     "slide_type": "slide"
    }
   },
   "source": [
    "### How to use it\n",
    "```python\n",
    "import sys\n",
    "\n",
    "program_name = sys.argv[0]\n",
    "arg1 = sys.argv[1] # index error if the first argument is not provided in the command\n",
    "arg2 = sys.argv[2] # index error if the second argument is not provided in the command\n",
    "```\n",
    "\n"
   ]
  },
  {
   "cell_type": "markdown",
   "metadata": {
    "slideshow": {
     "slide_type": "skip"
    }
   },
   "source": [
    "Note: we will talk more about modules and how to use them tomorrow. Now we will switch to the terminal again"
   ]
  },
  {
   "cell_type": "markdown",
   "metadata": {
    "slideshow": {
     "slide_type": "slide"
    }
   },
   "source": [
    "### Try out `sys.argv`\n",
    "\n",
    "Python script is called `print_argv.py` and can be found in the downloads folder\n",
    "\n",
    "#### Run the following commands in the terminal\n",
    "```bash\n",
    "python print_argv.py\n",
    "python print_argv.py 1 \n",
    "python print_argv.py arg1 arg2 arg3\n",
    "```"
   ]
  },
  {
   "cell_type": "markdown",
   "metadata": {
    "slideshow": {
     "slide_type": "slide"
    }
   },
   "source": [
    "### Naive code to copy a text file"
   ]
  },
  {
   "cell_type": "code",
   "execution_count": null,
   "metadata": {},
   "outputs": [],
   "source": [
    "input_file = \"../downloads/250.imdb\"\n",
    "output_file = \"newfile.imdb\"\n",
    "\n",
    "with open(input_file, \"r\") as fi:\n",
    "    with open(output_file, \"w\") as fo:\n",
    "        for line in fi:\n",
    "            fo.write(line)"
   ]
  },
  {
   "cell_type": "markdown",
   "metadata": {
    "slideshow": {
     "slide_type": "skip"
    }
   },
   "source": [
    "copy the code to a file copy_file_naive.py, run it. However, if I want to copy it to a new file, or if I want to copy another file, I need to change the code. The resuability of the python script is bad"
   ]
  },
  {
   "cell_type": "code",
   "execution_count": null,
   "metadata": {
    "slideshow": {
     "slide_type": "slide"
    }
   },
   "outputs": [],
   "source": [
    "# Code that can deal with command line arguments\n",
    "import sys\n",
    "\n",
    "usage = f\"{sys.argv[0]} inputFile outputFile\"\n",
    "\n",
    "if len(sys.argv) < 3:\n",
    "    print(usage)\n",
    "    sys.exit(1)\n",
    "\n",
    "input_file = sys.argv[1]\n",
    "output_file = sys.argv[2]\n",
    "\n",
    "with open(input_file, \"r\") as fi:\n",
    "    with open(output_file, \"w\") as fo:\n",
    "        for line in fi:\n",
    "            fo.write(line)"
   ]
  },
  {
   "cell_type": "markdown",
   "metadata": {
    "slideshow": {
     "slide_type": "slide"
    }
   },
   "source": [
    "## String formatting\n",
    "\n",
    "Format text for printing or for writing to file.\n",
    "\n",
    "What we have been doing so far:"
   ]
  },
  {
   "cell_type": "code",
   "execution_count": null,
   "metadata": {
    "slideshow": {
     "slide_type": "fragment"
    }
   },
   "outputs": [],
   "source": [
    "title  = 'Toy Story'\n",
    "rating = 10\n",
    "print('The result is: ' + title + ' with rating: ' + str(rating))"
   ]
  },
  {
   "cell_type": "markdown",
   "metadata": {
    "slideshow": {
     "slide_type": "slide"
    }
   },
   "source": [
    "Other (better) ways of formatting strings:\n",
    "\n",
    "<br>\n",
    "\n",
    "__f-strings (since python 3.6)__"
   ]
  },
  {
   "cell_type": "code",
   "execution_count": null,
   "metadata": {
    "slideshow": {
     "slide_type": "-"
    }
   },
   "outputs": [],
   "source": [
    "title  = 'Toy Story'\n",
    "rating = 10\n",
    "print(f'The result is: {title} with rating: {rating}')"
   ]
  },
  {
   "cell_type": "markdown",
   "metadata": {
    "slideshow": {
     "slide_type": "slide"
    }
   },
   "source": [
    "__format method__"
   ]
  },
  {
   "cell_type": "code",
   "execution_count": null,
   "metadata": {
    "slideshow": {
     "slide_type": "-"
    }
   },
   "outputs": [],
   "source": [
    "title  = 'Toy Story'\n",
    "rating = 10\n",
    "print('The result is: {} with rating: {}'.format(title, rating))"
   ]
  },
  {
   "cell_type": "markdown",
   "metadata": {
    "slideshow": {
     "slide_type": "slide"
    }
   },
   "source": [
    "__The ancient way (python 2)__"
   ]
  },
  {
   "cell_type": "code",
   "execution_count": null,
   "metadata": {
    "slideshow": {
     "slide_type": "-"
    }
   },
   "outputs": [],
   "source": [
    "title  = 'Toy Story'\n",
    "rating = 10\n",
    "print('The result is: %s with rating: %s' % (title, rating))"
   ]
  },
  {
   "cell_type": "markdown",
   "metadata": {
    "slideshow": {
     "slide_type": "slide"
    }
   },
   "source": [
    "### Day 3, Exercise 4 (~30 min)\n",
    "- #### Restructure and write the output to a new file\n",
    "\n",
    "- Canvas -> Modules -> Day 3 -> IMDb exercise -> 4\n",
    "- Work in pairs\n",
    "\n",
    "#### PyQuiz 3.2 \n",
    "___\n",
    "### Project time"
   ]
  },
  {
   "cell_type": "code",
   "execution_count": null,
   "metadata": {
    "slideshow": {
     "slide_type": "skip"
    }
   },
   "outputs": [],
   "source": [
    "# \n",
    "!cat ../scripts/reformat_imdb.py"
   ]
  },
  {
   "cell_type": "code",
   "execution_count": null,
   "metadata": {},
   "outputs": [],
   "source": []
  }
 ],
 "metadata": {
  "celltoolbar": "Slideshow",
  "kernelspec": {
   "display_name": "Python 3 (ipykernel)",
   "language": "python",
   "name": "python3"
  },
  "language_info": {
   "codemirror_mode": {
    "name": "ipython",
    "version": 3
   },
   "file_extension": ".py",
   "mimetype": "text/x-python",
   "name": "python",
   "nbconvert_exporter": "python",
   "pygments_lexer": "ipython3",
   "version": "3.11.0"
  },
  "livereveal": {
   "height": 1000,
   "scroll": true,
   "width": 1280
  }
 },
 "nbformat": 4,
 "nbformat_minor": 2
}
