{
 "cells": [
  {
   "cell_type": "code",
   "execution_count": 1,
   "metadata": {
    "slideshow": {
     "slide_type": "skip"
    }
   },
   "outputs": [],
   "source": [
    "from IPython.display import Image\n",
    "from IPython.display import clear_output\n",
    "from IPython.display import FileLink, FileLinks"
   ]
  },
  {
   "cell_type": "markdown",
   "metadata": {
    "slideshow": {
     "slide_type": "slide"
    }
   },
   "source": [
    "## Introduction to\n",
    "\n",
    "![title](img/python-logo-master-flat.png)\n",
    "\n",
    "### with Application to Bioinformatics\n",
    "\n",
    "#### - Day 3"
   ]
  },
  {
   "cell_type": "markdown",
   "metadata": {
    "slideshow": {
     "slide_type": "slide"
    }
   },
   "source": [
    "## Review Day 2\n",
    "\n",
    "Go to Canvas, `Modules -> Day 3 -> Review Day 2`\n",
    " \n",
    "~20 minutes\n"
   ]
  },
  {
   "cell_type": "markdown",
   "metadata": {
    "slideshow": {
     "slide_type": "slide"
    }
   },
   "source": [
    "## Tuples\n",
    "\n",
    "__1. Which of the following variables are of the type tuple?__  \n",
    "`a = (1, 2, 3, 4)`  \n",
    "`a = ([1, 2], 'a', 'b')`"
   ]
  },
  {
   "cell_type": "markdown",
   "metadata": {
    "slideshow": {
     "slide_type": "fragment"
    }
   },
   "source": [
    "__2. What is the difference between a tuple and a list?__  \n",
    "A tuple is immutable while a list is mutable"
   ]
  },
  {
   "cell_type": "code",
   "execution_count": 3,
   "metadata": {
    "slideshow": {
     "slide_type": "-"
    }
   },
   "outputs": [
    {
     "ename": "TypeError",
     "evalue": "'tuple' object does not support item assignment",
     "output_type": "error",
     "traceback": [
      "\u001b[1;31m---------------------------------------------------------------------------\u001b[0m",
      "\u001b[1;31mTypeError\u001b[0m                                 Traceback (most recent call last)",
      "\u001b[1;32m~\\AppData\\Local\\Temp/ipykernel_19628/3983319060.py\u001b[0m in \u001b[0;36m<module>\u001b[1;34m\u001b[0m\n\u001b[0;32m      2\u001b[0m \u001b[0mmyList\u001b[0m     \u001b[1;33m=\u001b[0m \u001b[1;33m[\u001b[0m\u001b[1;36m1\u001b[0m\u001b[1;33m,\u001b[0m \u001b[1;36m2\u001b[0m \u001b[1;33m,\u001b[0m\u001b[1;36m3\u001b[0m\u001b[1;33m]\u001b[0m\u001b[1;33m\u001b[0m\u001b[1;33m\u001b[0m\u001b[0m\n\u001b[0;32m      3\u001b[0m \u001b[0mmyList\u001b[0m\u001b[1;33m[\u001b[0m\u001b[1;36m2\u001b[0m\u001b[1;33m]\u001b[0m  \u001b[1;33m=\u001b[0m \u001b[1;36m4\u001b[0m\u001b[1;33m\u001b[0m\u001b[1;33m\u001b[0m\u001b[0m\n\u001b[1;32m----> 4\u001b[1;33m \u001b[0mmyTuple\u001b[0m\u001b[1;33m[\u001b[0m\u001b[1;36m2\u001b[0m\u001b[1;33m]\u001b[0m \u001b[1;33m=\u001b[0m \u001b[1;36m4\u001b[0m\u001b[1;33m\u001b[0m\u001b[1;33m\u001b[0m\u001b[0m\n\u001b[0m\u001b[0;32m      5\u001b[0m \u001b[0mmyList\u001b[0m\u001b[1;33m\u001b[0m\u001b[1;33m\u001b[0m\u001b[0m\n",
      "\u001b[1;31mTypeError\u001b[0m: 'tuple' object does not support item assignment"
     ]
    }
   ],
   "source": [
    "myTuple    = (1, 2, 3, 'a', 'b', [4,5,6])\n",
    "myList     = [1, 2 ,3]\n",
    "myList[2]  = 4\n",
    "myTuple[2] = 4\n",
    "myList"
   ]
  },
  {
   "cell_type": "markdown",
   "metadata": {
    "slideshow": {
     "slide_type": "slide"
    }
   },
   "source": [
    "## How to structure code\n",
    "\n",
    "__3. What does pseudocode mean?__  \n",
    "Writing down the steps you intend to include in your code in more general language"
   ]
  },
  {
   "cell_type": "markdown",
   "metadata": {
    "slideshow": {
     "slide_type": "slide"
    }
   },
   "source": [
    "- Decide on what output you want\n",
    "- What input files do you have?\n",
    "- How is the input structured, can you iterate over it?\n",
    "- Where is the information you need located?\n",
    "- Do you need to save a lot of information while iterating?\n",
    "  - Lists are good for ordered data\n",
    "  - Sets are good for non-duplicate single entry information\n",
    "  - Dictionaries are good for a lot of structured information\n",
    "- When you have collected the data needed, decide on how to process it\n",
    "- Are you writing your results to a file?\n",
    "\n",
    "__Always start with writing pseudocode!__"
   ]
  },
  {
   "cell_type": "markdown",
   "metadata": {
    "slideshow": {
     "slide_type": "slide"
    }
   },
   "source": [
    "## Functions and methods\n",
    "\n",
    "__4. What are the following examples of?__  \n",
    "`len([1, 2, 3, 4])`  \n",
    "`print(\"my text\")`\n",
    "\n",
    "Functions"
   ]
  },
  {
   "cell_type": "markdown",
   "metadata": {
    "slideshow": {
     "slide_type": "fragment"
    }
   },
   "source": [
    "__5. What are the following examples of?__  \n",
    "`\"my\\ttext\".split(\"\\t\")`  \n",
    "`[1, 2, 3].pop()`\n",
    "\n",
    "Methods"
   ]
  },
  {
   "cell_type": "markdown",
   "metadata": {
    "slideshow": {
     "slide_type": "slide"
    }
   },
   "source": [
    "General syntax of Functions and Methods\n",
    "\n",
    "`functionName()`  &emsp; &emsp;  `<object>.methodName()`\n",
    "\n",
    "<br>\n",
    "A method always belongs to an object of a specific class, a function does not have to."
   ]
  },
  {
   "cell_type": "markdown",
   "metadata": {
    "slideshow": {
     "slide_type": "slide"
    }
   },
   "source": [
    "__6. Calculate the average of the list `[1,2,3.5,5,6.2]` to one decimal, using Python__"
   ]
  },
  {
   "cell_type": "code",
   "execution_count": 4,
   "metadata": {
    "slideshow": {
     "slide_type": "-"
    }
   },
   "outputs": [
    {
     "data": {
      "text/plain": [
       "3.5"
      ]
     },
     "execution_count": 4,
     "metadata": {},
     "output_type": "execute_result"
    }
   ],
   "source": [
    "myList = [1, 2, 3.5, 5 ,6.2]\n",
    "round(sum(myList)/len(myList),1)"
   ]
  },
  {
   "cell_type": "markdown",
   "metadata": {
    "slideshow": {
     "slide_type": "slide"
    }
   },
   "source": [
    "__7. Take the list `['I','know','Python']` as input and output the string 'I KNOW PYTHON'__"
   ]
  },
  {
   "cell_type": "code",
   "execution_count": 10,
   "metadata": {
    "slideshow": {
     "slide_type": "-"
    }
   },
   "outputs": [
    {
     "name": "stdout",
     "output_type": "stream",
     "text": [
      "I KNOW PYTHON\n"
     ]
    }
   ],
   "source": [
    "my_list   = ['I','know','Python']\n",
    "my_string =' '.join(my_list).upper()\n",
    "print(my_string)"
   ]
  },
  {
   "cell_type": "markdown",
   "metadata": {
    "slideshow": {
     "slide_type": "slide"
    }
   },
   "source": [
    "## Day 3\n",
    "\n",
    "- Sets\n",
    "- Dictionaries\n",
    "- Functions\n",
    "- sys.argv\n",
    "- Formatting"
   ]
  },
  {
   "cell_type": "markdown",
   "metadata": {
    "slideshow": {
     "slide_type": "slide"
    }
   },
   "source": [
    "## IMDb\n",
    "\n",
    "### Find the movie with the highest rating\n",
    "\n",
    "<img src=\"img/header_imdb.png\" alt=\"Drawing\" style=\"width: 1000px;\"/> "
   ]
  },
  {
   "cell_type": "markdown",
   "metadata": {
    "slideshow": {
     "slide_type": "slide"
    }
   },
   "source": [
    "## IMDb\n",
    "### Find the number of unique genres\n",
    "\n",
    "<img src=\"img/header_imdb.png\" alt=\"Drawing\" style=\"width: 1000px;\"/> "
   ]
  },
  {
   "cell_type": "code",
   "execution_count": 7,
   "metadata": {
    "slideshow": {
     "slide_type": "subslide"
    }
   },
   "outputs": [
    {
     "name": "stdout",
     "output_type": "stream",
     "text": [
      "# Votes | Rating | Year | Runtime | URL | Genres | Title\n",
      "    126807|   8.5|1957|5280|https://images-na.ssl-images-amazon.com/images/M/MV5BOTI5Nzc0OTMtYzBkMS00NjkxLThmM2UtNjM2ODgxN2M5NjNkXkEyXkFqcGdeQXVyNjQ2MjQ5NzM@._V1_.jpg|Drama,War|Paths of Glory\n",
      "     71379|   8.2|1925|4320|https://images-na.ssl-images-amazon.com/images/M/MV5BMzYzMDQyNzA4NV5BMl5BanBnXkFtZTYwNDU5NDU5._V1_.jpg|Adventure,Comedy,Drama,Family|The Gold Rush\n",
      "    700599|   8.3|2009|5760|https://images-na.ssl-images-amazon.com/images/M/MV5BMTk3NDE2NzI4NF5BMl5BanBnXkFtZTgwNzE1MzEyMTE@._V1_.jpg|Animation,Adventure,Comedy,Family|Up\n",
      "     27632|   8.3|1928|6840|https://images-na.ssl-images-amazon.com/images/M/MV5BMjQxMjk5ODUxMl5BMl5BanBnXkFtZTgwNDI2MjUwMzE@._V1_.jpg|Biography,Drama,History|The Passion of Joan of Arc\n"
     ]
    }
   ],
   "source": [
    "%%bash\n",
    "head -5 ../downloads/250.imdb"
   ]
  },
  {
   "cell_type": "code",
   "execution_count": 6,
   "metadata": {
    "slideshow": {
     "slide_type": "-"
    }
   },
   "outputs": [],
   "source": []
  },
  {
   "cell_type": "markdown",
   "metadata": {
    "slideshow": {
     "slide_type": "slide"
    }
   },
   "source": [
    "## New data type: `set`\n",
    "\n",
    "- A set contains an unordered collection of unique and immutable objects\n",
    "\n",
    "Syntax:  \n",
    "_For empty set:_  \n",
    "`setName = set()`  \n",
    "\n",
    "_For populated sets:_  \n",
    "`setName = {1,2,3,4,5}`"
   ]
  },
  {
   "cell_type": "markdown",
   "metadata": {
    "slideshow": {
     "slide_type": "slide"
    }
   },
   "source": [
    "### Common operations on `sets`\n",
    "\n",
    "`set.add(a)`  \n",
    "`len(set)`  \n",
    "`a in set` "
   ]
  },
  {
   "cell_type": "code",
   "execution_count": 33,
   "metadata": {
    "slideshow": {
     "slide_type": "-"
    }
   },
   "outputs": [
    {
     "name": "stdout",
     "output_type": "stream",
     "text": [
      "25\n",
      "3\n",
      "100\n",
      "3.0\n"
     ]
    },
    {
     "data": {
      "text/plain": [
       "True"
      ]
     },
     "execution_count": 33,
     "metadata": {},
     "output_type": "execute_result"
    }
   ],
   "source": [
    "x = set()\n",
    "x.add(100)\n",
    "x.add(25)\n",
    "x.add(3)\n",
    "x.add('3.0')\n",
    "for i in x:\n",
    "    print(i)\n",
    "type(x) \n",
    "mySet = {2,5,1,3}\n",
    "mySet.add(5)\n",
    "mySet.add(4)\n",
    "#print(mySet)\n",
    "x.add(100)\n",
    "25 in x"
   ]
  },
  {
   "cell_type": "markdown",
   "metadata": {
    "slideshow": {
     "slide_type": "slide"
    }
   },
   "source": [
    "### Find the number of unique genres\n",
    "\n",
    "<img src=\"img/header_imdb.png\" alt=\"Drawing\" style=\"width: 1000px;\"/>  \n",
    "\n",
    "Modify your code to use sets"
   ]
  },
  {
   "cell_type": "code",
   "execution_count": 34,
   "metadata": {
    "slideshow": {
     "slide_type": "subslide"
    }
   },
   "outputs": [
    {
     "name": "stdout",
     "output_type": "stream",
     "text": [
      "22\n"
     ]
    },
    {
     "data": {
      "text/plain": [
       "['action',\n",
       " 'adventure',\n",
       " 'animation',\n",
       " 'biography',\n",
       " 'comedy',\n",
       " 'crime',\n",
       " 'drama',\n",
       " 'family',\n",
       " 'fantasy',\n",
       " 'film-noir',\n",
       " 'historical',\n",
       " 'history',\n",
       " 'horror',\n",
       " 'music',\n",
       " 'musical',\n",
       " 'mystery',\n",
       " 'romance',\n",
       " 'sci-fi',\n",
       " 'sport',\n",
       " 'thriller',\n",
       " 'war',\n",
       " 'western']"
      ]
     },
     "execution_count": 34,
     "metadata": {},
     "output_type": "execute_result"
    }
   ],
   "source": [
    "fh     = open('../downloads/250.imdb', 'r', encoding = 'utf-8')\n",
    "genres = set()\n",
    "\n",
    "for line in fh:\n",
    "    if not line.startswith('#'):\n",
    "        cols  = line.strip().split('|')\n",
    "        genre = cols[5].strip()\n",
    "        glist = genre.split(',')\n",
    "        for entry in glist:\n",
    "            genres.add(entry.lower())\n",
    "print(len(genres))\n",
    "sorted(list(genres))"
   ]
  },
  {
   "cell_type": "markdown",
   "metadata": {
    "slideshow": {
     "slide_type": "slide"
    }
   },
   "source": [
    "## IMDb\n",
    "\n",
    "### Find the number of movies per genre\n",
    "\n",
    "<img src=\"img/header_imdb.png\" alt=\"Drawing\" style=\"width: 1000px;\"/>  "
   ]
  },
  {
   "cell_type": "markdown",
   "metadata": {
    "slideshow": {
     "slide_type": "fragment"
    }
   },
   "source": [
    "... Hm, starting to be difficult now..."
   ]
  },
  {
   "cell_type": "markdown",
   "metadata": {
    "slideshow": {
     "slide_type": "slide"
    }
   },
   "source": [
    "## New data type: `dictionary`\n",
    "\n",
    "- A dictionary is a mapping of unique keys to values\n",
    "- Dictionaries are mutable\n",
    "\n",
    "<br>\n",
    "<img src=\"img/key_values.png\" alt=\"Drawing\" style=\"width: 1000px;\"/>  "
   ]
  },
  {
   "cell_type": "markdown",
   "metadata": {
    "slideshow": {
     "slide_type": "slide"
    }
   },
   "source": [
    "Syntax:  \n",
    "`a = {}` (create empty dictionary)  \n",
    "`d = {'key1':1, 'key2':2, 'key3':3}`"
   ]
  },
  {
   "cell_type": "code",
   "execution_count": 35,
   "metadata": {
    "slideshow": {
     "slide_type": "-"
    }
   },
   "outputs": [
    {
     "data": {
      "text/plain": [
       "{'drama': 4, 'thriller': 2, 'romance': 5}"
      ]
     },
     "execution_count": 35,
     "metadata": {},
     "output_type": "execute_result"
    }
   ],
   "source": [
    "myDict = {'drama': 4,\n",
    "          'thriller': 2,\n",
    "          'romance': 5}\n",
    "myDict\n"
   ]
  },
  {
   "cell_type": "markdown",
   "metadata": {
    "slideshow": {
     "slide_type": "slide"
    }
   },
   "source": [
    "### Operations on Dictionaries"
   ]
  },
  {
   "cell_type": "markdown",
   "metadata": {
    "slideshow": {
     "slide_type": "-"
    }
   },
   "source": [
    "<img src=\"img/dictionary.png\" alt=\"Drawing\" style=\"width: 600px;\"/>  "
   ]
  },
  {
   "cell_type": "code",
   "execution_count": 52,
   "metadata": {
    "slideshow": {
     "slide_type": "-"
    }
   },
   "outputs": [
    {
     "name": "stdout",
     "output_type": "stream",
     "text": [
      "my key is: drama\n",
      "my value is: 4\n",
      "my key is: thriller\n",
      "my value is: 2\n",
      "my key is: romance\n",
      "my value is: 5\n"
     ]
    }
   ],
   "source": [
    "myDict = {'drama': 4, \n",
    "          'thriller': 2, \n",
    "          'romance': 5}\n",
    "len(myDict)\n",
    "myDict['drama']\n",
    "myDict['horror'] = 2\n",
    "myDict\n",
    "del myDict['horror']\n",
    "myDict\n",
    "'drama' in myDict\n",
    "myDict.keys()\n",
    "#myDict.items()\n",
    "list(myDict.values())\n",
    "for i in myDict:\n",
    "    print('my key is: ' + str(i))\n",
    "    print('my value is: ' + str(myDict[i]))"
   ]
  },
  {
   "cell_type": "markdown",
   "metadata": {
    "slideshow": {
     "slide_type": "slide"
    }
   },
   "source": [
    "### Exercise"
   ]
  },
  {
   "cell_type": "code",
   "execution_count": 54,
   "metadata": {
    "slideshow": {
     "slide_type": "-"
    }
   },
   "outputs": [],
   "source": [
    "myDict = {'drama': 182, \n",
    "          'war': 30, \n",
    "          'adventure': 55, \n",
    "          'comedy': 46, \n",
    "          'family': 24, \n",
    "          'animation': 17, \n",
    "          'biography': 25}"
   ]
  },
  {
   "cell_type": "markdown",
   "metadata": {
    "slideshow": {
     "slide_type": "-"
    }
   },
   "source": [
    "- How many entries are there in this dictionary?\n",
    "- How do you find out how many movies are in the genre 'comedy'?\n",
    "- You're not interested in biographies, delete this entry\n",
    "- You are however interested in fantasy, add that we have 29 movies of the genre fantasy to the list\n",
    "- What genres are listed in this dictionary?\n",
    "- You remembered another comedy movie, increase the number of comedies by one"
   ]
  },
  {
   "cell_type": "code",
   "execution_count": 60,
   "metadata": {
    "slideshow": {
     "slide_type": "-"
    }
   },
   "outputs": [
    {
     "data": {
      "text/plain": [
       "{'drama': 182,\n",
       " 'war': 30,\n",
       " 'adventure': 55,\n",
       " 'comedy': 47,\n",
       " 'family': 24,\n",
       " 'animation': 17,\n",
       " 'fantasy': 29}"
      ]
     },
     "execution_count": 60,
     "metadata": {},
     "output_type": "execute_result"
    }
   ],
   "source": [
    "myDict['comedy'] += 1\n",
    "myDict"
   ]
  },
  {
   "cell_type": "markdown",
   "metadata": {
    "slideshow": {
     "slide_type": "slide"
    }
   },
   "source": [
    "### Find the number of movies per genre\n",
    "\n",
    "<img src=\"img/header_imdb.png\" alt=\"Drawing\" style=\"width: 1000px;\"/>  \n",
    "\n",
    "\n",
    "Hint! If the genre is not already in the dictionary, you have to add it first"
   ]
  },
  {
   "cell_type": "markdown",
   "metadata": {
    "slideshow": {
     "slide_type": "subslide"
    }
   },
   "source": [
    "### Answer\n",
    "\n",
    "<img src=\"img/movie_dict.png\" alt=\"Drawing\" style=\"width: 500px;\"/>  "
   ]
  },
  {
   "cell_type": "code",
   "execution_count": 9,
   "metadata": {
    "slideshow": {
     "slide_type": "subslide"
    }
   },
   "outputs": [
    {
     "name": "stdout",
     "output_type": "stream",
     "text": [
      "{'drama': 182, 'war': 30, 'adventure': 55, 'comedy': 46, 'family': 24, 'animation': 17, 'biography': 25, 'history': 18, 'action': 31, 'crime': 62, 'mystery': 41, 'thriller': 65, 'fantasy': 29, 'romance': 24, 'sci-fi': 28, 'western': 8, 'musical': 5, 'music': 3, 'historical': 1, 'sport': 7, 'film-noir': 7, 'horror': 5}\n"
     ]
    }
   ],
   "source": [
    "fh        = open('../downloads/250.imdb', 'r', encoding = 'utf-8')\n",
    "genreDict = {}     # create empty dictionary\n",
    "\n",
    "for line in fh:\n",
    "    if not line.startswith('#'):\n",
    "        cols  = line.strip().split('|')\n",
    "        genre = cols[5].strip()\n",
    "        glist = genre.split(',')\n",
    "        for entry in glist:\n",
    "            if not entry.lower() in genreDict: # check if genre is not in dictionary, add 1\n",
    "                genreDict[entry.lower()] = 1\n",
    "            else:\n",
    "                genreDict[entry.lower()] += 1   # if genre is in dictionary, increase count with 1\n",
    "fh.close()\n",
    "print(genreDict)\n"
   ]
  },
  {
   "cell_type": "markdown",
   "metadata": {
    "slideshow": {
     "slide_type": "slide"
    }
   },
   "source": [
    "### (Extra) What is the average length of the movies (hours and minutes) in each genre?\n",
    "\n",
    "<img src=\"img/header_imdb.png\" alt=\"Drawing\" style=\"width: 1000px;\"/>  "
   ]
  },
  {
   "cell_type": "markdown",
   "metadata": {
    "slideshow": {
     "slide_type": "subslide"
    }
   },
   "source": [
    "### Answer\n",
    "\n",
    "<img src=\"img/average_length.png\" alt=\"Drawing\" style=\"width: 500px;\"/>  \n",
    "\n",
    "\n",
    "__Tip!__  \n",
    "Here you have to loop twice"
   ]
  },
  {
   "cell_type": "code",
   "execution_count": null,
   "metadata": {
    "slideshow": {
     "slide_type": "subslide"
    }
   },
   "outputs": [],
   "source": [
    "fh        = open('../downloads/250.imdb', 'r', encoding = 'utf-8')\n",
    "genreDict = {}\n",
    "\n",
    "for line in fh:\n",
    "    if not line.startswith('#'):\n",
    "        cols    = line.strip().split('|')\n",
    "        genre   = cols[5].strip()\n",
    "        glist   = genre.split(',')\n",
    "        runtime = cols[3]      # length of movie in seconds\n",
    "        for entry in glist:\n",
    "            if not entry.lower() in genreDict:\n",
    "                genreDict[entry.lower()] = [int(runtime)]   # add a list with the runtime\n",
    "            else:\n",
    "                genreDict[entry.lower()].append(int(runtime))   # append runtime to existing list\n",
    "fh.close()\n",
    "                \n",
    "for genre in genreDict:      # loop over the genres in the dictionaries\n",
    "    average = sum(genreDict[genre])/len(genreDict[genre])  # calculate average length per genre\n",
    "    hours   = int(average/3600)                                 # format seconds to hours\n",
    "    minutes = (average - (3600*hours))/60             # format seconds to minutes\n",
    "    print('The average length for movies in genre '+genre\\\n",
    "          +' is '+str(hours)+'h'+str(round(minutes))+'min')"
   ]
  },
  {
   "cell_type": "markdown",
   "metadata": {
    "slideshow": {
     "slide_type": "slide"
    }
   },
   "source": [
    "## NEW TOPIC: Functions"
   ]
  },
  {
   "cell_type": "markdown",
   "metadata": {
    "slideshow": {
     "slide_type": "fragment"
    }
   },
   "source": [
    "<img src=\"img/for_function.png\" alt=\"Drawing\" style=\"width: 900px;\"/>  "
   ]
  },
  {
   "cell_type": "markdown",
   "metadata": {
    "slideshow": {
     "slide_type": "-"
    }
   },
   "source": [
    "A lot of ugly formatting for calculating hours and minutes from seconds..."
   ]
  },
  {
   "cell_type": "code",
   "execution_count": null,
   "metadata": {
    "slideshow": {
     "slide_type": "slide"
    }
   },
   "outputs": [],
   "source": [
    "def FormatSec(genre):   # input a list of seconds\n",
    "    average   = sum(genreDict[genre])/len(genreDict[genre])\n",
    "    hours     = int(average/3600)\n",
    "    minutes   = (average - (3600*hours))/60   \n",
    "    return str(hours)+'h'+str(round(minutes))+'min'\n",
    "\n",
    "\n",
    "fh        = open('../downloads/250.imdb', 'r', encoding = 'utf-8')\n",
    "genreDict = {}\n",
    "\n",
    "for line in fh:\n",
    "    if not line.startswith('#'):\n",
    "        cols    = line.strip().split('|')\n",
    "        genre   = cols[5].strip()\n",
    "        glist   = genre.split(',')\n",
    "        runtime = cols[3]      # length of movie in seconds\n",
    "        for entry in glist:\n",
    "            if not entry.lower() in genreDict:\n",
    "                genreDict[entry.lower()] = [int(runtime)]   # add a list with the runtime\n",
    "            else:\n",
    "                genreDict[entry.lower()].append(int(runtime))   # append runtime to existing list\n",
    "fh.close()\n",
    "                \n",
    "for genre in genreDict:\n",
    "    print('The average length for movies in genre '+genre\\\n",
    "          +' is '+FormatSec(genre))"
   ]
  },
  {
   "cell_type": "markdown",
   "metadata": {
    "slideshow": {
     "slide_type": "slide"
    }
   },
   "source": [
    "### Function structure\n",
    "\n",
    "<img src=\"img/function_structure.png\" alt=\"Drawing\" style=\"width: 800px;\"/>  "
   ]
  },
  {
   "cell_type": "markdown",
   "metadata": {
    "slideshow": {
     "slide_type": "slide"
    }
   },
   "source": [
    "### Function structure\n",
    "\n",
    "<img src=\"img/function_structure_explained.png\" alt=\"Drawing\" style=\"width: 800px;\"/>  "
   ]
  },
  {
   "cell_type": "code",
   "execution_count": 78,
   "metadata": {
    "slideshow": {
     "slide_type": "slide"
    }
   },
   "outputs": [
    {
     "name": "stdout",
     "output_type": "stream",
     "text": [
      "<class 'int'>\n"
     ]
    },
    {
     "data": {
      "text/plain": [
       "9"
      ]
     },
     "execution_count": 78,
     "metadata": {},
     "output_type": "execute_result"
    }
   ],
   "source": [
    "def addFive(number):\n",
    "    print(type(number))\n",
    "    final = number + 5\n",
    "    return final\n",
    "\n",
    "my_result = addFive(4)\n",
    "my_result"
   ]
  },
  {
   "cell_type": "code",
   "execution_count": 72,
   "metadata": {
    "slideshow": {
     "slide_type": "fragment"
    }
   },
   "outputs": [
    {
     "data": {
      "text/plain": [
       "'The time is: 13:11:29.504169'"
      ]
     },
     "execution_count": 72,
     "metadata": {},
     "output_type": "execute_result"
    }
   ],
   "source": [
    "from datetime import datetime\n",
    "\n",
    "def whatTimeIsIt():\n",
    "    time = 'The time is: ' + str(datetime.now().time())\n",
    "    return time\n",
    "\n",
    "whatTimeIsIt()\n"
   ]
  },
  {
   "cell_type": "code",
   "execution_count": 75,
   "metadata": {
    "slideshow": {
     "slide_type": "fragment"
    }
   },
   "outputs": [
    {
     "data": {
      "text/plain": [
       "9"
      ]
     },
     "execution_count": 75,
     "metadata": {},
     "output_type": "execute_result"
    }
   ],
   "source": [
    "def addFive(number):\n",
    "    final = number + 5\n",
    "    return final\n",
    "\n",
    "addFive(4)\n",
    "\n",
    "final = addFive(4)\n",
    "final\n"
   ]
  },
  {
   "cell_type": "markdown",
   "metadata": {
    "slideshow": {
     "slide_type": "slide"
    }
   },
   "source": [
    "### Scope \n",
    "\n",
    "- Variables within functions\n",
    "- Global variables"
   ]
  },
  {
   "cell_type": "code",
   "execution_count": 81,
   "metadata": {
    "slideshow": {
     "slide_type": "fragment"
    }
   },
   "outputs": [
    {
     "name": "stdout",
     "output_type": "stream",
     "text": [
      "a string\n",
      "a string\n"
     ]
    }
   ],
   "source": [
    "def someFunction():\n",
    "    s = 'a string'\n",
    "    print(s)\n",
    "    return s\n",
    "    \n",
    "s = 'another string'\n",
    "s = someFunction()\n",
    "print(s)"
   ]
  },
  {
   "cell_type": "markdown",
   "metadata": {
    "slideshow": {
     "slide_type": "slide"
    }
   },
   "source": [
    "## Why use functions?\n",
    "\n",
    "- Cleaner code\n",
    "- Better defined tasks in code\n",
    "- Re-usability\n",
    "- Better structure"
   ]
  },
  {
   "cell_type": "markdown",
   "metadata": {
    "slideshow": {
     "slide_type": "slide"
    }
   },
   "source": [
    "## Importing functions\n",
    "\n",
    "- Collect all your functions in another file\n",
    "- Keeps main code cleaner\n",
    "- Easy to use across different code"
   ]
  },
  {
   "cell_type": "markdown",
   "metadata": {
    "slideshow": {
     "slide_type": "slide"
    }
   },
   "source": [
    "Example:\n",
    "1. Create a file called myFunctions.py, located in the same folder as your script\n",
    "2. Put a function called `formatSec()` in the file\n",
    "3. Start writing your code in a separate file and `import` the function"
   ]
  },
  {
   "cell_type": "code",
   "execution_count": 10,
   "metadata": {
    "slideshow": {
     "slide_type": "fragment"
    }
   },
   "outputs": [
    {
     "data": {
      "text/plain": [
       "'8h56min'"
      ]
     },
     "execution_count": 10,
     "metadata": {},
     "output_type": "execute_result"
    }
   ],
   "source": [
    "from myFunctions import formatSec\n",
    "\n",
    "seconds = 32154\n",
    "\n",
    "formatSec(seconds)\n"
   ]
  },
  {
   "cell_type": "code",
   "execution_count": 11,
   "metadata": {
    "slideshow": {
     "slide_type": "slide"
    }
   },
   "outputs": [
    {
     "name": "stdout",
     "output_type": "stream",
     "text": [
      "5h53min\n",
      "79005s\n",
      "Help on function toSec in module myFunctions:\n",
      "\n",
      "toSec(days, hours, minutes, seconds)\n",
      "\n"
     ]
    }
   ],
   "source": [
    "from myFunctions import  formatSec, toSec\n",
    "\n",
    "seconds = 21154\n",
    "print(formatSec(seconds))\n",
    "\n",
    "days    = 0\n",
    "hours   = 21\n",
    "minutes = 56\n",
    "seconds = 45\n",
    "\n",
    "print(toSec(days, hours, minutes, seconds))\n",
    "\n",
    "help(toSec)"
   ]
  },
  {
   "cell_type": "markdown",
   "metadata": {
    "slideshow": {
     "slide_type": "slide"
    }
   },
   "source": [
    "### myFunctions.py\n",
    "\n",
    "<img src=\"img/myFunctions.png\" alt=\"Drawing\" style=\"width: 600px;\"/>  "
   ]
  },
  {
   "cell_type": "markdown",
   "metadata": {
    "slideshow": {
     "slide_type": "slide"
    }
   },
   "source": [
    "## Summary\n",
    "\n",
    "- A function is a block of organized, reusable code that is used to perform a single, related action\n",
    "- Variables within a function are local variables\n",
    "- Functions can be organized in separate files and imported to the main code"
   ]
  },
  {
   "cell_type": "markdown",
   "metadata": {
    "slideshow": {
     "slide_type": "slide"
    }
   },
   "source": [
    "__&rarr; Notebook Day_3_Exercise_1  (~30 minutes)__"
   ]
  },
  {
   "cell_type": "markdown",
   "metadata": {
    "slideshow": {
     "slide_type": "slide"
    }
   },
   "source": [
    "## NEW TOPIC: `sys.argv`\n",
    "\n",
    "- Avoid hardcoding the filename in the code\n",
    "- Easier to re-use code for different input files\n",
    "- Uses command-line arguments\n",
    "- Input is list of strings:\n",
    "    - Position 0: the program name\n",
    "    - Position 1: the first argument"
   ]
  },
  {
   "cell_type": "markdown",
   "metadata": {
    "slideshow": {
     "slide_type": "slide"
    }
   },
   "source": [
    "<b>The `sys.argv` function</b>\n",
    "\n",
    "Python script called `print_argv.py`:"
   ]
  },
  {
   "cell_type": "markdown",
   "metadata": {
    "slideshow": {
     "slide_type": "-"
    }
   },
   "source": [
    "<img src=\"img/argv_print.png\" alt=\"Drawing\" style=\"width: 300px;\"/> "
   ]
  },
  {
   "cell_type": "markdown",
   "metadata": {
    "slideshow": {
     "slide_type": "fragment"
    }
   },
   "source": [
    "Running the script with command line arguments as input:"
   ]
  },
  {
   "cell_type": "markdown",
   "metadata": {
    "slideshow": {
     "slide_type": "-"
    }
   },
   "source": [
    "<img src=\"img/argv_print_output.png\" alt=\"Drawing\" style=\"width: 800px;\"/> "
   ]
  },
  {
   "cell_type": "markdown",
   "metadata": {
    "slideshow": {
     "slide_type": "slide"
    }
   },
   "source": [
    "Instead of:"
   ]
  },
  {
   "cell_type": "markdown",
   "metadata": {
    "slideshow": {
     "slide_type": "-"
    }
   },
   "source": [
    "<img src=\"img/non-sysargv.png\" alt=\"Drawing\" style=\"width: 700px;\"/>  "
   ]
  },
  {
   "cell_type": "markdown",
   "metadata": {
    "slideshow": {
     "slide_type": "slide"
    }
   },
   "source": [
    "do:"
   ]
  },
  {
   "cell_type": "markdown",
   "metadata": {
    "slideshow": {
     "slide_type": "-"
    }
   },
   "source": [
    "<img src=\"img/sysargv.png\" alt=\"Drawing\" style=\"width: 800px;\"/>  "
   ]
  },
  {
   "cell_type": "markdown",
   "metadata": {
    "slideshow": {
     "slide_type": "-"
    }
   },
   "source": [
    "Run with:"
   ]
  },
  {
   "cell_type": "markdown",
   "metadata": {
    "slideshow": {
     "slide_type": "-"
    }
   },
   "source": [
    "<img src=\"img/sysargv_run.png\" alt=\"Drawing\" style=\"width: 900px;\"/>  "
   ]
  },
  {
   "cell_type": "markdown",
   "metadata": {
    "slideshow": {
     "slide_type": "slide"
    }
   },
   "source": [
    "## Formatting\n",
    "\n",
    "Format text for printing or for writing to file.\n",
    "\n",
    "What we have been doing so far:"
   ]
  },
  {
   "cell_type": "code",
   "execution_count": null,
   "metadata": {
    "slideshow": {
     "slide_type": "fragment"
    }
   },
   "outputs": [],
   "source": [
    "title  = 'Toy Story'\n",
    "rating = 10\n",
    "print('The result is: ' + title + ' with rating: ' + str(rating))"
   ]
  },
  {
   "cell_type": "markdown",
   "metadata": {
    "slideshow": {
     "slide_type": "slide"
    }
   },
   "source": [
    "Other (better) ways of formatting strings:\n",
    "\n",
    "<br>\n",
    "\n",
    "__f-strings (since python 3.6)__"
   ]
  },
  {
   "cell_type": "code",
   "execution_count": 85,
   "metadata": {
    "slideshow": {
     "slide_type": "-"
    }
   },
   "outputs": [
    {
     "name": "stdout",
     "output_type": "stream",
     "text": [
      "The result is: Toy Story with rating: 10\n"
     ]
    }
   ],
   "source": [
    "title  = 'Toy Story'\n",
    "rating = 10\n",
    "print(f'The result is: {title} with rating: {rating}')"
   ]
  },
  {
   "cell_type": "markdown",
   "metadata": {
    "slideshow": {
     "slide_type": "slide"
    }
   },
   "source": [
    "__format method__"
   ]
  },
  {
   "cell_type": "code",
   "execution_count": 86,
   "metadata": {
    "slideshow": {
     "slide_type": "-"
    }
   },
   "outputs": [
    {
     "name": "stdout",
     "output_type": "stream",
     "text": [
      "The result is: Toy Story with rating: 10\n"
     ]
    }
   ],
   "source": [
    "title  = 'Toy Story'\n",
    "rating = 10\n",
    "print('The result is: {} with rating: {}'.format(title, rating))"
   ]
  },
  {
   "cell_type": "markdown",
   "metadata": {
    "slideshow": {
     "slide_type": "slide"
    }
   },
   "source": [
    "__The ancient way (python 2)__"
   ]
  },
  {
   "cell_type": "code",
   "execution_count": 87,
   "metadata": {
    "slideshow": {
     "slide_type": "-"
    }
   },
   "outputs": [
    {
     "name": "stdout",
     "output_type": "stream",
     "text": [
      "The result is: Toy Story with rating: 10\n"
     ]
    }
   ],
   "source": [
    "title  = 'Toy Story'\n",
    "rating = 10\n",
    "print('The result is: %s with rating: %s' % (title, rating))"
   ]
  },
  {
   "cell_type": "markdown",
   "metadata": {
    "slideshow": {
     "slide_type": "slide"
    }
   },
   "source": [
    "### IMDb - Pair-programming exercise\n",
    "\n",
    "__Re-structure and write the output to a new file as below__\n",
    "\n",
    "<img src=\"img/re-structured.png\" alt=\"Drawing\" style=\"width: 400px;\"/>  \n",
    "\n",
    "Note:\n",
    "- Plan your code!\n",
    "- Use a text editor, not notebooks for this\n",
    "- Use functions as much as possible\n",
    "- Use `sys.argv` for input/output"
   ]
  },
  {
   "cell_type": "markdown",
   "metadata": {
    "slideshow": {
     "slide_type": "subslide"
    }
   },
   "source": [
    "### Answer -  Example\n",
    "<img src=\"img/reformat_imdb.png\" alt=\"Drawing\" style=\"width: 1000px;\"/>  \n",
    "\n",
    "Run with:\n",
    "<img src=\"img/run_reformat.png\" alt=\"Drawing\" style=\"width: 700px;\"/>  "
   ]
  }
 ],
 "metadata": {
  "celltoolbar": "Slideshow",
  "kernelspec": {
   "display_name": "Python 3 (ipykernel)",
   "language": "python",
   "name": "python3"
  },
  "language_info": {
   "codemirror_mode": {
    "name": "ipython",
    "version": 3
   },
   "file_extension": ".py",
   "mimetype": "text/x-python",
   "name": "python",
   "nbconvert_exporter": "python",
   "pygments_lexer": "ipython3",
   "version": "3.9.4"
  },
  "livereveal": {
   "height": 768,
   "scroll": true,
   "width": 1024
  }
 },
 "nbformat": 4,
 "nbformat_minor": 2
}
