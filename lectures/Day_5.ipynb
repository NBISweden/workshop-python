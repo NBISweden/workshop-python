{
 "cells": [
  {
   "cell_type": "markdown",
   "metadata": {
    "slideshow": {
     "slide_type": "slide"
    }
   },
   "source": [
    "## Introduction to\n",
    "\n",
    "![title](img/python-logo-master-flat.png)\n",
    "\n",
    "### with Application to Bioinformatics\n",
    "\n",
    "#### - Day 5"
   ]
  },
  {
   "cell_type": "markdown",
   "metadata": {
    "slideshow": {
     "slide_type": "slide"
    }
   },
   "source": [
    "### Day 5\n",
    "- __Session 1__\n",
    "    - Quiz: Review of Day 4\n",
    "    - Lecture: Go through questions\n",
    "    - Lecture: Introduction to regex\n",
    "    - Ex1: Find the pattern using regex\n",
    "- __Session 2__    \n",
    "    - Lecture: Regex in Python\n",
    "    - Ex2: Regex using Python\n",
    "    - PyQuiz 5.1\n",
    "- __Session 3__  \n",
    "    - Lecture: Sum up\n",
    "    - Ex3: Final exercise\n",
    "- __Project time__"
   ]
  },
  {
   "cell_type": "markdown",
   "metadata": {
    "slideshow": {
     "slide_type": "skip"
    }
   },
   "source": [
    "### Sharing code\n",
    "\n",
    "#### Share code snippet\n",
    "- [Pastebin](https://pastebin.com/)\n",
    "\n",
    "#### Collaboration space for notebooks\n",
    "- [Colab](https://colab.research.google.com/)\n",
    "\n",
    "#### Share codebase - Advanced option\n",
    "- [Github](https://github.com/)"
   ]
  },
  {
   "cell_type": "markdown",
   "metadata": {
    "slideshow": {
     "slide_type": "slide"
    }
   },
   "source": [
    "## Quiz: Review Day 4\n",
    "\n",
    "Go to Canvas, `Modules -> Day 5 -> Review Day 4`\n",
    " \n",
    "~15 minutes\n"
   ]
  },
  {
   "cell_type": "markdown",
   "metadata": {
    "slideshow": {
     "slide_type": "skip"
    }
   },
   "source": [
    "### Go through questions in the quiz review of day 4"
   ]
  },
  {
   "cell_type": "markdown",
   "metadata": {
    "slideshow": {
     "slide_type": "slide"
    }
   },
   "source": [
    "### 1. What happens if you declare a variable with the same name inside and outside a function?\n",
    "\n",
    "The variable inside the function has a separate scope and does not affect the one outside "
   ]
  },
  {
   "cell_type": "code",
   "execution_count": null,
   "metadata": {
    "slideshow": {
     "slide_type": "fragment"
    }
   },
   "outputs": [],
   "source": [
    "name = \"Max\"\n",
    "def changeName():\n",
    "    name = \"Niko\"\n",
    "    print(f\"name inside the function: {name}\")\n",
    "changeName()\n",
    "print(f\"name outside of the function: {name}\")"
   ]
  },
  {
   "cell_type": "code",
   "execution_count": null,
   "metadata": {
    "slideshow": {
     "slide_type": "skip"
    }
   },
   "outputs": [],
   "source": [
    "name = \"Max\"\n",
    "def changeName():\n",
    "    name = \"Niko\"\n",
    "    print(f\"name inside the function: {name}, address = {id(name)}\")\n",
    "changeName()\n",
    "print(f\"name outside of the function: {name}, address = {id(name)}\")"
   ]
  },
  {
   "cell_type": "markdown",
   "metadata": {
    "slideshow": {
     "slide_type": "slide"
    }
   },
   "source": [
    "### 2. What is the difference between positional arguments and keyword arguments?\n",
    "Keyword arguments can be given in any order, while positional arguments depend on the function's order \n"
   ]
  },
  {
   "cell_type": "code",
   "execution_count": null,
   "metadata": {
    "slideshow": {
     "slide_type": "fragment"
    }
   },
   "outputs": [],
   "source": [
    "def sum3(a, b, c):\n",
    "    print(f\"a={a}\")\n",
    "    print(f\"b={b}\")\n",
    "    print(f\"c={c}\")\n",
    "    return a+b+c\n",
    "sum3(1, 2, 3)"
   ]
  },
  {
   "cell_type": "markdown",
   "metadata": {
    "cell_marker": "'''",
    "slideshow": {
     "slide_type": "fragment"
    }
   },
   "source": [
    "#### Arguments can be used in both ways, with or without keyword, if there is no ambiguity\n",
    "- When used with keyword, they are keyword arguments\n",
    "- When used without keyword, they are positional arguments"
   ]
  },
  {
   "cell_type": "markdown",
   "metadata": {
    "slideshow": {
     "slide_type": "slide"
    }
   },
   "source": [
    "### 3. What will be the output of the following code snippet?"
   ]
  },
  {
   "cell_type": "code",
   "execution_count": null,
   "metadata": {
    "scrolled": true,
    "slideshow": {
     "slide_type": "-"
    }
   },
   "outputs": [],
   "source": [
    "def add(x, y, z=0):\n",
    "    return x + y + z\n",
    "print(add(1, 2))\n",
    "print(add(1, y=2, z=3))"
   ]
  },
  {
   "cell_type": "markdown",
   "metadata": {
    "slideshow": {
     "slide_type": "slide"
    }
   },
   "source": [
    "### 4. Why is it beneficial to use docstrings in functions?\n",
    "- They provide explanations and details about the function for others reading your code. __Both `\"\"\"` and `'''` can be used for docstring__"
   ]
  },
  {
   "cell_type": "code",
   "execution_count": null,
   "metadata": {
    "slideshow": {
     "slide_type": "fragment"
    }
   },
   "outputs": [],
   "source": [
    "# Add docstring and comments to the following function\n",
    "def add(x, y, z=0):\n",
    "    return x + y + z"
   ]
  },
  {
   "cell_type": "code",
   "execution_count": null,
   "metadata": {
    "slideshow": {
     "slide_type": "skip"
    }
   },
   "outputs": [],
   "source": [
    "def add(x, y, z=0):\n",
    "    \"\"\"\n",
    "    Calculate the sum of up to three numbers.\n",
    "    \n",
    "    Parameters:\n",
    "    x (int/float): The first number to be added.\n",
    "    y (int/float): The second number to be added.\n",
    "    z (int/float, optional): The third number to be added. Defaults to 0 if not provided.\n",
    "    \n",
    "    Returns:\n",
    "    int/float: The sum of the numbers.\n",
    "    \"\"\"\n",
    "    # Return the sum of the provided numbers, z is optional and defaults to 0 if not specified\n",
    "    return x + y + z"
   ]
  },
  {
   "cell_type": "markdown",
   "metadata": {
    "slideshow": {
     "slide_type": "slide"
    }
   },
   "source": [
    "### 5. How can you see the documentation of a Python library function in the console?\n",
    "- Use help(library.function) "
   ]
  },
  {
   "cell_type": "code",
   "execution_count": null,
   "metadata": {},
   "outputs": [],
   "source": [
    "help(print)"
   ]
  },
  {
   "cell_type": "markdown",
   "metadata": {
    "slideshow": {
     "slide_type": "slide"
    }
   },
   "source": [
    "### 6. Which of these import statements would avoid a name conflict if there’s a local variable `math` in the same script?\n",
    "- import math as m \n",
    "\n"
   ]
  },
  {
   "cell_type": "code",
   "execution_count": null,
   "metadata": {},
   "outputs": [],
   "source": [
    "import math\n",
    "math = \"great\"\n",
    "math.sqrt(5)"
   ]
  },
  {
   "cell_type": "markdown",
   "metadata": {
    "slideshow": {
     "slide_type": "skip"
    }
   },
   "source": [
    "Note: It's one of the use case for using alias"
   ]
  },
  {
   "cell_type": "markdown",
   "metadata": {
    "slideshow": {
     "slide_type": "slide"
    }
   },
   "source": [
    "### 7. What will happen if you import the same module multiple times in a Python script?\n",
    "- Python ignores subsequent imports of the same module in the same script \n",
    "\n",
    "If you run \n",
    "```python\n",
    "import myMoudle\n",
    "```\n",
    "and then update `myMoudle` and then reload with `import myMoudle` in Jupyter notebook, the module will not be updated. You will need to run \n",
    "\n",
    "```python\n",
    "from importlib import reload\n",
    "reload(myModule)\n",
    "```\n",
    "or \n",
    "```python\n",
    "del sys.modules['myMoudle']\n",
    "```"
   ]
  },
  {
   "cell_type": "markdown",
   "metadata": {
    "slideshow": {
     "slide_type": "slide"
    }
   },
   "source": [
    "### 8. If you want to filter rows in `df` where `age` is greater than 30, which command would you use?\n",
    "- df[df['age'] > 30] \n"
   ]
  },
  {
   "cell_type": "markdown",
   "metadata": {
    "slideshow": {
     "slide_type": "skip"
    }
   },
   "source": [
    "Can also use df.age, however, when the column name is a number or have white spaces in between, it won't work"
   ]
  },
  {
   "cell_type": "code",
   "execution_count": null,
   "metadata": {
    "slideshow": {
     "slide_type": "fragment"
    }
   },
   "outputs": [],
   "source": [
    "import pandas as pd\n",
    "df = pd.DataFrame({\n",
    "    'name': ['Alice', 'Bob', 'Charlie', 'David'],\n",
    "    'age': [25, 30, 35, 40],\n",
    "    'height': [165.4, 175.3, 168.5, 180.6]\n",
    "})\n",
    "print(df)\n",
    "df[df['age'] > 30]"
   ]
  },
  {
   "cell_type": "markdown",
   "metadata": {
    "slideshow": {
     "slide_type": "slide"
    }
   },
   "source": [
    "### 9. If you want to rename multiple columns in a DataFrame `df`, which method should you use?\n",
    "\n",
    "- df.rename(columns={'old_col1': 'new_col1', 'old_col2': 'new_col2'}) \n",
    "\n",
    "If you don't specify the key `columns`, it renames the rows\n"
   ]
  },
  {
   "cell_type": "code",
   "execution_count": null,
   "metadata": {},
   "outputs": [],
   "source": [
    "df = pd.DataFrame({\n",
    "    'name': ['Alice', 'Bob', 'Charlie', 'David'],\n",
    "    'age': [25, 30, 35, 40],\n",
    "    'height': [165.4, 175.3, 168.5, 180.6]\n",
    "})"
   ]
  },
  {
   "cell_type": "markdown",
   "metadata": {
    "slideshow": {
     "slide_type": "slide"
    }
   },
   "source": [
    "## New topic: Regular Expressions\n",
    "\n",
    "- A regular expression (regex or regexp) is a sequence of characters that defines a search pattern.\n",
    "- Use case: Regular expressions are used in text processing for searching, matching, and manipulating strings"
   ]
  },
  {
   "cell_type": "markdown",
   "metadata": {
    "slideshow": {
     "slide_type": "slide"
    }
   },
   "source": [
    "### Examples where regex can play a role\n",
    "\n",
    "   - Find variations in a protein or DNA sequence\n",
    "     - `\"MVR???A\"`\n",
    "     - `\"ATG???TAG\"`\n",
    "   - American/British spelling, endings and other variants:\n",
    "     - salpeter, salpetre, saltpeter, nitre, niter or KNO3\n",
    "     - hemaglobin, heamoglobin, hemaglobins, heamoglobin's\n",
    "     - catalyze, catalyse, catalyzed...\n",
    "   - A pattern in a VCF file\n",
    "     - a digit appearing after a tab"
   ]
  },
  {
   "cell_type": "markdown",
   "metadata": {
    "slideshow": {
     "slide_type": "slide"
    }
   },
   "source": [
    "### Regex is not unique for Python and it is supported by \n",
    "- most programming languages, \n",
    "- text editors\n",
    "- command line tools\n",
    "- search engines"
   ]
  },
  {
   "cell_type": "code",
   "execution_count": null,
   "metadata": {
    "slideshow": {
     "slide_type": "fragment"
    }
   },
   "outputs": [],
   "source": [
    "!grep -E \"furniture.*sell\" ../downloads/blocket_listings.txt "
   ]
  },
  {
   "cell_type": "markdown",
   "metadata": {
    "slideshow": {
     "slide_type": "slide"
    }
   },
   "source": [
    "### Defining a search pattern"
   ]
  },
  {
   "cell_type": "markdown",
   "metadata": {
    "slideshow": {
     "slide_type": "skip"
    }
   },
   "source": [
    "\n",
    "\n",
    "<center>\n",
    "<img src=\"img/color.png\" alt=\"regex\" width=\"50%\"/>\n",
    "<img src=\"img/salpeter.png\" alt=\"regex\" width=\"50%\"/>\n",
    "\n",
    "</center>"
   ]
  },
  {
   "cell_type": "markdown",
   "metadata": {
    "slideshow": {
     "slide_type": "-"
    }
   },
   "source": [
    "<div style=\"display: flex; align-items: center; justify-content: space-between; margin: 0; padding: 0; width: 100%;\">\n",
    "\n",
    "<div style=\"flex: 1; text-align: left; margin: 0; padding: 0;\">\n",
    "    <img src=\"img/color.png\" alt=\"regex\" width=\"75%\" style=\"margin: 0; padding: 0;\"/>\n",
    "    <img src=\"img/salpeter.png\" alt=\"regex\" width=\"75%\" style=\"margin: 0; padding: 0;\"/>\n",
    "</div>\n",
    "\n",
    "<div style=\"flex: 1; text-align: right; padding-right: 0; margin: 0;\">\n",
    "    <ul style=\"margin: 0; padding: 0; list-style-position: inside;\">\n",
    "        <li><code>.</code> matches any character (once)</li>\n",
    "        <li><code>?</code> repeat previous pattern 0 or 1 times</li>\n",
    "        <li><code>*</code> repeat previous pattern 0 or more times</li>\n",
    "        <li><code>+</code> repeat previous pattern 1 or more times</li>\n",
    "    </ul>\n",
    "</div>\n",
    "\n",
    "</div>\n"
   ]
  },
  {
   "cell_type": "markdown",
   "metadata": {
    "slideshow": {
     "slide_type": "skip"
    }
   },
   "source": [
    "### Common operations\n",
    "Building blocks for creating patterns\n",
    "- `.` matches any character (once)\n",
    "- `?` repeat previous pattern 0 or 1 times\n",
    "- `*` repeat previous pattern 0 or more times\n",
    "- `+` repeat previous pattern 1 or more times"
   ]
  },
  {
   "cell_type": "markdown",
   "metadata": {
    "slideshow": {
     "slide_type": "slide"
    }
   },
   "source": [
    "### More common operations - classes of characters\n",
    "\n",
    "- `\\w` matches any letter or number, and the underscore\n",
    "- `\\d` matches any digit\n",
    "- `\\D` matches any non-digit\n",
    "- `\\s` matches any whitespace (spaces, tabs, ...)\n",
    "- `\\S` matches any non-whitespace"
   ]
  },
  {
   "cell_type": "markdown",
   "metadata": {
    "slideshow": {
     "slide_type": "slide"
    }
   },
   "source": [
    "### More common operations - classes of characters\n",
    "\n",
    "- `\\w` matches any letter or number, and the underscore"
   ]
  },
  {
   "cell_type": "markdown",
   "metadata": {},
   "source": [
    "`\\w+`\n",
    "<img src=\"img/regex_w.png\" alt=\"regex_w\" width=\"800\" height=\"100\"/>"
   ]
  },
  {
   "cell_type": "markdown",
   "metadata": {
    "slideshow": {
     "slide_type": "slide"
    }
   },
   "source": [
    "#### More common operations - classes of characters\n",
    "- `\\d` matches any digit\n"
   ]
  },
  {
   "cell_type": "markdown",
   "metadata": {},
   "source": [
    "`\\d+`\n",
    "\n",
    "<img src=\"img/regex_d.png\" alt=\"regex_d\" width=\"800\" height=\"100\"/>"
   ]
  },
  {
   "cell_type": "markdown",
   "metadata": {
    "slideshow": {
     "slide_type": "slide"
    }
   },
   "source": [
    "#### More common operations - classes of characters\n",
    "\n",
    "- `\\s` matches any whitespace (spaces, tabs, ...)\n"
   ]
  },
  {
   "cell_type": "markdown",
   "metadata": {},
   "source": [
    "`\\s+`\n",
    "\n",
    "<img src=\"img/regex_s.png\" alt=\"regex_s\" width=\"800\" height=\"100\"/>"
   ]
  },
  {
   "cell_type": "markdown",
   "metadata": {
    "slideshow": {
     "slide_type": "slide"
    }
   },
   "source": [
    "#### More common operations - classes of characters\n",
    "\n",
    "- `[abc]` matches a single character defined in this set {a, b, c}\n",
    "- `[^abc]` matches a single character that is **not** a, b or c\n",
    "- `[a-z]` matches all letters between `a` and `z` (the english alphabet).\n",
    "- `[a-z]+` matches any (lowercased) english word."
   ]
  },
  {
   "cell_type": "markdown",
   "metadata": {
    "slideshow": {
     "slide_type": "fragment"
    }
   },
   "source": [
    "<center><code>salt<font color=\"red\">?</font>pet<font color=\"red\">[</font>er<font color=\"red\">]+</font>\n",
    "</code></center>\n",
    "\n",
    "   <font color=\"green\"><center>saltpeter</center>\n",
    "    <font color=\"green\"><center>salpetre</center>\n",
    "\n",
    "<center><strike><font color=\"red\">\"saltpet88\"</font></strike></center>\n",
    "<center><strike><font color=\"red\">\"salpetin\"</font></strike></center>\n",
    "<center><strike><font color=\"red\">\"saltpet  \"</font></strike></center>"
   ]
  },
  {
   "cell_type": "markdown",
   "metadata": {
    "slideshow": {
     "slide_type": "slide"
    }
   },
   "source": [
    "**Example - finding patterns in a VCF file**\n",
    "<font size=\"5\"><code>\n",
    "1\t920760\trs80259304\tT\tC\t.\tPASS\tAA=T;AC=18;AN=120;DP=190;GP=1:930897;BN=131\tGT:DP:CB\t0/1:1:SM 0/0:4:SM...\n",
    "</code></font>\n",
    "#### If we want to find a record with at least one sample (having genotype fields):\n",
    "`0/0:1:SM`  `0/0:4:SM`  ..."
   ]
  },
  {
   "cell_type": "markdown",
   "metadata": {
    "slideshow": {
     "slide_type": "fragment"
    }
   },
   "source": [
    "- `\"[01]/[01]\"`      (or   `\"\\d/\\d\")`\n",
    "- ```\\s[01]/[01]:```"
   ]
  },
  {
   "cell_type": "code",
   "execution_count": null,
   "metadata": {
    "slideshow": {
     "slide_type": "fragment"
    }
   },
   "outputs": [],
   "source": [
    "!grep -E \"[01]/[01]\" ../downloads/genotypes_small.vcf | head -n 2"
   ]
  },
  {
   "cell_type": "code",
   "execution_count": null,
   "metadata": {
    "slideshow": {
     "slide_type": "skip"
    }
   },
   "outputs": [],
   "source": [
    "0/0:1:SM: genotype:depth:source (Sanger Institute, Michigen)"
   ]
  },
  {
   "cell_type": "markdown",
   "metadata": {
    "slideshow": {
     "slide_type": "slide"
    }
   },
   "source": [
    "**Example - finding patterns in vcf**\n",
    "<font size=\"5\"><code>\n",
    "1\t920760\trs80259304\tT\tC\t.\tPASS\tAA=T;AC=18;AN=120;DP=190;GP=1:930897;BN=131\tGT:DP:CB\t0/1:1:SM 0/0:4/SM...\n",
    "</code></font>\n",
    "- Find all lines containing more than one homozygous sample (assuming all homozygous are of the form 1/1, which might not be the case in general)"
   ]
  },
  {
   "cell_type": "markdown",
   "metadata": {
    "slideshow": {
     "slide_type": "fragment"
    }
   },
   "source": [
    "`... 1/1:...  ... 1/1:...  ...`"
   ]
  },
  {
   "cell_type": "markdown",
   "metadata": {
    "slideshow": {
     "slide_type": "fragment"
    }
   },
   "source": [
    "- ```.*1/1.*1/1.*```\n",
    "- ```.*\\s1/1:.*\\s1/1:.*```"
   ]
  },
  {
   "cell_type": "code",
   "execution_count": null,
   "metadata": {},
   "outputs": [],
   "source": [
    "!grep -E \".*\\s1/1:.*\\s1/1:.*\" ../downloads/genotypes_small.vcf | head -n 1"
   ]
  },
  {
   "cell_type": "markdown",
   "metadata": {
    "slideshow": {
     "slide_type": "slide"
    }
   },
   "source": [
    "### Cheat sheet\n",
    "\n",
    "- `.` matches any character (once)\n",
    "- `?` repeat previous pattern 0 or 1 times\n",
    "- `*` repeat previous pattern 0 or more times\n",
    "- `+` repeat previous pattern 1 or more times\n",
    "- `\\w` matches any letter or number, and the underscore\n",
    "- `\\d` matches any digit\n",
    "- `\\D` matches any non-digit\n",
    "- `\\s` matches any whitespace (spaces, tabs, ...)\n",
    "- `\\S` matches any non-whitespace\n",
    "- `[abc]` matches a single character defined in this set {a, b, c}\n",
    "- `[^abc]` matches a single character that is **not** a, b or c\n",
    "- `[a-z]` matches any (lowercased) letter from the english alphabet\n",
    "- `.*` matches anything\n"
   ]
  },
  {
   "cell_type": "markdown",
   "metadata": {
    "slideshow": {
     "slide_type": "slide"
    }
   },
   "source": [
    "### A playground for regex with detailed explanations of your regex\n",
    "https://regex101.com/ "
   ]
  },
  {
   "cell_type": "markdown",
   "metadata": {
    "slideshow": {
     "slide_type": "slide"
    }
   },
   "source": [
    "## Day 5, Exercise 1 (~30 min)\n",
    "### Practicing regular expressions \n",
    "\n",
    "\n",
    "- Canvas -> Modules -> Day 5 -> Exercise 1 - day 5 \n",
    "\n",
    "Start the exercise by running\n",
    "___\n",
    "\n",
    "   **python retester.py**\n",
    "\n",
    "___\n",
    "in the `downloads` folder in a terminal\n",
    "\n",
    "___\n",
    "#### Take a break after the exercise (~10 min)"
   ]
  },
  {
   "cell_type": "markdown",
   "metadata": {
    "slideshow": {
     "slide_type": "slide"
    }
   },
   "source": [
    "## Session 2\n",
    "\n",
    "   - How to use regex in Python\n",
    "   - Ex2: Regex using Python\n",
    "   - PyQuiz 5.1\n",
    "\n"
   ]
  },
  {
   "cell_type": "markdown",
   "metadata": {
    "slideshow": {
     "slide_type": "slide"
    }
   },
   "source": [
    "### Regular expressions in Python"
   ]
  },
  {
   "cell_type": "code",
   "execution_count": null,
   "metadata": {
    "slideshow": {
     "slide_type": "fragment"
    }
   },
   "outputs": [],
   "source": [
    "# Import module\n",
    "import re"
   ]
  },
  {
   "cell_type": "code",
   "execution_count": null,
   "metadata": {
    "slideshow": {
     "slide_type": "fragment"
    }
   },
   "outputs": [],
   "source": [
    "pattern = \"col[ou]+r.*\"\n",
    "text = \"The colour of the wall is very vibrant, \\\n",
    "but the color of the sky is even more spectacular.\"\n",
    "# Try to find a hit\n",
    "result = re.search(pattern, text)\n",
    "print(result)\n",
    "help(re.search)"
   ]
  },
  {
   "cell_type": "markdown",
   "metadata": {
    "slideshow": {
     "slide_type": "fragment"
    }
   },
   "source": [
    "`result.group()`: Return the string matched by the expression\n",
    "\n",
    "`result.start()`: Return the starting position of the match\n",
    "\n",
    "`result.end()`: Return the ending position of the match\n",
    "\n",
    "`result.span()`: Return both (start, end)"
   ]
  },
  {
   "cell_type": "code",
   "execution_count": null,
   "metadata": {
    "slideshow": {
     "slide_type": "slide"
    }
   },
   "outputs": [],
   "source": [
    "print(result.start())\n",
    "print(result.end())\n",
    "print(result.span())\n",
    "print(f\"Found text: '{result.group()}'\")"
   ]
  },
  {
   "cell_type": "code",
   "execution_count": null,
   "metadata": {
    "scrolled": true
   },
   "outputs": [],
   "source": [
    "pattern = \"col[ou]+r\\w*\"\n",
    "result = re.search(pattern, text)\n",
    "print(result)\n",
    "print(result.span())\n",
    "print(f\"Found text: '{result.group()}'\")"
   ]
  },
  {
   "cell_type": "markdown",
   "metadata": {
    "slideshow": {
     "slide_type": "slide"
    }
   },
   "source": [
    "### How to find all occurences of \"color\" variations?"
   ]
  },
  {
   "cell_type": "markdown",
   "metadata": {
    "slideshow": {
     "slide_type": "fragment"
    }
   },
   "source": [
    "```py\n",
    "re.finditer\n",
    "```"
   ]
  },
  {
   "cell_type": "code",
   "execution_count": null,
   "metadata": {
    "slideshow": {
     "slide_type": "fragment"
    }
   },
   "outputs": [],
   "source": [
    "pattern = \"col[ou]+r\\w*\"\n",
    "text = \"The colour of the wall is very vibrant, \\\n",
    "but the color of the sky is even more spectacular.\"\n",
    "\n",
    "for result in re.finditer(pattern, text):\n",
    "    print(result)"
   ]
  },
  {
   "cell_type": "code",
   "execution_count": null,
   "metadata": {
    "slideshow": {
     "slide_type": "skip"
    }
   },
   "outputs": [],
   "source": [
    "The benefit of using re.compile\n",
    "\n",
    "1. improve the performance\n",
    "2. readness, name the pattern\n",
    "3. you can reuse it\n",
    "\n",
    "re.search(pattern, string) also works"
   ]
  },
  {
   "cell_type": "code",
   "execution_count": null,
   "metadata": {
    "slideshow": {
     "slide_type": "skip"
    }
   },
   "outputs": [],
   "source": [
    "What is the difference of re.search and re.finditer\n",
    "\n",
    "re.search will stop when it find the first occurence. while re.finditer will search for all occurences."
   ]
  },
  {
   "cell_type": "markdown",
   "metadata": {
    "slideshow": {
     "slide_type": "slide"
    }
   },
   "source": [
    "### re.compile"
   ]
  },
  {
   "cell_type": "code",
   "execution_count": null,
   "metadata": {
    "slideshow": {
     "slide_type": "fragment"
    }
   },
   "outputs": [],
   "source": [
    "# Search pattern in string\n",
    "pattern = \"col[ou]+r\\w*\"\n",
    "p_find_colour = re.compile(pattern)\n"
   ]
  },
  {
   "cell_type": "code",
   "execution_count": null,
   "metadata": {
    "slideshow": {
     "slide_type": "fragment"
    }
   },
   "outputs": [],
   "source": [
    "p_find_colour.search(text)"
   ]
  },
  {
   "cell_type": "code",
   "execution_count": null,
   "metadata": {
    "scrolled": true,
    "slideshow": {
     "slide_type": "fragment"
    }
   },
   "outputs": [],
   "source": [
    "for result in p_find_colour.finditer(text):\n",
    "    print(f\"Find colour at the position {result.span()}, the word is '{result.group()}'\")"
   ]
  },
  {
   "cell_type": "code",
   "execution_count": null,
   "metadata": {
    "slideshow": {
     "slide_type": "fragment"
    }
   },
   "outputs": [],
   "source": [
    "p_find_colour.findall(text)"
   ]
  },
  {
   "cell_type": "markdown",
   "metadata": {
    "slideshow": {
     "slide_type": "slide"
    }
   },
   "source": [
    "### Benefits of using re.compile\n",
    "- Improved performance - saves time by compiling the regex once\n",
    "- Reusability - the compiled regex can be used multiple times\n",
    "- Early error detection - syntax error of the pattern can be detected at the compiling stage instead of mixed with the other re functions"
   ]
  },
  {
   "cell_type": "markdown",
   "metadata": {
    "slideshow": {
     "slide_type": "slide"
    }
   },
   "source": [
    "### Case insensitiveness"
   ]
  },
  {
   "cell_type": "code",
   "execution_count": null,
   "metadata": {
    "slideshow": {
     "slide_type": "-"
    }
   },
   "outputs": [],
   "source": [
    "# Remember, [a-z]+ matches any lower case english word\n",
    "p = re.compile('[a-z]+')\n",
    "result = p.search('123 ATGAAA 456')\n",
    "print(result)"
   ]
  },
  {
   "cell_type": "code",
   "execution_count": null,
   "metadata": {
    "slideshow": {
     "slide_type": "fragment"
    }
   },
   "outputs": [],
   "source": [
    "p = re.compile('[a-z]+', flags=re.IGNORECASE)\n",
    "\n",
    "result = p.search('123 ATGAAA 456')\n",
    "result"
   ]
  },
  {
   "cell_type": "markdown",
   "metadata": {
    "slideshow": {
     "slide_type": "slide"
    }
   },
   "source": [
    "### How to find a full stop?"
   ]
  },
  {
   "cell_type": "code",
   "execution_count": null,
   "metadata": {},
   "outputs": [],
   "source": [
    "text = \"The first full stop is here: .\"\n",
    "p_find_fullstop = re.compile(\".\")\n",
    "\n",
    "result = p_find_fullstop.search(text)\n",
    "print(f\"Found {result.group()} at position {result.start()}\")"
   ]
  },
  {
   "cell_type": "code",
   "execution_count": null,
   "metadata": {
    "slideshow": {
     "slide_type": "skip"
    }
   },
   "outputs": [],
   "source": [
    "# Print all matches\n",
    "results = p_find_fullstop.finditer(text)\n",
    "for result in results:\n",
    "    print(f\"Found {result.group()} at position {result.start()}\")"
   ]
  },
  {
   "cell_type": "code",
   "execution_count": null,
   "metadata": {
    "slideshow": {
     "slide_type": "fragment"
    }
   },
   "outputs": [],
   "source": [
    "# Use escape character to search\n",
    "p_find_fullstop = re.compile('\\.')\n",
    "\n",
    "result = p.search(text)\n",
    "print(f\"Found {result.group()} at position {result.start()}\")"
   ]
  },
  {
   "cell_type": "markdown",
   "metadata": {
    "slideshow": {
     "slide_type": "slide"
    }
   },
   "source": [
    "### More operations\n",
    "- `\\` escaping a character\n",
    "- `^` beginning of the string\n",
    "- `$` end of string\n",
    "- `|` boolean `or`"
   ]
  },
  {
   "cell_type": "markdown",
   "metadata": {
    "slideshow": {
     "slide_type": "slide"
    }
   },
   "source": [
    "`^hello$`"
   ]
  },
  {
   "cell_type": "code",
   "execution_count": null,
   "metadata": {
    "slideshow": {
     "slide_type": "fragment"
    }
   },
   "outputs": [],
   "source": [
    "p_find_hello = re.compile('^hello$')\n",
    "text = \"hello Python\"\n",
    "result = p_find_hello.search(text)\n",
    "print(result)"
   ]
  },
  {
   "cell_type": "code",
   "execution_count": null,
   "metadata": {
    "slideshow": {
     "slide_type": "fragment"
    }
   },
   "outputs": [],
   "source": [
    "text = \"hello\"\n",
    "result = p_find_hello.search(text)\n",
    "print(result)"
   ]
  },
  {
   "cell_type": "markdown",
   "metadata": {
    "slideshow": {
     "slide_type": "slide"
    }
   },
   "source": [
    "<left>\n",
    "    <code>salt<font color=\"red\">?</font>pet<font color=\"red\">(</font>er<font color=\"red\">|</font>re<font color=\"red\">)</font> <font color=\"red\">|</font> nit<font color=\"red\">(</font>er<font color=\"red\">|</font>re<font color=\"red\">)</font> <font color=\"red\">|</font> KNO3</code>\n",
    "</left>"
   ]
  },
  {
   "cell_type": "code",
   "execution_count": null,
   "metadata": {
    "slideshow": {
     "slide_type": "fragment"
    }
   },
   "outputs": [],
   "source": [
    "p_find_salpeter = re.compile('salt?pet(er|re)|nit(er|re)|KNO3')\n",
    "text = \"saltepter or salpeter88 or KNO3 or niter or nitre, \\\n",
    "just too many forms of salpeter!\"\n",
    "for result in p_find_salpeter.finditer(text):\n",
    "    print(result)"
   ]
  },
  {
   "cell_type": "markdown",
   "metadata": {
    "slideshow": {
     "slide_type": "slide"
    }
   },
   "source": [
    "### Substitution"
   ]
  },
  {
   "cell_type": "markdown",
   "metadata": {
    "slideshow": {
     "slide_type": "skip"
    }
   },
   "source": [
    "#### Finally, we can fix our spelling mistakes!"
   ]
  },
  {
   "cell_type": "code",
   "execution_count": null,
   "metadata": {
    "slideshow": {
     "slide_type": "-"
    }
   },
   "outputs": [],
   "source": [
    "text = \"Do it   becuase   I say so,     not becuase you want!\""
   ]
  },
  {
   "cell_type": "code",
   "execution_count": null,
   "metadata": {
    "scrolled": true,
    "slideshow": {
     "slide_type": "fragment"
    }
   },
   "outputs": [],
   "source": [
    "# Spell the word because correctly\n",
    "p_fix_because = re.compile('becuase')\n",
    "p_fix_because.sub('because', text)\n",
    "print(text)"
   ]
  },
  {
   "cell_type": "code",
   "execution_count": null,
   "metadata": {
    "slideshow": {
     "slide_type": "fragment"
    }
   },
   "outputs": [],
   "source": [
    "text = p_fix_because.sub('because', text)\n",
    "print(text)"
   ]
  },
  {
   "cell_type": "code",
   "execution_count": null,
   "metadata": {
    "slideshow": {
     "slide_type": "skip"
    }
   },
   "outputs": [],
   "source": [
    "Note that re.sub does not substitute the text in place. \n",
    "Why?\n",
    "This is because string is immutable"
   ]
  },
  {
   "cell_type": "code",
   "execution_count": null,
   "metadata": {
    "slideshow": {
     "slide_type": "fragment"
    }
   },
   "outputs": [],
   "source": [
    "# Remove additional spaces\n",
    "p_remove_extra_space = re.compile('\\s+')\n",
    "p_remove_extra_space.sub(' ', text)"
   ]
  },
  {
   "cell_type": "code",
   "execution_count": null,
   "metadata": {
    "slideshow": {
     "slide_type": "skip"
    }
   },
   "outputs": [],
   "source": [
    "text = \"Do it   becuase   I say so,     not becuase you want!\"\n",
    "text.replace('becuase', 'because')"
   ]
  },
  {
   "cell_type": "markdown",
   "metadata": {
    "slideshow": {
     "slide_type": "slide"
    }
   },
   "source": [
    "### Overview"
   ]
  },
  {
   "cell_type": "markdown",
   "metadata": {
    "slideshow": {
     "slide_type": "-"
    }
   },
   "source": [
    " - Construct regular expressions\n",
    " \n",
    "```py\n",
    "        p = re.compile()\n",
    "```\n",
    "     \n",
    " - Searching\n",
    " \n",
    "```py\n",
    "        p.search(text)\n",
    "```\n",
    "     \n",
    " - Substitution\n",
    " \n",
    " ```py\n",
    "        p.sub(replacement, text)\n",
    " ```"
   ]
  },
  {
   "cell_type": "markdown",
   "metadata": {
    "slideshow": {
     "slide_type": "slide"
    }
   },
   "source": [
    "**Typical code structure for text matching:**\n",
    "\n",
    "```python\n",
    "pattern = re.compile( ... )\n",
    "match = pattern.search('string goes here')\n",
    "if match:\n",
    "    print('Match found: ', match.group())\n",
    "else:\n",
    "    print('No match')\n",
    "```"
   ]
  },
  {
   "cell_type": "markdown",
   "metadata": {
    "slideshow": {
     "slide_type": "slide"
    }
   },
   "source": [
    "### Summary\n",
    "\n",
    "\n",
    "- A powerful tool to search and modify text\n",
    "\n",
    "- There is much more to read in the [docs](https://docs.python.org/3/library/re.html)\n",
    "\n",
    "- Note: regex comes in different flavours. If you use it outside Python, there might be small variations in the syntax."
   ]
  },
  {
   "cell_type": "markdown",
   "metadata": {
    "slideshow": {
     "slide_type": "skip"
    }
   },
   "source": [
    "## Cheat sheet\n",
    "         \n",
    "- `.` matches any character (once)\n",
    "- `?` repeat previous pattern 0 or 1 times\n",
    "- `*` repeat previous pattern 0 or more times\n",
    "- `+` repeat previous pattern 1 or more times\n",
    "- `\\w` matches any letter or number, and the underscore\n",
    "- `\\d` matches any digit\n",
    "- `\\D` matches any non-digit\n",
    "- `\\s` matches any whitespace (spaces, tabs, ...)\n",
    "- `\\S` matches any non-whitespace\n",
    "- `[abc]` matches a single character defined in this set {a, b, c}\n",
    "- `[^abc]` matches a single character that is **not** a, b or c\n",
    "- `[a-z]` matches any (lowercased) letter from the english alphabet\n",
    "- `.*` matches anything\n",
    "- `\\` escaping a character\n",
    "- `^` beginning of the string\n",
    "- `$` end of string\n",
    "- `|` boolean `or`\n",
    "  \n",
    "Read more: full documentation https://docs.python.org/3.9/library/re.html"
   ]
  },
  {
   "cell_type": "markdown",
   "metadata": {
    "slideshow": {
     "slide_type": "slide"
    }
   },
   "source": [
    "## Day 5, Exercise 2 (~30 min)\n",
    "### Use regular expressions with Python\n",
    "\n",
    "\n",
    "- Canvas -> Modules -> Day 5 -> Exercise 2 - day 5 \n",
    "\n",
    "\n",
    "#### Take a break after the exercise (~10 min)\n",
    "___\n",
    "#### PyQuiz 5.1 (~10 min)\n",
    "___\n",
    "## Lunch"
   ]
  },
  {
   "cell_type": "markdown",
   "metadata": {
    "slideshow": {
     "slide_type": "slide"
    }
   },
   "source": [
    "<h1> <center>Sum up!</center></h1>"
   ]
  },
  {
   "cell_type": "markdown",
   "metadata": {
    "slideshow": {
     "slide_type": "slide"
    }
   },
   "source": [
    "### Processing files - looping through the lines\n",
    "\n",
    "```py\n",
    "with open('myfile.txt', 'r') as fh\n",
    "    for line in fh:\n",
    "        do_stuff(line)\n",
    "```"
   ]
  },
  {
   "cell_type": "markdown",
   "metadata": {
    "slideshow": {
     "slide_type": "slide"
    }
   },
   "source": [
    "### Store values\n",
    "\n",
    "```py\n",
    "iterations = 0\n",
    "information = []\n",
    "\n",
    "with open('myfile.txt', 'r') as fh:\n",
    "    for line in fh:\n",
    "        iterations += 1\n",
    "        information += do_stuff(line)\n",
    "```"
   ]
  },
  {
   "cell_type": "markdown",
   "metadata": {
    "slideshow": {
     "slide_type": "slide"
    }
   },
   "source": [
    "### Values\n",
    "\n",
    "- Base types:\n",
    "\n",
    "  ```py\n",
    "  str     \"hello\"\n",
    "  int     5\n",
    "  float   5.2\n",
    "  bool    True\n",
    "    ```\n",
    "    \n",
    "- Collections:\n",
    "\n",
    "    ```py\n",
    "  list  [\"a\", \"b\", \"c\"]\n",
    "  dict  {\"a\": \"alligator\", \"b\": \"bear\", \"c\": \"cat\"}\n",
    "  tuple (\"this\", \"that\")\n",
    "  set   {\"drama\", \"sci-fi\"}\n",
    "    ```"
   ]
  },
  {
   "cell_type": "markdown",
   "metadata": {
    "slideshow": {
     "slide_type": "slide"
    }
   },
   "source": [
    "### Assign values\n",
    "```py\n",
    "iterations = 0\n",
    "score      = 5.2\n",
    "# variable = literal\n",
    "```"
   ]
  },
  {
   "cell_type": "markdown",
   "metadata": {
    "slideshow": {
     "slide_type": "-"
    }
   },
   "source": [
    "#### Compare and membership\n",
    "```py\n",
    "+, -, *,...   # mathematical\n",
    "and, or, not  # logical \n",
    "==, !=        # (in)equality\n",
    "<, >, <=, >=  # comparison\n",
    "in            # membership\n",
    "```"
   ]
  },
  {
   "cell_type": "code",
   "execution_count": null,
   "metadata": {
    "slideshow": {
     "slide_type": "slide"
    }
   },
   "outputs": [],
   "source": [
    "value = 4\n",
    "nextvalue = 1\n",
    "nextvalue += value\n",
    "print(f\"nextvalue: {nextvalue}, value: {value}\")"
   ]
  },
  {
   "cell_type": "code",
   "execution_count": null,
   "metadata": {
    "slideshow": {
     "slide_type": "fragment"
    }
   },
   "outputs": [],
   "source": [
    "x = 5\n",
    "y = 7\n",
    "z = 0\n",
    "\n",
    "x > 4 or y == 7 and z > 1"
   ]
  },
  {
   "cell_type": "code",
   "execution_count": null,
   "metadata": {
    "slideshow": {
     "slide_type": "fragment"
    }
   },
   "outputs": [],
   "source": [
    "(x > 4 or y == 7) and z > 1"
   ]
  },
  {
   "cell_type": "markdown",
   "metadata": {
    "slideshow": {
     "slide_type": "slide"
    }
   },
   "source": [
    "### Strings\n",
    "Works like a list of characters\n",
    "\n"
   ]
  },
  {
   "cell_type": "code",
   "execution_count": null,
   "metadata": {},
   "outputs": [],
   "source": [
    "mystr = \"one\""
   ]
  },
  {
   "cell_type": "code",
   "execution_count": null,
   "metadata": {},
   "outputs": [],
   "source": [
    "mystr += \" two\" # string concatnation \n",
    "mystr"
   ]
  },
  {
   "cell_type": "code",
   "execution_count": null,
   "metadata": {},
   "outputs": [],
   "source": [
    "len(mystr) # get the length"
   ]
  },
  {
   "cell_type": "code",
   "execution_count": null,
   "metadata": {},
   "outputs": [],
   "source": [
    "\"one\" in mystr # membership checking"
   ]
  },
  {
   "cell_type": "markdown",
   "metadata": {
    "slideshow": {
     "slide_type": "slide"
    }
   },
   "source": [
    "### String is immutable"
   ]
  },
  {
   "cell_type": "code",
   "execution_count": null,
   "metadata": {
    "slideshow": {
     "slide_type": "-"
    }
   },
   "outputs": [],
   "source": [
    "mystr = \"one\"\n",
    "mystr[1] = \"W\""
   ]
  },
  {
   "cell_type": "code",
   "execution_count": null,
   "metadata": {
    "slideshow": {
     "slide_type": "fragment"
    }
   },
   "outputs": [],
   "source": [
    "mystr = \"one\"\n",
    "print(mystr)\n",
    "mystr = \"two\"\n",
    "print(mystr)"
   ]
  },
  {
   "cell_type": "code",
   "execution_count": null,
   "metadata": {
    "slideshow": {
     "slide_type": "fragment"
    }
   },
   "outputs": [],
   "source": [
    "mystr = \"one\"\n",
    "print(f\"mystr = {mystr}, address = {id(mystr)}\")\n",
    "mystr = \"two\"\n",
    "print(f\"mystr = {mystr}, address = {id(mystr)}\")"
   ]
  },
  {
   "cell_type": "markdown",
   "metadata": {
    "slideshow": {
     "slide_type": "slide"
    }
   },
   "source": [
    "### String manipulation\n",
    "\n",
    "```py\n",
    "  s.strip()  # remove unwanted spacing\n",
    "  \n",
    "  s.split()  # split line into columns\n",
    "  \n",
    "  s.upper(), s.lower()  # change the case\n",
    "```\n"
   ]
  },
  {
   "cell_type": "markdown",
   "metadata": {
    "slideshow": {
     "slide_type": "slide"
    }
   },
   "source": [
    "### Regular expressions help you find and replace strings.\n",
    "\n",
    "```py\n",
    "  p = re.compile('A.A.A')\n",
    "  p.search(dnastring)\n",
    "\n",
    "  p = re.compile('T')\n",
    "  p.sub('U', dnastring)\n",
    "```"
   ]
  },
  {
   "cell_type": "code",
   "execution_count": null,
   "metadata": {
    "slideshow": {
     "slide_type": "fragment"
    }
   },
   "outputs": [],
   "source": [
    "import re\n",
    "\n",
    "p = re.compile('p.*\\sp')  # the greedy star!\n",
    "\n",
    "p.search('a python programmer writes python code').group()"
   ]
  },
  {
   "cell_type": "markdown",
   "metadata": {
    "slideshow": {
     "slide_type": "slide"
    }
   },
   "source": [
    "### Collections\n",
    "\n",
    "Can contain strings, integer, booleans...\n",
    "- Most collections are mutable (not tuple): you can *add*, *remove*, *change* values\n",
    "\n",
    "- Lists:\n",
    "```py\n",
    "        mylist.append('value')\n",
    "```\n",
    "\n",
    "- Dicts:\n",
    "```py\n",
    "        mydict['key'] = 'value'\n",
    "```\n",
    "\n",
    "- Sets:\n",
    "```py\n",
    "        myset.add('value')\n",
    "```"
   ]
  },
  {
   "cell_type": "markdown",
   "metadata": {
    "slideshow": {
     "slide_type": "slide"
    }
   },
   "source": [
    "### Collections\n",
    "\n",
    "- Test for membership:\n",
    "```py\n",
    "        value in myobj\n",
    "```\n",
    "\n",
    "- Check size:\n",
    "```py\n",
    "        len(myobj)\n",
    "```"
   ]
  },
  {
   "cell_type": "markdown",
   "metadata": {
    "slideshow": {
     "slide_type": "slide"
    }
   },
   "source": [
    "### Lists\n",
    "\n",
    "- Ordered!\n",
    "\n",
    "```py\n",
    "        todolist = [\"work\", \"sleep\", \"eat\", \"work\"]\n",
    "\n",
    "        todolist.sort()\n",
    "        todolist.reverse()\n",
    "        todolist[2]\n",
    "        todolist[-1]\n",
    "        todolist[2:6]\n",
    "```"
   ]
  },
  {
   "cell_type": "code",
   "execution_count": null,
   "metadata": {
    "slideshow": {
     "slide_type": "slide"
    }
   },
   "outputs": [],
   "source": [
    "todolist = [\"work\", \"sleep\", \"eat\", \"work\"]"
   ]
  },
  {
   "cell_type": "code",
   "execution_count": null,
   "metadata": {},
   "outputs": [],
   "source": [
    "todolist.sort()\n",
    "print(todolist)"
   ]
  },
  {
   "cell_type": "code",
   "execution_count": null,
   "metadata": {},
   "outputs": [],
   "source": [
    "todolist.reverse()\n",
    "print(todolist)"
   ]
  },
  {
   "cell_type": "code",
   "execution_count": null,
   "metadata": {},
   "outputs": [],
   "source": [
    "todolist[2]"
   ]
  },
  {
   "cell_type": "code",
   "execution_count": null,
   "metadata": {},
   "outputs": [],
   "source": [
    "todolist[-1]"
   ]
  },
  {
   "cell_type": "code",
   "execution_count": null,
   "metadata": {},
   "outputs": [],
   "source": [
    "todolist[2:]"
   ]
  },
  {
   "cell_type": "markdown",
   "metadata": {
    "slideshow": {
     "slide_type": "slide"
    }
   },
   "source": [
    "### Dictionaries\n",
    "\n",
    "- List of key value pairs\n",
    "\n",
    "```py\n",
    "    mydict = {\"a\": \"alligator\", \"b\": \"bear\", \"c\": \"cat\"}\n",
    "    counter = {\"cats\": 55, \"dogs\": 8}\n",
    "\n",
    "    mydict[\"a\"]\n",
    "    mydict.keys()\n",
    "    mydict.values()\n",
    "```\n",
    "\n"
   ]
  },
  {
   "cell_type": "code",
   "execution_count": null,
   "metadata": {
    "slideshow": {
     "slide_type": "slide"
    }
   },
   "outputs": [],
   "source": [
    "counter = {'cats': 0, 'others': 0}\n",
    "\n",
    "for animal in ['zebra', 'cat', 'dog', 'cat']:\n",
    "    if animal == 'cat':\n",
    "        counter['cats'] += 1\n",
    "    else:\n",
    "        counter['others'] += 1\n",
    "        \n",
    "counter"
   ]
  },
  {
   "cell_type": "markdown",
   "metadata": {
    "slideshow": {
     "slide_type": "slide"
    }
   },
   "source": [
    "### Sets\n",
    "\n",
    "- Bag of values\n",
    " \n",
    "  - No order\n",
    "  - No duplicates \n",
    "  - Fast membership checks\n",
    "  - Logical set operations (union, difference, intersection...)\n",
    "\n",
    "\n",
    "```py\n",
    "    myset = {\"drama\", \"sci-fi\"}\n",
    "\n",
    "    myset.add(\"comedy\")\n",
    "\n",
    "    myset.remove(\"drama\")\n",
    "```\n"
   ]
  },
  {
   "cell_type": "code",
   "execution_count": null,
   "metadata": {
    "slideshow": {
     "slide_type": "slide"
    }
   },
   "outputs": [],
   "source": [
    "set1 = set([\"1\", \"2\", \"3\", \"4\", \"5\"])\n",
    "set1"
   ]
  },
  {
   "cell_type": "code",
   "execution_count": null,
   "metadata": {
    "slideshow": {
     "slide_type": "fragment"
    }
   },
   "outputs": [],
   "source": [
    "set1.add(\"1\")\n",
    "set1"
   ]
  },
  {
   "cell_type": "code",
   "execution_count": null,
   "metadata": {
    "slideshow": {
     "slide_type": "fragment"
    }
   },
   "outputs": [],
   "source": [
    "set2 = set([\"3\", \"6\"])\n",
    "set1.intersection(set2)"
   ]
  },
  {
   "cell_type": "code",
   "execution_count": null,
   "metadata": {
    "slideshow": {
     "slide_type": "fragment"
    }
   },
   "outputs": [],
   "source": [
    "set1.union(set2)"
   ]
  },
  {
   "cell_type": "code",
   "execution_count": null,
   "metadata": {
    "slideshow": {
     "slide_type": "fragment"
    }
   },
   "outputs": [],
   "source": [
    "set1.difference(set2)"
   ]
  },
  {
   "cell_type": "markdown",
   "metadata": {
    "slideshow": {
     "slide_type": "slide"
    }
   },
   "source": [
    "### Tuples\n",
    "\n",
    "- A group (usually two) of values that belong together\n",
    "  \n",
    "```py\n",
    "        tup = (max_length, sequence)\n",
    "```\n",
    "\n",
    "- An ordered sequence (like lists)\n",
    "\n",
    "```py\n",
    "        length = tup[0]  # get content at index 0\n",
    "```\n",
    "- Immutable"
   ]
  },
  {
   "cell_type": "code",
   "execution_count": null,
   "metadata": {
    "slideshow": {
     "slide_type": "fragment"
    }
   },
   "outputs": [],
   "source": [
    "tup = (2, 'xy')\n",
    "tup[0]"
   ]
  },
  {
   "cell_type": "code",
   "execution_count": null,
   "metadata": {},
   "outputs": [],
   "source": [
    "tup[0] = 2"
   ]
  },
  {
   "cell_type": "markdown",
   "metadata": {
    "slideshow": {
     "slide_type": "slide"
    }
   },
   "source": [
    "### Tuples in functions\n",
    "```py\n",
    "def find_longest_seq(file):\n",
    "    # some code here...\n",
    "    return length, sequence\n",
    "\n",
    "```"
   ]
  },
  {
   "cell_type": "markdown",
   "metadata": {
    "slideshow": {
     "slide_type": "fragment"
    }
   },
   "source": [
    "```py\n",
    "answer = find_longest_seq(filepath)\n",
    "print('length', answer[0])\n",
    "print('sequence', answer[1])\n",
    "```"
   ]
  },
  {
   "cell_type": "markdown",
   "metadata": {
    "slideshow": {
     "slide_type": "fragment"
    }
   },
   "source": [
    "```py\n",
    "answer = find_longest_seq(filepath) # return as a tuple\n",
    "length, sequence = find_longest_seq(filepath) # return as two variables\n",
    "```"
   ]
  },
  {
   "cell_type": "markdown",
   "metadata": {
    "slideshow": {
     "slide_type": "slide"
    }
   },
   "source": [
    "### Deciding what to do with if else statement\n",
    "\n",
    "```py\n",
    "if count > 10:\n",
    "   print('big')\n",
    "elif count > 5:\n",
    "   print('medium')\n",
    "else:\n",
    "   print('small')\n",
    "```"
   ]
  },
  {
   "cell_type": "code",
   "execution_count": null,
   "metadata": {
    "slideshow": {
     "slide_type": "slide"
    }
   },
   "outputs": [],
   "source": [
    "shopping_list = ['bread', 'egg', ' butter', 'milk']\n",
    "tired         = True\n",
    "\n",
    "if len(shopping_list) > 4:\n",
    "    print('Really need to go shopping!')\n",
    "elif not tired:\n",
    "    print('Not tired? Then go shopping!')\n",
    "else:\n",
    "    print('Better to stay at home')   "
   ]
  },
  {
   "cell_type": "markdown",
   "metadata": {
    "slideshow": {
     "slide_type": "slide"
    }
   },
   "source": [
    "#### Deciding what to do - if statement\n",
    "\n",
    "<img src=\"img/if_else_statement.png\" alt=\"Drawing\" style=\"width: 600px;\"/> \n",
    "\n",
    "#### `if x:` is equvalent to `if bool(x):`"
   ]
  },
  {
   "cell_type": "markdown",
   "metadata": {
    "slideshow": {
     "slide_type": "slide"
    }
   },
   "source": [
    "### Program flow - for loops\n",
    "\n",
    "```py\n",
    "information = []\n",
    "with open('myfile.txt', 'r') as fh\n",
    "    for line in fh:\n",
    "        if is_comment(line):\n",
    "           use_comment(line)\n",
    "        else:\n",
    "           information.append(read_data(line)) # read_data return a list\n",
    "```"
   ]
  },
  {
   "cell_type": "markdown",
   "metadata": {
    "slideshow": {
     "slide_type": "slide"
    }
   },
   "source": [
    "### Program flow - while loops\n",
    "\n",
    "```py\n",
    "information = []\n",
    "with open('myfile.txt', 'r') as fh:\n",
    "    # Read the first line\n",
    "    line = fh.readline()\n",
    "\n",
    "    # Continue to read lines until an empty string is returned\n",
    "    while line:\n",
    "        information.append(read_data(line)) # read_data return a list\n",
    "        line = file.readline()  # Read the next line\n",
    "```"
   ]
  },
  {
   "cell_type": "markdown",
   "metadata": {
    "slideshow": {
     "slide_type": "slide"
    }
   },
   "source": [
    "### Different types of loops\n",
    "\n",
    "__`For` loop__\n",
    "\n",
    "is a control flow statement that performs operations over a known amount of steps.\n",
    "\n",
    "__`While` loop__\n",
    "\n",
    "is a control flow statement that allows code to be executed repeatedly based on a given Boolean condition.\n",
    "\n",
    "\n",
    "__Which one to use?__\n",
    "\n",
    "`For` loops - standard for iterations over lists and other iterable objects\n",
    "\n",
    "`While` loops - more flexible and can iterate an unspecified number of times\n"
   ]
  },
  {
   "cell_type": "code",
   "execution_count": null,
   "metadata": {
    "slideshow": {
     "slide_type": "slide"
    }
   },
   "outputs": [],
   "source": [
    "# For loop example\n",
    "# You know the number of iterations before hand\n",
    "user_input = \"thank god it's friday\"\n",
    "for letter in user_input:\n",
    "    print(letter.upper())"
   ]
  },
  {
   "cell_type": "code",
   "execution_count": null,
   "metadata": {
    "slideshow": {
     "slide_type": "skip"
    }
   },
   "outputs": [],
   "source": [
    "i = 0\n",
    "while i < len(user_input):\n",
    "    letter = user_input[i]\n",
    "    print(letter.upper())\n",
    "    i += 1"
   ]
  },
  {
   "cell_type": "code",
   "execution_count": null,
   "metadata": {
    "slideshow": {
     "slide_type": "fragment"
    }
   },
   "outputs": [],
   "source": [
    "# While loop example\n",
    "# The number of iterations is unknown before hand\n",
    "i = 0\n",
    "go_on = True\n",
    "while go_on:\n",
    "    c = user_input[i]\n",
    "    print(c.upper())\n",
    "    i += 1\n",
    "    if c == 'd':\n",
    "        go_on = False"
   ]
  },
  {
   "cell_type": "markdown",
   "metadata": {
    "slideshow": {
     "slide_type": "slide"
    }
   },
   "source": [
    "### Controlling loops\n",
    "\n",
    "- `break` - stop the loop\n",
    "- `continue` - go on to the next iteration"
   ]
  },
  {
   "cell_type": "code",
   "execution_count": null,
   "metadata": {
    "slideshow": {
     "slide_type": "slide"
    }
   },
   "outputs": [],
   "source": [
    "# example for break\n",
    "user_input = \"thank god it's friday\"\n",
    "for letter in user_input:\n",
    "    if letter == 'd':\n",
    "        break\n",
    "    print(letter.upper())"
   ]
  },
  {
   "cell_type": "code",
   "execution_count": null,
   "metadata": {
    "slideshow": {
     "slide_type": "fragment"
    }
   },
   "outputs": [],
   "source": [
    "# example for continue\n",
    "user_input = \"thank god it's friday\"\n",
    "for letter in user_input:\n",
    "    if letter == ' ' or letter == '\\'':  # Skip spaces and apostrophes\n",
    "        continue\n",
    "    print(letter.upper())"
   ]
  },
  {
   "cell_type": "code",
   "execution_count": null,
   "metadata": {
    "slideshow": {
     "slide_type": "skip"
    }
   },
   "outputs": [],
   "source": [
    "i = 0\n",
    "while True:    \n",
    "    c = user_input[i]\n",
    "    i += 1\n",
    "    if c in 'aoueiy':\n",
    "        continue\n",
    "    print(c.upper())\n",
    "    if c == 'd':\n",
    "        break"
   ]
  },
  {
   "cell_type": "markdown",
   "metadata": {
    "slideshow": {
     "slide_type": "slide"
    }
   },
   "source": [
    "**Watch out!**"
   ]
  },
  {
   "cell_type": "code",
   "execution_count": null,
   "metadata": {
    "slideshow": {
     "slide_type": "-"
    }
   },
   "outputs": [],
   "source": [
    "# DON'T RUN THIS\n",
    "i = 0\n",
    "-while i < 10:    \n",
    "    print(user_input[i])\n"
   ]
  },
  {
   "cell_type": "markdown",
   "metadata": {
    "slideshow": {
     "slide_type": "fragment"
    }
   },
   "source": [
    "While loops may be infinite!"
   ]
  },
  {
   "cell_type": "markdown",
   "metadata": {
    "slideshow": {
     "slide_type": "slide"
    }
   },
   "source": [
    "### File Input/Output\n",
    "\n",
    "- In: Read from files \n",
    "  ```py\n",
    "  with open(filename, 'r') as fh:\n",
    "     for line in fh:\n",
    "         do_stuff(line)\n",
    "  ```\n",
    "  Read information from command line: `sys.argv[1:]`\n",
    "\n",
    "- Out:\n",
    "  Write to files:\n",
    "  ```py\n",
    "  with open(filename, 'w') as fh:\n",
    "     fh.write(text)\n",
    "  ```\n",
    "- Printing:\n",
    "  ```py\n",
    "  print('my_information')\n",
    "  ```\n",
    "  \n"
   ]
  },
  {
   "cell_type": "markdown",
   "metadata": {
    "slideshow": {
     "slide_type": "slide"
    }
   },
   "source": [
    "### Input/Output\n",
    "\n",
    "Open files should be closed:\n",
    "```py\n",
    "      fh.close()\n",
    "```\n",
    "\n",
    "or use the `with` clause\n",
    "```py\n",
    "    with open(filename, \"r\") as fh:\n",
    "        do_something\n",
    "```"
   ]
  },
  {
   "cell_type": "markdown",
   "metadata": {
    "slideshow": {
     "slide_type": "skip"
    }
   },
   "source": [
    "### String formatting"
   ]
  },
  {
   "cell_type": "markdown",
   "metadata": {
    "slideshow": {
     "slide_type": "skip"
    }
   },
   "source": [
    "<pre>\n",
    "{[field_name] [: <font color=\"green\">format_spec</font>]}\n",
    "</pre>\n",
    "\n",
    "*Format_spec:*\n",
    "<pre>\n",
    "<font color=\"green\">filling alignment width precision type</font>\n",
    "   -       &gt;        10    .2       f\n",
    "</pre>\n",
    "\n",
    "```py\n",
    " print('|{:30}|{:^10}|{:^10.2f}|'.format(movie, votes, total/votes))\n",
    "```"
   ]
  },
  {
   "cell_type": "markdown",
   "metadata": {
    "slideshow": {
     "slide_type": "slide"
    }
   },
   "source": [
    "### Code structure\n",
    "- Functions\n",
    "- Modules"
   ]
  },
  {
   "cell_type": "markdown",
   "metadata": {
    "slideshow": {
     "slide_type": "slide"
    }
   },
   "source": [
    "#### Functions\n",
    "\n",
    "- A named piece of code that performs a certain task.\n",
    "\n",
    "<img src=\"img/function_structure_explained.png\" alt=\"Drawing\" style=\"width: 600px;\"/>  \n",
    "\n",
    "\n",
    "- Is given a number of input arguments\n",
    "  - to be used within the function body\n",
    "- Returns a result (maybe `None`)"
   ]
  },
  {
   "cell_type": "markdown",
   "metadata": {
    "slideshow": {
     "slide_type": "slide"
    }
   },
   "source": [
    "### Functions -  arguments\n",
    "\n",
    "```py\n",
    "    def prettyprinter(name, value, delim=\":\", end=None):\n",
    "        out = \"The \" + name + \" is \" + delim + \" \" + value\n",
    "        if end:\n",
    "            out += end\n",
    "        return out\n",
    "```\n",
    "\n",
    "\n",
    "- used to set default values (often `None`)\n",
    "- can be skipped in function calls, then the arguments are positional\n",
    "- improve readability when keys are used"
   ]
  },
  {
   "cell_type": "markdown",
   "metadata": {
    "slideshow": {
     "slide_type": "skip"
    }
   },
   "source": [
    "#### Files (modules)\n",
    "\n",
    "- A (larger) piece of code containing functions, classes...\n",
    "- Corresponds to a file\n",
    "- Can be imported\n",
    "\n",
    "```py\n",
    "import mymodule\n",
    "```\n",
    "- Can be run as a script\n",
    "\n",
    "```> python3 mymodule.py```"
   ]
  },
  {
   "cell_type": "markdown",
   "metadata": {
    "slideshow": {
     "slide_type": "slide"
    }
   },
   "source": [
    "### Using your code\n",
    "\n",
    "Any longer pieces of code that have been used and will be re-used should be saved\n",
    "\n",
    "- Save it as a file `mycode.py`\n",
    "\n",
    "- To run it:\n",
    "`python3 mycode.py`\n",
    "or `python mycode.py`\n",
    "\n",
    "- Import it:\n",
    "`import mycode`\n",
    "\n",
    "\n"
   ]
  },
  {
   "cell_type": "markdown",
   "metadata": {
    "slideshow": {
     "slide_type": "slide"
    }
   },
   "source": [
    "### Documentation and comments\n",
    "\n",
    "\n",
    "```py\n",
    "\"\"\" This is a doc-string explaining what the purpose of this function/module is \"\"\"\n",
    "```\n",
    "\n",
    "```py\n",
    "# This is a comment that helps understanding the code\n",
    "```"
   ]
  },
  {
   "cell_type": "markdown",
   "metadata": {
    "slideshow": {
     "slide_type": "fragment"
    }
   },
   "source": [
    "- Comments *will* help you\n",
    "- Undocumented code rarely gets used\n",
    "- Try to keep your code readable: use informative variable and function names"
   ]
  },
  {
   "cell_type": "markdown",
   "metadata": {
    "slideshow": {
     "slide_type": "skip"
    }
   },
   "source": [
    "<div style=\"overflow-y:scroll; max-height:900px\">\n",
    "<img src=\"img/example_code.png\" alt=\"Module\"/>\n",
    "    </div>"
   ]
  },
  {
   "cell_type": "markdown",
   "metadata": {
    "slideshow": {
     "slide_type": "slide"
    }
   },
   "source": [
    "### Why programming?\n",
    "\n",
    "Endless possibilities!  \n",
    "- reverse complement DNA\n",
    "- custom filtering of VCF files\n",
    "- plotting of results\n",
    "- dealing with excel files"
   ]
  },
  {
   "cell_type": "markdown",
   "metadata": {
    "slideshow": {
     "slide_type": "slide"
    }
   },
   "source": [
    "### Why programming?\n",
    "\n",
    "- Computers are fast\n",
    "- Computers don't get bored\n",
    "- Computers don't get sloppy"
   ]
  },
  {
   "cell_type": "markdown",
   "metadata": {
    "slideshow": {
     "slide_type": "fragment"
    }
   },
   "source": [
    "- Create reproducable results\n",
    "    - for you and for others to use\n",
    "- Extract large amount of information"
   ]
  },
  {
   "cell_type": "markdown",
   "metadata": {
    "slideshow": {
     "slide_type": "slide"
    }
   },
   "source": [
    "### Final advice\n",
    "\n",
    "- Take a moment to think before you start coding\n",
    "    - use pseudocode\n",
    "    - use top-down programming\n",
    "    - use paper and pen\n",
    "    - take breaks"
   ]
  },
  {
   "cell_type": "markdown",
   "metadata": {
    "slideshow": {
     "slide_type": "fragment"
    }
   },
   "source": [
    "- You know the basics - don't be afraid to try, it's the only way to learn\n",
    "- You will get faster\n"
   ]
  },
  {
   "cell_type": "markdown",
   "metadata": {
    "slideshow": {
     "slide_type": "slide"
    }
   },
   "source": [
    "### Final advice (for real)\n",
    "\n",
    "- Getting help\n",
    "  - ask colleauges\n",
    "  - try talk about your problem (get a rubber duck https://en.wikipedia.org/wiki/Rubber_duck_debugging)\n",
    "  - search the web\n",
    "  - Ask AI (such as chatGPT)\n",
    "  - [NBIS drop-ins](https://nbis.se/get-support/talk-to-us)"
   ]
  },
  {
   "cell_type": "markdown",
   "metadata": {
    "slideshow": {
     "slide_type": "slide"
    }
   },
   "source": [
    "### <center>Now you know Python!</center>\n",
    "<br>\n",
    "<center><font size=20> 🎉 </font></center><br>\n",
    "<center><font size=20>    Well done!</font></center>\n",
    "\n",
    "___\n",
    "**[Google Form for anonymous evaluation](https://docs.google.com/forms/d/e/1FAIpQLSc5H5fcuuK1sGmGdqNRHHkyYzAYlirQ6YFYH2XpDm8VbZKBlw/viewform)**\n",
    "\n",
    "#### Just a small exercise to finish the day and have fun!\n",
    "\n",
    "Canvas -> Module -> Day 5 -> Exercise 3 - day 5"
   ]
  }
 ],
 "metadata": {
  "celltoolbar": "Slideshow",
  "kernelspec": {
   "display_name": "Python 3 (ipykernel)",
   "language": "python",
   "name": "python3"
  },
  "language_info": {
   "codemirror_mode": {
    "name": "ipython",
    "version": 3
   },
   "file_extension": ".py",
   "mimetype": "text/x-python",
   "name": "python",
   "nbconvert_exporter": "python",
   "pygments_lexer": "ipython3",
   "version": "3.11.0"
  },
  "livereveal": {
   "height": 1000,
   "scroll": true,
   "width": 1280
  }
 },
 "nbformat": 4,
 "nbformat_minor": 2
}
