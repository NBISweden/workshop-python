{
 "cells": [
  {
   "cell_type": "markdown",
   "metadata": {
    "slideshow": {
     "slide_type": "slide"
    }
   },
   "source": [
    "## Introduction to\n",
    "\n",
    "![title](img/python-logo-master-flat.png)\n",
    "\n",
    "### with Application to Bioinformatics\n",
    "\n",
    "#### - Day 5"
   ]
  },
  {
   "cell_type": "markdown",
   "metadata": {
    "slideshow": {
     "slide_type": "slide"
    }
   },
   "source": [
    "## Day 5\n",
    "- __Session 1__\n",
    "    - Quiz: Review of Day 4\n",
    "    - Lecture: Go through questions\n",
    "    - Lecture: Introduction to regex\n",
    "    - Ex1: Find the pattern using regex\n",
    "- __Session 2__    \n",
    "    - Lecture: Regexp in Python\n",
    "    - Ex2: Regexp using Python\n",
    "    - PyQuiz 5.1 (10 min)\n",
    "- __Session 3__  \n",
    "    - Lecture: Sum up\n",
    "    - Ex3: final exercise\n",
    "- __Project time__"
   ]
  },
  {
   "cell_type": "markdown",
   "metadata": {
    "slideshow": {
     "slide_type": "skip"
    }
   },
   "source": [
    "### Sharing code\n",
    "\n",
    "#### Share code snippet\n",
    "- [Pastebin](https://pastebin.com/)\n",
    "\n",
    "#### Collaboration space for notebooks\n",
    "- [Colab](https://colab.research.google.com/)\n",
    "\n",
    "#### Share codebase - Advanced option\n",
    "- [Github](https://github.com/)"
   ]
  },
  {
   "cell_type": "markdown",
   "metadata": {
    "slideshow": {
     "slide_type": "slide"
    }
   },
   "source": [
    "## Quiz: Review Day 4\n",
    "\n",
    "Go to Canvas, `Modules -> Day 5 -> Review Day 4`\n",
    " \n",
    "~20 minutes\n"
   ]
  },
  {
   "cell_type": "markdown",
   "metadata": {
    "slideshow": {
     "slide_type": "slide"
    }
   },
   "source": [
    "### Review\n",
    "\n",
    "- Lists\n",
    "  - Create a list named letters_list containing the elements `'a'`, `'b'`, `'c'`.\n",
    "  - Reverse the list letters_list\n",
    "- Dictionaries\n",
    "  - Create a dictionary called letters_dict containing the keys `a` and `b`. Both should have the value 1.\n",
    "  - Change the value of `a` to 2.\n",
    "- Formatting\n",
    " - Set the variable `title` to `\"A movie\"` \n",
    " - Set the variable `rating` to `10`.\n",
    " - Use formatting to produce the following string:\n",
    " \n",
    "     `\"The movie A movie got rating 10!\"`\n",
    "- Functions\n",
    " - Given a function \n",
    " \n",
    " `def open(file, mode='r', buffering=- 1, encoding=None, errors=None, newline=None, closefd=True, opener=None)`\n",
    " - would the following be a valid way to call this function\n",
    " \n",
    " `fh = open('aFile.txt', 'r', 'utf-8')` "
   ]
  },
  {
   "cell_type": "code",
   "execution_count": 5,
   "metadata": {},
   "outputs": [
    {
     "name": "stdout",
     "output_type": "stream",
     "text": [
      "['a', 'b', 'c']\n"
     ]
    }
   ],
   "source": [
    "# Create a list containing the elements `'a'`, `'b'`, `'c'`\n",
    "letters_list = ['a', 'b', 'c']\n",
    "print(letters_list)"
   ]
  },
  {
   "cell_type": "code",
   "execution_count": 31,
   "metadata": {},
   "outputs": [
    {
     "name": "stdout",
     "output_type": "stream",
     "text": [
      "['c', 'b', 'a']\n"
     ]
    }
   ],
   "source": [
    "# Reverse it\n",
    "letters_list.reverse()\n",
    "print(letters_list)"
   ]
  },
  {
   "cell_type": "code",
   "execution_count": 8,
   "metadata": {},
   "outputs": [
    {
     "name": "stdout",
     "output_type": "stream",
     "text": [
      "{'a': 1, 'b': 1}\n"
     ]
    }
   ],
   "source": [
    "# Create a dictionary containing the keys a and b. Both should have the value 1\n",
    "letters_dict = {'a': 1, 'b': 1}\n",
    "print(letters_dict)"
   ]
  },
  {
   "cell_type": "code",
   "execution_count": 9,
   "metadata": {},
   "outputs": [
    {
     "name": "stdout",
     "output_type": "stream",
     "text": [
      "{'a': 2, 'b': 1}\n"
     ]
    }
   ],
   "source": [
    "# Change the value of a to 2\n",
    "letters_dict['a'] = 2\n",
    "print(letters_dict)"
   ]
  },
  {
   "cell_type": "code",
   "execution_count": 16,
   "metadata": {},
   "outputs": [],
   "source": [
    "# Set the variable `title` to `\"A movie\"` and `rating` to 10.\n",
    "title = 'A movie'\n",
    "rating = 10"
   ]
  },
  {
   "cell_type": "code",
   "execution_count": 18,
   "metadata": {},
   "outputs": [
    {
     "name": "stdout",
     "output_type": "stream",
     "text": [
      "The movie A movie got rating 10!\n",
      "The movie A movie got rating 10!\n"
     ]
    }
   ],
   "source": [
    "# Use formatting to produce: \"The movie A movie got rating 10!\"\n",
    "print(\"The movie {0} got rating {1}!\".format(title, rating))\n",
    "print(f\"The movie {title} got rating {rating}!\")"
   ]
  },
  {
   "cell_type": "code",
   "execution_count": 33,
   "metadata": {},
   "outputs": [],
   "source": [
    "# Functions and keyword arguments\n",
    "# def open(file, mode='r', buffering=- 1, encoding=None, errors=None, newline=None, closefd=True, opener=None)\n",
    "#fh = open('aFile.txt', 'r', 'utf-8')\n",
    "#fh = open('Day_4.py', 'r', encoding='utf-8')"
   ]
  },
  {
   "cell_type": "markdown",
   "metadata": {
    "slideshow": {
     "slide_type": "slide"
    }
   },
   "source": [
    "### TODAY\n",
    "\n",
    "- review\n",
    "- regex\n",
    "- sumup"
   ]
  },
  {
   "cell_type": "markdown",
   "metadata": {
    "slideshow": {
     "slide_type": "slide"
    }
   },
   "source": [
    "## Review Day 4\n",
    "\n",
    "- More control!\n",
    "\n",
    "  - variables scope\n",
    "  - `None`\n",
    "  - keyword arguments\n",
    "  - documentation, comments...\n",
    "  \n",
    "- Pandas\n"
   ]
  },
  {
   "cell_type": "markdown",
   "metadata": {
    "slideshow": {
     "slide_type": "skip"
    }
   },
   "source": [
    "#### Control loops\n",
    "\n",
    "- `break` a loop => stop it\n",
    "\n",
    "<center>\n",
    "<img src=\"img/break.png\" alt=\"break\" width=\"30%\"/>\n",
    "</center>\n"
   ]
  },
  {
   "cell_type": "markdown",
   "metadata": {
    "slideshow": {
     "slide_type": "skip"
    }
   },
   "source": [
    "#### Control loops\n",
    "\n",
    "- `continue` => go on to the next iteration\n",
    "\n",
    "<center>\n",
    "<img src=\"img/continue.png\" alt=\"break\" width=\"30%\"/>\n",
    "</center>"
   ]
  },
  {
   "cell_type": "code",
   "execution_count": 34,
   "metadata": {
    "slideshow": {
     "slide_type": "slide"
    }
   },
   "outputs": [
    {
     "name": "stdout",
     "output_type": "stream",
     "text": [
      "['Function element 1', 'Function element 2']\n"
     ]
    }
   ],
   "source": [
    "my_list = ['Initial element 1', 'Initial element 2']\n",
    "\n",
    "def function_returning_values():\n",
    "    return ['Function element 1', 'Function element 2']\n",
    "\n",
    "my_list = function_returning_values()\n",
    "print(my_list)"
   ]
  },
  {
   "cell_type": "code",
   "execution_count": 35,
   "metadata": {
    "slideshow": {
     "slide_type": "fragment"
    }
   },
   "outputs": [
    {
     "name": "stdout",
     "output_type": "stream",
     "text": [
      "['Initial element 1', 'Initial element 2']\n"
     ]
    }
   ],
   "source": [
    "my_list = ['Initial element 1', 'Initial element 2']\n",
    "\n",
    "def function_returning_values():\n",
    "    my_list = ['Function element 1', 'Function element 2']\n",
    "\n",
    "function_returning_values()\n",
    "print(my_list)"
   ]
  },
  {
   "cell_type": "code",
   "execution_count": 36,
   "metadata": {
    "slideshow": {
     "slide_type": "fragment"
    }
   },
   "outputs": [
    {
     "name": "stdout",
     "output_type": "stream",
     "text": [
      "None\n"
     ]
    }
   ],
   "source": [
    "my_list = ['Initial element 1', 'Initial element 2']\n",
    "\n",
    "def function_returning_values():\n",
    "    my_list = ['Function element 1', 'Function element 2']\n",
    "\n",
    "my_list = function_returning_values()\n",
    "print(my_list)"
   ]
  },
  {
   "cell_type": "markdown",
   "metadata": {
    "slideshow": {
     "slide_type": "skip"
    }
   },
   "source": [
    "#### Control statements\n",
    "\n",
    "- `pass`  => do nothing\n",
    "\n",
    "```py\n",
    "for line in file:\n",
    "    if len(line) > 40:\n",
    "        # TODO find out what to do here\n",
    "        pass\n",
    "    do_something(line)\n",
    "```"
   ]
  },
  {
   "cell_type": "code",
   "execution_count": 22,
   "metadata": {
    "slideshow": {
     "slide_type": "slide"
    }
   },
   "outputs": [
    {
     "name": "stdout",
     "output_type": "stream",
     "text": [
      "if not variable\n",
      "if variable is None\n"
     ]
    }
   ],
   "source": [
    "# `None` means \"nothing\". Use it to check your variables\n",
    "\n",
    "variable = None\n",
    "if variable:\n",
    "    print('if variable')\n",
    "if not variable:\n",
    "    print('if not variable')\n",
    "if variable is not None:\n",
    "    print('if variable is not None')\n",
    "if variable is None:\n",
    "    print('if variable is None')"
   ]
  },
  {
   "cell_type": "markdown",
   "metadata": {
    "slideshow": {
     "slide_type": "skip"
    }
   },
   "source": [
    "#### None\n",
    "\n",
    "`None` means \"nothing\". Is neither true nor false.\n",
    "\n",
    "```py\n",
    "if value:\n",
    "   print('value is not None')\n",
    "```"
   ]
  },
  {
   "cell_type": "markdown",
   "metadata": {
    "slideshow": {
     "slide_type": "slide"
    }
   },
   "source": [
    "#### Keyword arguments\n",
    "\n",
    "- Defining function\n",
    "```py\n",
    "def open(file, mode='r', buffering=-1, encoding=None, errors=None, newline=None, closefd=True, opener=None)\n",
    "```\n"
   ]
  },
  {
   "cell_type": "markdown",
   "metadata": {},
   "source": [
    "- Calling the function\n",
    "```py\n",
    "open(filename, encoding=\"utf-8\")\n",
    "```\n"
   ]
  },
  {
   "cell_type": "markdown",
   "metadata": {
    "slideshow": {
     "slide_type": "skip"
    }
   },
   "source": [
    "#### Keyword arguments\n",
    "\n",
    "- programmer: set default values\n",
    "- user: ignore parameters\n",
    "- better overview"
   ]
  },
  {
   "cell_type": "markdown",
   "metadata": {
    "slideshow": {
     "slide_type": "skip"
    }
   },
   "source": [
    "#### Using code\n",
    "\n",
    "- Python standard modules\n",
    "- Your colleague's code\n"
   ]
  },
  {
   "cell_type": "markdown",
   "metadata": {
    "slideshow": {
     "slide_type": "skip"
    }
   },
   "source": [
    "- `import pandas`\n",
    "- `import matplotlib.pyplot as plt`\n",
    "- `from matplotlib.pyplot import show`\n"
   ]
  },
  {
   "cell_type": "markdown",
   "metadata": {
    "slideshow": {
     "slide_type": "slide"
    }
   },
   "source": [
    "#### Documentation and getting help\n",
    "\n",
    "- `help(sys)` for a module\n",
    "- `help(math.sqrt)` for a function"
   ]
  },
  {
   "cell_type": "markdown",
   "metadata": {
    "slideshow": {
     "slide_type": "fragment"
    }
   },
   "source": [
    "- write comments       `# why do I do this?`\n",
    "- write documentation  `\"\"\"what is this? how do you use it?\"\"\"`"
   ]
  },
  {
   "cell_type": "markdown",
   "metadata": {
    "slideshow": {
     "slide_type": "slide"
    }
   },
   "source": [
    "#### Writing readable code"
   ]
  },
  {
   "cell_type": "markdown",
   "metadata": {
    "slideshow": {
     "slide_type": "fragment"
    }
   },
   "source": [
    "```py\n",
    "def f(a, b):\n",
    "    for c in open(a):\n",
    "        if c.startswith(b):\n",
    "            print(c)\n",
    "```"
   ]
  },
  {
   "cell_type": "markdown",
   "metadata": {
    "slideshow": {
     "slide_type": "fragment"
    }
   },
   "source": [
    "==>"
   ]
  },
  {
   "cell_type": "markdown",
   "metadata": {
    "slideshow": {
     "slide_type": "-"
    }
   },
   "source": [
    "```py\n",
    "def print_lines(filename, start):\n",
    "    \"\"\"Print all lines in the file that starts with the given string.\"\"\"\n",
    "    for line in open(filename):\n",
    "        if line.startswith(start):\n",
    "            print(line)\n",
    "```"
   ]
  },
  {
   "cell_type": "markdown",
   "metadata": {
    "slideshow": {
     "slide_type": "fragment"
    }
   },
   "source": [
    "**<center>Care about the names of your variables and functions</center>**"
   ]
  },
  {
   "cell_type": "markdown",
   "metadata": {
    "slideshow": {
     "slide_type": "slide"
    }
   },
   "source": [
    "### Pandas\n",
    "\n",
    "- Read files\n",
    "```py\n",
    "dataframe = pandas.read_table('mydata.txt', sep='|', index_col=0)\n",
    "dataframe = pandas.read_csv('mydata.csv')\n",
    "```\n",
    "\n",
    "- Select rows and colums\n",
    "```py\n",
    "dataframe.columname\n",
    "dataframe.loc[rowname]\n",
    "dataframe.loc[dataframe.age == 20 ]\n",
    "```\n",
    "\n",
    "- Plot it\n",
    "```py\n",
    "dataframe.plot(kind='line', x='column1', y='column2')\n",
    "```"
   ]
  },
  {
   "cell_type": "markdown",
   "metadata": {
    "slideshow": {
     "slide_type": "slide"
    }
   },
   "source": [
    "## TODAY\n",
    "\n",
    "- Regular expressions\n",
    "<img src=\"img/regex_xkcd.png\" alt=\"Drawing\"/>\n",
    "\n",
    "- Sum up of the course"
   ]
  },
  {
   "cell_type": "markdown",
   "metadata": {
    "slideshow": {
     "slide_type": "slide"
    }
   },
   "source": [
    "## Regular Expressions\n",
    "\n",
    "<br><br><br>\n",
    "- **A smarter way of searching text**\n",
    "\n",
    "- **search&replace**\n",
    "\n",
    "- **Relatively advanced topic**"
   ]
  },
  {
   "cell_type": "markdown",
   "metadata": {
    "slideshow": {
     "slide_type": "slide"
    }
   },
   "source": [
    "## Regular Expressions"
   ]
  },
  {
   "cell_type": "markdown",
   "metadata": {
    "slideshow": {
     "slide_type": "fragment"
    }
   },
   "source": [
    "- A formal language for defining search patterns"
   ]
  },
  {
   "cell_type": "markdown",
   "metadata": {
    "slideshow": {
     "slide_type": "fragment"
    }
   },
   "source": [
    "- Enables to search not only for exact strings but controlled variations of that string."
   ]
  },
  {
   "cell_type": "markdown",
   "metadata": {
    "slideshow": {
     "slide_type": "fragment"
    }
   },
   "source": [
    "- Why?"
   ]
  },
  {
   "cell_type": "markdown",
   "metadata": {
    "slideshow": {
     "slide_type": "fragment"
    }
   },
   "source": [
    "- Examples:\n",
    "   - Find variations in a protein or DNA sequence\n",
    "     - `\"MVR???A\"`\n",
    "     - `\"ATG???TAG\"`\n",
    "   - American/British spelling, endings and other variants:\n",
    "     - salpeter, salpetre, saltpeter, nitre, niter or KNO3\n",
    "     - hemaglobin, heamoglobin, hemaglobins, heamoglobin's\n",
    "     - catalyze, catalyse, catalyzed...\n",
    "   - A pattern in a vcf file\n",
    "     - a digit appearing after a tab"
   ]
  },
  {
   "cell_type": "markdown",
   "metadata": {
    "slideshow": {
     "slide_type": "slide"
    }
   },
   "source": [
    "## Regular Expressions"
   ]
  },
  {
   "cell_type": "markdown",
   "metadata": {
    "slideshow": {
     "slide_type": "fragment"
    }
   },
   "source": [
    "- When?"
   ]
  },
  {
   "cell_type": "markdown",
   "metadata": {
    "slideshow": {
     "slide_type": "fragment"
    }
   },
   "source": [
    "\n",
    "- To find information\n",
    "    - in your `vcf` or `fasta` files\n",
    "    - in your code\n",
    "    - in your next essay\n",
    "    - in a database\n",
    "    - online\n",
    "    - in a bunch of articles\n",
    "    - ..."
   ]
  },
  {
   "cell_type": "markdown",
   "metadata": {
    "slideshow": {
     "slide_type": "fragment"
    }
   },
   "source": [
    " - Search/replace\n",
    "   - becuase &rarr; because\n",
    "   - color &rarr; colour\n",
    "   - `\\t` (tab) &rarr; `\"    \"` (four spaces)"
   ]
  },
  {
   "cell_type": "markdown",
   "metadata": {
    "slideshow": {
     "slide_type": "fragment"
    }
   },
   "source": [
    "- Supported by most programming languages, text editors, search engines..."
   ]
  },
  {
   "cell_type": "markdown",
   "metadata": {
    "slideshow": {
     "slide_type": "slide"
    }
   },
   "source": [
    "### Defining a search pattern"
   ]
  },
  {
   "cell_type": "markdown",
   "metadata": {},
   "source": [
    "<center>\n",
    "<img src=\"img/color.png\" alt=\"regex\" width=\"50%\"/>\n",
    "<img src=\"img/salpeter.png\" alt=\"regex\" width=\"50%\"/>\n",
    "\n",
    "</center>"
   ]
  },
  {
   "cell_type": "markdown",
   "metadata": {
    "slideshow": {
     "slide_type": "slide"
    }
   },
   "source": [
    "#### Common operations\n",
    "Building blocks for creating patterns\n",
    "- `.` matches any character (once)\n",
    "- `?` repeat previous pattern 0 or 1 times\n",
    "- `*` repeat previous pattern 0 or more times\n",
    "- `+` repeat previous pattern 1 or more times"
   ]
  },
  {
   "cell_type": "markdown",
   "metadata": {
    "slideshow": {
     "slide_type": "fragment"
    }
   },
   "source": [
    "Pattern for matching the colour family\n",
    "\n",
    "`colour.*`\n"
   ]
  },
  {
   "cell_type": "markdown",
   "metadata": {
    "slideshow": {
     "slide_type": "fragment"
    }
   },
   "source": [
    "`.*` matches everything (including the empty string)!"
   ]
  },
  {
   "cell_type": "markdown",
   "metadata": {
    "slideshow": {
     "slide_type": "fragment"
    }
   },
   "source": [
    "Pattern for matching the different spellings\n",
    "\n",
    "`salt?peter`"
   ]
  },
  {
   "cell_type": "markdown",
   "metadata": {
    "slideshow": {
     "slide_type": "fragment"
    }
   },
   "source": [
    "<center>What about the different endings: er-re?</center>\n",
    "\n",
    "<center><code>\"salt?pet..\"</code></center>\n",
    "\n"
   ]
  },
  {
   "cell_type": "markdown",
   "metadata": {
    "slideshow": {
     "slide_type": "fragment"
    }
   },
   "source": [
    "<center><font color=\"green\">saltpeter</font></center>\n",
    "\n",
    "\n",
    "<center><font color=\"red\">\"saltpet88\"</font></center>\n",
    "<center><font color=\"red\">\"salpetin\"</font></center>\n",
    "<center><font color=\"red\">\"saltpet  \"</font></center>\n"
   ]
  },
  {
   "cell_type": "markdown",
   "metadata": {
    "slideshow": {
     "slide_type": "slide"
    }
   },
   "source": [
    "#### More common operations - classes of characters\n",
    "\n",
    "- `\\w` matches any letter or number, and the underscore\n",
    "- `\\d` matches any digit\n",
    "- `\\D` matches any non-digit\n",
    "- `\\s` matches any whitespace (spaces, tabs, ...)\n",
    "- `\\S` matches any non-whitespace"
   ]
  },
  {
   "cell_type": "markdown",
   "metadata": {
    "slideshow": {
     "slide_type": "slide"
    }
   },
   "source": [
    "#### More common operations - classes of characters\n",
    "\n",
    "- `\\w` matches any letter or number, and the underscore\n",
    "- `\\d` matches any digit\n",
    "- `\\D` matches any non-digit\n",
    "- `\\s` matches any whitespace (spaces, tabs, ...)\n",
    "- `\\S` matches any non-whitespace"
   ]
  },
  {
   "cell_type": "markdown",
   "metadata": {},
   "source": [
    "`\\w+`\n",
    "\n",
    "![result](img/regex_w.png)"
   ]
  },
  {
   "cell_type": "markdown",
   "metadata": {
    "slideshow": {
     "slide_type": "slide"
    }
   },
   "source": [
    "#### More common operations - classes of characters\n",
    "\n",
    "- `\\w` matches any letter or number, and the underscore\n",
    "- `\\d` matches any digit\n",
    "- `\\D` matches any non-digit\n",
    "- `\\s` matches any whitespace (spaces, tabs, ...)\n",
    "- `\\S` matches any non-whitespace"
   ]
  },
  {
   "cell_type": "markdown",
   "metadata": {},
   "source": [
    "`\\d+`\n",
    "\n",
    "![result](img/regex_d.png)"
   ]
  },
  {
   "cell_type": "markdown",
   "metadata": {
    "slideshow": {
     "slide_type": "slide"
    }
   },
   "source": [
    "#### More common operations - classes of characters\n",
    "\n",
    "- `\\w` matches any letter or number, and the underscore\n",
    "- `\\d` matches any digit\n",
    "- `\\D` matches any non-digit\n",
    "- `\\s` matches any whitespace (spaces, tabs, ...)\n",
    "- `\\S` matches any non-whitespace"
   ]
  },
  {
   "cell_type": "markdown",
   "metadata": {},
   "source": [
    "`\\s+`\n",
    "\n",
    "![result](img/regex_s.png)"
   ]
  },
  {
   "cell_type": "markdown",
   "metadata": {
    "slideshow": {
     "slide_type": "slide"
    }
   },
   "source": [
    "#### More common operations - classes of characters\n",
    "\n",
    "- `\\w` matches any letter or number, and the underscore\n",
    "- `\\d` matches any digit\n",
    "- `\\D` matches any non-digit\n",
    "- `\\s` matches any whitespace (spaces, tabs, ...)\n",
    "- `\\S` matches any non-whitespace\n",
    "- `[abc]` matches a single character defined in this set {a, b, c}\n",
    "- `[^abc]` matches a single character that is **not** a, b or c"
   ]
  },
  {
   "cell_type": "markdown",
   "metadata": {
    "slideshow": {
     "slide_type": "fragment"
    }
   },
   "source": [
    "#### `[a-z]` matches all letters between `a` and `z` (the english alphabet).\n",
    "\n",
    "#### `[a-z]+` matches any (lowercased) english word."
   ]
  },
  {
   "cell_type": "markdown",
   "metadata": {
    "slideshow": {
     "slide_type": "fragment"
    }
   },
   "source": [
    "<center><code>salt<font color=\"red\">?</font>pet<font color=\"red\">[</font>er<font color=\"red\">]+</font>\n",
    "</code></center>\n",
    "\n",
    "   <font color=\"green\"><center>saltpeter</center>\n",
    "    <font color=\"green\"><center>salpetre</center>\n",
    "\n",
    "<center><strike><font color=\"red\">\"saltpet88\"</font></strike></center>\n",
    "<center><strike><font color=\"red\">\"salpetin\"</font></strike></center>\n",
    "<center><strike><font color=\"red\">\"saltpet  \"</font></strike></center>"
   ]
  },
  {
   "cell_type": "markdown",
   "metadata": {
    "slideshow": {
     "slide_type": "slide"
    }
   },
   "source": [
    "**Example - finding patterns in vcf**\n",
    "\n",
    "<font size=\"5\"><code>\n",
    "1\t920760\trs80259304\tT\tC\t.\tPASS\tAA=T;AC=18;AN=120;DP=190;GP=1:930897;BN=131\tGT:DP:CB\t0/1:1:SM 0/0:4/SM...\n",
    "</code></font>"
   ]
  },
  {
   "cell_type": "markdown",
   "metadata": {
    "slideshow": {
     "slide_type": "fragment"
    }
   },
   "source": [
    "- Find a sample:\n",
    "\n",
    "`0/0`  `0/1`  `1/1`  ..."
   ]
  },
  {
   "cell_type": "markdown",
   "metadata": {
    "slideshow": {
     "slide_type": "fragment"
    }
   },
   "source": [
    "`\"[01]/[01]\"`      (or   `\"\\d/\\d\")`"
   ]
  },
  {
   "cell_type": "markdown",
   "metadata": {
    "slideshow": {
     "slide_type": "fragment"
    }
   },
   "source": [
    "```\\s[01]/[01]:```"
   ]
  },
  {
   "cell_type": "markdown",
   "metadata": {
    "slideshow": {
     "slide_type": "slide"
    }
   },
   "source": [
    "**Example - finding patterns in vcf**\n",
    "\n",
    "<font size=\"5\"><code>\n",
    "1\t920760\trs80259304\tT\tC\t.\tPASS\tAA=T;AC=18;AN=120;DP=190;GP=1:930897;BN=131\tGT:DP:CB\t0/1:1:SM 0/0:4/SM...\n",
    "</code></font>"
   ]
  },
  {
   "cell_type": "markdown",
   "metadata": {
    "slideshow": {
     "slide_type": "-"
    }
   },
   "source": [
    "- Find all lines containing more than one homozygous sample."
   ]
  },
  {
   "cell_type": "markdown",
   "metadata": {
    "slideshow": {
     "slide_type": "fragment"
    }
   },
   "source": [
    "`... 1/1:...  ... 1/1:...  ...`"
   ]
  },
  {
   "cell_type": "markdown",
   "metadata": {},
   "source": [
    " "
   ]
  },
  {
   "cell_type": "markdown",
   "metadata": {
    "slideshow": {
     "slide_type": "fragment"
    }
   },
   "source": [
    "```.*1/1.*1/1.*```"
   ]
  },
  {
   "cell_type": "markdown",
   "metadata": {
    "slideshow": {
     "slide_type": "fragment"
    }
   },
   "source": [
    "```.*\\s1/1:.*\\s1/1:.*```"
   ]
  },
  {
   "cell_type": "markdown",
   "metadata": {
    "slideshow": {
     "slide_type": "slide"
    }
   },
   "source": [
    "## Exercise 1\n",
    "\n",
    "\n",
    "- `.` matches any character (once)\n",
    "- `?` repeat previous pattern 0 or 1 times\n",
    "- `*` repeat previous pattern 0 or more times\n",
    "- `+` repeat previous pattern 1 or more times\n",
    "- `\\w` matches any letter or number, and the underscore\n",
    "- `\\d` matches any digit\n",
    "- `\\D` matches any non-digit\n",
    "- `\\s` matches any whitespace (spaces, tabs, ...)\n",
    "- `\\S` matches any non-whitespace\n",
    "- `[abc]` matches a single character defined in this set {a, b, c}\n",
    "- `[^abc]` matches a single character that is **not** a, b or c\n",
    "- `[a-z]` matches any (lowercased) letter from the english alphabet\n",
    "- `.*` matches anything\n",
    "\n",
    "- https://regex101.com/\n",
    "\n",
    "<b>&rarr; Notebook Day_5_Exercise_1  (~30 minutes) </b>"
   ]
  },
  {
   "cell_type": "markdown",
   "metadata": {
    "slideshow": {
     "slide_type": "slide"
    }
   },
   "source": [
    "### Regular expressions in Python"
   ]
  },
  {
   "cell_type": "code",
   "execution_count": 37,
   "metadata": {
    "slideshow": {
     "slide_type": "fragment"
    }
   },
   "outputs": [],
   "source": [
    "# Import module\n",
    "import re"
   ]
  },
  {
   "cell_type": "code",
   "execution_count": 38,
   "metadata": {
    "slideshow": {
     "slide_type": "fragment"
    }
   },
   "outputs": [
    {
     "data": {
      "text/plain": [
       "re.compile(r'ab*', re.UNICODE)"
      ]
     },
     "execution_count": 38,
     "metadata": {},
     "output_type": "execute_result"
    }
   ],
   "source": [
    "# Define a pattern\n",
    "p = re.compile('ab*')\n",
    "p"
   ]
  },
  {
   "cell_type": "markdown",
   "metadata": {
    "slideshow": {
     "slide_type": "slide"
    }
   },
   "source": [
    "### Searching"
   ]
  },
  {
   "cell_type": "code",
   "execution_count": 41,
   "metadata": {
    "slideshow": {
     "slide_type": "fragment"
    }
   },
   "outputs": [
    {
     "data": {
      "text/plain": [
       "<re.Match object; span=(0, 2), match='ab'>"
      ]
     },
     "execution_count": 41,
     "metadata": {},
     "output_type": "execute_result"
    }
   ],
   "source": [
    "# Search pattern in string\n",
    "p = re.compile('ab*')\n",
    "\n",
    "p.search('abc')"
   ]
  },
  {
   "cell_type": "code",
   "execution_count": 42,
   "metadata": {
    "slideshow": {
     "slide_type": "fragment"
    }
   },
   "outputs": [
    {
     "name": "stdout",
     "output_type": "stream",
     "text": [
      "None\n"
     ]
    }
   ],
   "source": [
    "print(p.search('cb'))"
   ]
  },
  {
   "cell_type": "code",
   "execution_count": 43,
   "metadata": {
    "slideshow": {
     "slide_type": "fragment"
    }
   },
   "outputs": [
    {
     "name": "stdout",
     "output_type": "stream",
     "text": [
      "<re.Match object; span=(12, 17), match='HELLO'>\n"
     ]
    }
   ],
   "source": [
    "p = re.compile('HELLO')\n",
    "m = p.search('gsdfgsdfgs  HELLO  __!@£§≈[|ÅÄÖ‚…’ﬁ]')\n",
    "\n",
    "print(m)"
   ]
  },
  {
   "cell_type": "markdown",
   "metadata": {
    "slideshow": {
     "slide_type": "slide"
    }
   },
   "source": [
    "### Case insensitiveness"
   ]
  },
  {
   "cell_type": "code",
   "execution_count": 46,
   "metadata": {
    "slideshow": {
     "slide_type": "-"
    }
   },
   "outputs": [
    {
     "name": "stdout",
     "output_type": "stream",
     "text": [
      "None\n"
     ]
    }
   ],
   "source": [
    "# Remember, [a-z]+ matches any lower case english word\n",
    "p = re.compile('[a-z]+')\n",
    "result = p.search('ATGAAA')\n",
    "print(result)"
   ]
  },
  {
   "cell_type": "code",
   "execution_count": 49,
   "metadata": {
    "slideshow": {
     "slide_type": "fragment"
    }
   },
   "outputs": [
    {
     "data": {
      "text/plain": [
       "<re.Match object; span=(0, 6), match='ATGAAA'>"
      ]
     },
     "execution_count": 49,
     "metadata": {},
     "output_type": "execute_result"
    }
   ],
   "source": [
    "p = re.compile('[a-z]+', re.IGNORECASE)\n",
    "\n",
    "result = p.search('ATGAAA')\n",
    "result"
   ]
  },
  {
   "cell_type": "markdown",
   "metadata": {
    "slideshow": {
     "slide_type": "slide"
    }
   },
   "source": [
    "### The match object"
   ]
  },
  {
   "cell_type": "code",
   "execution_count": 51,
   "metadata": {
    "slideshow": {
     "slide_type": "fragment"
    }
   },
   "outputs": [
    {
     "data": {
      "text/plain": [
       "<re.Match object; span=(4, 10), match='ATGAAA'>"
      ]
     },
     "execution_count": 51,
     "metadata": {},
     "output_type": "execute_result"
    }
   ],
   "source": [
    "p = re.compile('[a-z]+', re.IGNORECASE)\n",
    "\n",
    "result = p.search('123 ATGAAA 456')\n",
    "result"
   ]
  },
  {
   "cell_type": "markdown",
   "metadata": {
    "slideshow": {
     "slide_type": "fragment"
    }
   },
   "source": [
    "`result.group()`: Return the string matched by the expression\n",
    "\n",
    "`result.start()`: Return the starting position of the match\n",
    "\n",
    "`result.end()`: Return the ending position of the match\n",
    "\n",
    "`result.span()`: Return both (start, end)"
   ]
  },
  {
   "cell_type": "code",
   "execution_count": 52,
   "metadata": {
    "slideshow": {
     "slide_type": "fragment"
    }
   },
   "outputs": [
    {
     "data": {
      "text/plain": [
       "'ATGAAA'"
      ]
     },
     "execution_count": 52,
     "metadata": {},
     "output_type": "execute_result"
    }
   ],
   "source": [
    "result.group()"
   ]
  },
  {
   "cell_type": "code",
   "execution_count": 53,
   "metadata": {
    "slideshow": {
     "slide_type": "fragment"
    }
   },
   "outputs": [
    {
     "data": {
      "text/plain": [
       "4"
      ]
     },
     "execution_count": 53,
     "metadata": {},
     "output_type": "execute_result"
    }
   ],
   "source": [
    "result.start()"
   ]
  },
  {
   "cell_type": "code",
   "execution_count": 54,
   "metadata": {},
   "outputs": [
    {
     "data": {
      "text/plain": [
       "10"
      ]
     },
     "execution_count": 54,
     "metadata": {},
     "output_type": "execute_result"
    }
   ],
   "source": [
    "result.end()"
   ]
  },
  {
   "cell_type": "code",
   "execution_count": 55,
   "metadata": {},
   "outputs": [
    {
     "data": {
      "text/plain": [
       "(4, 10)"
      ]
     },
     "execution_count": 55,
     "metadata": {},
     "output_type": "execute_result"
    }
   ],
   "source": [
    "result.span()"
   ]
  },
  {
   "cell_type": "markdown",
   "metadata": {
    "slideshow": {
     "slide_type": "slide"
    }
   },
   "source": [
    "### Zero or more...?"
   ]
  },
  {
   "cell_type": "code",
   "execution_count": 56,
   "metadata": {
    "slideshow": {
     "slide_type": "-"
    }
   },
   "outputs": [],
   "source": [
    "p = re.compile('.*HELLO.*')"
   ]
  },
  {
   "cell_type": "code",
   "execution_count": 57,
   "metadata": {
    "slideshow": {
     "slide_type": "fragment"
    }
   },
   "outputs": [],
   "source": [
    "m = p.search('lots of text  HELLO  more text and characters!!! ^^')"
   ]
  },
  {
   "cell_type": "code",
   "execution_count": 58,
   "metadata": {
    "slideshow": {
     "slide_type": "fragment"
    }
   },
   "outputs": [
    {
     "data": {
      "text/plain": [
       "'lots of text  HELLO  more text and characters!!! ^^'"
      ]
     },
     "execution_count": 58,
     "metadata": {},
     "output_type": "execute_result"
    }
   ],
   "source": [
    "m.group()"
   ]
  },
  {
   "cell_type": "markdown",
   "metadata": {
    "slideshow": {
     "slide_type": "fragment"
    }
   },
   "source": [
    "The `*` is **greedy**."
   ]
  },
  {
   "cell_type": "markdown",
   "metadata": {
    "slideshow": {
     "slide_type": "slide"
    }
   },
   "source": [
    "### Finding all the matching patterns"
   ]
  },
  {
   "cell_type": "code",
   "execution_count": 71,
   "metadata": {
    "slideshow": {
     "slide_type": "-"
    }
   },
   "outputs": [
    {
     "name": "stdout",
     "output_type": "stream",
     "text": [
      "<callable_iterator object at 0x7ff202b6efa0>\n"
     ]
    }
   ],
   "source": [
    "# Find all instance of the defined pattern\n",
    "p = re.compile('HELLO')\n",
    "matches = p.finditer('lots of text  HELLO  more text  HELLO ... and characters!!! ^^')\n",
    "print(matches)"
   ]
  },
  {
   "cell_type": "code",
   "execution_count": 72,
   "metadata": {
    "slideshow": {
     "slide_type": "fragment"
    }
   },
   "outputs": [
    {
     "name": "stdout",
     "output_type": "stream",
     "text": [
      "Found HELLO at position 14\n",
      "Found HELLO at position 32\n"
     ]
    }
   ],
   "source": [
    "# Loop through matches\n",
    "for match in matches:\n",
    "    print(f'Found {match.group()} at position {match.start()}')"
   ]
  },
  {
   "cell_type": "code",
   "execution_count": 33,
   "metadata": {
    "slideshow": {
     "slide_type": "skip"
    }
   },
   "outputs": [
    {
     "name": "stdout",
     "output_type": "stream",
     "text": [
      "Found HELLO at position 14\n",
      "Found HELLO at position 32\n"
     ]
    }
   ],
   "source": [
    "objects = p.finditer('lots of text  HELLO  more text  HELLO ... and characters!!! ^^')\n",
    "for m in objects:\n",
    "    print('Found {} at position {}'.format(m.group(), m.start()))"
   ]
  },
  {
   "cell_type": "markdown",
   "metadata": {
    "slideshow": {
     "slide_type": "slide"
    }
   },
   "source": [
    "### How to find a full stop?"
   ]
  },
  {
   "cell_type": "code",
   "execution_count": 79,
   "metadata": {},
   "outputs": [
    {
     "name": "stdout",
     "output_type": "stream",
     "text": [
      "\"T\" at position 0\n"
     ]
    }
   ],
   "source": [
    "txt = \"The first full stop is here: .\"\n",
    "pattern = re.compile('.')\n",
    "\n",
    "match = pattern.search(txt)\n",
    "print('\"{}\" at position {}'.format(match.group(), match.start()))"
   ]
  },
  {
   "cell_type": "code",
   "execution_count": 85,
   "metadata": {},
   "outputs": [],
   "source": [
    "# Print all matches\n",
    "matches = p.finditer(txt)\n",
    "#for match in matches:\n",
    "#    print('\"{}\" at position {}'.format(match.group(), match.start()))"
   ]
  },
  {
   "cell_type": "code",
   "execution_count": 86,
   "metadata": {
    "slideshow": {
     "slide_type": "fragment"
    }
   },
   "outputs": [
    {
     "name": "stdout",
     "output_type": "stream",
     "text": [
      "\".\" at position 29\n"
     ]
    }
   ],
   "source": [
    "# Use escape character to search\n",
    "p = re.compile('\\.')\n",
    "\n",
    "m = p.search(txt)\n",
    "print('\"{}\" at position {}'.format(m.group(), m.start()))"
   ]
  },
  {
   "cell_type": "markdown",
   "metadata": {
    "slideshow": {
     "slide_type": "slide"
    }
   },
   "source": [
    "### More operations\n",
    "- `\\` escaping a character\n",
    "- `^` beginning of the string\n",
    "- `$` end of string\n",
    "- `|` boolean `or`"
   ]
  },
  {
   "cell_type": "markdown",
   "metadata": {
    "slideshow": {
     "slide_type": "fragment"
    }
   },
   "source": [
    "`^hello$`"
   ]
  },
  {
   "cell_type": "markdown",
   "metadata": {
    "slideshow": {
     "slide_type": "fragment"
    }
   },
   "source": [
    "<center>\n",
    "    <code>salt<font color=\"red\">?</font>pet<font color=\"red\">(</font>er<font color=\"red\">|</font>re<font color=\"red\">)</font> <font color=\"red\">|</font> nit<font color=\"red\">(</font>er<font color=\"red\">|</font>re<font color=\"red\">)</font> <font color=\"red\">|</font> KNO3</code>\n",
    "</center>"
   ]
  },
  {
   "cell_type": "markdown",
   "metadata": {
    "slideshow": {
     "slide_type": "slide"
    }
   },
   "source": [
    "### Substitution"
   ]
  },
  {
   "cell_type": "markdown",
   "metadata": {
    "slideshow": {
     "slide_type": "-"
    }
   },
   "source": [
    "#### Finally, we can fix our spelling mistakes!"
   ]
  },
  {
   "cell_type": "code",
   "execution_count": 87,
   "metadata": {
    "slideshow": {
     "slide_type": "-"
    }
   },
   "outputs": [],
   "source": [
    "txt = \"Do it   becuase   I say so,     not becuase you want!\""
   ]
  },
  {
   "cell_type": "code",
   "execution_count": 89,
   "metadata": {
    "slideshow": {
     "slide_type": "fragment"
    }
   },
   "outputs": [
    {
     "name": "stdout",
     "output_type": "stream",
     "text": [
      "Do it   because   I say so,     not because you want!\n"
     ]
    }
   ],
   "source": [
    "# Spell the word because correctly\n",
    "import re\n",
    "p = re.compile('becuase')\n",
    "txt = p.sub('because', txt)\n",
    "print(txt)"
   ]
  },
  {
   "cell_type": "code",
   "execution_count": 90,
   "metadata": {
    "slideshow": {
     "slide_type": "fragment"
    }
   },
   "outputs": [
    {
     "data": {
      "text/plain": [
       "'Do it because I say so, not because you want!'"
      ]
     },
     "execution_count": 90,
     "metadata": {},
     "output_type": "execute_result"
    }
   ],
   "source": [
    "# Remove additional spaces\n",
    "p = re.compile('\\s+')\n",
    "p.sub(' ', txt)"
   ]
  },
  {
   "cell_type": "markdown",
   "metadata": {
    "slideshow": {
     "slide_type": "slide"
    }
   },
   "source": [
    "#### Overview"
   ]
  },
  {
   "cell_type": "markdown",
   "metadata": {
    "slideshow": {
     "slide_type": "-"
    }
   },
   "source": [
    " - Construct regular expressions\n",
    " \n",
    "     ```py\n",
    "     p = re.compile()\n",
    "     ```\n",
    "     \n",
    " - Searching\n",
    " \n",
    "     ```py\n",
    "     p.search(text)\n",
    "     ```\n",
    "     \n",
    " - Substitution\n",
    " \n",
    "     ```py\n",
    "     p.sub(replacement, text)\n",
    "     ```"
   ]
  },
  {
   "cell_type": "markdown",
   "metadata": {
    "slideshow": {
     "slide_type": "slide"
    }
   },
   "source": [
    "**Typical code structure:**\n",
    "\n",
    "```python\n",
    "pattern = re.compile( ... )\n",
    "match = pattern.search('string goes here')\n",
    "if m:\n",
    "    print('Match found: ', match.group())\n",
    "else:\n",
    "    print('No match')\n",
    "```"
   ]
  },
  {
   "cell_type": "markdown",
   "metadata": {
    "slideshow": {
     "slide_type": "slide"
    }
   },
   "source": [
    "### Regular expressions\n",
    "\n",
    "\n",
    "- A powerful tool to search and modify text\n",
    "\n",
    "- There is much more to read in the [docs](https://docs.python.org/3/library/re.html)\n",
    "\n",
    "- Note: regex comes in different flavours. If you use it outside Python, there might be small variations in the syntax."
   ]
  },
  {
   "cell_type": "markdown",
   "metadata": {
    "slideshow": {
     "slide_type": "slide"
    }
   },
   "source": [
    "## Exercise 2\n",
    "         \n",
    "- `.` matches any character (once)\n",
    "- `?` repeat previous pattern 0 or 1 times\n",
    "- `*` repeat previous pattern 0 or more times\n",
    "- `+` repeat previous pattern 1 or more times\n",
    "- `\\w` matches any letter or number, and the underscore\n",
    "- `\\d` matches any digit\n",
    "- `\\D` matches any non-digit\n",
    "- `\\s` matches any whitespace (spaces, tabs, ...)\n",
    "- `\\S` matches any non-whitespace\n",
    "- `[abc]` matches a single character defined in this set {a, b, c}\n",
    "- `[^abc]` matches a single character that is **not** a, b or c\n",
    "- `[a-z]` matches any (lowercased) letter from the english alphabet\n",
    "- `.*` matches anything\n",
    "- `\\` escaping a character\n",
    "- `^` beginning of the string\n",
    "- `$` end of string\n",
    "- `|` boolean `or`\n",
    "  \n",
    "Read more: full documentation https://docs.python.org/3.9/library/re.html\n",
    "<br/>\n",
    "<b>&rarr; Notebook Day_5_Exercise_2  (~30 minutes) </b>\n"
   ]
  },
  {
   "cell_type": "markdown",
   "metadata": {
    "slideshow": {
     "slide_type": "slide"
    }
   },
   "source": [
    "<h3> <center>Sum up!</center></h3>"
   ]
  },
  {
   "cell_type": "markdown",
   "metadata": {
    "slideshow": {
     "slide_type": "slide"
    }
   },
   "source": [
    "#### Processing files - looping through the lines\n",
    "\n",
    "```py\n",
    "fh = open('myfile.txt')\n",
    "for line in fh:\n",
    "    do_stuff(line)\n",
    "```"
   ]
  },
  {
   "cell_type": "markdown",
   "metadata": {
    "slideshow": {
     "slide_type": "slide"
    }
   },
   "source": [
    "#### Store values\n",
    "\n",
    "```py\n",
    "iterations = 0\n",
    "information = []\n",
    "\n",
    "fh = open('myfile.txt', 'r')\n",
    "for line in fh:\n",
    "    iterations += 1\n",
    "    information += do_stuff(line)\n",
    "```"
   ]
  },
  {
   "cell_type": "markdown",
   "metadata": {
    "slideshow": {
     "slide_type": "slide"
    }
   },
   "source": [
    "#### Values\n",
    "\n",
    "- Base types:\n",
    "\n",
    "  ```py\n",
    "  - str     \"hello\"\n",
    "  - int     5\n",
    "  - float   5.2\n",
    "  - bool    True\n",
    "    ```\n",
    "    \n",
    "- Collections:\n",
    "\n",
    "    ```py\n",
    "  - list  [\"a\", \"b\", \"c\"]\n",
    "  - dict  {\"a\": \"alligator\", \"b\": \"bear\", \"c\": \"cat\"}\n",
    "  - tuple (\"this\", \"that\")\n",
    "  - set   {\"drama\", \"sci-fi\"}\n",
    "    ```"
   ]
  },
  {
   "cell_type": "markdown",
   "metadata": {
    "slideshow": {
     "slide_type": "slide"
    }
   },
   "source": [
    "**Assign values**\n",
    "```py\n",
    "iterations = 0\n",
    "score = 5.2\n",
    "```"
   ]
  },
  {
   "cell_type": "markdown",
   "metadata": {
    "slideshow": {
     "slide_type": "-"
    }
   },
   "source": [
    "#### Compare and membership\n",
    "```py\n",
    "+, -, *,...   # mathematical\n",
    "and, or, not  # logical \n",
    "==, !=        # (in)equality\n",
    "<, >, <=, >=  # comparison\n",
    "in            # membership\n",
    "```"
   ]
  },
  {
   "cell_type": "code",
   "execution_count": 91,
   "metadata": {
    "slideshow": {
     "slide_type": "slide"
    }
   },
   "outputs": [
    {
     "name": "stdout",
     "output_type": "stream",
     "text": [
      "nextvalue:  5 value:  4\n"
     ]
    }
   ],
   "source": [
    "value = 4\n",
    "nextvalue = 1\n",
    "nextvalue += value\n",
    "print('nextvalue: ', nextvalue, 'value: ', value)"
   ]
  },
  {
   "cell_type": "code",
   "execution_count": 40,
   "metadata": {
    "slideshow": {
     "slide_type": "fragment"
    }
   },
   "outputs": [
    {
     "data": {
      "text/plain": [
       "True"
      ]
     },
     "execution_count": 40,
     "metadata": {},
     "output_type": "execute_result"
    }
   ],
   "source": [
    "x = 5\n",
    "y = 7\n",
    "z = 2\n",
    "x > 6 and y == 7 or z > 1"
   ]
  },
  {
   "cell_type": "code",
   "execution_count": 41,
   "metadata": {
    "slideshow": {
     "slide_type": "fragment"
    }
   },
   "outputs": [
    {
     "data": {
      "text/plain": [
       "True"
      ]
     },
     "execution_count": 41,
     "metadata": {},
     "output_type": "execute_result"
    }
   ],
   "source": [
    "(x > 6 and y == 7) or z > 1"
   ]
  },
  {
   "cell_type": "markdown",
   "metadata": {
    "slideshow": {
     "slide_type": "slide"
    }
   },
   "source": [
    "#### Strings\n",
    "\n",
    "- Works like a list of characters\n",
    "  - define using \" or '\n",
    "  - ```py\n",
    "  s += \"more words\"  # add content\n",
    "  ```\n",
    "  - ```py\n",
    "  s[4]               # get character at index 4\n",
    "  ```\n",
    "  - ```py\n",
    "  'e' in s           # check for membership\n",
    "  ```\n",
    "  \n",
    "  - ```py\n",
    "  len(s)             # check size\n",
    "  ```\n"
   ]
  },
  {
   "cell_type": "markdown",
   "metadata": {
    "slideshow": {
     "slide_type": "fragment"
    }
   },
   "source": [
    "- But are immutable\n",
    "\n",
    "  - ```py\n",
    "  > s[2] = 'i'\n",
    "  ```\n",
    "  ---\n",
    "  ```py\n",
    "  Traceback (most recent call last):\n",
    "  File \"<stdin>\", line 1, in <module>\n",
    "  TypeError: 'str' object does not support item assignment\n",
    "```"
   ]
  },
  {
   "cell_type": "markdown",
   "metadata": {
    "slideshow": {
     "slide_type": "slide"
    }
   },
   "source": [
    "#### Strings\n",
    "\n",
    "Raw text\n",
    "\n",
    "- Common manipulations:\n",
    " \n",
    "  -  ```py\n",
    "  s.strip()  # remove unwanted spacing\n",
    "  ```\n",
    "  -  ```py  \n",
    "  s.split()  # split line into columns\n",
    "  ```\n",
    "  -  ```py\n",
    "  s.upper(), s.lower()  # change the case\n",
    "  ```\n"
   ]
  },
  {
   "cell_type": "markdown",
   "metadata": {
    "slideshow": {
     "slide_type": "fragment"
    }
   },
   "source": [
    "\n",
    "- Regular expressions help you find and replace strings.\n",
    "\n",
    "  - ```py\n",
    "  p = re.compile('A.A.A')\n",
    "  p.search(dnastring)\n",
    "  ```\n",
    "  - ```py\n",
    "  p = re.compile('T')\n",
    "  p.sub('U', dnastring)\n",
    "  ```"
   ]
  },
  {
   "cell_type": "code",
   "execution_count": 92,
   "metadata": {
    "slideshow": {
     "slide_type": "slide"
    }
   },
   "outputs": [
    {
     "data": {
      "text/plain": [
       "'python programmer writes p'"
      ]
     },
     "execution_count": 92,
     "metadata": {},
     "output_type": "execute_result"
    }
   ],
   "source": [
    "import re\n",
    "\n",
    "p = re.compile('p.*\\sp')  # the greedy star!\n",
    "\n",
    "p.search('a python programmer writes python code').group()"
   ]
  },
  {
   "cell_type": "markdown",
   "metadata": {
    "slideshow": {
     "slide_type": "slide"
    }
   },
   "source": [
    "#### Collections\n",
    "\n",
    "Can contain strings, integer, booleans...\n",
    "- **Mutable**: you can *add*, *remove*, *change* values\n",
    "\n",
    "  - Lists:\n",
    "  ```py\n",
    "    mylist.append('value')\n",
    "```\n",
    "\n",
    "  - Dicts:\n",
    "```py\n",
    "    mydict['key'] = 'value'\n",
    "```\n",
    "\n",
    "  - Sets:\n",
    "```py\n",
    "    myset.add('value')\n",
    "```"
   ]
  },
  {
   "cell_type": "markdown",
   "metadata": {
    "slideshow": {
     "slide_type": "slide"
    }
   },
   "source": [
    "#### Collections\n",
    "\n",
    "- Test for membership:\n",
    "```py\n",
    "value in myobj\n",
    "```\n",
    "\n",
    "- Check size:\n",
    "```py\n",
    "len(myobj)\n",
    "```"
   ]
  },
  {
   "cell_type": "markdown",
   "metadata": {
    "slideshow": {
     "slide_type": "slide"
    }
   },
   "source": [
    "#### Lists\n",
    "\n",
    "- Ordered!\n",
    "\n",
    "```py\n",
    "todolist = [\"work\", \"sleep\", \"eat\", \"work\"]\n",
    "\n",
    "todolist.sort()\n",
    "todolist.reverse()\n",
    "todolist[2]\n",
    "todolist[-1]\n",
    "todolist[2:6]\n",
    "```"
   ]
  },
  {
   "cell_type": "code",
   "execution_count": 101,
   "metadata": {
    "slideshow": {
     "slide_type": "slide"
    }
   },
   "outputs": [],
   "source": [
    "todolist = [\"work\", \"sleep\", \"eat\", \"work\"]"
   ]
  },
  {
   "cell_type": "code",
   "execution_count": 94,
   "metadata": {},
   "outputs": [
    {
     "name": "stdout",
     "output_type": "stream",
     "text": [
      "['eat', 'sleep', 'work', 'work']\n"
     ]
    }
   ],
   "source": [
    "todolist.sort()\n",
    "print(todolist)"
   ]
  },
  {
   "cell_type": "code",
   "execution_count": 95,
   "metadata": {},
   "outputs": [
    {
     "name": "stdout",
     "output_type": "stream",
     "text": [
      "['work', 'work', 'sleep', 'eat']\n"
     ]
    }
   ],
   "source": [
    "todolist.reverse()\n",
    "print(todolist)"
   ]
  },
  {
   "cell_type": "code",
   "execution_count": 96,
   "metadata": {},
   "outputs": [
    {
     "data": {
      "text/plain": [
       "'sleep'"
      ]
     },
     "execution_count": 96,
     "metadata": {},
     "output_type": "execute_result"
    }
   ],
   "source": [
    "todolist[2]"
   ]
  },
  {
   "cell_type": "code",
   "execution_count": 99,
   "metadata": {},
   "outputs": [
    {
     "data": {
      "text/plain": [
       "'eat'"
      ]
     },
     "execution_count": 99,
     "metadata": {},
     "output_type": "execute_result"
    }
   ],
   "source": [
    "todolist[-1]"
   ]
  },
  {
   "cell_type": "code",
   "execution_count": 103,
   "metadata": {},
   "outputs": [
    {
     "data": {
      "text/plain": [
       "['eat', 'work']"
      ]
     },
     "execution_count": 103,
     "metadata": {},
     "output_type": "execute_result"
    }
   ],
   "source": [
    "todolist[2:]"
   ]
  },
  {
   "cell_type": "markdown",
   "metadata": {
    "slideshow": {
     "slide_type": "slide"
    }
   },
   "source": [
    "#### Dictionaries\n",
    "\n",
    "- Keys have values\n",
    "\n",
    "```py\n",
    "mydict = {\"a\": \"alligator\", \"b\": \"bear\", \"c\": \"cat\"}\n",
    "counter = {\"cats\": 55, \"dogs\": 8}\n",
    "\n",
    "mydict[\"a\"]\n",
    "mydict.keys()\n",
    "mydict.values()\n",
    "```\n",
    "\n"
   ]
  },
  {
   "cell_type": "code",
   "execution_count": 104,
   "metadata": {
    "slideshow": {
     "slide_type": "slide"
    }
   },
   "outputs": [
    {
     "data": {
      "text/plain": [
       "{'cats': 2, 'others': 2}"
      ]
     },
     "execution_count": 104,
     "metadata": {},
     "output_type": "execute_result"
    }
   ],
   "source": [
    "counter = {'cats': 0, 'others': 0}\n",
    "\n",
    "for animal in ['zebra', 'cat', 'dog', 'cat']:\n",
    "    if animal == 'cat':\n",
    "        counter['cats'] += 1\n",
    "    else:\n",
    "        counter['others'] += 1\n",
    "        \n",
    "counter"
   ]
  },
  {
   "cell_type": "markdown",
   "metadata": {
    "slideshow": {
     "slide_type": "slide"
    }
   },
   "source": [
    "#### Sets\n",
    "\n",
    "- Bag of values\n",
    " \n",
    "  - No order\n",
    "  \n",
    "  - No duplicates \n",
    "\n",
    "  - Fast membership checks\n",
    "  \n",
    "  - Logical set operations (union, difference, intersection...)\n",
    "\n",
    "\n",
    "```py\n",
    "myset = {\"drama\", \"sci-fi\"}\n",
    "\n",
    "myset.add(\"comedy\")\n",
    "\n",
    "myset.remove(\"drama\")\n",
    "```\n"
   ]
  },
  {
   "cell_type": "code",
   "execution_count": null,
   "metadata": {
    "slideshow": {
     "slide_type": "skip"
    }
   },
   "outputs": [],
   "source": [
    "for m in objects:\n",
    "    print(f'Found {m.group()} at position {m.start()}')"
   ]
  },
  {
   "cell_type": "code",
   "execution_count": 105,
   "metadata": {
    "slideshow": {
     "slide_type": "slide"
    }
   },
   "outputs": [
    {
     "data": {
      "text/plain": [
       "{'eat', 'sleep', 'work'}"
      ]
     },
     "execution_count": 105,
     "metadata": {},
     "output_type": "execute_result"
    }
   ],
   "source": [
    "todolist = [\"work\", \"sleep\", \"eat\", \"work\"]\n",
    "\n",
    "todo_items = set(todolist)\n",
    "todo_items"
   ]
  },
  {
   "cell_type": "code",
   "execution_count": 106,
   "metadata": {
    "slideshow": {
     "slide_type": "fragment"
    }
   },
   "outputs": [
    {
     "data": {
      "text/plain": [
       "{'eat', 'sleep', 'study', 'work'}"
      ]
     },
     "execution_count": 106,
     "metadata": {},
     "output_type": "execute_result"
    }
   ],
   "source": [
    "todo_items.add(\"study\")\n",
    "todo_items"
   ]
  },
  {
   "cell_type": "code",
   "execution_count": 107,
   "metadata": {
    "slideshow": {
     "slide_type": "fragment"
    }
   },
   "outputs": [
    {
     "data": {
      "text/plain": [
       "{'eat', 'sleep', 'study', 'work'}"
      ]
     },
     "execution_count": 107,
     "metadata": {},
     "output_type": "execute_result"
    }
   ],
   "source": [
    "todo_items.add(\"eat\")\n",
    "todo_items"
   ]
  },
  {
   "cell_type": "markdown",
   "metadata": {
    "slideshow": {
     "slide_type": "skip"
    }
   },
   "source": [
    "#### Strings\n",
    "\n",
    "- Works like a list of characters\n",
    "  - ```py\n",
    "  s += \"more words\"  # add content\n",
    "  ```\n",
    "  - ```py\n",
    "  s[4]               # get character at index 4\n",
    "  ```\n",
    "  - ```py\n",
    "  'e' in s           # check for membership\n",
    "  ```\n",
    "  \n",
    "  - ```py\n",
    "  len(s)             # check size\n",
    "  ```\n"
   ]
  },
  {
   "cell_type": "markdown",
   "metadata": {
    "slideshow": {
     "slide_type": "skip"
    }
   },
   "source": [
    "- But are immutable\n",
    "\n",
    "  - ```py\n",
    "  > s[2] = 'i'\n",
    "  ```\n",
    "  ---\n",
    "  ```py\n",
    "  Traceback (most recent call last):\n",
    "  File \"<stdin>\", line 1, in <module>\n",
    "  TypeError: 'str' object does not support item assignment\n",
    "```"
   ]
  },
  {
   "cell_type": "markdown",
   "metadata": {
    "slideshow": {
     "slide_type": "slide"
    }
   },
   "source": [
    "#### Tuples\n",
    "\n",
    "- A group (usually two) of values that belong together\n",
    "  \n",
    "  - ```py\n",
    "tup = (max_length, sequence)\n",
    "```\n",
    "  - An ordered sequence (like lists)\n",
    "\n",
    "  - ```py\n",
    "length = tup[0]  # get content at index 0\n",
    "```\n",
    "  - Immutable"
   ]
  },
  {
   "cell_type": "code",
   "execution_count": 53,
   "metadata": {
    "slideshow": {
     "slide_type": "fragment"
    }
   },
   "outputs": [
    {
     "data": {
      "text/plain": [
       "2"
      ]
     },
     "execution_count": 53,
     "metadata": {},
     "output_type": "execute_result"
    }
   ],
   "source": [
    "tup = (2, 'xy')\n",
    "tup[0]"
   ]
  },
  {
   "cell_type": "code",
   "execution_count": 54,
   "metadata": {},
   "outputs": [
    {
     "ename": "TypeError",
     "evalue": "'tuple' object does not support item assignment",
     "output_type": "error",
     "traceback": [
      "\u001b[0;31m---------------------------------------------------------------------------\u001b[0m",
      "\u001b[0;31mTypeError\u001b[0m                                 Traceback (most recent call last)",
      "\u001b[0;32m<ipython-input-54-874559a0c62a>\u001b[0m in \u001b[0;36m<module>\u001b[0;34m\u001b[0m\n\u001b[0;32m----> 1\u001b[0;31m \u001b[0mtup\u001b[0m\u001b[0;34m[\u001b[0m\u001b[0;36m0\u001b[0m\u001b[0;34m]\u001b[0m \u001b[0;34m=\u001b[0m \u001b[0;36m2\u001b[0m\u001b[0;34m\u001b[0m\u001b[0;34m\u001b[0m\u001b[0m\n\u001b[0m",
      "\u001b[0;31mTypeError\u001b[0m: 'tuple' object does not support item assignment"
     ]
    }
   ],
   "source": [
    "tup[0] = 2"
   ]
  },
  {
   "cell_type": "markdown",
   "metadata": {
    "slideshow": {
     "slide_type": "slide"
    }
   },
   "source": [
    "#### Tuples in functions\n",
    "```py\n",
    "def find_longest_seq(file):\n",
    "    # some code here...\n",
    "    return length, sequence\n",
    "\n",
    "```"
   ]
  },
  {
   "cell_type": "markdown",
   "metadata": {
    "slideshow": {
     "slide_type": "fragment"
    }
   },
   "source": [
    "```py\n",
    "answer = find_longest_seq(filepath)\n",
    "print('length', answer[0])\n",
    "print('sequence', answer[1])\n",
    "```"
   ]
  },
  {
   "cell_type": "markdown",
   "metadata": {
    "slideshow": {
     "slide_type": "fragment"
    }
   },
   "source": [
    "```py\n",
    "answer = find_longest_seq(filepath) # return as a tuple\n",
    "length, sequence = find_longest_seq(filepath) # return as two variables\n",
    "```"
   ]
  },
  {
   "cell_type": "markdown",
   "metadata": {
    "slideshow": {
     "slide_type": "slide"
    }
   },
   "source": [
    "#### Deciding what to do\n",
    "\n",
    "```py\n",
    "if count > 10:\n",
    "   print('big')\n",
    "elif count > 5:\n",
    "   print('medium')\n",
    "else:\n",
    "   print('small')\n",
    "```"
   ]
  },
  {
   "cell_type": "code",
   "execution_count": 108,
   "metadata": {
    "slideshow": {
     "slide_type": "slide"
    }
   },
   "outputs": [
    {
     "name": "stdout",
     "output_type": "stream",
     "text": [
      "Better to stay at home\n"
     ]
    }
   ],
   "source": [
    "shopping_list = ['bread', 'egg', ' butter', 'milk']\n",
    "tired         = True\n",
    "\n",
    "if len(shopping_list) > 4:\n",
    "    print('Really need to go shopping!')\n",
    "elif not tired:\n",
    "    print('Not tired? Then go shopping!')\n",
    "else:\n",
    "    print('Better to stay at home')   "
   ]
  },
  {
   "cell_type": "markdown",
   "metadata": {
    "slideshow": {
     "slide_type": "slide"
    }
   },
   "source": [
    "#### Deciding what to do - if statement\n",
    "\n",
    "<img src=\"img/if_else_statement.png\" alt=\"Drawing\" style=\"width: 600px;\"/> "
   ]
  },
  {
   "cell_type": "markdown",
   "metadata": {
    "slideshow": {
     "slide_type": "slide"
    }
   },
   "source": [
    "#### Program flow - for loops\n",
    "\n",
    "```py\n",
    "information = []\n",
    "fh = open('myfile.txt', 'r')\n",
    "\n",
    "for line in fh:\n",
    "    if is_comment(line):\n",
    "       use_comment(line)\n",
    "    else:\n",
    "       information = read_data(line)\n",
    "```"
   ]
  },
  {
   "cell_type": "markdown",
   "metadata": {
    "slideshow": {
     "slide_type": "slide"
    }
   },
   "source": [
    "<img src=\"img/forloop.png\" alt=\"Drawing\" style=\"width: 600px;\"/> "
   ]
  },
  {
   "cell_type": "markdown",
   "metadata": {
    "slideshow": {
     "slide_type": "slide"
    }
   },
   "source": [
    "#### Program flow - while loops\n",
    "\n",
    "```py\n",
    "keep_going = True\n",
    "information = []\n",
    "index = 0\n",
    "\n",
    "while keep_going:\n",
    "    current_line = lines[index]\n",
    "    information += read_line(current_line)\n",
    "    index += 1\n",
    "    if check_something(current_line):\n",
    "        keep_going = False\n",
    "```"
   ]
  },
  {
   "cell_type": "markdown",
   "metadata": {
    "slideshow": {
     "slide_type": "slide"
    }
   },
   "source": [
    "<img src=\"img/whileloop.png\" alt=\"Drawing\" style=\"width: 600px;\"/> "
   ]
  },
  {
   "cell_type": "markdown",
   "metadata": {
    "slideshow": {
     "slide_type": "slide"
    }
   },
   "source": [
    "#### Different types of loops\n",
    "\n",
    "__`For` loop__\n",
    "\n",
    "is a control flow statement that performs operations over a known amount of steps.\n",
    "\n",
    "__`While` loop__\n",
    "\n",
    "is a control flow statement that allows code to be executed repeatedly based on a given Boolean condition.\n",
    "\n",
    "<br></br>\n",
    "\n",
    "__Which one to use?__\n",
    "\n",
    "`For` loops - standard for iterations over lists and other iterable objects\n",
    "\n",
    "`While` loops - more flexible and can iterate an unspecified number of times\n"
   ]
  },
  {
   "cell_type": "code",
   "execution_count": 56,
   "metadata": {
    "slideshow": {
     "slide_type": "slide"
    }
   },
   "outputs": [
    {
     "name": "stdout",
     "output_type": "stream",
     "text": [
      "T\n",
      "H\n",
      "A\n",
      "N\n",
      "K\n",
      " \n",
      "G\n",
      "O\n",
      "D\n",
      " \n",
      "I\n",
      "T\n",
      "'\n",
      "S\n",
      " \n",
      "F\n",
      "R\n",
      "I\n",
      "D\n",
      "A\n",
      "Y\n"
     ]
    }
   ],
   "source": [
    "user_input = \"thank god it's friday\"\n",
    "for letter in user_input:\n",
    "    print(letter.upper())"
   ]
  },
  {
   "cell_type": "code",
   "execution_count": 57,
   "metadata": {},
   "outputs": [
    {
     "name": "stdout",
     "output_type": "stream",
     "text": [
      "T\n",
      "H\n",
      "A\n",
      "N\n",
      "K\n",
      " \n",
      "G\n",
      "O\n",
      "D\n",
      " \n",
      "I\n",
      "T\n",
      "'\n",
      "S\n",
      " \n",
      "F\n",
      "R\n",
      "I\n",
      "D\n",
      "A\n",
      "Y\n"
     ]
    }
   ],
   "source": [
    "i = 0\n",
    "while i < len(user_input):\n",
    "    letter = user_input[i]\n",
    "    print(letter.upper())\n",
    "    i += 1"
   ]
  },
  {
   "cell_type": "code",
   "execution_count": null,
   "metadata": {
    "slideshow": {
     "slide_type": "skip"
    }
   },
   "outputs": [],
   "source": [
    "i = 0\n",
    "go_on = True\n",
    "while go_on:\n",
    "    c = user_input[i]\n",
    "    print(c.upper())\n",
    "    i += 1\n",
    "    if c == 'd':\n",
    "        go_on = False"
   ]
  },
  {
   "cell_type": "markdown",
   "metadata": {
    "slideshow": {
     "slide_type": "slide"
    }
   },
   "source": [
    "#### Controlling loops\n",
    "\n",
    "- `break` - stop the loop\n",
    "- `continue` - go on to the next iteration"
   ]
  },
  {
   "cell_type": "code",
   "execution_count": 59,
   "metadata": {
    "slideshow": {
     "slide_type": "slide"
    }
   },
   "outputs": [
    {
     "name": "stdout",
     "output_type": "stream",
     "text": [
      "T\n",
      "H\n",
      "A\n",
      "N\n",
      "K\n",
      " \n",
      "G\n",
      "O\n"
     ]
    }
   ],
   "source": [
    "user_input = \"thank god it's friday\"\n",
    "for letter in user_input:\n",
    "\n",
    "    if letter == 'd':\n",
    "        break\n",
    "    print(letter.upper())"
   ]
  },
  {
   "cell_type": "code",
   "execution_count": null,
   "metadata": {
    "slideshow": {
     "slide_type": "skip"
    }
   },
   "outputs": [],
   "source": [
    "i = 0\n",
    "while True:    \n",
    "    c = user_input[i]\n",
    "    i += 1\n",
    "    if c in 'aoueiy':\n",
    "        continue\n",
    "    print(c.upper())\n",
    "    if c == 'd':\n",
    "        break"
   ]
  },
  {
   "cell_type": "markdown",
   "metadata": {
    "slideshow": {
     "slide_type": "slide"
    }
   },
   "source": [
    "**Watch out!**"
   ]
  },
  {
   "cell_type": "code",
   "execution_count": null,
   "metadata": {
    "slideshow": {
     "slide_type": "-"
    }
   },
   "outputs": [],
   "source": [
    "# DON'T RUN THIS\n",
    "i = 0\n",
    "-while i < 10:    \n",
    "    print(user_input[i])\n"
   ]
  },
  {
   "cell_type": "markdown",
   "metadata": {
    "slideshow": {
     "slide_type": "fragment"
    }
   },
   "source": [
    "While loops may be infinite!"
   ]
  },
  {
   "cell_type": "markdown",
   "metadata": {
    "slideshow": {
     "slide_type": "slide"
    }
   },
   "source": [
    "#### Input/Output\n",
    "\n",
    "- In:\n",
    "\n",
    "  - Read files: `fh = open(filename, 'r')`\n",
    "      - `for line in fh:`\n",
    "         - `fh.read()`\n",
    "         - `fh.readlines()`\n",
    "  - Read information from command line: `sys.argv[1:]`\n",
    "\n",
    "- Out:\n",
    "\n",
    "  - Write files: `fh = open(filename, 'w')`\n",
    "       - `fh.write(text)`\n",
    "  - Printing: `print('my_information')`\n",
    "  \n"
   ]
  },
  {
   "cell_type": "markdown",
   "metadata": {
    "slideshow": {
     "slide_type": "slide"
    }
   },
   "source": [
    "#### Input/Output\n",
    "\n",
    "- Open files should be closed:\n",
    "    - `fh.close()`\n"
   ]
  },
  {
   "cell_type": "markdown",
   "metadata": {
    "slideshow": {
     "slide_type": "skip"
    }
   },
   "source": [
    "#### Formatting"
   ]
  },
  {
   "cell_type": "markdown",
   "metadata": {
    "slideshow": {
     "slide_type": "skip"
    }
   },
   "source": [
    "<pre>\n",
    "{[field_name] [: <font color=\"green\">format_spec</font>]}\n",
    "</pre>\n",
    "\n",
    "*Format_spec:*\n",
    "<pre>\n",
    "<font color=\"green\">filling alignment width precision type</font>\n",
    "   -       &gt;        10    .2       f\n",
    "</pre>\n",
    "\n",
    "```py\n",
    " print('|{:30}|{:^10}|{:^10.2f}|'.format(movie, votes, total/votes))\n",
    "```"
   ]
  },
  {
   "cell_type": "markdown",
   "metadata": {
    "slideshow": {
     "slide_type": "slide"
    }
   },
   "source": [
    "#### Code structure\n",
    "- Functions\n",
    "- Modules"
   ]
  },
  {
   "cell_type": "markdown",
   "metadata": {
    "slideshow": {
     "slide_type": "slide"
    }
   },
   "source": [
    "#### Functions\n",
    "\n",
    "- A named piece of code that performs a certain task.\n",
    "\n",
    "<img src=\"img/function_structure_explained.png\" alt=\"Drawing\" style=\"width: 600px;\"/>  \n",
    "\n",
    "\n",
    "- Is given a number of input arguments\n",
    "  - to be used (are in scope) within the function body\n",
    "- Returns a result (maybe `None`)"
   ]
  },
  {
   "cell_type": "markdown",
   "metadata": {
    "slideshow": {
     "slide_type": "slide"
    }
   },
   "source": [
    "#### Functions - keyword arguments\n",
    "\n",
    "```py\n",
    "def prettyprinter(name, value, delim=\":\", end=None):\n",
    "    out = \"The \" + name + \" is \" + delim + \" \" + value\n",
    "    if end:\n",
    "        out += end\n",
    "    return out\n",
    "```\n",
    "\n",
    "\n",
    "- used to set default values (often `None`)\n",
    "- can be skipped in function calls\n",
    "- improve readability"
   ]
  },
  {
   "cell_type": "markdown",
   "metadata": {
    "slideshow": {
     "slide_type": "skip"
    }
   },
   "source": [
    "#### Files (modules)\n",
    "\n",
    "- A (larger) piece of code containing functions, classes...\n",
    "- Corresponds to a file\n",
    "- Can be imported\n",
    "\n",
    "```py\n",
    "import mymodule\n",
    "```\n",
    "- Can be run as a script\n",
    "\n",
    "```> python3 mymodule.py```"
   ]
  },
  {
   "cell_type": "markdown",
   "metadata": {
    "slideshow": {
     "slide_type": "slide"
    }
   },
   "source": [
    "#### Using your code\n",
    "\n",
    "Any longer pieces of code that have been used and will be re-used should be saved\n",
    "\n",
    "- Save it as a file `    .py`\n",
    "\n",
    "- To run it:\n",
    "`python3 mycode.py`\n",
    "or `python mycode.py`\n",
    "\n",
    "- Import it:\n",
    "`import mycode`\n",
    "\n",
    "\n"
   ]
  },
  {
   "cell_type": "markdown",
   "metadata": {
    "slideshow": {
     "slide_type": "slide"
    }
   },
   "source": [
    "#### Documentation and comments\n",
    "\n",
    "- ```py\n",
    "\"\"\" This is a doc-string explaining what the purpose of this function/module is \"\"\"\n",
    "```\n",
    "- ```py\n",
    "# This is a comment that helps understanding the code\n",
    "```"
   ]
  },
  {
   "cell_type": "markdown",
   "metadata": {
    "slideshow": {
     "slide_type": "fragment"
    }
   },
   "source": [
    "- Comments *will* help you"
   ]
  },
  {
   "cell_type": "markdown",
   "metadata": {
    "slideshow": {
     "slide_type": "fragment"
    }
   },
   "source": [
    "- Undocumented code rarely gets used"
   ]
  },
  {
   "cell_type": "markdown",
   "metadata": {
    "slideshow": {
     "slide_type": "fragment"
    }
   },
   "source": [
    "- Try to keep your code readable: use informative variable and function names"
   ]
  },
  {
   "cell_type": "markdown",
   "metadata": {
    "slideshow": {
     "slide_type": "skip"
    }
   },
   "source": [
    "<div style=\"overflow-y:scroll; max-height:900px\">\n",
    "<img src=\"img/example_code.png\" alt=\"Module\"/>\n",
    "    </div>"
   ]
  },
  {
   "cell_type": "markdown",
   "metadata": {
    "slideshow": {
     "slide_type": "slide"
    }
   },
   "source": [
    "#### Why programming?\n",
    "\n",
    "Endless possibilities!  \n",
    "- reverse complement DNA\n",
    "- custom filtering of VCF files\n",
    "- plotting of results\n",
    "- all excel stuff!"
   ]
  },
  {
   "cell_type": "markdown",
   "metadata": {
    "slideshow": {
     "slide_type": "slide"
    }
   },
   "source": [
    "#### Why programming?\n",
    "\n",
    "- Computers are fast\n",
    "- Computers don't get bored\n",
    "- Computers don't get sloppy"
   ]
  },
  {
   "cell_type": "markdown",
   "metadata": {
    "slideshow": {
     "slide_type": "fragment"
    }
   },
   "source": [
    "- Create reproducable results\n",
    "    - for you and for others to use\n",
    "- Extract large amount of information"
   ]
  },
  {
   "cell_type": "markdown",
   "metadata": {
    "slideshow": {
     "slide_type": "slide"
    }
   },
   "source": [
    "#### Final advice\n",
    "\n",
    "- Take a moment to think before you start coding\n",
    "    - use pseudocode\n",
    "    - use top-down programming\n",
    "    - use paper and pen\n",
    "    - take breaks"
   ]
  },
  {
   "cell_type": "markdown",
   "metadata": {
    "slideshow": {
     "slide_type": "fragment"
    }
   },
   "source": [
    "- You know the basics - don't be afraid to try, it's the only way to learn\n",
    "- You will get faster\n"
   ]
  },
  {
   "cell_type": "markdown",
   "metadata": {
    "slideshow": {
     "slide_type": "slide"
    }
   },
   "source": [
    "#### Final advice (for real)\n",
    "\n",
    "- Getting help\n",
    "  - ask colleauges\n",
    "  - try talk about your problem (get a rubber duck https://en.wikipedia.org/wiki/Rubber_duck_debugging)\n",
    "  - search the web\n",
    "  - [NBIS drop-ins](https://nbis.se/events/)"
   ]
  },
  {
   "cell_type": "markdown",
   "metadata": {
    "slideshow": {
     "slide_type": "slide"
    }
   },
   "source": [
    "### <center>Now you know Python!</center>\n",
    "<br>\n",
    "<center><font size=20> 🎉 </font></center><br>\n",
    "<center><font size=20>    Well done!</font></center>\n",
    "\n",
    "##### Just a small quiz to finish the day"
   ]
  }
 ],
 "metadata": {
  "celltoolbar": "Slideshow",
  "kernelspec": {
   "display_name": "Python 3 (ipykernel)",
   "language": "python",
   "name": "python3"
  },
  "language_info": {
   "codemirror_mode": {
    "name": "ipython",
    "version": 3
   },
   "file_extension": ".py",
   "mimetype": "text/x-python",
   "name": "python",
   "nbconvert_exporter": "python",
   "pygments_lexer": "ipython3",
   "version": "3.11.0"
  },
  "rise": {
   "height": 900,
   "width": "90%"
  }
 },
 "nbformat": 4,
 "nbformat_minor": 2
}
