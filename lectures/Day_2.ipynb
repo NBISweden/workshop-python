{
 "cells": [
  {
   "cell_type": "code",
   "execution_count": 28,
   "metadata": {
    "slideshow": {
     "slide_type": "skip"
    }
   },
   "outputs": [],
   "source": [
    "from IPython.display import Image\n",
    "from IPython.display import clear_output\n",
    "from IPython.display import FileLink, FileLinks"
   ]
  },
  {
   "cell_type": "markdown",
   "metadata": {
    "slideshow": {
     "slide_type": "slide"
    }
   },
   "source": [
    "## Introduction to\n",
    "\n",
    "![title](img/python-logo-master-flat.png)\n",
    "\n",
    "### with Application to Bioinformatics\n",
    "\n",
    "#### - Day 2"
   ]
  },
  {
   "cell_type": "markdown",
   "metadata": {
    "slideshow": {
     "slide_type": "slide"
    }
   },
   "source": [
    "## Review Day 1\n",
    "\n",
    " Go to Canvas, `Modules -> Day 2 -> Review Day 1`\n",
    " \n",
    " ~30 minutes"
   ]
  },
  {
   "cell_type": "markdown",
   "metadata": {
    "slideshow": {
     "slide_type": "slide"
    }
   },
   "source": [
    "## Variables and Types\n",
    "\n",
    "__1. Which of the following is of the type `float`?:__  \n",
    "7.4  \n",
    "\n",
    "__2. Match the following variables with their type:__  \n",
    "\n",
    "`var1 = 54`               &emsp; &emsp; &emsp; &emsp; &ensp;  &ensp;   __integer__  \n",
    "`var2 = [1,2,7,1,24]`     &nbsp;    &nbsp;                             __list__  \n",
    "`var3 = 2.98`             &emsp; &emsp; &emsp;  &nbsp;  &nbsp; &nbsp;  __float__  \n",
    "`var4 = True`             &emsp; &emsp; &emsp;  &nbsp;  &nbsp; &nbsp;  __boolean__  "
   ]
  },
  {
   "cell_type": "markdown",
   "metadata": {
    "slideshow": {
     "slide_type": "slide"
    }
   },
   "source": [
    "### Literals\n",
    "\n",
    "All literals have a type:\n",
    "\n",
    "- Strings (str) &emsp; &emsp; &nbsp;      ‘Hello’ “Hi”\n",
    "- Integers (int)\t&emsp; &emsp;             5\n",
    "- Floats (float)\t&emsp; &emsp;             3.14\n",
    "- Boolean (bool) &emsp; &nbsp;  True or False"
   ]
  },
  {
   "cell_type": "code",
   "execution_count": 29,
   "metadata": {
    "slideshow": {
     "slide_type": "-"
    }
   },
   "outputs": [
    {
     "data": {
      "text/plain": [
       "bool"
      ]
     },
     "execution_count": 29,
     "metadata": {},
     "output_type": "execute_result"
    }
   ],
   "source": [
    "type(True)"
   ]
  },
  {
   "cell_type": "markdown",
   "metadata": {
    "slideshow": {
     "slide_type": "slide"
    }
   },
   "source": [
    "### Variables\n",
    "\n",
    "Used to store values and to assign them a name."
   ]
  },
  {
   "cell_type": "code",
   "execution_count": 30,
   "metadata": {
    "slideshow": {
     "slide_type": "-"
    }
   },
   "outputs": [
    {
     "data": {
      "text/plain": [
       "3.14"
      ]
     },
     "execution_count": 30,
     "metadata": {},
     "output_type": "execute_result"
    }
   ],
   "source": [
    "a = 3.14\n",
    "a"
   ]
  },
  {
   "cell_type": "markdown",
   "metadata": {
    "slideshow": {
     "slide_type": "fragment"
    }
   },
   "source": [
    "### Lists\n",
    "\n",
    "A collection of values."
   ]
  },
  {
   "cell_type": "code",
   "execution_count": 31,
   "metadata": {
    "slideshow": {
     "slide_type": "-"
    }
   },
   "outputs": [
    {
     "data": {
      "text/plain": [
       "list"
      ]
     },
     "execution_count": 31,
     "metadata": {},
     "output_type": "execute_result"
    }
   ],
   "source": [
    "x = [1,5,3,7,8]\n",
    "y = ['a','b','c']\n",
    "type(y)"
   ]
  },
  {
   "cell_type": "markdown",
   "metadata": {
    "slideshow": {
     "slide_type": "slide"
    }
   },
   "source": [
    "## Comments\n",
    "\n",
    "__3. Which of the following symbols can be used to write comments in your code?__\n",
    "\n",
    "\\#"
   ]
  },
  {
   "cell_type": "markdown",
   "metadata": {
    "slideshow": {
     "slide_type": "slide"
    }
   },
   "source": [
    "## Operations\n",
    "\n",
    "\n",
    "__4. What happens if you do `[1,2,5,11] + [87,2,43,3]`?__  \n",
    "`[1,2,5,11,87,2,43,3]`  &emsp; &emsp; The lists will be concatenated\n",
    "\n",
    "<br>\n",
    "\n",
    "__5. How do you find out if the variable `x` is present in a  the list `mylist`?__  \n",
    "Two answers correct:  \n",
    "1. `x in mylist`\n",
    "2.   \n",
    "```\n",
    "for l in mylist:\n",
    "        if l == x:\n",
    "            print('Found a match')\n",
    "```  \n",
    "\n",
    "__6. How do you find out if 5 is larger than 3 and the integer 4 is the same as the float 4? Fill in all the missing code.__  \n",
    "`5 > 3 and 4 == 4.0`"
   ]
  },
  {
   "cell_type": "markdown",
   "metadata": {
    "slideshow": {
     "slide_type": "slide"
    }
   },
   "source": [
    "### Basic operations\n",
    "\n",
    "__Type &emsp; &emsp; &emsp; &emsp;  Operations__\n",
    "\n",
    "int &emsp; &emsp; &emsp; &emsp; &emsp;        +  -  *  /  **  %  // ...  \n",
    "float &emsp; &emsp; &emsp; &emsp; &nbsp;      +  -  *  /  **  %  // ...  \n",
    "string &emsp; &emsp; &emsp; &ensp; &nbsp;           + *"
   ]
  },
  {
   "cell_type": "code",
   "execution_count": 32,
   "metadata": {
    "slideshow": {
     "slide_type": "-"
    }
   },
   "outputs": [
    {
     "data": {
      "text/plain": [
       "[5, 6, 7, 8, 5, 6, 7, 8, 5, 6, 7, 8]"
      ]
     },
     "execution_count": 32,
     "metadata": {},
     "output_type": "execute_result"
    }
   ],
   "source": [
    "a = 2\n",
    "b = 5.46\n",
    "c = [1,2,3,4]\n",
    "d = [5,6,7,8]\n",
    "e = 7\n",
    "\n",
    "d * 3"
   ]
  },
  {
   "cell_type": "markdown",
   "metadata": {
    "slideshow": {
     "slide_type": "slide"
    }
   },
   "source": [
    " ### Comparison/Logical/Membership operators\n",
    " \n",
    " <img src=\"img/operators_summary.png\" alt=\"Drawing\" style=\"width: 800px;\"/> "
   ]
  },
  {
   "cell_type": "code",
   "execution_count": 33,
   "metadata": {
    "slideshow": {
     "slide_type": "-"
    }
   },
   "outputs": [
    {
     "data": {
      "text/plain": [
       "False"
      ]
     },
     "execution_count": 33,
     "metadata": {},
     "output_type": "execute_result"
    }
   ],
   "source": [
    "a = [1,2,3,4,5,6,7,8]\n",
    "b = 5\n",
    "c = 10\n",
    "b in a\n",
    "b < c or c == 1\n",
    "b not in a "
   ]
  },
  {
   "cell_type": "markdown",
   "metadata": {
    "slideshow": {
     "slide_type": "slide"
    }
   },
   "source": [
    "## Sequences\n",
    "\n",
    "__7. How do you select the second element in the variable `mylist = [4,3,8,10]`?__  \n",
    "`mylist[1]`  \n",
    "<br>\n",
    "__8. Pair the following variables with whether they are mutable or immutable__  \n",
    "\n",
    "`var1 = 'my pretty string'`    &emsp; &emsp; &emsp;                     __immutable__  \n",
    "`var2 = [1,2,3,4,5]`           &emsp; &emsp; &emsp; &emsp; &emsp; &emsp; __mutable__  \n",
    "`var3 = \"hello world\"`         &emsp; &emsp; &emsp; &emsp; &ensp; &nbsp;        __immutable__  \n",
    "`var4 = ['a', 'b', 'c', 'd']`  &emsp; &emsp;       __mutable__  \n",
    "<br>\n",
    "__9. Which of the following types are iterable?__  \n",
    "Lists and strings"
   ]
  },
  {
   "cell_type": "markdown",
   "metadata": {
    "slideshow": {
     "slide_type": "slide"
    }
   },
   "source": [
    "### Indexing\n",
    "\n",
    "Lists (and strings) are an ORDERED collection of elements where every element can be access through an index.\n",
    "\n",
    "`a[0]`  : first item in list a\n",
    "\n",
    "REMEMBER! Indexing starts at 0 in python"
   ]
  },
  {
   "cell_type": "code",
   "execution_count": 34,
   "metadata": {
    "slideshow": {
     "slide_type": "-"
    }
   },
   "outputs": [
    {
     "data": {
      "text/plain": [
       "[1, 2]"
      ]
     },
     "execution_count": 34,
     "metadata": {},
     "output_type": "execute_result"
    }
   ],
   "source": [
    "a = [1,2,3,4,5]\n",
    "b = ['a','b','c']\n",
    "c = 'a random string'\n",
    "\n",
    "c[2]\n",
    "a[:2]"
   ]
  },
  {
   "cell_type": "markdown",
   "metadata": {
    "slideshow": {
     "slide_type": "slide"
    }
   },
   "source": [
    "### Mutable / Immutable sequences and iterables\n",
    "\n",
    "Lists are mutable object, meaning you can use an index to change the list, while strings are immutable and therefore not changeable.\n",
    "\n",
    "An iterable sequence is anything you can loop over, ie, lists and strings."
   ]
  },
  {
   "cell_type": "code",
   "execution_count": 35,
   "metadata": {
    "slideshow": {
     "slide_type": "-"
    }
   },
   "outputs": [
    {
     "data": {
      "text/plain": [
       "[42, 2, 3, 4, 5]"
      ]
     },
     "execution_count": 35,
     "metadata": {},
     "output_type": "execute_result"
    }
   ],
   "source": [
    "a = [1,2,3,4,5]         # mutable\n",
    "b = ['a','b','c']       # mutable\n",
    "c = 'a random string'   # immutable\n",
    "\n",
    "#c[0] = 'A'\n",
    "a[0] = 42\n",
    "a"
   ]
  },
  {
   "cell_type": "markdown",
   "metadata": {
    "slideshow": {
     "slide_type": "slide"
    }
   },
   "source": [
    "## New data type: `tuples`\n",
    "\n",
    "- A tuple is an immutable sequence of objects\n",
    "- Unlike a list, nothing can be changed in a tuple\n",
    "- Still iterable"
   ]
  },
  {
   "cell_type": "code",
   "execution_count": 36,
   "metadata": {
    "slideshow": {
     "slide_type": "-"
    }
   },
   "outputs": [
    {
     "name": "stdout",
     "output_type": "stream",
     "text": [
      "(1, 2, 3, 4, 'a', 'b', 'c', [42, 43, 44])\n",
      "1\n",
      "2\n",
      "3\n",
      "4\n",
      "a\n",
      "b\n",
      "c\n",
      "[42, 43, 44]\n"
     ]
    }
   ],
   "source": [
    "myTuple = (1,2,3,4,'a','b','c',[42,43,44])\n",
    "#myTuple[0] = 42\n",
    "print(myTuple)\n",
    "#print(len(myTuple))\n",
    "for i in myTuple:\n",
    "     print(i)"
   ]
  },
  {
   "cell_type": "markdown",
   "metadata": {
    "slideshow": {
     "slide_type": "slide"
    }
   },
   "source": [
    "## If/ Else statements\n",
    "\n",
    "__10. How do you do to print ‘Yes’ if x is bigger than y?__  \n",
    "`if x > y:`  \n",
    "&emsp;`print('Yes')`"
   ]
  },
  {
   "cell_type": "code",
   "execution_count": 37,
   "metadata": {
    "slideshow": {
     "slide_type": "fragment"
    }
   },
   "outputs": [
    {
     "name": "stdout",
     "output_type": "stream",
     "text": [
      "7 is not in the list\n"
     ]
    }
   ],
   "source": [
    "a = 7\n",
    "b = [1,2,3,4]\n",
    "if a in b:\n",
    "    print(str(a)+' is found in the list b')\n",
    "else:\n",
    "    print(str(a)+' is not in the list')"
   ]
  },
  {
   "cell_type": "markdown",
   "metadata": {
    "slideshow": {
     "slide_type": "slide"
    }
   },
   "source": [
    "## Files and loops\n",
    "\n",
    "__How do you open a file handle to read a file called ‘somerandomfile.txt’?__  \n",
    "`fh = open('somerandomfile.txt')`\n",
    "\n",
    "<br>\n",
    "\n",
    "__The file in the previous question contains several lines, how do you print each line?__  \n",
    "1. `for line in fh:`  \n",
    "&emsp;`print(line)`\n",
    "\n",
    "2. `for row in fh:`  \n",
    "&emsp;`print(row)`"
   ]
  },
  {
   "cell_type": "code",
   "execution_count": 38,
   "metadata": {
    "slideshow": {
     "slide_type": "slide"
    }
   },
   "outputs": [
    {
     "name": "stdout",
     "output_type": "stream",
     "text": [
      "just a strange\n",
      "file with\n",
      "some\n",
      "nonsense lines\n"
     ]
    }
   ],
   "source": [
    "fh = open('../files/somerandomfile.txt','r', encoding = 'utf-8')\n",
    "for line in fh:\n",
    "    print(line.strip())\n",
    "fh.close()"
   ]
  },
  {
   "cell_type": "code",
   "execution_count": 39,
   "metadata": {
    "slideshow": {
     "slide_type": "-"
    }
   },
   "outputs": [
    {
     "name": "stdout",
     "output_type": "stream",
     "text": [
      "5\n",
      "6\n",
      "7\n",
      "8\n"
     ]
    }
   ],
   "source": [
    "numbers = [5,6,7,8]\n",
    "i = 0\n",
    "while i < len(numbers):\n",
    "    print(numbers[i])\n",
    "    i += 1\n"
   ]
  },
  {
   "cell_type": "markdown",
   "metadata": {
    "slideshow": {
     "slide_type": "slide"
    }
   },
   "source": [
    "# Questions?"
   ]
  },
  {
   "cell_type": "markdown",
   "metadata": {
    "slideshow": {
     "slide_type": "slide"
    }
   },
   "source": [
    "## Day 2\n",
    "\n",
    "- Pseudocode\n",
    "- Functions vs Methods"
   ]
  },
  {
   "cell_type": "markdown",
   "metadata": {
    "slideshow": {
     "slide_type": "slide"
    }
   },
   "source": [
    "## How to approach a coding task\n",
    "\n",
    "Problem:  \n",
    "You have a VCF file with a larger number of samples. You are interested in only one of the samples (sample1) and one region (chr5, 1.000.000-1.005.000). What you want to know is whether this sample has any variants in this region, and if so, what variants.\n"
   ]
  },
  {
   "cell_type": "markdown",
   "metadata": {
    "slideshow": {
     "slide_type": "slide"
    }
   },
   "source": [
    "## Always write pseudocode!\n",
    "\n",
    "<br></br>\n",
    "\n",
    "Pseudocode is a description of what you want to do without actually using proper syntax"
   ]
  },
  {
   "cell_type": "markdown",
   "metadata": {
    "slideshow": {
     "slide_type": "slide"
    }
   },
   "source": [
    "### What is your input?\n",
    "\n",
    "A VCF file that is iterable\n",
    "\n",
    "<img src=\"img/vcf_header.png\" alt=\"Drawing\" style=\"width: 1000px;\"/> "
   ]
  },
  {
   "cell_type": "markdown",
   "metadata": {
    "slideshow": {
     "slide_type": "fragment"
    }
   },
   "source": [
    "#### Basic Pseudocode:\n",
    "- Open file and loop over lines (ignore lines with #)\n",
    "- Identify lines where chromosome is 5 and position is between 1.000.000 and 1.005.000\n",
    "- Isolate the column that contains the genotype for sample1\n",
    "- Extract the genotypes only from the column\n",
    "- Check if the genotype contains any alternate alleles\n",
    "- Print any variants containing alternate alleles for this sample between specified region"
   ]
  },
  {
   "cell_type": "markdown",
   "metadata": {
    "slideshow": {
     "slide_type": "slide"
    }
   },
   "source": [
    "<img src=\"img/vcf_header.png\" alt=\"Drawing\" style=\"width: 1000px;\"/> "
   ]
  },
  {
   "cell_type": "markdown",
   "metadata": {
    "slideshow": {
     "slide_type": "-"
    }
   },
   "source": [
    "__- Open file and loop over lines (ignore lines starting with #)__"
   ]
  },
  {
   "cell_type": "code",
   "execution_count": 40,
   "metadata": {
    "scrolled": true,
    "slideshow": {
     "slide_type": "-"
    }
   },
   "outputs": [
    {
     "name": "stdout",
     "output_type": "stream",
     "text": [
      "1\t10492\t.\tC\tT\t550.31\tLOW_VQSLOD\tAN=26;AC=2\tGT:AD:DP:GQ:PGT:PID:PL\t./.:0,0:0:.:.:.:.\t./.:0,0:0:.:.:.:.\t./.:0,0:0:.:.:.:.\t./.:0,0:0:.:.:.:.\t./.:0,0:0:.:.:.:.\t0/1:12,7:19:99:0|1:10403_ACCCTAACCCTAACCCTAACCCTAACCCTAACCCTAAC_A:196,0,340\t./.:0,0:0:.:.:.:.\t./.:0,0:0:.:.:.:.\t./.:0,0:0:.:.:.:.\t./.:0,0:0:.:.:.:.\t0/1:18,4:22:48:.:.:48,0,504\t./.:0,0:0:.:.:.:.\t./.:0,0:0:.:.:.:.\n"
     ]
    }
   ],
   "source": [
    "fh = open('/mnt/c/Users/Nina/Documents/courses/Python_Beginner_Course/genotypes.vcf', 'r', encoding = 'utf-8')\n",
    "for line in fh:\n",
    "    if not line.startswith('#'):  \n",
    "        print(line.strip())\n",
    "        break\n",
    "fh.close()\n",
    "# Next, find chromosome 5"
   ]
  },
  {
   "cell_type": "markdown",
   "metadata": {
    "slideshow": {
     "slide_type": "slide"
    }
   },
   "source": [
    "__- Identify lines where chromosome is 5 and position is between 1.000.000 and 1.005.000__"
   ]
  },
  {
   "cell_type": "markdown",
   "metadata": {
    "slideshow": {
     "slide_type": "-"
    }
   },
   "source": [
    "<img src=\"img/vcf_header.png\" alt=\"Drawing\" style=\"width: 1000px;\"/> "
   ]
  },
  {
   "cell_type": "code",
   "execution_count": 41,
   "metadata": {
    "slideshow": {
     "slide_type": "-"
    }
   },
   "outputs": [
    {
     "name": "stdout",
     "output_type": "stream",
     "text": [
      "5\n"
     ]
    }
   ],
   "source": [
    "fh = open('/mnt/c/Users/Nina/Documents/courses/Python_Beginner_Course/genotypes.vcf', 'r', encoding = 'utf-8')\n",
    "for line in fh:\n",
    "    if not line.startswith('#'):\n",
    "        cols = line.strip().split('\\t')\n",
    "        if cols[0] == '5':\n",
    "            print(cols[0])\n",
    "            break\n",
    "fh.close()\n",
    "\n",
    "# Next, find the correct region"
   ]
  },
  {
   "cell_type": "markdown",
   "metadata": {
    "slideshow": {
     "slide_type": "slide"
    }
   },
   "source": [
    "<img src=\"img/vcf_header.png\" alt=\"Drawing\" style=\"width: 1200px;\"/> "
   ]
  },
  {
   "cell_type": "code",
   "execution_count": 42,
   "metadata": {
    "slideshow": {
     "slide_type": "-"
    }
   },
   "outputs": [
    {
     "name": "stdout",
     "output_type": "stream",
     "text": [
      "['5', '1000080', '.', 'A', 'T', '2557.1', 'PASS', 'AN=26;AC=2', 'GT:AD:DP:GQ:PL', '0/1:15,18:33:99:489,0,357', './.:0,0:0:.:.', './.:0,0:0:.:.', './.:0,0:0:.:.', './.:0,0:0:.:.', './.:0,0:0:.:.', './.:0,0:0:.:.', './.:0,0:0:.:.', '0/1:21,19:40:99:481,0,542', './.:0,0:0:.:.', './.:0,0:0:.:.', './.:0,0:0:.:.', './.:0,0:0:.:.']\n"
     ]
    }
   ],
   "source": [
    "fh = open('/mnt/c/Users/Nina/Documents/courses/Python_Beginner_Course/genotypes.vcf', 'r', encoding = 'utf-8')\n",
    "for line in fh:\n",
    "    if not line.startswith('#'):\n",
    "        cols = line.strip().split('\\t')\n",
    "        if cols[0] == '5' and \\\n",
    "           int(cols[1]) >= 1000000 and int(cols[1]) <= 1005000:\n",
    "                print(cols)\n",
    "                break\n",
    "fh.close()\n",
    "# Next, find the genotypes for sample1"
   ]
  },
  {
   "cell_type": "markdown",
   "metadata": {
    "slideshow": {
     "slide_type": "slide"
    }
   },
   "source": [
    "__- Isolate the column that contains the genotype for sample1__"
   ]
  },
  {
   "cell_type": "markdown",
   "metadata": {
    "slideshow": {
     "slide_type": "-"
    }
   },
   "source": [
    "<img src=\"img/vcf_header.png\" alt=\"Drawing\" style=\"width: 1000px;\"/> "
   ]
  },
  {
   "cell_type": "code",
   "execution_count": 43,
   "metadata": {
    "slideshow": {
     "slide_type": "-"
    }
   },
   "outputs": [
    {
     "name": "stdout",
     "output_type": "stream",
     "text": [
      "0/1:15,18:33:99:489,0,357\n"
     ]
    }
   ],
   "source": [
    "fh = open('/mnt/c/Users/Nina/Documents/courses/Python_Beginner_Course/genotypes.vcf', 'r', encoding = 'utf-8')\n",
    "for line in fh:\n",
    "    if not line.startswith('#'):\n",
    "        cols = line.strip().split('\\t')\n",
    "        if cols[0] == '5' and \\\n",
    "           int(cols[1]) >= 1000000 and int(cols[1]) <= 1005000:\n",
    "                geno = cols[9]\n",
    "                print(geno)\n",
    "                break\n",
    "fh.close()\n",
    "# Next, extract the genotypes only"
   ]
  },
  {
   "cell_type": "markdown",
   "metadata": {
    "slideshow": {
     "slide_type": "slide"
    }
   },
   "source": [
    "__- Extract the genotypes only from the column__"
   ]
  },
  {
   "cell_type": "markdown",
   "metadata": {
    "slideshow": {
     "slide_type": "-"
    }
   },
   "source": [
    "<img src=\"img/vcf_header.png\" alt=\"Drawing\" style=\"width: 1000px;\"/> "
   ]
  },
  {
   "cell_type": "code",
   "execution_count": 44,
   "metadata": {
    "slideshow": {
     "slide_type": "-"
    }
   },
   "outputs": [
    {
     "name": "stdout",
     "output_type": "stream",
     "text": [
      "['0/1', '15,18', '33', '99', '489,0,357']\n",
      "0/1\n"
     ]
    }
   ],
   "source": [
    "fh = open('/mnt/c/Users/Nina/Documents/courses/Python_Beginner_Course/genotypes.vcf', 'r', encoding = 'utf-8')\n",
    "for line in fh:\n",
    "    if not line.startswith('#'):\n",
    "        cols = line.strip().split('\\t')\n",
    "        if cols[0] == '5' and \\\n",
    "           int(cols[1]) >= 1000000 and int(cols[1]) <= 1005000:\n",
    "                geno = cols[9].split(':')[0]\n",
    "                print(cols[9].split(':'))\n",
    "                print(geno)\n",
    "                break\n",
    "fh.close()\n",
    "# Next, find in which positions sample1 has alternate alleles"
   ]
  },
  {
   "cell_type": "markdown",
   "metadata": {
    "slideshow": {
     "slide_type": "slide"
    }
   },
   "source": [
    "__- Check if the genotype contains any alternate alleles__"
   ]
  },
  {
   "cell_type": "markdown",
   "metadata": {
    "slideshow": {
     "slide_type": "-"
    }
   },
   "source": [
    "<img src=\"img/vcf_header.png\" alt=\"Drawing\" style=\"width: 1000px;\"/> "
   ]
  },
  {
   "cell_type": "code",
   "execution_count": 45,
   "metadata": {
    "slideshow": {
     "slide_type": "-"
    }
   },
   "outputs": [
    {
     "name": "stdout",
     "output_type": "stream",
     "text": [
      "0/1\n",
      "0/1\n",
      "0/1\n",
      "0/1\n",
      "0/1\n",
      "0/1\n",
      "0/1\n",
      "0/1\n",
      "0/1\n",
      "0/1\n",
      "0/1\n",
      "0/1\n",
      "0/1\n",
      "0/1\n",
      "0/1\n",
      "0/1\n",
      "0/1\n",
      "0/1\n",
      "0/1\n",
      "0/1\n",
      "0/1\n",
      "0/1\n"
     ]
    }
   ],
   "source": [
    "fh = open('/mnt/c/Users/Nina/Documents/courses/Python_Beginner_Course/genotypes.vcf', 'r', encoding = 'utf-8')\n",
    "for line in fh:\n",
    "    if not line.startswith('#'):\n",
    "        cols = line.strip().split('\\t')\n",
    "        if cols[0] == '5' and \\\n",
    "           int(cols[1]) >= 1000000 and int(cols[1]) <= 1005000:\n",
    "                geno = cols[9].split(':')[0]\n",
    "                if geno in ['0/1', '1/1']:\n",
    "                    print(geno)\n",
    "fh.close()\n",
    "#Next, print nicely"
   ]
  },
  {
   "cell_type": "markdown",
   "metadata": {
    "slideshow": {
     "slide_type": "slide"
    }
   },
   "source": [
    "__- Print any variants containing alternate alleles for this sample between specified region__"
   ]
  },
  {
   "cell_type": "markdown",
   "metadata": {
    "slideshow": {
     "slide_type": "-"
    }
   },
   "source": [
    "<img src=\"img/vcf_header.png\" alt=\"Drawing\" style=\"width: 1000px;\"/> "
   ]
  },
  {
   "cell_type": "code",
   "execution_count": 46,
   "metadata": {
    "slideshow": {
     "slide_type": "-"
    }
   },
   "outputs": [
    {
     "name": "stdout",
     "output_type": "stream",
     "text": [
      "5:1000080_A-T has genotype: 0/1\n",
      "5:1000156_G-A has genotype: 0/1\n",
      "5:1001097_C-A has genotype: 0/1\n",
      "5:1001193_C-T has genotype: 0/1\n",
      "5:1001245_T-C has genotype: 0/1\n",
      "5:1001339_C-T has genotype: 0/1\n",
      "5:1001344_G-C has genotype: 0/1\n",
      "5:1001683_G-T has genotype: 0/1\n",
      "5:1001755_G-A has genotype: 0/1\n",
      "5:1002374_G-A has genotype: 0/1\n",
      "5:1002382_G-C has genotype: 0/1\n",
      "5:1002620_T-C has genotype: 0/1\n",
      "5:1002722_G-A has genotype: 0/1\n",
      "5:1002819_C-A has genotype: 0/1\n",
      "5:1003043_G-T has genotype: 0/1\n",
      "5:1003099_C-T has genotype: 0/1\n",
      "5:1003135_G-A has genotype: 0/1\n",
      "5:1004648_A-G has genotype: 0/1\n",
      "5:1004650_A-C has genotype: 0/1\n",
      "5:1004665_A-G has genotype: 0/1\n",
      "5:1004702_G-T has genotype: 0/1\n",
      "5:1004879_T-C has genotype: 0/1\n"
     ]
    }
   ],
   "source": [
    "fh = open('/mnt/c/Users/Nina/Documents/courses/Python_Beginner_Course/genotypes.vcf', 'r', encoding = 'utf-8')\n",
    "for line in fh:\n",
    "    if not line.startswith('#'):\n",
    "        cols = line.strip().split('\\t')\n",
    "        if cols[0] == '5' and \\\n",
    "           int(cols[1]) >= 1000000 and int(cols[1]) <= 1005000:\n",
    "                geno = cols[9].split(':')[0]\n",
    "                if geno in ['0/1', '1/1']:\n",
    "                    var = cols[0]+':'+cols[1]+'_'+cols[3]+'-'+cols[4]\n",
    "                    print(var+' has genotype: '+geno)\n",
    "fh.close()"
   ]
  },
  {
   "cell_type": "markdown",
   "metadata": {
    "slideshow": {
     "slide_type": "slide"
    }
   },
   "source": [
    "__&rarr; Exercises Day 2__\n",
    "\n",
    "3 options:  \n",
    "1. <p style=\"color:green\";>Green exercise</p>\n",
    "2. <p style=\"color:#FFBF00\";>Yellow exercise</p>\n",
    "3. <p style=\"color:red\";>Red exercise</p>\n",
    "\n",
    "Level of complexity increases with each exercises  \n",
    "_New to programming_: Do Green exercise and possibly Yellow exercise  \n",
    "_More experienced_: Do Yellow exercise and/or Red exercise"
   ]
  },
  {
   "cell_type": "markdown",
   "metadata": {
    "slideshow": {
     "slide_type": "slide"
    }
   },
   "source": [
    "## More useful functions and methods\n",
    "\n",
    "__What is the difference between a `function` and a `method`?__\n",
    "\n",
    "A `method` always belongs to an object of a specific class, a `function` does not have to. For example:\n",
    "\n",
    "`print('a string')` and `print(42)` both works, even though one is a string and one is an integer\n",
    "\n",
    "`'a string '.strip()` works, but `[1,2,3,4].strip()` does not work. `strip()` is a method that only works on strings\n"
   ]
  },
  {
   "cell_type": "markdown",
   "metadata": {
    "slideshow": {
     "slide_type": "slide"
    }
   },
   "source": [
    "__What does it matter to me?__\n",
    "\n",
    "For now, you mostly need to be aware of the difference, and know the different syntaxes:\n",
    "\n",
    "__A function:__  \n",
    "`functionName()`\n",
    "\n",
    "__A method:__  \n",
    "```<object>.methodName()```\n"
   ]
  },
  {
   "cell_type": "code",
   "execution_count": 49,
   "metadata": {
    "slideshow": {
     "slide_type": "slide"
    }
   },
   "outputs": [
    {
     "data": {
      "text/plain": [
       "'a string'"
      ]
     },
     "execution_count": 49,
     "metadata": {},
     "output_type": "execute_result"
    }
   ],
   "source": [
    "len([1,2,3])\n",
    "len('a string')\n",
    "\n",
    "'a string  '.strip()\n",
    "#[1,2,3].strip() "
   ]
  },
  {
   "cell_type": "markdown",
   "metadata": {
    "slideshow": {
     "slide_type": "slide"
    }
   },
   "source": [
    "## Functions"
   ]
  },
  {
   "cell_type": "markdown",
   "metadata": {
    "slideshow": {
     "slide_type": "-"
    }
   },
   "source": [
    "<img src=\"img/built-in_functions.png\" alt=\"Drawing\" style=\"width: 800px;\"/> "
   ]
  },
  {
   "cell_type": "markdown",
   "metadata": {
    "slideshow": {
     "slide_type": "-"
    }
   },
   "source": [
    "[Python Built-in functions](https://docs.python.org/3/library/functions.html#)"
   ]
  },
  {
   "cell_type": "markdown",
   "metadata": {
    "slideshow": {
     "slide_type": "slide"
    }
   },
   "source": [
    "<img src=\"img/built-in_functions_int.png\" alt=\"Drawing\" style=\"width: 800px;\"/> "
   ]
  },
  {
   "cell_type": "code",
   "execution_count": 50,
   "metadata": {
    "slideshow": {
     "slide_type": "-"
    }
   },
   "outputs": [
    {
     "name": "stdout",
     "output_type": "stream",
     "text": [
      "0\n",
      "1\n",
      "2\n",
      "3\n",
      "4\n"
     ]
    }
   ],
   "source": [
    "range(5)\n",
    "\n",
    "for i in range(5):\n",
    "    print(i)"
   ]
  },
  {
   "cell_type": "markdown",
   "metadata": {
    "slideshow": {
     "slide_type": "slide"
    }
   },
   "source": [
    "<img src=\"img/built-in_functions_list.png\" alt=\"Drawing\" style=\"width: 800px;\"/> "
   ]
  },
  {
   "cell_type": "code",
   "execution_count": 51,
   "metadata": {
    "slideshow": {
     "slide_type": "-"
    }
   },
   "outputs": [
    {
     "data": {
      "text/plain": [
       "[1, 2, 4, 23, 35, 88]"
      ]
     },
     "execution_count": 51,
     "metadata": {},
     "output_type": "execute_result"
    }
   ],
   "source": [
    "sorted([1,2,35,23,88,4])"
   ]
  },
  {
   "cell_type": "markdown",
   "metadata": {
    "slideshow": {
     "slide_type": "slide"
    }
   },
   "source": [
    "### From Python documentation\n",
    "\n",
    "<br></br>\n",
    "\n",
    "<img src=\"img/sum_function.png\" alt=\"Drawing\" style=\"width: 800px;\"/> "
   ]
  },
  {
   "cell_type": "code",
   "execution_count": 52,
   "metadata": {
    "slideshow": {
     "slide_type": "-"
    }
   },
   "outputs": [
    {
     "data": {
      "text/plain": [
       "14"
      ]
     },
     "execution_count": 52,
     "metadata": {},
     "output_type": "execute_result"
    }
   ],
   "source": [
    "sum([1,2,3,4],4)\n",
    "#help(sum)"
   ]
  },
  {
   "cell_type": "markdown",
   "metadata": {
    "slideshow": {
     "slide_type": "slide"
    }
   },
   "source": [
    "<img src=\"img/built-in_functions_misc.png\" alt=\"Drawing\" style=\"width: 800px;\"/> "
   ]
  },
  {
   "cell_type": "code",
   "execution_count": 53,
   "metadata": {
    "slideshow": {
     "slide_type": "-"
    }
   },
   "outputs": [
    {
     "data": {
      "text/plain": [
       "int"
      ]
     },
     "execution_count": 53,
     "metadata": {},
     "output_type": "execute_result"
    }
   ],
   "source": [
    "round(3.234556, 3)\n",
    "type(4)"
   ]
  },
  {
   "cell_type": "markdown",
   "metadata": {
    "slideshow": {
     "slide_type": "slide"
    }
   },
   "source": [
    "## Methods\n",
    "\n",
    "### Useful operations on strings\n",
    "\n",
    "<img src=\"img/string_methods.png\" alt=\"Drawing\" style=\"width: 600px;\"/> "
   ]
  },
  {
   "cell_type": "markdown",
   "metadata": {
    "slideshow": {
     "slide_type": "fragment"
    }
   },
   "source": [
    "<img src=\"img/strip.png\" alt=\"Drawing\" style=\"width: 800px;\"/> "
   ]
  },
  {
   "cell_type": "markdown",
   "metadata": {
    "slideshow": {
     "slide_type": "slide"
    }
   },
   "source": [
    "<img src=\"img/lstrip.png\" alt=\"Drawing\" style=\"width: 800px;\"/>  \n",
    "\n",
    "<img src=\"img/rstrip.png\" alt=\"Drawing\" style=\"width: 800px;\"/> "
   ]
  },
  {
   "cell_type": "code",
   "execution_count": 54,
   "metadata": {
    "slideshow": {
     "slide_type": "-"
    }
   },
   "outputs": [
    {
     "data": {
      "text/plain": [
       "'    spaciousWith5678.'"
      ]
     },
     "execution_count": 54,
     "metadata": {},
     "output_type": "execute_result"
    }
   ],
   "source": [
    "'    spaciousWith5678.com'.strip('mco')"
   ]
  },
  {
   "cell_type": "markdown",
   "metadata": {
    "slideshow": {
     "slide_type": "slide"
    }
   },
   "source": [
    "<img src=\"img/split.png\" alt=\"Drawing\" style=\"width: 800px;\"/> "
   ]
  },
  {
   "cell_type": "code",
   "execution_count": 55,
   "metadata": {
    "slideshow": {
     "slide_type": "-"
    }
   },
   "outputs": [
    {
     "data": {
      "text/plain": [
       "['split', 'a', 'string', 'into a list ']"
      ]
     },
     "execution_count": 55,
     "metadata": {},
     "output_type": "execute_result"
    }
   ],
   "source": [
    "a = '  split a string into a list '\n",
    "a.split(maxsplit=3)"
   ]
  },
  {
   "cell_type": "markdown",
   "metadata": {
    "slideshow": {
     "slide_type": "slide"
    }
   },
   "source": [
    "<img src=\"img/join.png\" alt=\"Drawing\" style=\"width: 800px;\"/> "
   ]
  },
  {
   "cell_type": "code",
   "execution_count": 56,
   "metadata": {
    "slideshow": {
     "slide_type": "-"
    }
   },
   "outputs": [
    {
     "data": {
      "text/plain": [
       "'a| |s|t|r|i|n|g| |a|l|r|e|a|d|y'"
      ]
     },
     "execution_count": 56,
     "metadata": {},
     "output_type": "execute_result"
    }
   ],
   "source": [
    "'|'.join('a string already')\n",
    "#'|'.join(['a', 'b', 'c', 'd'])"
   ]
  },
  {
   "cell_type": "markdown",
   "metadata": {
    "slideshow": {
     "slide_type": "slide"
    }
   },
   "source": [
    "<img src=\"img/startswith.png\" alt=\"Drawing\" style=\"width: 800px;\"/>  \n",
    "\n",
    "<img src=\"img/endswith.png\" alt=\"Drawing\" style=\"width: 800px;\"/> "
   ]
  },
  {
   "cell_type": "code",
   "execution_count": 57,
   "metadata": {
    "slideshow": {
     "slide_type": "-"
    }
   },
   "outputs": [
    {
     "data": {
      "text/plain": [
       "False"
      ]
     },
     "execution_count": 57,
     "metadata": {},
     "output_type": "execute_result"
    }
   ],
   "source": [
    "'long string'.startswith('ng',2)\n",
    "'long string'.endswith('nt')"
   ]
  },
  {
   "cell_type": "markdown",
   "metadata": {
    "slideshow": {
     "slide_type": "slide"
    }
   },
   "source": [
    "<img src=\"img/upper.png\" alt=\"Drawing\" style=\"width: 800px;\"/>  \n",
    "\n",
    "<img src=\"img/lower.png\" alt=\"Drawing\" style=\"width: 800px;\"/>  "
   ]
  },
  {
   "cell_type": "code",
   "execution_count": 58,
   "metadata": {
    "slideshow": {
     "slide_type": "-"
    }
   },
   "outputs": [
    {
     "data": {
      "text/plain": [
       "'LONGRANDOMSTRING'"
      ]
     },
     "execution_count": 58,
     "metadata": {},
     "output_type": "execute_result"
    }
   ],
   "source": [
    "'LongRandomString'.lower()\n",
    "'LongRandomString'.upper()"
   ]
  },
  {
   "cell_type": "markdown",
   "metadata": {
    "slideshow": {
     "slide_type": "slide"
    }
   },
   "source": [
    "### Useful operations on Mutable sequences\n",
    "\n",
    "<br></br>\n",
    "\n",
    "<img src=\"img/list_methods.png\" alt=\"Drawing\" style=\"width: 400px;\"/> "
   ]
  },
  {
   "cell_type": "code",
   "execution_count": 61,
   "metadata": {
    "slideshow": {
     "slide_type": "-"
    }
   },
   "outputs": [
    {
     "data": {
      "text/plain": [
       "[1, 2, 3, 4, 5]"
      ]
     },
     "execution_count": 61,
     "metadata": {},
     "output_type": "execute_result"
    }
   ],
   "source": [
    "a = [1,2,3,4,5,5,5,5]\n",
    "a.append(6)\n",
    "a.pop(2)\n",
    "a.reverse()\n",
    "a.remove(5)\n",
    "\n",
    "b = (1,2,3,4)\n",
    "c = [1,2,3,4]\n",
    "c.append(5)\n",
    "c"
   ]
  },
  {
   "cell_type": "markdown",
   "metadata": {
    "slideshow": {
     "slide_type": "slide"
    }
   },
   "source": [
    "## Summary\n",
    "\n",
    "- Tuples are immutable sequences of objects\n",
    "- Always plan your approach before you start coding\n",
    "- A method always belongs to an object of a specific class, a function does not have to\n",
    "- The official Python documentation describes the syntax for all built-in functions and methods"
   ]
  },
  {
   "cell_type": "markdown",
   "metadata": {
    "slideshow": {
     "slide_type": "slide"
    }
   },
   "source": [
    "__&rarr; Exercises Day 2__\n",
    "\n",
    "3 options:  \n",
    "1. <p style=\"color:green\";>Green exercise</p>\n",
    "2. <p style=\"color:#FFBF00\";>Yellow exercise</p>\n",
    "3. <p style=\"color:red\";>Red exercise</p>\n",
    "\n",
    "Level of complexity increases with each exercises  \n",
    "New to programming: Do Green exercise and possibly Yellow exercise  \n",
    "More experienced: Do Yellow exercise and/or Red exercise  "
   ]
  },
  {
   "cell_type": "markdown",
   "metadata": {
    "slideshow": {
     "slide_type": "slide"
    }
   },
   "source": [
    "## IMDb\n",
    "\n",
    "Download the 250.imdb file from the course website\n",
    "\n",
    "This format of this file is:  \n",
    "- Line by line  \n",
    "- Columns separated by the \\| character\n",
    "- Header starting with #\n",
    "\n",
    "<img src=\"img/header_imdb.png\" alt=\"Drawing\" style=\"width: 1200px;\"/>  \n",
    "\n",
    "\\# Votes | Rating | Year | Runtime | URL | Genres | Title"
   ]
  },
  {
   "cell_type": "markdown",
   "metadata": {
    "slideshow": {
     "slide_type": "slide"
    }
   },
   "source": [
    "### Find the movie with the highest rating\n",
    "\n",
    "<img src=\"img/header_imdb.png\" alt=\"Drawing\" style=\"width: 1000px;\"/> \n",
    "\n",
    "Write step-by-step pseudocode"
   ]
  },
  {
   "cell_type": "markdown",
   "metadata": {
    "slideshow": {
     "slide_type": "subslide"
    }
   },
   "source": [
    "<img src=\"img/header_imdb.png\" alt=\"Drawing\" style=\"width: 1000px;\"/> "
   ]
  },
  {
   "cell_type": "markdown",
   "metadata": {
    "slideshow": {
     "slide_type": "-"
    }
   },
   "source": [
    "- Open file\n",
    "- Initiate counter to keep track of highest rating and movie. Start counter at 0\n",
    "- Loop over all lines not starting with '#'\n",
    "- Strip and split the lines into a list\n",
    "- Save the element containing the rating from the list into a variable\n",
    "- If current rating is higher than the rating in the counter, replace counter value with rating and movie\n",
    "- Close file\n",
    "- Print counter"
   ]
  },
  {
   "cell_type": "markdown",
   "metadata": {
    "slideshow": {
     "slide_type": "subslide"
    }
   },
   "source": [
    "<img src=\"img/header_imdb.png\" alt=\"Drawing\" style=\"width: 1000px;\"/> "
   ]
  },
  {
   "cell_type": "code",
   "execution_count": 62,
   "metadata": {
    "slideshow": {
     "slide_type": "-"
    }
   },
   "outputs": [
    {
     "name": "stdout",
     "output_type": "stream",
     "text": [
      "[9.3, 'The Shawshank Redemption']\n"
     ]
    }
   ],
   "source": [
    "fh   = open('../downloads/250.imdb', 'r', encoding = 'utf-8')\n",
    "best = [0,'']           # here we save the rating and which movie\n",
    "for line in fh:\n",
    "    if not line.startswith('#'):\n",
    "        cols   = line.strip().split('|')\n",
    "        rating = float(cols[1].strip())\n",
    "        if rating > best[0]:           # if the rating is higher than previous highest, update best\n",
    "            best = [rating,cols[6]]\n",
    "fh.close()\n",
    "print(best)"
   ]
  }
 ],
 "metadata": {
  "celltoolbar": "Slideshow",
  "kernelspec": {
   "display_name": "Python 3 (ipykernel)",
   "language": "python",
   "name": "python3"
  },
  "language_info": {
   "codemirror_mode": {
    "name": "ipython",
    "version": 3
   },
   "file_extension": ".py",
   "mimetype": "text/x-python",
   "name": "python",
   "nbconvert_exporter": "python",
   "pygments_lexer": "ipython3",
   "version": "3.9.4"
  },
  "livereveal": {
   "height": 768,
   "scroll": true,
   "width": 1024
  }
 },
 "nbformat": 4,
 "nbformat_minor": 2
}
