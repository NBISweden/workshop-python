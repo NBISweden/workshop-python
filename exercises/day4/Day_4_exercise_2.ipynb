{
 "cells": [
  {
   "cell_type": "markdown",
   "metadata": {},
   "source": [
    "## Exercise 2"
   ]
  },
  {
   "cell_type": "markdown",
   "metadata": {},
   "source": [
    "Pick one of your previous exercises and make sure it has comments and docstrings where needed. Try to imagine that you are...\n",
    "\n",
    "a) your colluege, who got the script as is and just want to get it running. What kind of docstrings would be helpful?\n",
    "\n",
    "b) yourself in two weeks. What would you have difficulties understanding, and what type of comments can you add to help your memory?"
   ]
  },
  {
   "cell_type": "markdown",
   "metadata": {},
   "source": [
    "### Bonus exercises"
   ]
  },
  {
   "cell_type": "markdown",
   "metadata": {},
   "source": [
    "**d)** Use the module [`random`](https://docs.python.org/3/library/random.html#module-random)  to make the movie picker function less predictable: instead of always returning the first matching movie from the file, return a randomly picked movie (which still matches the user's criteria).\n",
    "\n",
    "**Hints**: Have a look at the function [`shuffle`](https://docs.python.org/3/library/random.html#random.shuffle). You might find the documentation for this function hard to read, since it's very technical. If so, try to get a clear understanding of what the function does either by googling, or by simply trying it out:"
   ]
  },
  {
   "cell_type": "code",
   "execution_count": null,
   "metadata": {},
   "outputs": [],
   "source": [
    "import random\n",
    "\n",
    "words = \"a big fat cat\"\n",
    "wordlist = words.split()\n",
    "\n",
    "random.shuffle(wordlist)\n",
    "\n",
    "print(wordlist)"
   ]
  },
  {
   "cell_type": "markdown",
   "metadata": {},
   "source": [
    "Run the code above multiple times, to make sure that the shuffling change each time."
   ]
  },
  {
   "cell_type": "markdown",
   "metadata": {},
   "source": [
    "**e)** Try running the movie picker from a terminal. Accept only the movie year as input argument:\n",
    "```bash\n",
    "$ python movie_picker.py 1993\n",
    "Groundhog Day\n",
    "```"
   ]
  },
  {
   "cell_type": "markdown",
   "metadata": {},
   "source": [
    "\n",
    "-----\n",
    "<br><br><br><br>\n",
    "<br>\n",
    "<br>\n",
    "<h2>Proposed solution</h2>\n",
    "\n",
    "<br>"
   ]
  },
  {
   "cell_type": "markdown",
   "metadata": {},
   "source": [
    "#### Proposed solution for the bonus exercise"
   ]
  },
  {
   "cell_type": "code",
   "execution_count": 1,
   "metadata": {},
   "outputs": [],
   "source": [
    "\"\"\"My library for finding interesting things in a imdb file.\"\"\"\n",
    "import random\n",
    "\n",
    "\n",
    "imdb = \"../../downloads/250.imdb\"\n",
    "\n",
    "\n",
    "def pick_movie(year=None, genre=None, rating_min=None, rating_max=None):\n",
    "    \"\"\"Find a movie witch matching year, genre and rating and print its title.\"\"\"\n",
    "    # read all lines and keep them in memory\n",
    "    lines = open(imdb).readlines()\n",
    "    # use random to shuffle the lines (put them in random order)\n",
    "    random.shuffle(lines)\n",
    "    # now go through the lines and return the first one that fits\n",
    "    for line in lines:\n",
    "        if line.startswith('#'):\n",
    "            continue\n",
    "        fields = line.split('|')\n",
    "        # Remeber to type cast to float\n",
    "        rating = float(fields[1].strip())\n",
    "        title = fields[-1].strip()\n",
    "        m_year = int(fields[2].strip())\n",
    "        genres = fields[-2].strip().split(',')\n",
    "        # Go through criterias\n",
    "        ok_year = not year or m_year == year\n",
    "        ok_genre = not genre or genre in genres\n",
    "        ok_min = not rating_min or rating_min <= rating\n",
    "        ok_max = not rating_max or rating_max >= rating\n",
    "        if ok_year and ok_genre and ok_min and ok_max:\n",
    "            # All criterias ok, print the movie and return\n",
    "            print(title)\n",
    "            return"
   ]
  },
  {
   "cell_type": "code",
   "execution_count": 2,
   "metadata": {},
   "outputs": [
    {
     "name": "stdout",
     "output_type": "stream",
     "text": [
      "Donnie Darko\n"
     ]
    }
   ],
   "source": [
    "pick_movie(year=2001)"
   ]
  },
  {
   "cell_type": "code",
   "execution_count": 3,
   "metadata": {},
   "outputs": [
    {
     "name": "stdout",
     "output_type": "stream",
     "text": [
      "Spirited Away\n"
     ]
    }
   ],
   "source": [
    "pick_movie(year=2001)"
   ]
  },
  {
   "cell_type": "markdown",
   "metadata": {},
   "source": [
    "**e)** If you want to run the program for the terminal, you have to make a call to the function from the top level (a line of code is at top level if it is outside of any function, ie has no indentation)."
   ]
  },
  {
   "cell_type": "markdown",
   "metadata": {},
   "source": [
    "The file `movie_picker`:\n",
    "```py\n",
    "\"\"\"Module for finding interesting things in a imdb file.\"\"\"\n",
    "import random\n",
    "\n",
    "imdb = \"../../downloads/250.imdb\"\n",
    "\n",
    "def pick_movie(year=None, genre=None, rating_min=None, rating_max=None):\n",
    "    ...\n",
    "    print(title)\n",
    "    \n",
    "    \n",
    "# This call will make the function run when the program is run:\n",
    "pick_movie(year=sys.argv[1])  # (at top-level!)\n",
    "# Without it, python will \"learn about\" the function, but not execute it.\n",
    "```\n",
    "----------\n",
    "In your terminal:\n",
    "```bash\n",
    "$ python movie_picker.py 2001\n",
    "Spirited Away\n",
    "```"
   ]
  }
 ],
 "metadata": {
  "kernelspec": {
   "display_name": "Python 3",
   "language": "python",
   "name": "python3"
  },
  "language_info": {
   "codemirror_mode": {
    "name": "ipython",
    "version": 3
   },
   "file_extension": ".py",
   "mimetype": "text/x-python",
   "name": "python",
   "nbconvert_exporter": "python",
   "pygments_lexer": "ipython3",
   "version": "3.6.9"
  }
 },
 "nbformat": 4,
 "nbformat_minor": 2
}
