{
 "cells": [
  {
   "cell_type": "markdown",
   "metadata": {},
   "source": [
    "## Exercise 1 - step by step"
   ]
  },
  {
   "cell_type": "markdown",
   "metadata": {},
   "source": [
    "The outline of your program could be something like this:\n",
    "    \n",
    "- read the input file\n",
    "- for each movie, go through the criteria (year, genre, min/max rating). For each of them\n",
    "   - check if it is active (the user has given a value)\n",
    "   - if active, check if the given value matches the current movie\n",
    "   - if it does not match, mark this movie as not matching the criteria (not ok)\n",
    "   - if it does match, continue checking the other criteria\n",
    "   - when you have checked all criteria for a movie, check if the movie is marked as ok\n",
    "\n",
    "A criterion hence fails if:\n",
    "\n",
    "- the user has given an wanted value for the field and...\n",
    "- the value of the movie does not fit"
   ]
  },
  {
   "cell_type": "markdown",
   "metadata": {},
   "source": [
    "Let's do this step by step!"
   ]
  },
  {
   "cell_type": "markdown",
   "metadata": {
    "slideshow": {
     "slide_type": "fragment"
    }
   },
   "source": [
    "First, let's just save the path to our imdb file in a variable."
   ]
  },
  {
   "cell_type": "code",
   "execution_count": 4,
   "metadata": {},
   "outputs": [],
   "source": [
    "# Path to imdb file\n",
    "imdb = \"../../downloads/250.imdb\""
   ]
  },
  {
   "cell_type": "markdown",
   "metadata": {},
   "source": [
    "Start by giving the function definition, and as usual, begin reading the lines from the file. Skip the comments (line starting with `#`).\n",
    "```py\n",
    "def pick_movie_a(year=None, genre=None, rating_min=None, rating_max=None):\n",
    "    for line in open(imdb):\n",
    "        if not line.startswith('#'):\n",
    "```"
   ]
  },
  {
   "cell_type": "markdown",
   "metadata": {},
   "source": [
    "### Reading the file:"
   ]
  },
  {
   "cell_type": "markdown",
   "metadata": {},
   "source": [
    "A line looks like this:\n",
    "\n",
    "```126807|   8.5|1957|5280|https://....jpg|Drama,War|Paths of Glory```\n",
    "\n",
    "What you need to do is, for each line, first to parse it (split into to meaningful units).\n",
    "The different parts of informaton is separated by `|`, so we will need to split it at that character `|` to get this:"
   ]
  },
  {
   "cell_type": "markdown",
   "metadata": {},
   "source": [
    "```py\n",
    "['126807','   8.5','1957',5280','https://....jpg','Drama,War','Paths of Glory]\n",
    "```\n"
   ]
  },
  {
   "cell_type": "markdown",
   "metadata": {},
   "source": [
    "This gives us the code\n",
    "```py\n",
    "    fields = line.split('|')```"
   ]
  },
  {
   "cell_type": "markdown",
   "metadata": {},
   "source": [
    "Now, we need to process and save the information. Think about:\n",
    "\n",
    "- What information (ie. which fields) will you need (the title, the genres...)?\n",
    "- What type should these field have?\n",
    "\n",
    "Save the information you want in variables.\n",
    "\n",
    "Let's do them one by one!"
   ]
  },
  {
   "cell_type": "markdown",
   "metadata": {},
   "source": [
    "- the `rating` is located at position `1` (remember that the postions are 0-based!). Since we will compare this value using `lesser than` (`<`) and `greater than` (`>`), it needs to be a proper number, not a string.\n",
    "```py\n",
    "rating = float(fields[1])\n",
    "```\n",
    "\n",
    "\n",
    "- `year`\n",
    "is located at position `2`.\n",
    "This should have type integer. Let's not name it `year`, since that name is already used for the input argument.\n",
    "```py\n",
    "m_year = int(fields[2])\n",
    "```"
   ]
  },
  {
   "cell_type": "markdown",
   "metadata": {},
   "source": [
    "- `title` is at position 6, which is the last position. We can either use\n",
    "```py\n",
    "title = fields[6].strip()\n",
    "```\n",
    "or\n",
    "```py\n",
    "title = fields[-1].strip()\n",
    "```\n",
    "\n",
    "Use `.strip()` to get rid of superfluous whitespaces."
   ]
  },
  {
   "cell_type": "markdown",
   "metadata": {},
   "source": [
    "The genres are at position 5, which is the second last position\n",
    "```py\n",
    "genres = fields[5].strip()```\n",
    "or\n",
    "```py\n",
    "genres = fields[-2].strip()\n",
    "```\n",
    "\n",
    "But there is not just *one* genre for each movies, there are many! We want *a list* of genres. To get from\n",
    "`\n",
    "\"Action,Drama\"`\n",
    "to `[\"Action\", \"Drama\"]`  we must split the string at `,`:\n",
    "\n",
    "```py\n",
    "genres = fields[5].strip().split(',')```"
   ]
  },
  {
   "cell_type": "markdown",
   "metadata": {},
   "source": [
    "Put all this code inside your function:"
   ]
  },
  {
   "cell_type": "markdown",
   "metadata": {},
   "source": [
    "```py\n",
    "def pick_movie_a(year=None, genre=None, rating_min=None, rating_max=None):\n",
    "    for line in open(imdb):\n",
    "        if not line.startswith('#'):\n",
    "            fields = line.split('|')\n",
    "            rating = float(fields[1])\n",
    "            title = fields[-1].strip()\n",
    "            m_year = int(fields[2])\n",
    "            genres = fields[-2].strip().split(',')```\n",
    "        \n",
    "        \n",
    "------------"
   ]
  },
  {
   "cell_type": "markdown",
   "metadata": {},
   "source": [
    "### Checking the criteria"
   ]
  },
  {
   "cell_type": "markdown",
   "metadata": {},
   "source": [
    "Now the real work begins! \n",
    "    Our strategy will be to start by assuming that a movie is ok, and then try to prove it's not, but going through the criteria. Let's use the variable `movie_ok` to store this information.\n",
    "    \n",
    "```\n",
    "movie_ok = True  # assuming the movie is ok, until proven guilty\n",
    "```\n",
    "\n",
    "For each criterion, we will:\n",
    "\n",
    "1. check if it is active (the user has given a value)\n",
    "\n",
    "2. if active, check if the given value matches the current movie\n",
    "\n",
    "3. if they do not match, mark this movie as not ok.\n",
    "\n",
    "\n",
    "How do you know if a value is active? If for example `year` is active, it means that the user has provided an input argument for it when calling the function:\n",
    "\n",
    "```py\n",
    ">>> pick_movie(year=2001)\n",
    "```\n",
    "\n",
    "If it's inactive, the user did not give any value, and the variable will store the default value `None`."
   ]
  },
  {
   "cell_type": "markdown",
   "metadata": {},
   "source": [
    "Let's try it for the year. `year` is the user input, `m_year` is the movie's year.\n",
    "\n",
    "- check if it is active (the user has given a value)\n",
    "  ```py\n",
    "  if year:\n",
    "    # it's active!\n",
    "  ```\n",
    "\n",
    "- if active, check if the given value is different from the current movie.\n",
    "   ```py\n",
    "    if year:\n",
    "        # it's active\n",
    "        if year != m_year:\n",
    "            # no match! This is not the movie we're looking for.\n",
    "   ```\n",
    "   or, shorter\n",
    "   ```py\n",
    "   if year and year != m_year:\n",
    "       # it's active, and it does not match```\n",
    "\n",
    "- if so, mark as not ok\n",
    "  ```py\n",
    "   if year and year != m_year:\n",
    "       movie_ok = false\n",
    "   ```\n"
   ]
  },
  {
   "cell_type": "markdown",
   "metadata": {},
   "source": [
    "We continue doining this for all criteria.\n",
    "For the rest of them, the comparision will be slightly different;\n",
    "\n",
    "- for `genre` we want to check whether the input is a **member of the list**  `genres`.\n",
    "- for the rating, we want to check whether the input is **greater than** or **less than** this movie's rating."
   ]
  },
  {
   "cell_type": "markdown",
   "metadata": {},
   "source": [
    "```py\n",
    "        if genre and genre not in genres:\n",
    "            movie_ok = False\n",
    "        if rating_min and rating_min > rating:\n",
    "            movie_ok = False\n",
    "        if rating_max and rating_max < rating:\n",
    "            movie_ok = False\n",
    "          ```  "
   ]
  },
  {
   "cell_type": "markdown",
   "metadata": {},
   "source": [
    "If all these test passed it means that the movie is a match! \n",
    "\n",
    "Now print the title.\n",
    "Since we do not want to continue searching for more movies, make the loop stop. You can either do this by using `break` (breaking the `for` loop), or `return` (causing the whole function to stop)."
   ]
  },
  {
   "cell_type": "markdown",
   "metadata": {},
   "source": [
    "The complete function:"
   ]
  },
  {
   "cell_type": "code",
   "execution_count": 2,
   "metadata": {},
   "outputs": [],
   "source": [
    "def pick_movie(year=None, genre=None, rating_min=None, rating_max=None):\n",
    "    for line in open(imdb):\n",
    "        if line.startswith('#'):\n",
    "            continue\n",
    "        fields = line.split('|')\n",
    "        # Remeber to type cast to float\n",
    "        rating = float(fields[1])\n",
    "        title = fields[-1].strip()\n",
    "        m_year = int(fields[2])\n",
    "        genres = fields[-2].strip().split(',')\n",
    "\n",
    "        # Go through criterias and reject the movie if it doesn't fit\n",
    "        movie_ok = True\n",
    "        if year and m_year != year:\n",
    "            movie_ok = False\n",
    "        if genre and genre not in genres:\n",
    "            movie_ok = False\n",
    "        if rating_min and rating_min > rating:\n",
    "            movie_ok = False\n",
    "        if rating_max and rating_max < rating:\n",
    "            movie_ok = False\n",
    "\n",
    "        # All criterias ok, print the movie and return the movie\n",
    "        if movie_ok:\n",
    "          print(title)\n",
    "          return"
   ]
  },
  {
   "cell_type": "markdown",
   "metadata": {},
   "source": [
    "Let's test it!"
   ]
  },
  {
   "cell_type": "code",
   "execution_count": 5,
   "metadata": {},
   "outputs": [
    {
     "name": "stdout",
     "output_type": "stream",
     "text": [
      "Paths of Glory\n"
     ]
    }
   ],
   "source": [
    "pick_movie(genre=\"Drama\")"
   ]
  },
  {
   "cell_type": "code",
   "execution_count": 6,
   "metadata": {},
   "outputs": [
    {
     "name": "stdout",
     "output_type": "stream",
     "text": [
      "Donnie Darko\n"
     ]
    }
   ],
   "source": [
    "pick_movie(year=2001)"
   ]
  },
  {
   "cell_type": "code",
   "execution_count": 7,
   "metadata": {},
   "outputs": [
    {
     "name": "stdout",
     "output_type": "stream",
     "text": [
      "Groundhog Day\n"
     ]
    }
   ],
   "source": [
    "pick_movie(rating_max=8)"
   ]
  },
  {
   "cell_type": "code",
   "execution_count": 8,
   "metadata": {},
   "outputs": [
    {
     "name": "stdout",
     "output_type": "stream",
     "text": [
      "The Secret in Their Eyes\n"
     ]
    }
   ],
   "source": [
    "pick_movie(year=2009, genre=\"Mystery\")"
   ]
  },
  {
   "cell_type": "code",
   "execution_count": 9,
   "metadata": {},
   "outputs": [
    {
     "name": "stdout",
     "output_type": "stream",
     "text": [
      "Lock, Stock and Two Smoking Barrels\n"
     ]
    }
   ],
   "source": [
    "pick_movie(genre=\"Comedy\", year=1998)"
   ]
  }
 ],
 "metadata": {
  "kernelspec": {
   "display_name": "Python 3",
   "language": "python",
   "name": "python3"
  },
  "language_info": {
   "codemirror_mode": {
    "name": "ipython",
    "version": 3
   },
   "file_extension": ".py",
   "mimetype": "text/x-python",
   "name": "python",
   "nbconvert_exporter": "python",
   "pygments_lexer": "ipython3",
   "version": "3.6.9"
  }
 },
 "nbformat": 4,
 "nbformat_minor": 2
}
