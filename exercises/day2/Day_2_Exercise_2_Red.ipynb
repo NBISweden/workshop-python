{
 "cells": [
  {
   "cell_type": "markdown",
   "metadata": {
    "slideshow": {
     "slide_type": "slide"
    }
   },
   "source": [
    "<span style=\"color:red; font-size:30px\">Red exercise</span>  \n",
    "<br>"
   ]
  },
  {
   "cell_type": "markdown",
   "metadata": {
    "slideshow": {
     "slide_type": "slide"
    }
   },
   "source": [
    "## Temperature sensor data\n",
    "\n",
    "The file `'temperature_measurements.txt'` contains temperature data from sensors placed in different rooms in an apartment. There is one sensor in each room, that measures the temperature at one timepoint per hour. This specific data is only from 9pm on the 6th to 9pm on the 7th of November.\n"
   ]
  },
  {
   "cell_type": "markdown",
   "metadata": {},
   "source": [
    "1. What is the average temperature over this time period in the kitchen? living room? Calculate the average temperature with two decimals and print a message saying: 'The average temperature in the &lt;room type&gt; is &lt;temp&gt;'\n",
    "2. What is the average temperature in the bedroom between 11pm and 7am?\n",
    "\n",
    "<b>Hint!</b> Always inspect the file first, and construct a plan for how to approach the problem using pseudocode\n",
    "\n",
    "<br></br>"
   ]
  },
  {
   "cell_type": "markdown",
   "metadata": {},
   "source": [
    "### Temperature sensor data - Answers\n",
    "\n",
    "<br></br>\n",
    "\n",
    "<b>1. What is the average temperature over this time period in the kitchen? living room? Calculate the average temperature with two decimals and print a message saying: 'The average temperature in the &lt;room type&gt; is &lt;temp&gt;'</b>"
   ]
  },
  {
   "cell_type": "code",
   "execution_count": 1,
   "metadata": {},
   "outputs": [
    {
     "name": "stdout",
     "output_type": "stream",
     "text": [
      "The average temperature in the kitchen is 21.41\n"
     ]
    }
   ],
   "source": [
    "fh = open('../../downloads/temperature_measurements.txt', 'r', encoding = 'utf-8')\n",
    "temps = []\n",
    "for line in fh:\n",
    "    if line.startswith('kitchen', 4):   # use 4 to skip the first 4 characters in the string\n",
    "        cols = line.split()\n",
    "        room = cols[0][4:]              # ignore first 4 characters \n",
    "        temps.append(float(cols[2]))    # remember to change type from string to float\n",
    "fh.close()\n",
    "print('The average temperature in the '+room+' is '+str(round(sum(temps)/len(temps),2)))   # calculate average, rounded to 2 decimals"
   ]
  },
  {
   "cell_type": "markdown",
   "metadata": {},
   "source": [
    "In the code above we only use <i>split()</i>, without any arguments, and without the use of <i>strip()</i>. In this case this works, as <i>split()</i> splits on any whitespace and also removes trailing newlines (same as <i>strip()</i>). This approach would however not work in the example with the living room (try it out). Here we need to specify what type of whitespace we want to split on, meaning any potential trailing newlines will not be removed, and we need to add <i>strip()</i> to remove them:"
   ]
  },
  {
   "cell_type": "code",
   "execution_count": 2,
   "metadata": {},
   "outputs": [
    {
     "name": "stdout",
     "output_type": "stream",
     "text": [
      "The average temperature in the living room is 21.61\n"
     ]
    }
   ],
   "source": [
    "fh = open('../../downloads/temperature_measurements.txt', 'r', encoding = 'utf-8')\n",
    "temps = []\n",
    "for line in fh:\n",
    "    if line.startswith('living room', 4):\n",
    "        cols = line.strip().split('\\t')    # in this situation it has to be a tab, not default white space\n",
    "        room = cols[0][4:]\n",
    "        temps.append(float(cols[2]))\n",
    "fh.close()\n",
    "print('The average temperature in the '+room+' is '+str(round(sum(temps)/len(temps),2)))"
   ]
  },
  {
   "cell_type": "markdown",
   "metadata": {},
   "source": [
    "<br></br>\n",
    "\n",
    "<b>2. What is the average temperature in the bedroom between 11pm and 7am?</b>"
   ]
  },
  {
   "cell_type": "code",
   "execution_count": 3,
   "metadata": {},
   "outputs": [
    {
     "name": "stdout",
     "output_type": "stream",
     "text": [
      "The average temperature in the bedroom at night is 20.38\n"
     ]
    }
   ],
   "source": [
    "fh = open('../../downloads/temperature_measurements.txt', 'r', encoding = 'utf-8')\n",
    "temps = []\n",
    "for line in fh:\n",
    "    if line.startswith('bedroom', 4):\n",
    "        cols = line.strip().split('\\t')\n",
    "        room = cols[0][4:]\n",
    "        time = cols[1].split('_')[-1]        # split on _ and take the last element\n",
    "        hour = time[0:2]                     # use the first to characters to get the hour\n",
    "        if int(hour) >= 23 or int(hour) < 7: # notice the OR here, try to think why we need that instead of AND\n",
    "            temps.append(float(cols[2]))\n",
    "fh.close()\n",
    "print('The average temperature in the '+room+' at night is '+str(round(sum(temps)/len(temps),2)))"
   ]
  }
 ],
 "metadata": {
  "kernelspec": {
   "display_name": "Python 3 (ipykernel)",
   "language": "python",
   "name": "python3"
  },
  "language_info": {
   "codemirror_mode": {
    "name": "ipython",
    "version": 3
   },
   "file_extension": ".py",
   "mimetype": "text/x-python",
   "name": "python",
   "nbconvert_exporter": "python",
   "pygments_lexer": "ipython3",
   "version": "3.9.4"
  }
 },
 "nbformat": 4,
 "nbformat_minor": 2
}
