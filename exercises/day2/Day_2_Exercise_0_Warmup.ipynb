{
 "cells": [
  {
   "cell_type": "markdown",
   "id": "595a91b1",
   "metadata": {},
   "source": [
    "## Warmup exercises"
   ]
  },
  {
   "cell_type": "markdown",
   "id": "a0ae6e0d",
   "metadata": {},
   "source": [
    "### Reading files and loops"
   ]
  },
  {
   "cell_type": "markdown",
   "id": "89ef841b",
   "metadata": {},
   "source": [
    "1) Open the file `pizza.txt` found in the download folder, using python  \n",
    "\n",
    "2) Loop over the file and print each line, removing the whitespace in the end of the lines"
   ]
  },
  {
   "cell_type": "markdown",
   "id": "5bf8fdee",
   "metadata": {},
   "source": [
    "### Splitting strings"
   ]
  },
  {
   "cell_type": "markdown",
   "id": "4eabe294",
   "metadata": {},
   "source": [
    "`mystring = 'This is my very own personal string'`"
   ]
  },
  {
   "cell_type": "markdown",
   "id": "bf2a8653",
   "metadata": {},
   "source": [
    "1) Split the mystring variable above so that each word will be an element in a list, as this:  \n",
    "\n",
    "`mystringlist = ['This', 'is', 'my', 'very', 'own', 'personal', 'string']`\n",
    "\n",
    "2) Loop over the list and find any word that starts with 'pers'  \n",
    "\n",
    "3) If a word starts with 'pers', print the string 'Found it!'"
   ]
  },
  {
   "cell_type": "markdown",
   "id": "95f2d4fa",
   "metadata": {},
   "source": [
    "### Counting based on if statements"
   ]
  },
  {
   "cell_type": "markdown",
   "id": "27c31638",
   "metadata": {},
   "source": [
    "1) Open the file from yesterday `blocket_listings.txt`, using python  \n",
    "\n",
    "2) Loop over the file and split each line on the tab delimiter  \n",
    "\n",
    "3) Count how many listings in the electronics category the file contain"
   ]
  },
  {
   "cell_type": "markdown",
   "id": "448a26a7",
   "metadata": {},
   "source": [
    "### Calculate frequency\n",
    "\n",
    "`bike_colors = ['blue', 'blue', 'red', 'blue', 'red', 'red', 'blue', 'blue']`\n",
    "\n",
    "1) How many blue bikes are there?  \n",
    "\n",
    "2) How many red bikes are there?  \n",
    "\n",
    "3) What is the frequency of red bikes amongst all the bikes?  \n",
    "\n",
    "\n",
    "<br><br><br>\n"
   ]
  },
  {
   "cell_type": "markdown",
   "id": "b59e49fc",
   "metadata": {},
   "source": [
    "### Warmup - Answers"
   ]
  },
  {
   "cell_type": "markdown",
   "id": "459001fa",
   "metadata": {},
   "source": [
    "### Reading files and loops¶"
   ]
  },
  {
   "cell_type": "code",
   "execution_count": 6,
   "id": "455a1169",
   "metadata": {},
   "outputs": [
    {
     "name": "stdout",
     "output_type": "stream",
     "text": [
      "pizza\n",
      "rhode island\n",
      "onion\n",
      "garlic\n",
      "rocket salad\n",
      "avocado\n",
      "mustard\n",
      "mozarella\n",
      "edamer\n",
      "reggiano\n"
     ]
    }
   ],
   "source": [
    "fh = open('../../downloads/pizza.txt', 'r', encoding = 'utf-8')\n",
    "for line in fh:\n",
    "    print(line.strip())\n",
    "fh.close()"
   ]
  },
  {
   "cell_type": "markdown",
   "id": "0f173e97",
   "metadata": {},
   "source": [
    "### Splitting strings"
   ]
  },
  {
   "cell_type": "code",
   "execution_count": 8,
   "id": "3538efd3",
   "metadata": {},
   "outputs": [
    {
     "name": "stdout",
     "output_type": "stream",
     "text": [
      "Found it!\n"
     ]
    }
   ],
   "source": [
    "mystring = 'This is my very own personal string'\n",
    "mystringlist = mystring.split()\n",
    "for word in mystringlist:\n",
    "    if word.startswith('pers'):\n",
    "        print('Found it!')"
   ]
  },
  {
   "cell_type": "markdown",
   "id": "739c995c",
   "metadata": {},
   "source": [
    "### Counting based on if statements"
   ]
  },
  {
   "cell_type": "code",
   "execution_count": 10,
   "id": "ebd05d13",
   "metadata": {},
   "outputs": [
    {
     "name": "stdout",
     "output_type": "stream",
     "text": [
      "4\n"
     ]
    }
   ],
   "source": [
    "fh = open('../../downloads/blocket_listings.txt', 'r', encoding = 'utf-8')\n",
    "electronics_count = 0\n",
    "for line in fh:\n",
    "    cls = line.strip().split('\\t')\n",
    "    if cls[1] == 'electronics':\n",
    "        electronics_count += 1\n",
    "print(electronics_count)"
   ]
  },
  {
   "cell_type": "markdown",
   "id": "1a92f5b9",
   "metadata": {},
   "source": [
    "### Calculate frequency"
   ]
  },
  {
   "cell_type": "code",
   "execution_count": 12,
   "id": "8e756110",
   "metadata": {},
   "outputs": [
    {
     "name": "stdout",
     "output_type": "stream",
     "text": [
      "Number of blue bikes 5\n",
      "Number of red bikes 3\n",
      "Frequency of red bikes 0.375\n"
     ]
    }
   ],
   "source": [
    "bike_colors = ['blue', 'blue', 'red', 'blue', 'red', 'red', 'blue', 'blue']\n",
    "blue_bikes = 0\n",
    "red_bikes = 0\n",
    "for bike_color in bike_colors:\n",
    "    if bike_color == 'blue':\n",
    "        blue_bikes += 1\n",
    "    elif bike_color == 'red':\n",
    "        red_bikes += 1\n",
    "    else:\n",
    "        print('Bike is neither red or blue!')\n",
    "print('Number of blue bikes', blue_bikes)\n",
    "print('Number of red bikes', red_bikes)\n",
    "print('Frequency of red bikes', red_bikes/(blue_bikes+red_bikes))"
   ]
  }
 ],
 "metadata": {
  "kernelspec": {
   "display_name": "Python 3 (ipykernel)",
   "language": "python",
   "name": "python3"
  },
  "language_info": {
   "codemirror_mode": {
    "name": "ipython",
    "version": 3
   },
   "file_extension": ".py",
   "mimetype": "text/x-python",
   "name": "python",
   "nbconvert_exporter": "python",
   "pygments_lexer": "ipython3",
   "version": "3.9.4"
  }
 },
 "nbformat": 4,
 "nbformat_minor": 5
}
