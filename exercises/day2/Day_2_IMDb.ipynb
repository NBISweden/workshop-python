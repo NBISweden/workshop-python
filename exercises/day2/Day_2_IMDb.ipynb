{
 "cells": [
  {
   "cell_type": "markdown",
   "metadata": {},
   "source": [
    "# IMDb day 2"
   ]
  },
  {
   "cell_type": "markdown",
   "metadata": {},
   "source": [
    "The format of the IMDb file is:  \n",
    "- Line by line  \n",
    "- Columns separated by the \\| character\n",
    "- Header starting with #\n",
    "\n",
    "<img src=\"../../lectures/img/header_imdb.png\" alt=\"Drawing\" style=\"width: 1200px;\"/>  \n",
    "\n",
    "\\# Votes | Rating | Year | Runtime | URL | Genres | Title"
   ]
  },
  {
   "cell_type": "markdown",
   "metadata": {},
   "source": [
    "## 1. Find the movie with the highest rating¶"
   ]
  },
  {
   "cell_type": "markdown",
   "metadata": {},
   "source": [
    "## 2. The the movie with the highest rating for the genre Adventure\n",
    "\n",
    "<br><br><br><br><br><br><br><br>"
   ]
  },
  {
   "cell_type": "markdown",
   "metadata": {},
   "source": [
    "## Tips for if you're unsure on how to start"
   ]
  },
  {
   "cell_type": "markdown",
   "metadata": {},
   "source": [
    "Learning to think in code is not easy if you've never programmed before. If you need a nudge along the way while solving the IMDb problems presented in class, here follows some pseudocode/advice for each task. There will be no answers in here, just tips and advice in how to solve the problems."
   ]
  },
  {
   "cell_type": "markdown",
   "metadata": {},
   "source": [
    "### Find the movie with the highest rating"
   ]
  },
  {
   "cell_type": "markdown",
   "metadata": {},
   "source": [
    "1. A good place to start is always to manually inspect the file in any text editor. Identify how the structure of the file is, what delimiters it's using, and which columns you are interested in.\n",
    "2. Open the file and loop over the lines. You can also print the lines, but be aware that the output might be huge, and potentiella crash your computer. The `break` statement is good, which if inserted after the `print` statement will break out of the loop after printing just one line.\n",
    "3. Isolate the column containing the rating (Think about what type it is also)\n",
    "4. So how do you find out which rating is the best? One option is to initiate a counter with the value 0 before the loop, and compare the rating to that one, and if it is better, replace it with that rating instead. After the loop that counter should contain the highest rating.\n",
    "5. To also save the name of the movie in your counter you can use a list as your counter, where the first item in your list is the name of the movie, and the second item is the rating. When comparing ratings you simple compare the current rating with the second item in your counter list."
   ]
  },
  {
   "cell_type": "markdown",
   "metadata": {},
   "source": [
    "### The the movie with the highest rating for the genre Adventure"
   ]
  },
  {
   "cell_type": "markdown",
   "metadata": {},
   "source": [
    "1. Use the previous code and build on that.\n",
    "2. Here you also have to identify the genre of the movie. The tricky part here is that the same movie can belong to several genres. Easiest is to save all genres for that movie into a list and use an `if` statement to check if movie belongs to genre \"Adventure\" before checking the rating."
   ]
  }
 ],
 "metadata": {
  "kernelspec": {
   "display_name": "Python 3 (ipykernel)",
   "language": "python",
   "name": "python3"
  },
  "language_info": {
   "codemirror_mode": {
    "name": "ipython",
    "version": 3
   },
   "file_extension": ".py",
   "mimetype": "text/x-python",
   "name": "python",
   "nbconvert_exporter": "python",
   "pygments_lexer": "ipython3",
   "version": "3.9.4"
  }
 },
 "nbformat": 4,
 "nbformat_minor": 2
}
