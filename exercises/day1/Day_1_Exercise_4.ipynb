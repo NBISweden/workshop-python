{
 "cells": [
  {
   "cell_type": "markdown",
   "metadata": {},
   "source": [
    "## Notebook 4"
   ]
  },
  {
   "cell_type": "markdown",
   "metadata": {},
   "source": [
    "There are 2 parts to this exercise. The first one is a section on if/else statements. The second one is a slightly longer Blocket exercise where you are reading and writing to files."
   ]
  },
  {
   "cell_type": "markdown",
   "metadata": {},
   "source": [
    "## If / Else statements\n",
    "\n",
    "`numberList = [1,3,6,8,13,19,20,21]`\n",
    "\n",
    "1) If the total sum of the list is 80 or more, print what the sum is. If the sum is less than 80, print what the length of the list is\n",
    "\n",
    "2) If the total sum of the list is 80 or more, print what the maximum is. Otherwise, check if the length of the list is less than 20 and print the length of the list, if not, print 'It's a long list'\n",
    "\n",
    "\n",
    "#### BONUS EXERCISE:\n",
    "3) Try adding numbers to your list and see if you can make your code evaluate all different outcomes\n",
    "<br></br>\n",
    "<br></br>\n"
   ]
  },
  {
   "cell_type": "markdown",
   "metadata": {},
   "source": [
    "### Answer"
   ]
  },
  {
   "cell_type": "code",
   "execution_count": 2,
   "metadata": {},
   "outputs": [
    {
     "name": "stdout",
     "output_type": "stream",
     "text": [
      "The length of the list is 7\n"
     ]
    }
   ],
   "source": [
    "numberList = [1,3,6,8,13,19,20]\n",
    "\n",
    "if sum(numberList) >= 80:\n",
    "    print('The total sum is '+str(sum(numberList)))\n",
    "else:\n",
    "    print('The length of the list is '+str(len(numberList)))"
   ]
  },
  {
   "cell_type": "code",
   "execution_count": 26,
   "metadata": {},
   "outputs": [
    {
     "name": "stdout",
     "output_type": "stream",
     "text": [
      "The length of the list is 7\n"
     ]
    }
   ],
   "source": [
    "if sum(numberList) >= 80:\n",
    "    print('The maximum in the list is '+str(max(numberList)))\n",
    "else:\n",
    "    if len(numberList) < 20:\n",
    "        print('The length of the list is '+str(len(numberList)))\n",
    "    else:\n",
    "        print(\"It's a long list\")"
   ]
  },
  {
   "cell_type": "markdown",
   "metadata": {},
   "source": [
    "or:"
   ]
  },
  {
   "cell_type": "code",
   "execution_count": 3,
   "metadata": {},
   "outputs": [
    {
     "name": "stdout",
     "output_type": "stream",
     "text": [
      "The length of the list is 7\n"
     ]
    }
   ],
   "source": [
    "if sum(numberList) >= 80:\n",
    "    print('The maximum in the list is '+str(max(numberList)))\n",
    "elif len(numberList) < 20:\n",
    "    print('The length of the list is '+str(len(numberList)))\n",
    "else:\n",
    "    print(\"It's a long list\")"
   ]
  },
  {
   "cell_type": "markdown",
   "metadata": {},
   "source": [
    "Above we use the elif (else if) statement instead of using a nested else statement. Python evaluates the statements like this:\n",
    "- If the first IF statement is true, neither of the ELIF nor the ELSE statements are evaluated\n",
    "- If the first IF statement is false, it evaluates the ELIF statement. If that is true, the ELSE statement is not evaluated\n",
    "- Last, if neither of the IF nor ELIF statements are true, it evaluates the ELSE statement"
   ]
  },
  {
   "cell_type": "markdown",
   "metadata": {},
   "source": [
    "## Open / Close files"
   ]
  },
  {
   "cell_type": "markdown",
   "metadata": {},
   "source": [
    "## Blocket ads\n",
    "\n",
    "Blocket is a Swedish site for buying or selling things, much like eBay. In the file `blocket_listings.txt` you will find a list of ads that has been put up on the site. Further down is a list of steps we will follow to produce a new file with only furniture sold or bought in October. If you are new to programming, follow the __Step-by-Step instruction__ below to get a feeling for how to approach this task. However, If you're feeling adventurous, try to figure it out on your own by following the instructions:\n",
    "\n",
    "1. Your first task is to make a small python script that takes this file as input, loops over the lines, and prints the content line by line. (Tip! Use strip to remove the newlines)  \n",
    "\n",
    "2. As we are not interested in the headers, don't print the header line (Tip! use startswith())  \n",
    "\n",
    "3. Save each word in the line as an element in a list and print the list (Tip! use split())  \n",
    "\n",
    "4. Save each element in the list to a separate variable and print the name of the item and the date. (Tip! make sure the values are of the correct type also) \n",
    "\n",
    "5. Only print items and dates that has been sold, not bought (Tip! use an if statement)   \n",
    "\n",
    "6. Save all the sold items in a list, and print the list in the end (Tip! create an empty list before the loop, and use append())  \n",
    "\n",
    "7. Now we are only interested in sold items in the furniture category, print the list for these (Tip! use an AND statement)  \n",
    "\n",
    "8. Print a list of all furniture sold in October (Tip! split date to get month)  \n",
    "\n",
    "9. Add a new list containing furniture that was BOUGHT in October. Print both lists (Tip! make a nested if statement)  \n",
    "\n",
    "10. Finally, write this information to a file called 'blocket_listings_selected.txt' that looks like this:  \n",
    "\n",
    "<i>Furniture sold in October are:</i>  \n",
    "<i>[list of items, one per line]</i>\n",
    "\n",
    "<i>Furniture bought in October are:</i>  \n",
    "<i>[list of items, one per line]</i>"
   ]
  },
  {
   "cell_type": "markdown",
   "metadata": {},
   "source": [
    "### Blocket ads - Step-by-Step instructions\n",
    "\n",
    "Below we demonstrate one way of solving this, there are of course other correct solutions."
   ]
  },
  {
   "cell_type": "markdown",
   "metadata": {},
   "source": [
    "1. Your first task is to make a small python script that takes this file as input, loops over the lines, and prints the content line by line. (Tip! Use strip to remove the newlines)"
   ]
  },
  {
   "cell_type": "code",
   "execution_count": 1,
   "metadata": {},
   "outputs": [
    {
     "name": "stdout",
     "output_type": "stream",
     "text": [
      "item\tcategory\tbuy/sell\tprice\tdate\n",
      "desk\tfurniture\tsell\t2000\t2018-01-14\n",
      "audi\tvehicles\tsell\t28900\t2018-04-23\n",
      "lamp\tfurniture\tbuy\t200\t2018-03-02\n",
      "vespa\tvehicles\tbuy\t8000\t2018-04-28\n",
      "iphone\telectronics\tsell\t1500\t2018-05-09\n",
      "laptop\telectronics\tbuy\t3000\t2018-08-16\n",
      "razor\telectronics\tsell\t200\t2018-09-29\n",
      "couch\tfurniture\tsell\t500\t2018-10-05\n",
      "moped\tvehicles\tbuy\t3000\t2018-11-25\n",
      "table\tfurniture\tbuy\t1200\t2018-10-05\n",
      "lamp\tfurniture\tbuy\t150\t2018-10-23\n",
      "bicycle\tvehicles\tsell\t400\t2018-09-26\n",
      "desk\tfurniture\tbuy\t400\t2018-08-30\n",
      "PC\telectronics\tsell\t3000\t2018-03-25\n",
      "bed\tfurniture\tbuy\t1000\t2018-10-06\n",
      "shoerack\tfurniture\tsell\t200\t2018-10-24\n",
      "saab\tvehicles\tsell\t16000\t2018-11-21\n",
      "chair\tfurniture\tbuy\t300\t2018-10-03\n",
      "wardrobe\tfurniture\tsell\t300\t2018-10-23\n"
     ]
    }
   ],
   "source": [
    "fh = open('../../downloads/blocket_listings.txt', 'r', encoding = 'utf-8')   # we open a handle to the file\n",
    "\n",
    "for line in fh:                 # loop over each line in the file\n",
    "    print(line.strip())         # rstrip removes any trailing newlines\n",
    "fh.close()"
   ]
  },
  {
   "cell_type": "markdown",
   "metadata": {},
   "source": [
    "2. As we are not interested in the headers, don't print the header line (Tip! use startswith())"
   ]
  },
  {
   "cell_type": "code",
   "execution_count": 3,
   "metadata": {},
   "outputs": [
    {
     "name": "stdout",
     "output_type": "stream",
     "text": [
      "desk\tfurniture\tsell\t2000\t2018-01-14\n",
      "audi\tvehicles\tsell\t28900\t2018-04-23\n",
      "lamp\tfurniture\tbuy\t200\t2018-03-02\n",
      "vespa\tvehicles\tbuy\t8000\t2018-04-28\n",
      "iphone\telectronics\tsell\t1500\t2018-05-09\n",
      "laptop\telectronics\tbuy\t3000\t2018-08-16\n",
      "razor\telectronics\tsell\t200\t2018-09-29\n",
      "couch\tfurniture\tsell\t500\t2018-10-05\n",
      "moped\tvehicles\tbuy\t3000\t2018-11-25\n",
      "table\tfurniture\tbuy\t1200\t2018-10-05\n",
      "lamp\tfurniture\tbuy\t150\t2018-10-23\n",
      "bicycle\tvehicles\tsell\t400\t2018-09-26\n",
      "desk\tfurniture\tbuy\t400\t2018-08-30\n",
      "PC\telectronics\tsell\t3000\t2018-03-25\n",
      "bed\tfurniture\tbuy\t1000\t2018-10-06\n",
      "shoerack\tfurniture\tsell\t200\t2018-10-24\n",
      "saab\tvehicles\tsell\t16000\t2018-11-21\n",
      "chair\tfurniture\tbuy\t300\t2018-10-03\n",
      "wardrobe\tfurniture\tsell\t300\t2018-10-23\n"
     ]
    }
   ],
   "source": [
    "fh = open('../../downloads/blocket_listings.txt', 'r', encoding = 'utf-8')\n",
    "\n",
    "for line in fh:\n",
    "    if not line.startswith('item'):     # make sure that we don't read the first line\n",
    "        print(line.strip())\n",
    "fh.close()"
   ]
  },
  {
   "cell_type": "markdown",
   "metadata": {},
   "source": [
    "3. Save each word in the line as an element in a list and print the list (Tip! use split())"
   ]
  },
  {
   "cell_type": "code",
   "execution_count": 4,
   "metadata": {},
   "outputs": [
    {
     "name": "stdout",
     "output_type": "stream",
     "text": [
      "['desk', 'furniture', 'sell', '2000', '2018-01-14']\n",
      "['audi', 'vehicles', 'sell', '28900', '2018-04-23']\n",
      "['lamp', 'furniture', 'buy', '200', '2018-03-02']\n",
      "['vespa', 'vehicles', 'buy', '8000', '2018-04-28']\n",
      "['iphone', 'electronics', 'sell', '1500', '2018-05-09']\n",
      "['laptop', 'electronics', 'buy', '3000', '2018-08-16']\n",
      "['razor', 'electronics', 'sell', '200', '2018-09-29']\n",
      "['couch', 'furniture', 'sell', '500', '2018-10-05']\n",
      "['moped', 'vehicles', 'buy', '3000', '2018-11-25']\n",
      "['table', 'furniture', 'buy', '1200', '2018-10-05']\n",
      "['lamp', 'furniture', 'buy', '150', '2018-10-23']\n",
      "['bicycle', 'vehicles', 'sell', '400', '2018-09-26']\n",
      "['desk', 'furniture', 'buy', '400', '2018-08-30']\n",
      "['PC', 'electronics', 'sell', '3000', '2018-03-25']\n",
      "['bed', 'furniture', 'buy', '1000', '2018-10-06']\n",
      "['shoerack', 'furniture', 'sell', '200', '2018-10-24']\n",
      "['saab', 'vehicles', 'sell', '16000', '2018-11-21']\n",
      "['chair', 'furniture', 'buy', '300', '2018-10-03']\n",
      "['wardrobe', 'furniture', 'sell', '300', '2018-10-23']\n"
     ]
    }
   ],
   "source": [
    "fh = open('../../downloads/blocket_listings.txt', 'r', encoding = 'utf-8')\n",
    "\n",
    "for line in fh:\n",
    "    if not line.startswith('item'):\n",
    "        lst = line.strip().split('\\t')    # split each line on tab delimiter, saves output to list\n",
    "        print(lst)\n",
    "fh.close()"
   ]
  },
  {
   "cell_type": "markdown",
   "metadata": {},
   "source": [
    "4. Save each element in the list to a separate variable and print the name of the item and the date. (Tip! make sure the values are of the correct type also)"
   ]
  },
  {
   "cell_type": "code",
   "execution_count": 5,
   "metadata": {},
   "outputs": [
    {
     "name": "stdout",
     "output_type": "stream",
     "text": [
      "desk 2018-01-14\n",
      "audi 2018-04-23\n",
      "lamp 2018-03-02\n",
      "vespa 2018-04-28\n",
      "iphone 2018-05-09\n",
      "laptop 2018-08-16\n",
      "razor 2018-09-29\n",
      "couch 2018-10-05\n",
      "moped 2018-11-25\n",
      "table 2018-10-05\n",
      "lamp 2018-10-23\n",
      "bicycle 2018-09-26\n",
      "desk 2018-08-30\n",
      "PC 2018-03-25\n",
      "bed 2018-10-06\n",
      "shoerack 2018-10-24\n",
      "saab 2018-11-21\n",
      "chair 2018-10-03\n",
      "wardrobe 2018-10-23\n"
     ]
    }
   ],
   "source": [
    "fh = open('../../downloads/blocket_listings.txt', 'r', encoding = 'utf-8')\n",
    "\n",
    "for line in fh:\n",
    "    if not line.startswith('item'):\n",
    "        lst      = line.strip().split('\\t')\n",
    "        \n",
    "        item     = lst[0]                      # save each item in list to a variable\n",
    "        category = lst[1]\n",
    "        trans    = lst[2]\n",
    "        price    = float(lst[3])\n",
    "        date     = lst[4]\n",
    "        \n",
    "        print(item, date)\n",
    "fh.close()"
   ]
  },
  {
   "cell_type": "markdown",
   "metadata": {},
   "source": [
    "5. Only print items and dates that has been sold, not bought (Tip! use an if statement)"
   ]
  },
  {
   "cell_type": "code",
   "execution_count": 6,
   "metadata": {},
   "outputs": [
    {
     "name": "stdout",
     "output_type": "stream",
     "text": [
      "desk 2018-01-14\n",
      "audi 2018-04-23\n",
      "iphone 2018-05-09\n",
      "razor 2018-09-29\n",
      "couch 2018-10-05\n",
      "bicycle 2018-09-26\n",
      "PC 2018-03-25\n",
      "shoerack 2018-10-24\n",
      "saab 2018-11-21\n",
      "wardrobe 2018-10-23\n"
     ]
    }
   ],
   "source": [
    "fh = open('../../downloads/blocket_listings.txt', 'r', encoding = 'utf-8')\n",
    "\n",
    "for line in fh:\n",
    "    if not line.startswith('item'):\n",
    "        lst      = line.strip().split('\\t')\n",
    "        \n",
    "        item     = lst[0]                      \n",
    "        category = lst[1]\n",
    "        trans    = lst[2]\n",
    "        price    = float(lst[3])\n",
    "        date     = lst[4]\n",
    "        \n",
    "        if trans == 'sell':             # only prints items that has been sold\n",
    "            print(item, date)\n",
    "fh.close()"
   ]
  },
  {
   "cell_type": "markdown",
   "metadata": {},
   "source": [
    "6. Save all the sold items in a list, and print the list in the end (Tip! create an empty list before the loop"
   ]
  },
  {
   "cell_type": "code",
   "execution_count": 7,
   "metadata": {},
   "outputs": [
    {
     "name": "stdout",
     "output_type": "stream",
     "text": [
      "['desk', 'audi', 'iphone', 'razor', 'couch', 'bicycle', 'PC', 'shoerack', 'saab', 'wardrobe']\n"
     ]
    }
   ],
   "source": [
    "fh = open('../../downloads/blocket_listings.txt', 'r', encoding = 'utf-8')\n",
    "\n",
    "itemlist = []                # create empty list where we can save sold items\n",
    "\n",
    "for line in fh:\n",
    "    if not line.startswith('item'):\n",
    "        lst      = line.strip().split('\\t')\n",
    "        \n",
    "        item     = lst[0]                      \n",
    "        category = lst[1]\n",
    "        trans    = lst[2]\n",
    "        price    = float(lst[3])\n",
    "        date     = lst[4]\n",
    "        \n",
    "        if trans == 'sell':\n",
    "            itemlist.append(item)    # adds the item to the list if the item has been sold\n",
    "fh.close()\n",
    "\n",
    "print(itemlist)"
   ]
  },
  {
   "cell_type": "markdown",
   "metadata": {},
   "source": [
    "7. Now we are only interested in sold items in the furniture category, print the list for these (Tip! use an AND statement)"
   ]
  },
  {
   "cell_type": "code",
   "execution_count": 8,
   "metadata": {},
   "outputs": [
    {
     "name": "stdout",
     "output_type": "stream",
     "text": [
      "['desk', 'couch', 'shoerack', 'wardrobe']\n"
     ]
    }
   ],
   "source": [
    "fh = open('../../downloads/blocket_listings.txt', 'r', encoding = 'utf-8')\n",
    "\n",
    "itemlist = []                \n",
    "\n",
    "for line in fh:\n",
    "    if not line.startswith('item'):\n",
    "        lst      = line.strip().split('\\t')\n",
    "        \n",
    "        item     = lst[0]                      \n",
    "        category = lst[1]\n",
    "        trans    = lst[2]\n",
    "        price    = float(lst[3])\n",
    "        date     = lst[4]\n",
    "        \n",
    "        if trans == 'sell' and category == 'furniture':   # check if transaction is sell and category is furniture\n",
    "            itemlist.append(item)    \n",
    "\n",
    "fh.close()\n",
    "\n",
    "print(itemlist)"
   ]
  },
  {
   "cell_type": "markdown",
   "metadata": {},
   "source": [
    "8. Print a list of all furniture sold in October (Tip! split date to get month)"
   ]
  },
  {
   "cell_type": "code",
   "execution_count": 9,
   "metadata": {},
   "outputs": [
    {
     "name": "stdout",
     "output_type": "stream",
     "text": [
      "['couch', 'shoerack', 'wardrobe']\n"
     ]
    }
   ],
   "source": [
    "fh = open('../../downloads/blocket_listings.txt', 'r', encoding = 'utf-8')\n",
    "\n",
    "itemlist = []                \n",
    "\n",
    "for line in fh:\n",
    "    if not line.startswith('item'):\n",
    "        lst      = line.strip().split('\\t')\n",
    "        \n",
    "        item     = lst[0]                      \n",
    "        category = lst[1]\n",
    "        trans    = lst[2]\n",
    "        price    = float(lst[3])\n",
    "        date     = lst[4]\n",
    "        datelist = date.split('-')\n",
    "        year     = datelist[0]       # note that the type for these values are still strings\n",
    "        month    = datelist[1]\n",
    "        day      = datelist[2]\n",
    "        \n",
    "        if trans == 'sell' and category == 'furniture' and month == '10':   \n",
    "            itemlist.append(item)    \n",
    "\n",
    "fh.close()\n",
    "\n",
    "print(itemlist)"
   ]
  },
  {
   "cell_type": "markdown",
   "metadata": {},
   "source": [
    "9. Add a new list containing furniture that was BOUGHT in October. Print both lists (Tip! make a nested if statement)"
   ]
  },
  {
   "cell_type": "code",
   "execution_count": 10,
   "metadata": {},
   "outputs": [
    {
     "name": "stdout",
     "output_type": "stream",
     "text": [
      "['couch', 'shoerack', 'wardrobe'] ['table', 'lamp', 'bed', 'chair']\n"
     ]
    }
   ],
   "source": [
    "fh = open('../../downloads/blocket_listings.txt', 'r', encoding = 'utf-8')\n",
    "\n",
    "itemlist_sell = []\n",
    "itemlist_buy  = []\n",
    "\n",
    "for line in fh:\n",
    "    if not line.startswith('item'):\n",
    "        lst      = line.strip().split('\\t')\n",
    "        \n",
    "        item     = lst[0]                      \n",
    "        category = lst[1]\n",
    "        trans    = lst[2]\n",
    "        price    = float(lst[3])\n",
    "        date     = lst[4]\n",
    "        datelist = date.split('-')\n",
    "        year     = datelist[0]       \n",
    "        month    = datelist[1]\n",
    "        day      = datelist[2]\n",
    "        \n",
    "        if category == 'furniture' and month == '10':\n",
    "            if trans == 'sell':                           # nested if statement\n",
    "                itemlist_sell.append(item)\n",
    "            elif trans == 'buy':\n",
    "                itemlist_buy.append(item)\n",
    "            else:\n",
    "                print('no buy/sell information available')   # check just in case so we have no missing data\n",
    "\n",
    "fh.close()\n",
    "\n",
    "print(itemlist_sell, itemlist_buy)"
   ]
  },
  {
   "cell_type": "markdown",
   "metadata": {},
   "source": [
    "10. Finally, write this information to a file called 'blocket_listings_selected.txt' that looks like this:  \n",
    "\n",
    "Furniture sold in October are:  \n",
    "[list of items, one per line]  \n",
    "\n",
    "Furniture bought in October are:  \n",
    "[list of items, one per line]"
   ]
  },
  {
   "cell_type": "code",
   "execution_count": 11,
   "metadata": {},
   "outputs": [],
   "source": [
    "fh = open('../../downloads/blocket_listings.txt', 'r', encoding = 'utf-8')\n",
    "\n",
    "itemlist_sell = []\n",
    "itemlist_buy  = []\n",
    "\n",
    "for line in fh:\n",
    "    if not line.startswith('item'):\n",
    "        lst      = line.strip().split('\\t')\n",
    "        \n",
    "        item     = lst[0]                      \n",
    "        category = lst[1]\n",
    "        trans    = lst[2]\n",
    "        price    = float(lst[3])\n",
    "        date     = lst[4]\n",
    "        datelist = date.split('-')\n",
    "        year     = datelist[0]       \n",
    "        month    = datelist[1]\n",
    "        day      = datelist[2]\n",
    "        \n",
    "        if category == 'furniture' and month == '10':\n",
    "            if trans == 'sell':                          \n",
    "                itemlist_sell.append(item)\n",
    "            elif trans == 'buy':\n",
    "                itemlist_buy.append(item)\n",
    "            else:\n",
    "                print('no buy/sell information available') \n",
    "fh.close()\n",
    "\n",
    "out = open('../../files/blocket_listings_selected.txt','w', encoding = 'utf-8')   # open a new file for writing\n",
    "\n",
    "out.write('Furniture sold in October are:\\n')    # write header and add newline to end\n",
    "for item in itemlist_sell:                       # loop over items in list and write to file\n",
    "    out.write(item+'\\n')\n",
    "    \n",
    "out.write('\\nFurniture bought in October are:\\n')  # here we add an extra newline before the text\n",
    "for item in itemlist_buy:\n",
    "    out.write(item+'\\n')\n",
    "            \n",
    "out.close()                                      # close file after writing"
   ]
  }
 ],
 "metadata": {
  "kernelspec": {
   "display_name": "Python 3 (ipykernel)",
   "language": "python",
   "name": "python3"
  },
  "language_info": {
   "codemirror_mode": {
    "name": "ipython",
    "version": 3
   },
   "file_extension": ".py",
   "mimetype": "text/x-python",
   "name": "python",
   "nbconvert_exporter": "python",
   "pygments_lexer": "ipython3",
   "version": "3.9.4"
  }
 },
 "nbformat": 4,
 "nbformat_minor": 2
}
